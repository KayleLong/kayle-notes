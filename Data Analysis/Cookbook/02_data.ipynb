{
 "cells": [
  {
   "cell_type": "markdown",
   "metadata": {},
   "source": [
    "# <center>加载数据</center>"
   ]
  },
  {
   "cell_type": "markdown",
   "metadata": {},
   "source": [
    "\n",
    "将原始数据加载到系统中，是一个基本的也是常用的操作。\n",
    "\n",
    "原始数据可能是日志文件、数据集文件或者数据库。介绍使用Pandas库对不同的源(包括CSV文件和SQL数据库)加载数据。\n",
    "\n",
    "并介绍scikit-learn(Python中的一个开源的机器学习库)来生成仿真数据。"
   ]
  },
  {
   "cell_type": "markdown",
   "metadata": {},
   "source": [
    "### Scikit-learn简介"
   ]
  },
  {
   "cell_type": "markdown",
   "metadata": {},
   "source": [
    "[Scikit-learn](https://scikit-learn.org.cn/)\n",
    "（以前称为scikits.learn，也称为sklearn）是针对Python 编程语言的免费软件机器学习库 。它具有各种分类，回归和聚类算法，包括支持向量机，随机森林，梯度提升，k均值和DBSCAN，并且旨在与Python数值科学库NumPy和SciPy联合使用。\n",
    "\n",
    "\n",
    "\n",
    "||作用|应用|常用算法|\n",
    "|--|--|--|--|\n",
    "|分类|标识对象所属的类别|垃圾邮件检测，图像识别|SVM   最近邻   随机森林|\n",
    "|回归|预测与对象关联的连续值属性|药物反应，股票价格|SVR   最近邻   随机森林|\n",
    "|聚类|自动将相似对象归为一组|客户细分，分组实验成果|K-均值   谱聚类  MeanShift|\n",
    "|降维|减少要考虑的随机变量的数量|可视化，提高效率|K-均值  特征选择  非负矩阵分解|\n",
    "|模型选择|比较，验证和选择参数和模型|通过参数调整改进精度|网格搜索  交叉验证  指标|\n",
    "|预处理|特征提取和归一化|转换输入数据，例如文本，以供机器学习算法使用|预处理   特征提取|"
   ]
  },
  {
   "cell_type": "markdown",
   "metadata": {},
   "source": [
    "#### <center>分类</center>\n",
    "!['分类'](https://scikit-learn.org/stable/_images/sphx_glr_plot_classifier_comparison_001_carousel.png \"分类\")\n",
    "\n",
    "#### <center>回归</center>\n",
    "!['回归'](https://scikit-learn.org/stable/_images/sphx_glr_plot_adaboost_regression_thumb.png \"回归\")\n",
    "\n",
    "#### <center>聚类</center>\n",
    "!['聚类'](https://scikit-learn.org/stable/_images/sphx_glr_plot_kmeans_digits_thumb.png \"聚类\")\n",
    "\n",
    "#### <center>降维</center>\n",
    "!['降维'](https://scikit-learn.org/stable/_images/sphx_glr_plot_pca_iris_thumb.png \"降维\")\n",
    "\n",
    "#### <center>模型选择</center>\n",
    "!['模型选择'](https://scikit-learn.org/stable/_images/sphx_glr_plot_multi_metric_evaluation_thumb.png \"模型选择\")\n",
    "\n",
    "#### <center>预处理</center>\n",
    "!['预处理'](https://scikit-learn.org/stable/_images/sphx_glr_plot_discretization_strategies_thumb.png \"预处理\")"
   ]
  },
  {
   "cell_type": "markdown",
   "metadata": {},
   "source": [
    "### Scikit-learn 中的数据集"
   ]
  },
  {
   "cell_type": "markdown",
   "metadata": {},
   "source": [
    "在研究某个机器学习算法时，将时间花在加载、装换、清洗从现实生活中得到的数据集上是不太必要的。<br>\n",
    "幸运的是，Scikit-learn预置了一些常用的格式整齐的数据集，用于算法的演示。"
   ]
  },
  {
   "cell_type": "markdown",
   "metadata": {},
   "source": [
    "|数据集|内容|作用|\n",
    "|--|--|--|\n",
    "|load_boston|包含了503个波士顿房价的观察值|用于研究回归算法的优质数据集|\n",
    "|load_iris|包含了150个鸢尾花尺寸的观察值|用于研究分类算法的优质数据集|\n",
    "|load_digits|包含了1797个手写数字图片的观察值|用于研究图像分类算法的优质数据集|"
   ]
  },
  {
   "cell_type": "markdown",
   "metadata": {},
   "source": [
    "### 2.1 加载样本数据"
   ]
  },
  {
   "cell_type": "code",
   "execution_count": 1,
   "metadata": {
    "collapsed": false
   },
   "outputs": [],
   "source": [
    "from sklearn import datasets"
   ]
  },
  {
   "cell_type": "code",
   "execution_count": 2,
   "metadata": {
    "collapsed": false
   },
   "outputs": [],
   "source": [
    "# 加载手写数字数据集\n",
    "digits =datasets.load_digits()"
   ]
  },
  {
   "cell_type": "code",
   "execution_count": 3,
   "metadata": {
    "collapsed": true
   },
   "outputs": [],
   "source": [
    "# 创建特征矩阵\n",
    "features = digits.data"
   ]
  },
  {
   "cell_type": "code",
   "execution_count": 4,
   "metadata": {
    "collapsed": true
   },
   "outputs": [],
   "source": [
    "# 创建目标向量\n",
    "target = digits.target"
   ]
  },
  {
   "cell_type": "code",
   "execution_count": 5,
   "metadata": {
    "collapsed": false
   },
   "outputs": [
    {
     "data": {
      "text/plain": [
       "array([ 0.,  0.,  5., 13.,  9.,  1.,  0.,  0.,  0.,  0., 13., 15., 10.,\n",
       "       15.,  5.,  0.,  0.,  3., 15.,  2.,  0., 11.,  8.,  0.,  0.,  4.,\n",
       "       12.,  0.,  0.,  8.,  8.,  0.,  0.,  5.,  8.,  0.,  0.,  9.,  8.,\n",
       "        0.,  0.,  4., 11.,  0.,  1., 12.,  7.,  0.,  0.,  2., 14.,  5.,\n",
       "       10., 12.,  0.,  0.,  0.,  0.,  6., 13., 10.,  0.,  0.,  0.])"
      ]
     },
     "execution_count": 5,
     "metadata": {},
     "output_type": "execute_result"
    }
   ],
   "source": [
    "# 查看第一个样本的数据\n",
    "features[0]"
   ]
  },
  {
   "cell_type": "markdown",
   "metadata": {},
   "source": [
    "### 2.2 创建仿真数据集\n",
    "scikit-learn 提供了很多创建仿真数据集的方法。"
   ]
  },
  {
   "cell_type": "markdown",
   "metadata": {},
   "source": [
    "如果需要用一个仿真数据集来做**线性回归**，使用make_regression"
   ]
  },
  {
   "cell_type": "code",
   "execution_count": 6,
   "metadata": {
    "collapsed": false
   },
   "outputs": [
    {
     "name": "stdout",
     "output_type": "stream",
     "text": [
      "Faeature Matrix\n",
      " [[ 0.81684707  0.67272081 -0.58359505]\n",
      " [-0.87573084  0.11760846  0.17637048]\n",
      " [-0.53664043  0.8231244  -0.40228992]]\n",
      "Target Vector\n",
      " [16.85852128 11.69635075 28.89687844]\n"
     ]
    }
   ],
   "source": [
    "from sklearn.datasets import make_regression\n",
    "\n",
    "# 生成特征矩阵。目标向量以及模型的系数\n",
    "features, target, coefficients = make_regression(n_samples=100, n_features=3, n_informative=3, n_targets=1,\n",
    "                                                  noise=0.0, coef=True, random_state=100)\n",
    "# 查看特征矩阵和目标向量\n",
    "print('Faeature Matrix\\n', features[:3])\n",
    "print('Target Vector\\n', target[:3])"
   ]
  },
  {
   "cell_type": "markdown",
   "metadata": {},
   "source": [
    "如果需要用一个仿真数据集来做**分类**，使用make_classification"
   ]
  },
  {
   "cell_type": "code",
   "execution_count": 7,
   "metadata": {
    "collapsed": false
   },
   "outputs": [
    {
     "name": "stdout",
     "output_type": "stream",
     "text": [
      "Faeature Matrix\n",
      " [[ 1.06354768 -1.42632219  1.02163151]\n",
      " [ 0.23156977  1.49535261  0.33251578]\n",
      " [ 0.15972951  0.83533515 -0.40869554]]\n",
      "Target Vector\n",
      " [1 0 0]\n"
     ]
    }
   ],
   "source": [
    "from sklearn.datasets import make_classification\n",
    "\n",
    "# 生成特征矩阵和目标向量\n",
    "features, target = make_classification(n_samples=100, n_features=3, n_informative=3, n_redundant=0,\n",
    "                                       n_classes=2, weights=[0.25,0.75], random_state=1)\n",
    "\n",
    "# 查看特征矩阵和目标向量\n",
    "print('Faeature Matrix\\n', features[:3])\n",
    "print('Target Vector\\n', target[:3])"
   ]
  },
  {
   "cell_type": "markdown",
   "metadata": {},
   "source": [
    "如果需要用一个仿真数据集来做**聚类**，使用make_blobs"
   ]
  },
  {
   "cell_type": "code",
   "execution_count": 8,
   "metadata": {
    "collapsed": false
   },
   "outputs": [
    {
     "name": "stdout",
     "output_type": "stream",
     "text": [
      "Faeature Matrix\n",
      " [[ 0.60245865 -3.91774596]\n",
      " [-9.69443277 -8.11563905]\n",
      " [-1.72150573  6.30253086]]\n",
      "Target Vector\n",
      " [0 2 1]\n"
     ]
    }
   ],
   "source": [
    "from sklearn.datasets import make_blobs\n",
    "\n",
    "# 生成特征矩阵和目标向量\n",
    "features, target = make_blobs(n_samples=100, n_features=2, centers=3, cluster_std=0.5, shuffle=True, random_state=100)\n",
    "\n",
    "# 查看特征矩阵和目标向量\n",
    "print('Faeature Matrix\\n', features[:3])\n",
    "print('Target Vector\\n', target[:3])"
   ]
  },
  {
   "cell_type": "markdown",
   "metadata": {},
   "source": [
    "**查看分类结果**\n",
    "对于make_blobs来说，centers参数决定了要生成多少个聚类。"
   ]
  },
  {
   "cell_type": "code",
   "execution_count": 9,
   "metadata": {
    "collapsed": false
   },
   "outputs": [
    {
     "data": {
      "image/png": "[encoded data removed]",
      "text/plain": [
       "<matplotlib.figure.Figure at 0x12be84cc198>"
      ]
     },
     "metadata": {},
     "output_type": "display_data"
    }
   ],
   "source": [
    "import matplotlib.pyplot as plt\n",
    "\n",
    "# 查看散点图\n",
    "plt.scatter(features[:,0], features[:,1], c=target)\n",
    "plt.show()"
   ]
  },
  {
   "cell_type": "markdown",
   "metadata": {},
   "source": [
    "**小结:**<br>\n",
    "make_regression返回一个浮点数的特征矩阵和一个浮点数类型的目标向量。<br>\n",
    "make_classification、make_blobs返回一个浮点数的特征矩阵和一个代表分类的整数类型的目标向量。"
   ]
  },
  {
   "cell_type": "markdown",
   "metadata": {
    "collapsed": true
   },
   "source": [
    "### 2.3 加载CSV文件"
   ]
  },
  {
   "cell_type": "markdown",
   "metadata": {
    "collapsed": true
   },
   "source": [
    "**逗号分隔值**（Comma-Separated Values，CSV，有时也称为字符分隔值，因为分隔字符也可以不是逗号），其文件以纯文本形式存储表格数据（数字和文本）。<br>\n",
    ".csv文件就是一种特殊格式的纯文本文件。即是一组字符序列，字符之间以英文字符的逗号或制表符（Tab）分隔。<br>"
   ]
  },
  {
   "cell_type": "code",
   "execution_count": 10,
   "metadata": {
    "collapsed": false
   },
   "outputs": [
    {
     "data": {
      "text/html": [
       "<div>\n",
       "<style scoped>\n",
       "    .dataframe tbody tr th:only-of-type {\n",
       "        vertical-align: middle;\n",
       "    }\n",
       "\n",
       "    .dataframe tbody tr th {\n",
       "        vertical-align: top;\n",
       "    }\n",
       "\n",
       "    .dataframe thead th {\n",
       "        text-align: right;\n",
       "    }\n",
       "</style>\n",
       "<table border=\"1\" class=\"dataframe\">\n",
       "  <thead>\n",
       "    <tr style=\"text-align: right;\">\n",
       "      <th></th>\n",
       "      <th>id</th>\n",
       "      <th>姓名</th>\n",
       "      <th>朝代</th>\n",
       "      <th>数量</th>\n",
       "    </tr>\n",
       "  </thead>\n",
       "  <tbody>\n",
       "    <tr>\n",
       "      <th>0</th>\n",
       "      <td>0</td>\n",
       "      <td>白居易</td>\n",
       "      <td>唐</td>\n",
       "      <td>3061</td>\n",
       "    </tr>\n",
       "    <tr>\n",
       "      <th>1</th>\n",
       "      <td>1</td>\n",
       "      <td>杜甫</td>\n",
       "      <td>唐</td>\n",
       "      <td>1593</td>\n",
       "    </tr>\n",
       "    <tr>\n",
       "      <th>2</th>\n",
       "      <td>2</td>\n",
       "      <td>李白</td>\n",
       "      <td>唐</td>\n",
       "      <td>1107</td>\n",
       "    </tr>\n",
       "    <tr>\n",
       "      <th>3</th>\n",
       "      <td>3</td>\n",
       "      <td>元稹</td>\n",
       "      <td>唐</td>\n",
       "      <td>950</td>\n",
       "    </tr>\n",
       "    <tr>\n",
       "      <th>4</th>\n",
       "      <td>4</td>\n",
       "      <td>刘禹锡</td>\n",
       "      <td>唐</td>\n",
       "      <td>867</td>\n",
       "    </tr>\n",
       "  </tbody>\n",
       "</table>\n",
       "</div>"
      ],
      "text/plain": [
       "   id   姓名 朝代    数量\n",
       "0   0  白居易  唐  3061\n",
       "1   1   杜甫  唐  1593\n",
       "2   2   李白  唐  1107\n",
       "3   3   元稹  唐   950\n",
       "4   4  刘禹锡  唐   867"
      ]
     },
     "execution_count": 10,
     "metadata": {},
     "output_type": "execute_result"
    }
   ],
   "source": [
    "import pandas as pd\n",
    "\n",
    "f = 'F:/data/cook_book/poem.csv'\n",
    "dataframe = pd.read_csv(f)\n",
    "dataframe.head(5)"
   ]
  },
  {
   "cell_type": "markdown",
   "metadata": {
    "collapsed": true
   },
   "source": [
    "### 2.4 加载Excel文件"
   ]
  },
  {
   "cell_type": "code",
   "execution_count": 11,
   "metadata": {
    "collapsed": false
   },
   "outputs": [
    {
     "data": {
      "text/html": [
       "<div>\n",
       "<style scoped>\n",
       "    .dataframe tbody tr th:only-of-type {\n",
       "        vertical-align: middle;\n",
       "    }\n",
       "\n",
       "    .dataframe tbody tr th {\n",
       "        vertical-align: top;\n",
       "    }\n",
       "\n",
       "    .dataframe thead th {\n",
       "        text-align: right;\n",
       "    }\n",
       "</style>\n",
       "<table border=\"1\" class=\"dataframe\">\n",
       "  <thead>\n",
       "    <tr style=\"text-align: right;\">\n",
       "      <th></th>\n",
       "      <th>片名</th>\n",
       "      <th>上映年份</th>\n",
       "      <th>评分</th>\n",
       "      <th>评价人数</th>\n",
       "      <th>导演</th>\n",
       "      <th>编剧</th>\n",
       "      <th>主演</th>\n",
       "      <th>类型</th>\n",
       "      <th>国家/地区</th>\n",
       "      <th>语言</th>\n",
       "      <th>时长(分钟)</th>\n",
       "    </tr>\n",
       "  </thead>\n",
       "  <tbody>\n",
       "    <tr>\n",
       "      <th>0</th>\n",
       "      <td>肖申克的救赎</td>\n",
       "      <td>1994</td>\n",
       "      <td>9.7</td>\n",
       "      <td>2317937</td>\n",
       "      <td>弗兰克·德拉邦特</td>\n",
       "      <td>弗兰克·德拉邦特 / 斯蒂芬·金</td>\n",
       "      <td>蒂姆·罗宾斯 / 摩根·弗里曼 / 鲍勃·冈顿 / 威廉姆·赛德勒 / 克兰西·布朗 / 吉...</td>\n",
       "      <td>剧情 / 犯罪</td>\n",
       "      <td>美国</td>\n",
       "      <td>英语</td>\n",
       "      <td>142</td>\n",
       "    </tr>\n",
       "    <tr>\n",
       "      <th>1</th>\n",
       "      <td>霸王别姬</td>\n",
       "      <td>1993</td>\n",
       "      <td>9.6</td>\n",
       "      <td>1720638</td>\n",
       "      <td>陈凯歌</td>\n",
       "      <td>芦苇 / 李碧华</td>\n",
       "      <td>张国荣 / 张丰毅 / 巩俐 / 葛优 / 英达 / 蒋雯丽 / 吴大维 / 吕齐 / 雷汉...</td>\n",
       "      <td>剧情 / 爱情 / 同性</td>\n",
       "      <td>中国</td>\n",
       "      <td>汉语普通话</td>\n",
       "      <td>171</td>\n",
       "    </tr>\n",
       "    <tr>\n",
       "      <th>2</th>\n",
       "      <td>阿甘正传</td>\n",
       "      <td>1994</td>\n",
       "      <td>9.5</td>\n",
       "      <td>1743966</td>\n",
       "      <td>罗伯特·泽米吉斯</td>\n",
       "      <td>艾瑞克·罗斯 / 温斯顿·格鲁姆</td>\n",
       "      <td>汤姆·汉克斯 / 罗宾·怀特 / 加里·西尼斯 / 麦凯尔泰·威廉逊 / 莎莉·菲尔德 / ...</td>\n",
       "      <td>剧情 / 爱情</td>\n",
       "      <td>美国</td>\n",
       "      <td>英语</td>\n",
       "      <td>142</td>\n",
       "    </tr>\n",
       "    <tr>\n",
       "      <th>3</th>\n",
       "      <td>这个杀手不太冷</td>\n",
       "      <td>1994</td>\n",
       "      <td>9.4</td>\n",
       "      <td>1922740</td>\n",
       "      <td>吕克·贝松</td>\n",
       "      <td>吕克·贝松</td>\n",
       "      <td>让·雷诺 / 娜塔莉·波特曼 / 加里·奥德曼 / 丹尼·爱罗 / 彼得·阿佩尔 / 迈克尔...</td>\n",
       "      <td>剧情 / 动作 / 犯罪</td>\n",
       "      <td>法国</td>\n",
       "      <td>英语</td>\n",
       "      <td>110</td>\n",
       "    </tr>\n",
       "    <tr>\n",
       "      <th>4</th>\n",
       "      <td>泰坦尼克号</td>\n",
       "      <td>1997</td>\n",
       "      <td>9.4</td>\n",
       "      <td>1706127</td>\n",
       "      <td>詹姆斯·卡梅隆</td>\n",
       "      <td>詹姆斯·卡梅隆</td>\n",
       "      <td>莱昂纳多·迪卡普里奥 / 凯特·温丝莱特 / 比利·赞恩 / 凯西·贝茨 / 弗兰西丝·费舍...</td>\n",
       "      <td>剧情 / 爱情 / 灾难</td>\n",
       "      <td>美国</td>\n",
       "      <td>英语</td>\n",
       "      <td>194</td>\n",
       "    </tr>\n",
       "    <tr>\n",
       "      <th>5</th>\n",
       "      <td>美丽人生</td>\n",
       "      <td>1997</td>\n",
       "      <td>9.5</td>\n",
       "      <td>1075345</td>\n",
       "      <td>罗伯托·贝尼尼</td>\n",
       "      <td>温琴佐·切拉米 / 罗伯托·贝尼尼</td>\n",
       "      <td>罗伯托·贝尼尼 / 尼可莱塔·布拉斯基 / 乔治·坎塔里尼 / 朱斯蒂诺·杜拉诺 / 赛尔乔...</td>\n",
       "      <td>剧情 / 喜剧 / 爱情 / 战争</td>\n",
       "      <td>意大利</td>\n",
       "      <td>意大利语</td>\n",
       "      <td>116</td>\n",
       "    </tr>\n",
       "    <tr>\n",
       "      <th>6</th>\n",
       "      <td>千与千寻</td>\n",
       "      <td>2001</td>\n",
       "      <td>9.4</td>\n",
       "      <td>1822369</td>\n",
       "      <td>宫崎骏</td>\n",
       "      <td>宫崎骏</td>\n",
       "      <td>柊瑠美 / 入野自由 / 夏木真理 / 菅原文太 / 中村彰男 / 玉井夕海 / 神木隆之介...</td>\n",
       "      <td>剧情 / 动画 / 奇幻</td>\n",
       "      <td>日本</td>\n",
       "      <td>日语</td>\n",
       "      <td>125</td>\n",
       "    </tr>\n",
       "    <tr>\n",
       "      <th>7</th>\n",
       "      <td>辛德勒的名单</td>\n",
       "      <td>1993</td>\n",
       "      <td>9.5</td>\n",
       "      <td>890468</td>\n",
       "      <td>史蒂文·斯皮尔伯格</td>\n",
       "      <td>托马斯·肯尼利 / 斯蒂文·泽里安</td>\n",
       "      <td>连姆·尼森 / 本·金斯利 / 拉尔夫·费因斯 / 卡罗琳·古多尔 / 乔纳森·萨加尔 / ...</td>\n",
       "      <td>剧情 / 历史 / 战争</td>\n",
       "      <td>美国</td>\n",
       "      <td>英语</td>\n",
       "      <td>195</td>\n",
       "    </tr>\n",
       "    <tr>\n",
       "      <th>8</th>\n",
       "      <td>盗梦空间</td>\n",
       "      <td>2010</td>\n",
       "      <td>9.3</td>\n",
       "      <td>1688052</td>\n",
       "      <td>克里斯托弗·诺兰</td>\n",
       "      <td>克里斯托弗·诺兰</td>\n",
       "      <td>莱昂纳多·迪卡普里奥 / 约瑟夫·高登-莱维特 / 艾利奥特·佩吉 / 汤姆·哈迪 / 渡边...</td>\n",
       "      <td>剧情 / 科幻 / 悬疑 / 冒险</td>\n",
       "      <td>美国</td>\n",
       "      <td>英语</td>\n",
       "      <td>148</td>\n",
       "    </tr>\n",
       "    <tr>\n",
       "      <th>9</th>\n",
       "      <td>忠犬八公的故事</td>\n",
       "      <td>2009</td>\n",
       "      <td>9.4</td>\n",
       "      <td>1158337</td>\n",
       "      <td>拉斯·霍尔斯道姆</td>\n",
       "      <td>斯蒂芬·P·林赛 / 新藤兼人</td>\n",
       "      <td>理查·基尔 / 萨拉·罗默尔 / 琼·艾伦 / 罗比·萨布莱特 / 艾瑞克·阿瓦利 / 田川...</td>\n",
       "      <td>剧情</td>\n",
       "      <td>美国</td>\n",
       "      <td>英语</td>\n",
       "      <td>93</td>\n",
       "    </tr>\n",
       "  </tbody>\n",
       "</table>\n",
       "</div>"
      ],
      "text/plain": [
       "        片名  上映年份   评分     评价人数         导演                 编剧  \\\n",
       "0   肖申克的救赎  1994  9.7  2317937   弗兰克·德拉邦特   弗兰克·德拉邦特 / 斯蒂芬·金   \n",
       "1     霸王别姬  1993  9.6  1720638        陈凯歌           芦苇 / 李碧华   \n",
       "2     阿甘正传  1994  9.5  1743966   罗伯特·泽米吉斯   艾瑞克·罗斯 / 温斯顿·格鲁姆   \n",
       "3  这个杀手不太冷  1994  9.4  1922740      吕克·贝松              吕克·贝松   \n",
       "4    泰坦尼克号  1997  9.4  1706127    詹姆斯·卡梅隆            詹姆斯·卡梅隆   \n",
       "5     美丽人生  1997  9.5  1075345    罗伯托·贝尼尼  温琴佐·切拉米 / 罗伯托·贝尼尼   \n",
       "6     千与千寻  2001  9.4  1822369        宫崎骏                宫崎骏   \n",
       "7   辛德勒的名单  1993  9.5   890468  史蒂文·斯皮尔伯格  托马斯·肯尼利 / 斯蒂文·泽里安   \n",
       "8     盗梦空间  2010  9.3  1688052   克里斯托弗·诺兰           克里斯托弗·诺兰   \n",
       "9  忠犬八公的故事  2009  9.4  1158337   拉斯·霍尔斯道姆    斯蒂芬·P·林赛 / 新藤兼人   \n",
       "\n",
       "                                                  主演                 类型 国家/地区  \\\n",
       "0  蒂姆·罗宾斯 / 摩根·弗里曼 / 鲍勃·冈顿 / 威廉姆·赛德勒 / 克兰西·布朗 / 吉...            剧情 / 犯罪    美国   \n",
       "1  张国荣 / 张丰毅 / 巩俐 / 葛优 / 英达 / 蒋雯丽 / 吴大维 / 吕齐 / 雷汉...       剧情 / 爱情 / 同性    中国   \n",
       "2  汤姆·汉克斯 / 罗宾·怀特 / 加里·西尼斯 / 麦凯尔泰·威廉逊 / 莎莉·菲尔德 / ...            剧情 / 爱情    美国   \n",
       "3  让·雷诺 / 娜塔莉·波特曼 / 加里·奥德曼 / 丹尼·爱罗 / 彼得·阿佩尔 / 迈克尔...       剧情 / 动作 / 犯罪    法国   \n",
       "4  莱昂纳多·迪卡普里奥 / 凯特·温丝莱特 / 比利·赞恩 / 凯西·贝茨 / 弗兰西丝·费舍...       剧情 / 爱情 / 灾难    美国   \n",
       "5  罗伯托·贝尼尼 / 尼可莱塔·布拉斯基 / 乔治·坎塔里尼 / 朱斯蒂诺·杜拉诺 / 赛尔乔...  剧情 / 喜剧 / 爱情 / 战争   意大利   \n",
       "6  柊瑠美 / 入野自由 / 夏木真理 / 菅原文太 / 中村彰男 / 玉井夕海 / 神木隆之介...       剧情 / 动画 / 奇幻    日本   \n",
       "7  连姆·尼森 / 本·金斯利 / 拉尔夫·费因斯 / 卡罗琳·古多尔 / 乔纳森·萨加尔 / ...       剧情 / 历史 / 战争    美国   \n",
       "8  莱昂纳多·迪卡普里奥 / 约瑟夫·高登-莱维特 / 艾利奥特·佩吉 / 汤姆·哈迪 / 渡边...  剧情 / 科幻 / 悬疑 / 冒险    美国   \n",
       "9  理查·基尔 / 萨拉·罗默尔 / 琼·艾伦 / 罗比·萨布莱特 / 艾瑞克·阿瓦利 / 田川...                 剧情    美国   \n",
       "\n",
       "      语言  时长(分钟)  \n",
       "0     英语     142  \n",
       "1  汉语普通话     171  \n",
       "2     英语     142  \n",
       "3     英语     110  \n",
       "4     英语     194  \n",
       "5   意大利语     116  \n",
       "6     日语     125  \n",
       "7     英语     195  \n",
       "8     英语     148  \n",
       "9     英语      93  "
      ]
     },
     "execution_count": 11,
     "metadata": {},
     "output_type": "execute_result"
    }
   ],
   "source": [
    "import pandas as pd\n",
    "\n",
    "f = 'F:/data/cook_book/Top250.xls'\n",
    "dataframe = pd.read_excel(f, sheet_name=0, header=0)\n",
    "dataframe.head(10)"
   ]
  },
  {
   "cell_type": "markdown",
   "metadata": {
    "collapsed": true
   },
   "source": [
    "### 2.5 加载JSON文件\n",
    "\n",
    "pandas库提供了read_json，可以将JSON文件转换为pandas对象。"
   ]
  },
  {
   "cell_type": "code",
   "execution_count": 12,
   "metadata": {
    "collapsed": false
   },
   "outputs": [
    {
     "data": {
      "text/html": [
       "<div>\n",
       "<style scoped>\n",
       "    .dataframe tbody tr th:only-of-type {\n",
       "        vertical-align: middle;\n",
       "    }\n",
       "\n",
       "    .dataframe tbody tr th {\n",
       "        vertical-align: top;\n",
       "    }\n",
       "\n",
       "    .dataframe thead th {\n",
       "        text-align: right;\n",
       "    }\n",
       "</style>\n",
       "<table border=\"1\" class=\"dataframe\">\n",
       "  <thead>\n",
       "    <tr style=\"text-align: right;\">\n",
       "      <th></th>\n",
       "      <th>apples</th>\n",
       "      <th>oranges</th>\n",
       "    </tr>\n",
       "  </thead>\n",
       "  <tbody>\n",
       "    <tr>\n",
       "      <th>David</th>\n",
       "      <td>1</td>\n",
       "      <td>2</td>\n",
       "    </tr>\n",
       "    <tr>\n",
       "      <th>June</th>\n",
       "      <td>3</td>\n",
       "      <td>0</td>\n",
       "    </tr>\n",
       "    <tr>\n",
       "      <th>Lily</th>\n",
       "      <td>0</td>\n",
       "      <td>7</td>\n",
       "    </tr>\n",
       "    <tr>\n",
       "      <th>Robert</th>\n",
       "      <td>2</td>\n",
       "      <td>3</td>\n",
       "    </tr>\n",
       "  </tbody>\n",
       "</table>\n",
       "</div>"
      ],
      "text/plain": [
       "        apples  oranges\n",
       "David        1        2\n",
       "June         3        0\n",
       "Lily         0        7\n",
       "Robert       2        3"
      ]
     },
     "execution_count": 12,
     "metadata": {},
     "output_type": "execute_result"
    }
   ],
   "source": [
    "import pandas as pd\n",
    "\n",
    "f = 'F:/data/cook_book/data.json'\n",
    "\n",
    "dataframe = pd.read_json(f)\n",
    "\n",
    "dataframe"
   ]
  }
 ],
 "metadata": {
  "kernelspec": {
   "display_name": "Python 3",
   "language": "python",
   "name": "python3"
  },
  "language_info": {
   "codemirror_mode": {
    "name": "ipython",
    "version": 3
   },
   "file_extension": ".py",
   "mimetype": "text/x-python",
   "name": "python",
   "nbconvert_exporter": "python",
   "pygments_lexer": "ipython3",
   "version": "3.6.0"
  }
 },
 "nbformat": 4,
 "nbformat_minor": 2
}
