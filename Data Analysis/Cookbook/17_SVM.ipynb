{
 "cells": [
  {
   "cell_type": "markdown",
   "metadata": {},
   "source": [
    "# <center>支持向量机</center>\n",
    "\n",
    "支持向量机通过寻找一个能最大化训练集数据中分类间距的**超平面**来给数据进行分类。\n",
    "- SVM=Support Vector Machine 支持向量机\n",
    "- SVC=Support Vector Classification 支持向量机用于分类，\n",
    "- SVR=Support Vector Regression 支持向量机用于回归分析。"
   ]
  },
  {
   "cell_type": "markdown",
   "metadata": {},
   "source": [
    "### 17.1 训练一个线性分类器\n",
    "#### 问题描述\n",
    "训练一个模型对观察值分类。\n",
    "#### 解决方案\n",
    "用支持向量分类器(Support Vector Classifier, SVC)来寻找最大化分类之间间距的超平面。"
   ]
  },
  {
   "cell_type": "code",
   "execution_count": 1,
   "metadata": {
    "collapsed": false
   },
   "outputs": [],
   "source": [
    "# 加载库\n",
    "from sklearn.svm import LinearSVC\n",
    "from sklearn import datasets\n",
    "from sklearn.preprocessing import StandardScaler\n",
    "import numpy as np"
   ]
  },
  {
   "cell_type": "code",
   "execution_count": 2,
   "metadata": {
    "collapsed": true
   },
   "outputs": [],
   "source": [
    "# 加载数据，数据中只有两种分类和两个特征\n",
    "iris = datasets.load_iris()\n",
    "features = iris.data[:100,:2]\n",
    "target = iris.target[:100]"
   ]
  },
  {
   "cell_type": "code",
   "execution_count": 3,
   "metadata": {
    "collapsed": true
   },
   "outputs": [],
   "source": [
    "# 标准化特征\n",
    "scaler = StandardScaler()\n",
    "features_standardized = scaler.fit_transform(features)"
   ]
  },
  {
   "cell_type": "code",
   "execution_count": 4,
   "metadata": {
    "collapsed": false
   },
   "outputs": [],
   "source": [
    "# 创建支持向量机分类器\n",
    "svc = LinearSVC(C=1.0)\n",
    "\n",
    "# 训练模型\n",
    "model = svc.fit(features_standardized, target)"
   ]
  },
  {
   "cell_type": "code",
   "execution_count": 5,
   "metadata": {
    "collapsed": false
   },
   "outputs": [
    {
     "data": {
      "text/plain": [
       "<matplotlib.collections.PathCollection at 0x1afcdf0c358>"
      ]
     },
     "execution_count": 5,
     "metadata": {},
     "output_type": "execute_result"
    }
   ],
   "source": [
    "from matplotlib import pyplot as plt\n",
    "\n",
    "# 画出样本点，并且根据其分类上色\n",
    "color = ['blue' if c==0 else 'red' for c in target]\n",
    "# 样本中，分类0为蓝色；分类1为红色；\n",
    "plt.scatter(features_standardized[:,0], features_standardized[:,1], c=color)"
   ]
  },
  {
   "cell_type": "code",
   "execution_count": 6,
   "metadata": {
    "collapsed": false
   },
   "outputs": [
    {
     "data": {
      "image/png": "[encoded data removed]",
      "text/plain": [
       "<matplotlib.figure.Figure at 0x1afcd5f5c50>"
      ]
     },
     "metadata": {},
     "output_type": "display_data"
    }
   ],
   "source": [
    "# 创建超平面\n",
    "w = svc.coef_[0]\n",
    "a = -w[0] / w[1]\n",
    "xx = np.linspace(-2.5, 2.5)\n",
    "yy = a*xx - (svc.intercept_[0])/w[1]\n",
    "\n",
    "# 画出超平面\n",
    "plt.plot(xx, yy)\n",
    "plt.axis('off')\n",
    "plt.show()"
   ]
  },
  {
   "cell_type": "markdown",
   "metadata": {},
   "source": [
    "### 17.2 使用核函数处理线性不可分的数据\n",
    "#### 问题描述\n",
    "训练一个SVC，但是数据是线性不可分的。\n",
    "#### 解决方案\n",
    "对于线性不可分的数据集，需要使用核函数训练支持向量机的一个高维映射，以创建非线性的决策边界。"
   ]
  },
  {
   "cell_type": "code",
   "execution_count": 7,
   "metadata": {
    "collapsed": true
   },
   "outputs": [],
   "source": [
    "from sklearn.svm import SVC\n",
    "from sklearn import datasets\n",
    "from sklearn.preprocessing import StandardScaler\n",
    "import numpy as np"
   ]
  },
  {
   "cell_type": "code",
   "execution_count": 8,
   "metadata": {
    "collapsed": false
   },
   "outputs": [],
   "source": [
    "# 设置随机种子\n",
    "np.random.seed(0)\n",
    "# 生成两个特征\n",
    "features = np.random.randn(200, 2)\n",
    "\n",
    "# 因为异或问题时线性不可分的\n",
    "# 使用异或门创建数据\n",
    "target_xor = np.logical_xor(features[:, 0]>0, features[:,1]>0)\n",
    "target = np.where(target_xor, 0, 1)\n",
    "\n",
    "# 创建一个有径向基核的支持向量机\n",
    "svc = SVC(kernel='rbf', random_state=0, gamma=1, C=1)\n",
    "\n",
    "# 训练分类器\n",
    "model = svc.fit(features, target)"
   ]
  },
  {
   "cell_type": "code",
   "execution_count": 9,
   "metadata": {
    "collapsed": false
   },
   "outputs": [],
   "source": [
    "# 画出观察值和超平面决策边界\n",
    "from matplotlib.colors import ListedColormap\n",
    "import matplotlib.pyplot as plt\n",
    "\n",
    "def plot_decision_regions(X, y, classifier):\n",
    "    cmap = ListedColormap(('red', 'blue'))\n",
    "    xx1, xx2 = np.meshgrid(np.arange(-3, 3, 0.02), np.arange(-3, 3, 0.02))\n",
    "    Z = classifier.predict(np.array([xx1.ravel(), xx2.ravel()]).T)\n",
    "    Z = Z.reshape(xx1.shape)\n",
    "    plt.contourf(xx1, xx2, Z, alpha=0.1, cmap=cmap)\n",
    "    for idx, cl in enumerate(np.unique(y)):\n",
    "        plt.scatter(x=X[y==cl, 0], y=X[y==cl, 1], alpha=0.8, c=cmap(idx), marker='+', label=cl)"
   ]
  },
  {
   "cell_type": "code",
   "execution_count": 10,
   "metadata": {
    "collapsed": false
   },
   "outputs": [
    {
     "data": {
      "text/plain": [
       "SVC(C=1, cache_size=200, class_weight=None, coef0=0.0,\n",
       "  decision_function_shape='ovr', degree=3, gamma='auto', kernel='linear',\n",
       "  max_iter=-1, probability=False, random_state=0, shrinking=True,\n",
       "  tol=0.001, verbose=False)"
      ]
     },
     "execution_count": 10,
     "metadata": {},
     "output_type": "execute_result"
    }
   ],
   "source": [
    "# 创建一个使用线性核函数的SVC\n",
    "svc_linear = SVC(kernel='linear', random_state=0, C=1)\n",
    "\n",
    "# 训练模型\n",
    "svc_linear.fit(features, target)\n",
    "\n",
    "# 采用线性核函数\n",
    "SVC(C=1, cache_size=200, class_weight=None, coef0=0.0, decision_function_shape='ovr', degree=3, gamma='auto',\n",
    "   kernel='linear', max_iter=-1, probability=False, random_state=0, shrinking=True, tol=0.001, verbose=False)"
   ]
  },
  {
   "cell_type": "markdown",
   "metadata": {},
   "source": [
    "数据集中只有两个特征，所以可以在二维空间内画出其观察值、分类和模型的线性超平面。"
   ]
  },
  {
   "cell_type": "code",
   "execution_count": 11,
   "metadata": {
    "collapsed": false
   },
   "outputs": [
    {
     "data": {
      "image/png": "[encoded data removed]",
      "text/plain": [
       "<matplotlib.figure.Figure at 0x1affc5568d0>"
      ]
     },
     "metadata": {},
     "output_type": "display_data"
    }
   ],
   "source": [
    "# 画出观察值和超平面\n",
    "plot_decision_regions(features, target, classifier=svc_linear)\n",
    "plt.axis('off')\n",
    "plt.show()"
   ]
  },
  {
   "cell_type": "markdown",
   "metadata": {
    "collapsed": true
   },
   "source": [
    "如上图所示，这个**线性超平面**的分类效果很差！"
   ]
  },
  {
   "cell_type": "markdown",
   "metadata": {},
   "source": [
    "由图像可知，不存在一个线性超平面将样本数据进行有效的分类。\n",
    "\n",
    "所以采用一个径向基核函数来替换线性核函数，然后用它来训练一个新模型。\n",
    "\n",
    "**注：**高斯核函数，也称为 RBF 核（Radial Basis Function Kernel），也称为径向基函数"
   ]
  },
  {
   "cell_type": "code",
   "execution_count": 12,
   "metadata": {
    "collapsed": false
   },
   "outputs": [],
   "source": [
    "# 创建一个使用径向基核函数的SVC\n",
    "# rbf 高斯核函数\n",
    "svc = SVC(kernel='rbf', random_state=0, gamma=1, C=1)\n",
    "\n",
    "# 训练当前分类器\n",
    "model = svc.fit(features, target)"
   ]
  },
  {
   "cell_type": "code",
   "execution_count": 13,
   "metadata": {
    "collapsed": false
   },
   "outputs": [
    {
     "data": {
      "image/png": "[encoded data removed]",
      "text/plain": [
       "<matplotlib.figure.Figure at 0x1afcefa27f0>"
      ]
     },
     "metadata": {},
     "output_type": "display_data"
    }
   ],
   "source": [
    "# 画出观察值和超平面\n",
    "plot_decision_regions(features, target, classifier=svc)\n",
    "plt.axis('off')\n",
    "plt.show()"
   ]
  },
  {
   "cell_type": "markdown",
   "metadata": {
    "collapsed": true
   },
   "source": [
    "核函数中，多项式核函数中的d（通过degree参数来设置）和径向核函数中的y（通过gamma参数来设置）。C为惩罚参数"
   ]
  },
  {
   "cell_type": "markdown",
   "metadata": {},
   "source": [
    "### 17.3 计算预测分类的概率\n",
    "#### 问题描述\n",
    "计算出观察值被预测为某一个分类的概率。\n",
    "#### 解决方案\n",
    "如果使用 scikit-learn的SVC，可以设置 probability=True，然后训练模型，接着可以使用 predict_proba() 方法来查看校准后的概率。"
   ]
  },
  {
   "cell_type": "code",
   "execution_count": 14,
   "metadata": {
    "collapsed": true
   },
   "outputs": [],
   "source": [
    "# 加载库\n",
    "from sklearn.svm import SVC\n",
    "from sklearn import datasets\n",
    "from sklearn.preprocessing import StandardScaler\n",
    "import numpy as np"
   ]
  },
  {
   "cell_type": "code",
   "execution_count": 15,
   "metadata": {
    "collapsed": false
   },
   "outputs": [
    {
     "data": {
      "text/plain": [
       "array([[0.00579881, 0.96697354, 0.02722765]])"
      ]
     },
     "execution_count": 15,
     "metadata": {},
     "output_type": "execute_result"
    }
   ],
   "source": [
    "# 加载数据\n",
    "iris = datasets.load_iris()\n",
    "features = iris.data\n",
    "target = iris.target\n",
    "\n",
    "# 标准化特征\n",
    "scaler = StandardScaler()\n",
    "features_standardized = scaler.fit_transform(features)\n",
    "\n",
    "# 创建SVC对象，设置预测\n",
    "svc = SVC(kernel='linear', probability=True, random_state=0)\n",
    "\n",
    "# 训练分类器\n",
    "model = svc.fit(features_standardized, target)\n",
    "\n",
    "# 创建一个新的观察值\n",
    "new_observation = [[0.4, 0.4, 0.4, 0.4]]\n",
    "\n",
    "# 查看观察值被预测为不同分类的概率\n",
    "model.predict_proba(new_observation)"
   ]
  },
  {
   "cell_type": "markdown",
   "metadata": {},
   "source": [
    "### 17.4 识别支持向量\n",
    "#### 问题描述\n",
    "找出哪些观察值是决策超平面的支持向量。\n",
    "#### 解决方案\n",
    "训练模型，然后使用 support\\_vectors_() 方法。"
   ]
  },
  {
   "cell_type": "code",
   "execution_count": 16,
   "metadata": {
    "collapsed": true
   },
   "outputs": [],
   "source": [
    "# 加载库\n",
    "from sklearn.svm import SVC\n",
    "from sklearn import datasets\n",
    "from sklearn.preprocessing import StandardScaler\n",
    "import numpy as np"
   ]
  },
  {
   "cell_type": "code",
   "execution_count": 17,
   "metadata": {
    "collapsed": false
   },
   "outputs": [
    {
     "data": {
      "text/plain": [
       "array([[-0.5810659 ,  0.43490123, -0.80621461, -0.50581312],\n",
       "       [-1.52079513, -1.67626978, -1.08374115, -0.8607697 ],\n",
       "       [-0.89430898, -1.46515268,  0.30389157,  0.38157832],\n",
       "       [-0.5810659 , -1.25403558,  0.09574666,  0.55905661]])"
      ]
     },
     "execution_count": 17,
     "metadata": {},
     "output_type": "execute_result"
    }
   ],
   "source": [
    "# 加载只有两个分类的数据\n",
    "iris = datasets.load_iris()\n",
    "features = iris.data[:100,:]\n",
    "target = iris.target[:100]\n",
    "\n",
    "# 标准化特征\n",
    "scaler = StandardScaler()\n",
    "features_standardized = scaler.fit_transform(features)\n",
    "\n",
    "# 创建SVC对象，设置预测\n",
    "svc = SVC(kernel='linear', random_state=0)\n",
    "\n",
    "# 训练分类器\n",
    "model = svc.fit(features_standardized, target)\n",
    "\n",
    "# 查看支持向量\n",
    "model.support_vectors_"
   ]
  },
  {
   "cell_type": "markdown",
   "metadata": {},
   "source": [
    "训练完SVC之后，scikit-learn提供了很多识别支持向量的选项。"
   ]
  },
  {
   "cell_type": "code",
   "execution_count": 18,
   "metadata": {
    "collapsed": false
   },
   "outputs": [
    {
     "data": {
      "text/plain": [
       "array([23, 41, 57, 98])"
      ]
     },
     "execution_count": 18,
     "metadata": {},
     "output_type": "execute_result"
    }
   ],
   "source": [
    "# 输出模型中观察值特征的4个支持向量\n",
    "model.support_"
   ]
  },
  {
   "cell_type": "code",
   "execution_count": 19,
   "metadata": {
    "collapsed": false
   },
   "outputs": [
    {
     "data": {
      "text/plain": [
       "array([2, 2])"
      ]
     },
     "execution_count": 19,
     "metadata": {},
     "output_type": "execute_result"
    }
   ],
   "source": [
    "# 查看每个分类有几个支持向量\n",
    "model.n_support_"
   ]
  },
  {
   "cell_type": "markdown",
   "metadata": {},
   "source": [
    "### 17.5 处理不均衡的分类\n",
    "#### 问题描述\n",
    "用不均衡的分类数据训练一个SVC。\n",
    "#### 解决方案\n",
    "当对数据量少的类别分类错误之后，使用 class_weight() 方法来增加惩罚。"
   ]
  },
  {
   "cell_type": "code",
   "execution_count": 20,
   "metadata": {
    "collapsed": true
   },
   "outputs": [],
   "source": [
    "# 加载库\n",
    "from sklearn.svm import SVC\n",
    "from sklearn import datasets\n",
    "from sklearn.preprocessing import StandardScaler\n",
    "import numpy as np"
   ]
  },
  {
   "cell_type": "code",
   "execution_count": 21,
   "metadata": {
    "collapsed": false
   },
   "outputs": [],
   "source": [
    "# 加载只有两个分类的数据\n",
    "iris = datasets.load_iris()\n",
    "features = iris.data[:100,:]\n",
    "target = iris.target[:100]\n",
    "\n",
    "# 删除前40个观察值，让每个类别的数据分别不均衡\n",
    "features = features[40:,:]\n",
    "target = target[40:]\n",
    "\n",
    "# 创建目标向量，数值0代表分类0，其他分类用数值1表示。\n",
    "target = np.where((target==0), 0, 1)\n",
    "\n",
    "# 标准化特征\n",
    "scaler = StandardScaler()\n",
    "features_standardized = scaler.fit_transform(features)\n",
    "\n",
    "# 创建SVC对象，设置预测\n",
    "svc = SVC(kernel='linear', class_weight='balanced', C=1.0, random_state=0)\n",
    "\n",
    "# 训练分类器\n",
    "model = svc.fit(features_standardized, target)"
   ]
  }
 ],
 "metadata": {
  "kernelspec": {
   "display_name": "Python 3",
   "language": "python",
   "name": "python3"
  },
  "language_info": {
   "codemirror_mode": {
    "name": "ipython",
    "version": 3
   },
   "file_extension": ".py",
   "mimetype": "text/x-python",
   "name": "python",
   "nbconvert_exporter": "python",
   "pygments_lexer": "ipython3",
   "version": "3.6.0"
  }
 },
 "nbformat": 4,
 "nbformat_minor": 2
}
