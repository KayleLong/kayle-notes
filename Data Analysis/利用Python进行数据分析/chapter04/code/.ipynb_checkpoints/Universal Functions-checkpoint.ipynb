{
 "cells": [
  {
   "cell_type": "markdown",
   "metadata": {},
   "source": [
    "# <center>通用函数：快速的元素级数组函数</center>"
   ]
  },
  {
   "cell_type": "markdown",
   "metadata": {},
   "source": [
    "Universal Functions: Fast element-wise array functions"
   ]
  },
  {
   "cell_type": "markdown",
   "metadata": {},
   "source": [
    "通用函数(ufunc)是一种对ndarray中的数据执行元素级运算的函数"
   ]
  },
  {
   "cell_type": "markdown",
   "metadata": {},
   "source": [
    "### 0.准备工作"
   ]
  },
  {
   "cell_type": "code",
   "execution_count": 1,
   "metadata": {
    "collapsed": true
   },
   "outputs": [],
   "source": [
    "%matplotlib inline"
   ]
  },
  {
   "cell_type": "code",
   "execution_count": 2,
   "metadata": {
    "collapsed": true
   },
   "outputs": [],
   "source": [
    "from __future__ import division\n",
    "from numpy.random import randn\n",
    "import numpy as np\n",
    "np.set_printoptions(precision=4, suppress=True)"
   ]
  },
  {
   "cell_type": "markdown",
   "metadata": {},
   "source": [
    "许多ufunc都是简单的元素级变体，这类ufunc称为一元通用函数(unary ufunc)"
   ]
  },
  {
   "cell_type": "code",
   "execution_count": 4,
   "metadata": {
    "collapsed": false
   },
   "outputs": [
    {
     "data": {
      "text/plain": [
       "array([0, 1, 2, 3, 4, 5, 6, 7, 8, 9])"
      ]
     },
     "execution_count": 4,
     "metadata": {},
     "output_type": "execute_result"
    }
   ],
   "source": [
    "arr = np.arange(10)\n",
    "arr"
   ]
  },
  {
   "cell_type": "code",
   "execution_count": 5,
   "metadata": {
    "collapsed": false
   },
   "outputs": [
    {
     "data": {
      "text/plain": [
       "array([0.    , 1.    , 1.4142, 1.7321, 2.    , 2.2361, 2.4495, 2.6458,\n",
       "       2.8284, 3.    ])"
      ]
     },
     "execution_count": 5,
     "metadata": {},
     "output_type": "execute_result"
    }
   ],
   "source": [
    "# 求各元素的平方根\n",
    "np.sqrt(arr)"
   ]
  },
  {
   "cell_type": "code",
   "execution_count": 6,
   "metadata": {
    "collapsed": false
   },
   "outputs": [
    {
     "data": {
      "text/plain": [
       "array([0, 1, 2, 3, 4, 5, 6, 7, 8, 9])"
      ]
     },
     "execution_count": 6,
     "metadata": {},
     "output_type": "execute_result"
    }
   ],
   "source": [
    "arr"
   ]
  },
  {
   "cell_type": "code",
   "execution_count": 7,
   "metadata": {
    "collapsed": false
   },
   "outputs": [
    {
     "data": {
      "text/plain": [
       "array([   1.    ,    2.7183,    7.3891,   20.0855,   54.5982,  148.4132,\n",
       "        403.4288, 1096.6332, 2980.958 , 8103.0839])"
      ]
     },
     "execution_count": 7,
     "metadata": {},
     "output_type": "execute_result"
    }
   ],
   "source": [
    "# 各元素的指数e^x\n",
    "np.exp(arr)"
   ]
  },
  {
   "cell_type": "markdown",
   "metadata": {},
   "source": [
    "有的通用函数接受两个数组，这类ufunc称为二元通用函数(binary ufunc)"
   ]
  },
  {
   "cell_type": "code",
   "execution_count": 8,
   "metadata": {
    "collapsed": true
   },
   "outputs": [],
   "source": [
    "x = randn(8)\n",
    "y = randn(8)"
   ]
  },
  {
   "cell_type": "code",
   "execution_count": 9,
   "metadata": {
    "collapsed": false
   },
   "outputs": [
    {
     "data": {
      "text/plain": [
       "array([-0.165 ,  2.2289, -0.2138,  0.0079,  1.6029,  0.7952, -1.2973,\n",
       "        0.1744])"
      ]
     },
     "execution_count": 9,
     "metadata": {},
     "output_type": "execute_result"
    }
   ],
   "source": [
    "x"
   ]
  },
  {
   "cell_type": "code",
   "execution_count": 10,
   "metadata": {
    "collapsed": false
   },
   "outputs": [
    {
     "data": {
      "text/plain": [
       "array([ 0.743 ,  0.958 ,  0.2479, -0.3373,  0.7713,  0.3249, -1.4511,\n",
       "        0.5342])"
      ]
     },
     "execution_count": 10,
     "metadata": {},
     "output_type": "execute_result"
    }
   ],
   "source": [
    "y"
   ]
  },
  {
   "cell_type": "code",
   "execution_count": 11,
   "metadata": {
    "collapsed": false
   },
   "outputs": [
    {
     "data": {
      "text/plain": [
       "array([ 0.743 ,  2.2289,  0.2479,  0.0079,  1.6029,  0.7952, -1.2973,\n",
       "        0.5342])"
      ]
     },
     "execution_count": 11,
     "metadata": {},
     "output_type": "execute_result"
    }
   ],
   "source": [
    "# 元素级最大值\n",
    "np.maximum(x, y)"
   ]
  },
  {
   "cell_type": "code",
   "execution_count": 12,
   "metadata": {
    "collapsed": true
   },
   "outputs": [],
   "source": [
    "arr = randn(7) * 5"
   ]
  },
  {
   "cell_type": "code",
   "execution_count": 13,
   "metadata": {
    "collapsed": false
   },
   "outputs": [
    {
     "data": {
      "text/plain": [
       "(array([ 0.3603, -0.4553, -0.911 , -0.3946,  0.9132, -0.3875, -0.6656]),\n",
       " array([ 3., -0., -0., -2.,  2., -6., -2.]))"
      ]
     },
     "execution_count": 13,
     "metadata": {},
     "output_type": "execute_result"
    }
   ],
   "source": [
    "np.modf(arr)"
   ]
  },
  {
   "cell_type": "markdown",
   "metadata": {},
   "source": [
    "---"
   ]
  },
  {
   "cell_type": "markdown",
   "metadata": {},
   "source": [
    "## <center>附录：常用用函数的用法说明</center>"
   ]
  },
  {
   "cell_type": "markdown",
   "metadata": {},
   "source": [
    "### 一元ufunc"
   ]
  },
  {
   "cell_type": "markdown",
   "metadata": {},
   "source": [
    "|函数|作用|说明|\n",
    "|--|--|--|\n",
    "|abs、fabs|计算整数、浮点数或者复数的绝对值|对于非复数值，可以使用更快的fabs|\n",
    "|sqrt|计算各元素的平方根|相当于arr**0.5|\n",
    "|square|计算各元素的平方|相当于arr**2|\n",
    "|exp|计算各元素的指数e^x||\n",
    "|log、log10、log2、log1p|分别为自然对数(e)、底数为10的log。底数为2的log、log(1+x)||\n",
    "|sign|符号函数，计算各元素的正负号|1(正数)、0(零)、-1(负数)|\n",
    "|ceil|计算各元素的ceiling值|即大于等于该值的最小整数|\n",
    "|floor|计算各元素的floor值|即小于等于该值的最大整数|\n",
    "|rint|将各元素值四舍五入到最接近的整数，保留原有的dtype||\n",
    "|modf|将数组的小数部分和整数部分以两个独立数组的形式返回||\n",
    "|isnan|返回一个表示\"哪些值是NaN\"的布尔数组||\n",
    "|isfinite、isinf|分别返回一个表示\"哪些元素是有穷的\"或者\"哪些元素是无穷的\"的布尔型的数组||\n",
    "|cos、cosh、sin、sinh、tan、tanh|普通型和双曲型三角函数||\n",
    "|arccos、arccosh、arcsin、arcsinh、arctan、arctanh|反三角函数||\n",
    "|logic_not|计算各元素not x的真值|相当于-arr|"
   ]
  },
  {
   "cell_type": "markdown",
   "metadata": {},
   "source": [
    "### 二元ufunc"
   ]
  },
  {
   "cell_type": "markdown",
   "metadata": {},
   "source": [
    "|函数|作用|说明|\n",
    "|--|--|--|\n",
    "|add|将数组中对应的元素相加||\n",
    "|subtract|从第一个数组中减去第二个数组中的元素||\n",
    "|muiltiply|数组元素相乘||\n",
    "|divide、floor_divide|除法或者向下整除||\n",
    "|power|第一个数组元素A,第二个数组元素B，计算A**B||\n",
    "|maximum、fmax|元素级的最大值|fmax将忽略NaN|\n",
    "|minimum、fmin|元素级的最小值|fmin将忽略NaN|\n",
    "|mod|元素级的取模计算||\n",
    "|copysign|将第二个数组中的值的符号，复制给第一个数组中值|变正负号|\n",
    "|greater、greater_equal、less、less_equal、equal、not_equal|比较运算|相当于运算符>、>=、<、<=、==、!=|\n",
    "|logical_and、logical_or、logical_xor|逻辑运算|与(&)、或(丨)、异或(^)|"
   ]
  }
 ],
 "metadata": {
  "kernelspec": {
   "display_name": "Python 3",
   "language": "python",
   "name": "python3"
  },
  "language_info": {
   "codemirror_mode": {
    "name": "ipython",
    "version": 3
   },
   "file_extension": ".py",
   "mimetype": "text/x-python",
   "name": "python",
   "nbconvert_exporter": "python",
   "pygments_lexer": "ipython3",
   "version": "3.6.0"
  }
 },
 "nbformat": 4,
 "nbformat_minor": 2
}
