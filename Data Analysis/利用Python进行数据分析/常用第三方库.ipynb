{
 "cells": [
  {
   "cell_type": "markdown",
   "metadata": {},
   "source": [
    "# <center>使用Python进行数据分析——常见实用的第三方库</center>"
   ]
  },
  {
   "cell_type": "markdown",
   "metadata": {},
   "source": [
    "### 1. 数据收集\n",
    "\n",
    "|名称|作用|\n",
    "|--|--|\n",
    "|scrapy|网页采集、爬虫。|\n",
    "|scrapy-redis|分布式爬虫。|\n",
    "|selenium|web测试、仿真浏览器。|"
   ]
  },
  {
   "cell_type": "markdown",
   "metadata": {},
   "source": [
    "### 2. 数据处理\n",
    "\n",
    "|名称|作用|\n",
    "|--|--|\n",
    "|beautifulsoup|网页解释库，提供lxml的支持|\n",
    "|lxml|xml解释库|\n",
    "|xlrd|excel文件读取|\n",
    "|xlwt|excel文件写入|\n",
    "|slutls|excel文件简单格式修改|\n",
    "|pywin32|excel文件的读取写入及复杂格式定制|\n",
    "|Python-docx|Word文件的读取写入|"
   ]
  },
  {
   "cell_type": "markdown",
   "metadata": {},
   "source": [
    "### 3. 数据分析\n",
    "\n",
    "|名称|作用|\n",
    "|--|--|\n",
    "|numpy|基于矩阵的数学计算库|\n",
    "|pandas|基于表格的统计分析库|\n",
    "|scipy|科学计算库，支持高阶抽象和复杂模型|\n",
    "|statsmodels|统计建模和计量经济学工具包|\n",
    "|scikit-learn|机器学习工具库|\n",
    "|gensim|自然语言处理工具库|\n",
    "|jieba|中文分词工具库|"
   ]
  },
  {
   "cell_type": "markdown",
   "metadata": {},
   "source": [
    "### 4. 数据存储\n",
    "\n",
    "|名称|作用|\n",
    "|--|--|\n",
    "|MySQL-python|mysql的读写接口库|\n",
    "|mysqlclient|mysql的读写接口库|\n",
    "|SQLAlchemy|数据库的ORM封装|\n",
    "|pymysql|sqlserver读写接口库|\n",
    "|redis|redis的读写接口|\n",
    "|PyMongo|MongoDB的读写接口|"
   ]
  },
  {
   "cell_type": "markdown",
   "metadata": {},
   "source": [
    "### 5. 数据呈现\n",
    "\n",
    "|名称|作用|\n",
    "|--|--|\n",
    "|matplotlib|流行的数据可视化库|\n",
    "|seaborn|美观的数据可视化库，基于matplotlib|"
   ]
  },
  {
   "cell_type": "markdown",
   "metadata": {},
   "source": [
    "### 6. 工具辅助\n",
    "\n",
    "|名称|作用|\n",
    "|--|--|\n",
    "|jupyter|基于web的pythonIDE，常用于数据分析|\n",
    "|chardet|字符检查工具|\n",
    "|ConfigParser|配置文件读写支持|\n",
    "|requests|HTTP库，用于网络访问|"
   ]
  }
 ],
 "metadata": {
  "kernelspec": {
   "display_name": "Python 3",
   "language": "python",
   "name": "python3"
  },
  "language_info": {
   "codemirror_mode": {
    "name": "ipython",
    "version": 3
   },
   "file_extension": ".py",
   "mimetype": "text/x-python",
   "name": "python",
   "nbconvert_exporter": "python",
   "pygments_lexer": "ipython3",
   "version": "3.6.2"
  }
 },
 "nbformat": 4,
 "nbformat_minor": 2
}
