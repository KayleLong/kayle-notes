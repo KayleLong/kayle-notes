{
 "cells": [
  {
   "cell_type": "markdown",
   "metadata": {},
   "source": [
    "## 概率的重要性\n",
    "概率是一种将不确定性视为至少在原则上可以量化的东西的能力。这意味着我们可以想谈论数字一样谈论不确定性：数字可以被比较(\"这件事发生的可能性不那件事更可能\")，而且它们常常可以被测量。"
   ]
  },
  {
   "cell_type": "markdown",
   "metadata": {},
   "source": [
    "**现代人工智能方法在现实世界问题中实际有效的原因之一是人工智能处理不确定性的能力。**\n",
    "\n",
    "人工智能领域需要处理不确定和不精准的信息，这些信息可以被转化为计算机可处理的数据，从而为所需要解决的问题建立不确定条件。\n",
    "\n",
    "概率已经被证明是在不确定条件下进行推理的最佳方法，而且几乎所有当前的人工智能应用至少在某种程度上都是基于概率的。"
   ]
  }
 ],
 "metadata": {
  "kernelspec": {
   "display_name": "python2",
   "language": "python",
   "name": "python2"
  },
  "language_info": {
   "codemirror_mode": {
    "name": "ipython",
    "version": 2
   },
   "file_extension": ".py",
   "mimetype": "text/x-python",
   "name": "python",
   "nbconvert_exporter": "python",
   "pygments_lexer": "ipython2",
   "version": "2.7.13"
  }
 },
 "nbformat": 4,
 "nbformat_minor": 2
}
