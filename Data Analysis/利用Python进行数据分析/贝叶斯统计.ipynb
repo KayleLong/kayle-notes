{
 "cells": [
  {
   "cell_type": "markdown",
   "metadata": {},
   "source": [
    "# <center>贝叶斯公式</center>"
   ]
  },
  {
   "cell_type": "markdown",
   "metadata": {},
   "source": [
    "贝叶斯公式以托马斯·贝叶斯（Thomas Bayes，1701-1761）命名的。\n",
    "\n",
    "贝叶斯是和牛顿同时代的牧师，同时也是一位业余数学家，和牛顿不同的是，贝叶斯的理论当时并未被重视。\n",
    "\n",
    "原因在于贝叶斯在统计当中引入了主观因素，即所谓的先验概率，这对于数学来说是大忌，数学应该是客观的，怎么能加入主观因素。因此，直到1950年左右，人们发现加入先验概率效果更好，贝叶斯的理论才被广泛接受。"
   ]
  },
  {
   "cell_type": "markdown",
   "metadata": {},
   "source": [
    "一个理论能被广泛接受，一定是因为能够解决很多问题，那贝叶斯理论又解决了什么问题，为什么一个数学理论能够加入主观因素？\n",
    "\n",
    "如果问抛硬币正面朝上的概率，很多人会肯定回答说概率是1/2，但这是想当然了，对于理想的硬币，正反面概率是均匀的，但是如果硬币动了手脚，那就不一定了，这个时候，要怎么去确定概率是多少？有人想到通过做抛硬币的试验来确定，例如抛5次硬币，统计正面和反面出现的次数，如果抛5次都是正面向上，我们能说正面向上的概率是100%吗？有人说，5次太少，那抛5000次以上总能计算概率大小吧，答案是可以，只是这种估计概率的方式成本太高了。\n",
    "  \n",
    "事实上，现实生活中，有很多类似的例子是不能通过做试验来确定概率的，例如小明预测明天下雨的概率是30%，他无法重复过上明天100次，统计下雨的次数来计算下雨的概率。\n",
    "\n",
    "而贝叶斯理论，可以解决这种在有限信息条件下对概率的一个预估。"
   ]
  },
  {
   "cell_type": "markdown",
   "metadata": {},
   "source": [
    "**贝叶斯理论的思路是:在主观判断的基础上，先估计一个值（先验概率），然后根据观察的新信息不断修正(可能性函数)。**"
   ]
  },
  {
   "cell_type": "markdown",
   "metadata": {},
   "source": [
    "贝叶斯公式\n",
    "<center>P(A|B) = P(A) P(B|A)/P(B)</center>"
   ]
  },
  {
   "cell_type": "markdown",
   "metadata": {},
   "source": []
  }
 ],
 "metadata": {
  "kernelspec": {
   "display_name": "python2",
   "language": "python",
   "name": "python2"
  },
  "language_info": {
   "codemirror_mode": {
    "name": "ipython",
    "version": 2
   },
   "file_extension": ".py",
   "mimetype": "text/x-python",
   "name": "python",
   "nbconvert_exporter": "python",
   "pygments_lexer": "ipython2",
   "version": "2.7.13"
  }
 },
 "nbformat": 4,
 "nbformat_minor": 2
}
