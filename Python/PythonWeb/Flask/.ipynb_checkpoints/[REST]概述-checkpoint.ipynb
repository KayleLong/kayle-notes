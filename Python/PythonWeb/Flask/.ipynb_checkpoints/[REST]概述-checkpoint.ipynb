{
 "cells": [
  {
   "cell_type": "markdown",
   "metadata": {},
   "source": [
    "### 方案对比\n",
    "基础的flask应用程序构建的所有功能都只适用于特定类型的客户端：Web浏览器。如果需要构建Android或iOS APP，即APP需要调用应用程序的数据。有两种主流方法可以解决这个问题。\n",
    "\n",
    "1. 最简单的解决方案是构建一个简单的APP，仅使用一个Web视图组件并用Microblog网站填充整个屏幕，但相比在设备的Web浏览器中打开网站，这种方案几乎没有什么卖点。本质还是Web浏览器作为客户端，发生请求到服务端。返回的结果通常是整个HTML页面。\n",
    "\n",
    "2. APP作为客户端，向服务端发生请求。返回的结果只是数据（特定格式的数据，使得APP可以解析）\n",
    "\n",
    "### REST  API\n",
    "API 是应用程序接口。  \n",
    "REST API 是指按照REST（Representational State Transfer）原则来设计和实现的API。\n",
    "   \n",
    "Rest 是将业务逻辑从后端转移到前端的一种Web架构，它使用URL来定位Web中的资源，将资源的URL和其他一些信息封装成JSON或者XML格式，在客户端(浏览器，Android APP，iOS APP)和服务端之间进行传递。它支持http协议中GET、POST、PUT、DELETE等一般方法，作为服务端，就是根据客户端的请求方法，调用实现定义好的API，通过这种方式，服务端不再关心业务逻辑，只需要指定不同功能的API供客户端调用即可。"
   ]
  }
 ],
 "metadata": {
  "kernelspec": {
   "display_name": "Python 3",
   "language": "python",
   "name": "python3"
  },
  "language_info": {
   "codemirror_mode": {
    "name": "ipython",
    "version": 3
   },
   "file_extension": ".py",
   "mimetype": "text/x-python",
   "name": "python",
   "nbconvert_exporter": "python",
   "pygments_lexer": "ipython3",
   "version": "3.5.4"
  }
 },
 "nbformat": 4,
 "nbformat_minor": 2
}
