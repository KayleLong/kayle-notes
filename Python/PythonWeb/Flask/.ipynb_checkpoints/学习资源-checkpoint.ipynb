{
 "cells": [
  {
   "cell_type": "markdown",
   "metadata": {},
   "source": [
    "### flask web开发(狗书)\n",
    "英文原版第一版  \n",
    "[The Flask Mega-Tutorial Part I](https://blog.miguelgrinberg.com/post/the-flask-mega-tutorial-part-i-hello-world)   \n",
    "[中文翻译版第一版](https://github.com/luhuisicnu/The-Flask-Mega-Tutorial-zh/tree/master/docs)   \n",
    "---\n",
    "### Flask与RESTful API\n",
    "基础内容   \n",
    "[使用 Flask 设计 RESTful APIs](http://www.pythondoc.com/flask-restful/index.html#)   \n",
    "实例项目  \n",
    "[基于 Flask 和 Vue.js 前后端分离的微型博客项目](https://github.com/wangy8961/flask-vuejs-madblog)"
   ]
  }
 ],
 "metadata": {
  "kernelspec": {
   "display_name": "Python 3",
   "language": "python",
   "name": "python3"
  },
  "language_info": {
   "codemirror_mode": {
    "name": "ipython",
    "version": 3
   },
   "file_extension": ".py",
   "mimetype": "text/x-python",
   "name": "python",
   "nbconvert_exporter": "python",
   "pygments_lexer": "ipython3",
   "version": "3.5.4"
  }
 },
 "nbformat": 4,
 "nbformat_minor": 2
}
