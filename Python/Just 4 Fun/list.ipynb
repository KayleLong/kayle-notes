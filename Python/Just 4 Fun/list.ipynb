{
 "cells": [
  {
   "cell_type": "code",
   "execution_count": 1,
   "metadata": {
    "collapsed": false
   },
   "outputs": [
    {
     "name": "stdout",
     "output_type": "stream",
     "text": [
      "3\n",
      "3\n"
     ]
    },
    {
     "data": {
      "text/plain": [
       "array([[[0, 0, 0],\n",
       "        [0, 3, 7],\n",
       "        [8, 9, 3]],\n",
       "\n",
       "       [[7, 0, 6],\n",
       "        [4, 3, 7],\n",
       "        [8, 1, 3]],\n",
       "\n",
       "       [[1, 4, 7],\n",
       "        [2, 5, 8],\n",
       "        [3, 6, 9]]])"
      ]
     },
     "execution_count": 1,
     "metadata": {},
     "output_type": "execute_result"
    }
   ],
   "source": [
    "import numpy as np\n",
    "\n",
    "ori = np.array([\n",
    "    [[0, 0, 0], [0, 3, 7], [8, 9, 3]],\n",
    "    [[7, 0, 6], [4, 3, 7], [8, 1, 3]],\n",
    "    [[1, 4, 7], [2, 5, 8], [3, 6, 9]]\n",
    "])\n",
    "print(ori.shape[0])\n",
    "print(ori.shape[1])\n",
    "ori"
   ]
  },
  {
   "cell_type": "code",
   "execution_count": 7,
   "metadata": {
    "collapsed": false,
    "scrolled": true
   },
   "outputs": [
    {
     "name": "stdout",
     "output_type": "stream",
     "text": [
      "[8, 4, 13]\n",
      "[8, 4, 13, 6, 11, 22]\n",
      "[8, 4, 13, 6, 11, 22, 19, 16, 15]\n"
     ]
    }
   ],
   "source": [
    "res=[]\n",
    "# 获取最内层数组的长度 如：[0， 3， 7]\n",
    "length = len(ori[:, i])\n",
    "\n",
    "for i in range(ori.shape[1]):\n",
    "    # 空数组，用于计算累加结果\n",
    "    l1 = [0] * length\n",
    "    # for循环累加\n",
    "    for j in ori[:, i]:\n",
    "        l1 += j\n",
    "\n",
    "    # 将累加结果连接到res中\n",
    "    res.extend(l1)\n",
    "    print(res)"
   ]
  },
  {
   "cell_type": "code",
   "execution_count": 6,
   "metadata": {
    "collapsed": false
   },
   "outputs": [
    {
     "data": {
      "text/plain": [
       "[0, 0, 0, 0, 0, 0, 0, 0, 0, 0]"
      ]
     },
     "execution_count": 6,
     "metadata": {},
     "output_type": "execute_result"
    }
   ],
   "source": [
    "a = [0] * 10\n",
    "a"
   ]
  },
  {
   "cell_type": "code",
   "execution_count": 10,
   "metadata": {
    "collapsed": false
   },
   "outputs": [
    {
     "name": "stdout",
     "output_type": "stream",
     "text": [
      "[[], 8, 4, 13]\n",
      "[[], 8, 4, 13, 6, 11, 22]\n",
      "[[], 8, 4, 13, 6, 11, 22, 19, 16, 15]\n"
     ]
    }
   ],
   "source": [
    "res=[[]]\n",
    "# 获取最内层数组的长度 如：[0， 3， 7]\n",
    "length = len(ori[:, i])\n",
    "\n",
    "for i in range(ori.shape[1]):\n",
    "    # 空数组，用于计算累加结果\n",
    "    l1 = [0] * length\n",
    "    # for循环累加\n",
    "    for j in ori[:, i]:\n",
    "        l1 += j\n",
    "\n",
    "    # 将累加结果连接到res中\n",
    "    res.extend(l1)\n",
    "    print(res)"
   ]
  },
  {
   "cell_type": "code",
   "execution_count": null,
   "metadata": {
    "collapsed": true
   },
   "outputs": [],
   "source": []
  }
 ],
 "metadata": {
  "kernelspec": {
   "display_name": "Python 3",
   "language": "python",
   "name": "python3"
  },
  "language_info": {
   "codemirror_mode": {
    "name": "ipython",
    "version": 3
   },
   "file_extension": ".py",
   "mimetype": "text/x-python",
   "name": "python",
   "nbconvert_exporter": "python",
   "pygments_lexer": "ipython3",
   "version": "3.5.4"
  }
 },
 "nbformat": 4,
 "nbformat_minor": 2
}
