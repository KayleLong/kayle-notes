{
 "cells": [
  {
   "cell_type": "markdown",
   "metadata": {},
   "source": [
    "### 报数"
   ]
  },
  {
   "cell_type": "markdown",
   "metadata": {},
   "source": [
    "#### 题目描述"
   ]
  },
  {
   "cell_type": "markdown",
   "metadata": {},
   "source": [
    "报数序列是指一个整数序列，按照其中的整数的顺序进行报数，得到下一个数。其前五项如下：\n",
    " 1.     1\n",
    " 2.     11\n",
    " 3.     21\n",
    " 4.     1211\n",
    " 5.     111221 "
   ]
  },
  {
   "cell_type": "markdown",
   "metadata": {},
   "source": [
    "#### 示例"
   ]
  },
  {
   "cell_type": "markdown",
   "metadata": {},
   "source": [
    "输入: 1<br>\n",
    "输出: 1\n",
    "\n",
    "输入: 3<br>\n",
    "输出: 1211\n",
    "\n",
    "输入: 5<br>\n",
    "输出: 111221"
   ]
  },
  {
   "cell_type": "code",
   "execution_count": 6,
   "metadata": {
    "collapsed": true
   },
   "outputs": [],
   "source": [
    "class Solution:\n",
    "    def countAndSay(self, n):\n",
    "        \"\"\"\n",
    "        :type n: int\n",
    "        :rtype: str\n",
    "        \"\"\"\n",
    "        result = '1'   # 将第一行的1换成字符类型，便于下一行的读出\n",
    "        for i in range (n-1):    # (n-1)是因为第一行不需要处理，直接可以读出\n",
    "            a,c,count = result[0], '' ,0   # a用来读取上一行的第一个字符，c用来存放读出的内容(char)，count用来统计\n",
    "            for j in result:   \n",
    "                if a==j:\n",
    "                    count += 1\n",
    "                else:\n",
    "                    c += str(count) + a   # 注意一定要将count转换为字符型，否则两个数就会相加（变成数学公式）。\n",
    "                    a = j\n",
    "                    count = 1\n",
    "            c += str(count) + a\n",
    "            result = c\n",
    "        return result"
   ]
  },
  {
   "cell_type": "code",
   "execution_count": 7,
   "metadata": {
    "collapsed": true
   },
   "outputs": [],
   "source": [
    "x = Solution()\n",
    "y = Solution()\n",
    "z = Solution()"
   ]
  },
  {
   "cell_type": "code",
   "execution_count": 3,
   "metadata": {
    "collapsed": false
   },
   "outputs": [
    {
     "data": {
      "text/plain": [
       "'21'"
      ]
     },
     "execution_count": 3,
     "metadata": {},
     "output_type": "execute_result"
    }
   ],
   "source": [
    "x.countAndSay(3)"
   ]
  },
  {
   "cell_type": "code",
   "execution_count": 4,
   "metadata": {
    "collapsed": false
   },
   "outputs": [
    {
     "data": {
      "text/plain": [
       "'111221'"
      ]
     },
     "execution_count": 4,
     "metadata": {},
     "output_type": "execute_result"
    }
   ],
   "source": [
    "y.countAndSay(5)"
   ]
  },
  {
   "cell_type": "code",
   "execution_count": 5,
   "metadata": {
    "collapsed": false
   },
   "outputs": [
    {
     "data": {
      "text/plain": [
       "'13112221'"
      ]
     },
     "execution_count": 5,
     "metadata": {},
     "output_type": "execute_result"
    }
   ],
   "source": [
    "z.countAndSay(7)"
   ]
  }
 ],
 "metadata": {
  "kernelspec": {
   "display_name": "Python 3",
   "language": "python",
   "name": "python3"
  },
  "language_info": {
   "codemirror_mode": {
    "name": "ipython",
    "version": 3
   },
   "file_extension": ".py",
   "mimetype": "text/x-python",
   "name": "python",
   "nbconvert_exporter": "python",
   "pygments_lexer": "ipython3",
   "version": "3.4.5"
  }
 },
 "nbformat": 4,
 "nbformat_minor": 2
}
