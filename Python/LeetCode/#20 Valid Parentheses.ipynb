{
 "cells": [
  {
   "cell_type": "markdown",
   "metadata": {},
   "source": [
    "### 有效的括号"
   ]
  },
  {
   "cell_type": "markdown",
   "metadata": {},
   "source": [
    "#### 题目描述"
   ]
  },
  {
   "cell_type": "markdown",
   "metadata": {},
   "source": [
    "给定一个只包括 '('，')'，'{'，'}'，'['，']' 的字符串，判断字符串是否有效。\n",
    "\n",
    "有效字符串需满足：\n",
    "1. 左括号必须用相同类型的右括号闭合。\n",
    "2. 左括号必须以正确的顺序闭合。\n",
    "\n",
    "**注意空字符串可被认为是有效字符串。**"
   ]
  },
  {
   "cell_type": "markdown",
   "metadata": {},
   "source": [
    "#### 示例"
   ]
  },
  {
   "cell_type": "markdown",
   "metadata": {},
   "source": [
    "输入: \"()[]{}\"<br>\n",
    "输出: true\n",
    "\n",
    "输入: \"([)]\"<br>\n",
    "输出: false\n",
    "\n",
    "输入: \"{[]}\"<br>\n",
    "输出: true"
   ]
  },
  {
   "cell_type": "code",
   "execution_count": 1,
   "metadata": {
    "collapsed": true
   },
   "outputs": [],
   "source": [
    "class Solution:\n",
    "    def isValid(self, s):\n",
    "        \"\"\"\n",
    "        :type s: str\n",
    "        :rtype: bool\n",
    "        \"\"\"\n",
    "        stack = []\n",
    "        if(len(s)==0):\n",
    "            return True\n",
    "        if(len(s)%2==1):\n",
    "            return False\n",
    "        if(s[0]==\")\" or s[0]==\"]\" or s[0]==\"}\"):\n",
    "            return False\n",
    "\n",
    "        if(s[-1]==\"(\" or s[-1]==\"[\" or s[-1]==\"{\"):\n",
    "            return False\n",
    "\n",
    "        for i in s:\n",
    "            if(i==\"(\" or i==\"[\" or i==\"{\"):\n",
    "                stack.append(i)\n",
    "            if(i==\")\"):\n",
    "                if(stack[-1]==\"(\"):\n",
    "                    stack.pop()\n",
    "                else:\n",
    "                    return False\n",
    "            if(i==\"]\"):\n",
    "                if(stack[-1]==\"[\"):\n",
    "                    stack.pop()\n",
    "                else:\n",
    "                    return False\n",
    "            if(i==\"}\"):\n",
    "                if(stack[-1]==\"{\"):\n",
    "                    stack.pop()\n",
    "                else:\n",
    "                    return False\n",
    "        return True"
   ]
  },
  {
   "cell_type": "code",
   "execution_count": 2,
   "metadata": {
    "collapsed": true
   },
   "outputs": [],
   "source": [
    "x = Solution()\n",
    "y = Solution()\n",
    "z = Solution()"
   ]
  },
  {
   "cell_type": "code",
   "execution_count": 3,
   "metadata": {
    "collapsed": false
   },
   "outputs": [
    {
     "data": {
      "text/plain": [
       "True"
      ]
     },
     "execution_count": 3,
     "metadata": {},
     "output_type": "execute_result"
    }
   ],
   "source": [
    "x.isValid(\"()[]{}\")"
   ]
  },
  {
   "cell_type": "code",
   "execution_count": 4,
   "metadata": {
    "collapsed": false
   },
   "outputs": [
    {
     "data": {
      "text/plain": [
       "False"
      ]
     },
     "execution_count": 4,
     "metadata": {},
     "output_type": "execute_result"
    }
   ],
   "source": [
    "y.isValid(\"([)]\")"
   ]
  },
  {
   "cell_type": "code",
   "execution_count": 5,
   "metadata": {
    "collapsed": false
   },
   "outputs": [
    {
     "data": {
      "text/plain": [
       "True"
      ]
     },
     "execution_count": 5,
     "metadata": {},
     "output_type": "execute_result"
    }
   ],
   "source": [
    "z.isValid(\"{[]}\")"
   ]
  }
 ],
 "metadata": {
  "kernelspec": {
   "display_name": "Python 3",
   "language": "python",
   "name": "python3"
  },
  "language_info": {
   "codemirror_mode": {
    "name": "ipython",
    "version": 3
   },
   "file_extension": ".py",
   "mimetype": "text/x-python",
   "name": "python",
   "nbconvert_exporter": "python",
   "pygments_lexer": "ipython3",
   "version": "3.4.5"
  }
 },
 "nbformat": 4,
 "nbformat_minor": 2
}
