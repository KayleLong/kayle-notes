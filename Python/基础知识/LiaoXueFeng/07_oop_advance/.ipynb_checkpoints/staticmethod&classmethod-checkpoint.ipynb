{
 "cells": [
  {
   "cell_type": "markdown",
   "metadata": {},
   "source": [
    "###  Python中staticmethod和classmethod的差异"
   ]
  },
  {
   "cell_type": "markdown",
   "metadata": {},
   "source": [
    "链接：http://www.wklken.me/posts/2013/12/22/difference-between-staticmethod-and-classmethod-in-python.html<br>\n",
    "http://blog.csdn.net/a447685024/article/details/52424481<br>\n",
    "http://python.jobbole.com/81595/<br>\n",
    "在学习廖雪峰的Python3教程中，并没有接触到@staticmethod和@classmethod。而是在学习《数据结构与算法——python 描述》这本书中接触到的。<br>\n",
    "因为书中并没有过多地解释@staticmethod和@classmethod，只是在类的定义中简单地解释了这是两个装饰器。乍看之下，觉得很奇怪，不明白其用法。"
   ]
  },
  {
   "cell_type": "markdown",
   "metadata": {},
   "source": [
    "#### 补充一些概念\n",
    "Python的类里面可以定义三种类型的方法："
   ]
  },
  {
   "cell_type": "code",
   "execution_count": 1,
   "metadata": {
    "collapsed": true
   },
   "outputs": [],
   "source": [
    "#!usr/bin/env python3\n",
    "# -*- coding: utf-8 -*-\n",
    "\n",
    "class A(object): \n",
    "    \n",
    "    # 实例方法  \n",
    "    def foo(self,x):  \n",
    "        print(\"executing foo(%s,%s)\"%(self,x))\n",
    "        \n",
    "    # 类方法  \n",
    "    @classmethod  \n",
    "    def class_foo(cls,x):  \n",
    "        print(\"executing class_foo(%s,%s)\"%(cls,x))\n",
    "        \n",
    "    # 静态方法  \n",
    "    @staticmethod  \n",
    "    def static_foo(x):  \n",
    "        print(\"executing static_foo(%s)\"%(x))\n",
    "        \n",
    "a = A()"
   ]
  },
  {
   "cell_type": "markdown",
   "metadata": {},
   "source": [
    "这三个方法究竟有什么不同呢？\n",
    "![image](http://img.blog.csdn.net/20160903174942182?watermark/2/text/aHR0cDovL2Jsb2cuY3Nkbi5uZXQv/font/5a6L5L2T/fontsize/400/fill/I0JBQkFCMA==/dissolve/70/gravity/Center)\n",
    "\n",
    "可以看到，**实例是三种方法都可以调用的，而类只可以调用两种**。"
   ]
  },
  {
   "cell_type": "markdown",
   "metadata": {},
   "source": [
    "类中最常用到的方法是 实例方法(instance methods), 即，实例对象作为第一个参数传递给函数\n",
    "\n",
    "例如，下面是一个基本的实例方法"
   ]
  },
  {
   "cell_type": "code",
   "execution_count": 2,
   "metadata": {
    "collapsed": false
   },
   "outputs": [
    {
     "name": "stdout",
     "output_type": "stream",
     "text": [
      "arun\n",
      "seema\n"
     ]
    }
   ],
   "source": [
    "#!usr/bin/env python3\n",
    "# -*- coding: utf-8 -*-\n",
    "\n",
    "class Kls(object):\n",
    "    \n",
    "    def __init__(self, data):\n",
    "        self.data = data\n",
    "        \n",
    "    def printd(self):\n",
    "        print(self.data)\n",
    "\n",
    "ik1 = Kls('arun')# 实例化对象\n",
    "ik2 = Kls('seema')\n",
    "\n",
    "ik1.printd()# 调用类的方法\n",
    "ik2.printd()"
   ]
  },
  {
   "cell_type": "markdown",
   "metadata": {},
   "source": [
    "调用关系图，如下：\n",
    "![image](http://www.wklken.me/imgs/translate/trans-classmethod-staticmethod-1.png)"
   ]
  },
  {
   "cell_type": "markdown",
   "metadata": {},
   "source": [
    "### @staticmethod和@classmethod均被作为装饰器，用作定义一个函数为\"staticmethod\"还是\"classmethod\"\n",
    "\n",
    "### staticmethod\n",
    "静态方法是一类特殊的方法，有时你可能需要写一个属于这个类的方法，但是这些代码完全不会使用到实例对象本身，例如："
   ]
  },
  {
   "cell_type": "code",
   "execution_count": 3,
   "metadata": {
    "collapsed": true
   },
   "outputs": [],
   "source": [
    "class Pizza(object):\n",
    "    \n",
    "    @staticmethod\n",
    "    def mix_ingredients(x, y):\n",
    "        return x + y\n",
    " \n",
    "    def cook(self):\n",
    "        return self.mix_ingredients(self.cheese, self.vegetables)"
   ]
  },
  {
   "cell_type": "markdown",
   "metadata": {},
   "source": [
    "这个例子中，如果把mix_ingredients作为非静态方法同样可以运行，但是它要提供self参数，而这个参数在方法中根本不会被使用到。这里的@staticmethod装饰器可以给我们带来一些好处。"
   ]
  },
  {
   "cell_type": "markdown",
   "metadata": {},
   "source": [
    "### classmethod\n",
    "类方法不是绑定到对象上，而是绑定在类上的方法。"
   ]
  },
  {
   "cell_type": "code",
   "execution_count": 4,
   "metadata": {
    "collapsed": true
   },
   "outputs": [],
   "source": [
    "class Pizza(object):\n",
    "    radius = 42\n",
    "    \n",
    "    @classmethod\n",
    "    def get_radius(cls):\n",
    "        return cls.radius"
   ]
  },
  {
   "cell_type": "code",
   "execution_count": 5,
   "metadata": {
    "collapsed": false
   },
   "outputs": [
    {
     "data": {
      "text/plain": [
       "<bound method Pizza.get_radius of <class '__main__.Pizza'>>"
      ]
     },
     "execution_count": 5,
     "metadata": {},
     "output_type": "execute_result"
    }
   ],
   "source": [
    "Pizza.get_radius"
   ]
  },
  {
   "cell_type": "code",
   "execution_count": 6,
   "metadata": {
    "collapsed": false
   },
   "outputs": [
    {
     "data": {
      "text/plain": [
       "<bound method Pizza.get_radius of <class '__main__.Pizza'>>"
      ]
     },
     "execution_count": 6,
     "metadata": {},
     "output_type": "execute_result"
    }
   ],
   "source": [
    "Pizza().get_radius"
   ]
  },
  {
   "cell_type": "code",
   "execution_count": 7,
   "metadata": {
    "collapsed": false
   },
   "outputs": [
    {
     "data": {
      "text/plain": [
       "False"
      ]
     },
     "execution_count": 7,
     "metadata": {},
     "output_type": "execute_result"
    }
   ],
   "source": [
    "Pizza.get_radius is Pizza().get_radius"
   ]
  },
  {
   "cell_type": "code",
   "execution_count": 8,
   "metadata": {
    "collapsed": false
   },
   "outputs": [
    {
     "data": {
      "text/plain": [
       "42"
      ]
     },
     "execution_count": 8,
     "metadata": {},
     "output_type": "execute_result"
    }
   ],
   "source": [
    "Pizza.get_radius()"
   ]
  },
  {
   "cell_type": "code",
   "execution_count": 9,
   "metadata": {
    "collapsed": false
   },
   "outputs": [
    {
     "name": "stdout",
     "output_type": "stream",
     "text": [
      "2\n"
     ]
    }
   ],
   "source": [
    "def iget_no_of_instance(ins_obj):\n",
    "    return ins_obj.__class__.no_inst\n",
    "\n",
    "class Kls(object):\n",
    "    no_inst = 0\n",
    "\n",
    "    def __init__(self):\n",
    "        Kls.no_inst = Kls.no_inst + 1\n",
    "\n",
    "ik1 = Kls()\n",
    "ik2 = Kls()\n",
    "print(iget_no_of_instance(ik1))# 参数是实例对象"
   ]
  },
  {
   "cell_type": "markdown",
   "metadata": {},
   "source": [
    "在上面那个实现中，如果要实现不获取实例,需要修改如下:\n",
    "可以使用Python2.2引入的新特性，使用@classmethod在类代码中创建一个函数。"
   ]
  },
  {
   "cell_type": "code",
   "execution_count": 10,
   "metadata": {
    "collapsed": false
   },
   "outputs": [
    {
     "name": "stdout",
     "output_type": "stream",
     "text": [
      "2\n",
      "2\n"
     ]
    }
   ],
   "source": [
    "class Kls(object):\n",
    "    no_inst = 0\n",
    "\n",
    "    def __init__(self):\n",
    "        Kls.no_inst = Kls.no_inst + 1\n",
    "\n",
    "    @classmethod\n",
    "    def get_no_of_instance(cls_obj):\n",
    "        return cls_obj.no_inst\n",
    "\n",
    "ik1 = Kls()\n",
    "ik2 = Kls()\n",
    "\n",
    "print(ik1.get_no_of_instance())# 实例方法\n",
    "print(Kls.get_no_of_instance())# 类方法"
   ]
  }
 ],
 "metadata": {
  "kernelspec": {
   "display_name": "Python 3",
   "language": "python",
   "name": "python3"
  },
  "language_info": {
   "codemirror_mode": {
    "name": "ipython",
    "version": 3
   },
   "file_extension": ".py",
   "mimetype": "text/x-python",
   "name": "python",
   "nbconvert_exporter": "python",
   "pygments_lexer": "ipython3",
   "version": "3.6.0"
  }
 },
 "nbformat": 4,
 "nbformat_minor": 2
}
