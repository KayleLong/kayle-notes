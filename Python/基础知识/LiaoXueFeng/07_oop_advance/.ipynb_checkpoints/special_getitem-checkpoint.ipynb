{
 "cells": [
  {
   "cell_type": "markdown",
   "metadata": {},
   "source": [
    "``__iter__``作用于for..in循环，但是无法使用[index]这种索引方式来获取元素。<br>\n",
    "要表现得像list那样按照下标取出元素，需要实现``__getitem__``()方法。"
   ]
  },
  {
   "cell_type": "markdown",
   "metadata": {},
   "source": [
    "#### ``__getitem__()``方法，把对象视作list或dict来对集合取值。\n",
    "#### ``__setitem__()``方法，把对象视作list或dict来对集合赋值。\n",
    "#### ``__delitem__()``方法，用于删除某个元素。"
   ]
  },
  {
   "cell_type": "code",
   "execution_count": 1,
   "metadata": {
    "collapsed": true
   },
   "outputs": [],
   "source": [
    "#!/usr/bin/env python3\n",
    "# -*- coding: utf-8 -*-\n",
    "\n",
    "class Fib(object):\n",
    "\n",
    "    def __getitem__(self, n):# 可以传入一个参数，可能是一个int，也可能是一个切片对象slice\n",
    "        if isinstance(n, int):\n",
    "            a, b = 1, 1\n",
    "            for x in range(n):\n",
    "                a, b = b, a + b\n",
    "            return a\n",
    "        if isinstance(n, slice):# list的切片操作\n",
    "            start = n.start\n",
    "            stop = n.stop\n",
    "            if start is None:\n",
    "                start = 0\n",
    "            a, b = 1, 1\n",
    "            L = []\n",
    "            for x in range(stop):\n",
    "                if x >= start:\n",
    "                    L.append(a)\n",
    "                a, b = b, a + b\n",
    "            return L"
   ]
  },
  {
   "cell_type": "code",
   "execution_count": 2,
   "metadata": {
    "collapsed": false
   },
   "outputs": [
    {
     "name": "stdout",
     "output_type": "stream",
     "text": [
      "1\n",
      "8\n",
      "573147844013817084101\n",
      "[1, 1, 2, 3, 5]\n",
      "[1, 1, 2, 3, 5, 8, 13, 21, 34, 55]\n"
     ]
    }
   ],
   "source": [
    "f = Fib()\n",
    "print(f[0])\n",
    "print(f[5])\n",
    "print(f[100])\n",
    "print(f[0:5])\n",
    "print(f[:10])"
   ]
  },
  {
   "cell_type": "markdown",
   "metadata": {},
   "source": [
    "#### ``__getitem__``方法的一些说明：\n",
    "\n",
    "1. ``__getitem__`` 专用方法很简单。像普通的方法 clear，keys 和 values 一样，它只是重定向到字典，返回字典的值。\n",
    "2. 怎么调用``__getitem__``？你可以直接调用 ``__getitem__``，但是在实际中你其实不会那样做：我在这里执行它只是要告诉你它是如何工作的。正确地使用``__getitem__``的方法是让 Python 来替你调用。\n",
    "3. 这个看上去就像你用来得到一个字典值的语法，事实上它返回你期望的值。下面是隐藏起来的一个环节：暗地里Python 已经将这个语法转化为 ``f.__getitem__(\"name\")`` 的方法调用。这就是为什么 __getitem__ 是一个专用类方法的原因，不仅仅是你可以自已调用它，还可以通过使用正确的语法让 Python 来替你调用。"
   ]
  }
 ],
 "metadata": {
  "kernelspec": {
   "display_name": "Python 3",
   "language": "python",
   "name": "python3"
  },
  "language_info": {
   "codemirror_mode": {
    "name": "ipython",
    "version": 3
   },
   "file_extension": ".py",
   "mimetype": "text/x-python",
   "name": "python",
   "nbconvert_exporter": "python",
   "pygments_lexer": "ipython3",
   "version": "3.6.0"
  }
 },
 "nbformat": 4,
 "nbformat_minor": 2
}
