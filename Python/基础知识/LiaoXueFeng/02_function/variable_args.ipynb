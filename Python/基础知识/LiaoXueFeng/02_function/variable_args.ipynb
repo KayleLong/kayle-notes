{
 "cells": [
  {
   "cell_type": "code",
   "execution_count": 1,
   "metadata": {
    "collapsed": true
   },
   "outputs": [],
   "source": [
    "#!usr/bin/env python3\n",
    "#-*- coding: utf-8 -*-\n",
    "\n",
    "#计算a2 + b2 + c2 + ……。\n",
    "def calc(*numbers):\n",
    "    for i in numbers:\n",
    "        #类型检查\n",
    "        if not isinstance(i,(int,float)):\n",
    "            raise TypeError('bad poerand type',i)\n",
    "    \n",
    "    sum = 0\n",
    "    for i in numbers:\n",
    "        sum = sum + i*i\n",
    "    \n",
    "    return sum"
   ]
  },
  {
   "cell_type": "markdown",
   "metadata": {},
   "source": [
    "直接传入参数"
   ]
  },
  {
   "cell_type": "code",
   "execution_count": 2,
   "metadata": {
    "collapsed": false
   },
   "outputs": [
    {
     "data": {
      "text/plain": [
       "30"
      ]
     },
     "execution_count": 2,
     "metadata": {},
     "output_type": "execute_result"
    }
   ],
   "source": [
    "calc(1, 2, 3, 4)"
   ]
  },
  {
   "cell_type": "markdown",
   "metadata": {},
   "source": [
    "也可以传入0个参数"
   ]
  },
  {
   "cell_type": "code",
   "execution_count": 3,
   "metadata": {
    "collapsed": false
   },
   "outputs": [
    {
     "data": {
      "text/plain": [
       "0"
      ]
     },
     "execution_count": 3,
     "metadata": {},
     "output_type": "execute_result"
    }
   ],
   "source": [
    "calc()"
   ]
  },
  {
   "cell_type": "markdown",
   "metadata": {},
   "source": [
    "将一个list作为参数传递"
   ]
  },
  {
   "cell_type": "code",
   "execution_count": 4,
   "metadata": {
    "collapsed": false
   },
   "outputs": [
    {
     "data": {
      "text/plain": [
       "30"
      ]
     },
     "execution_count": 4,
     "metadata": {},
     "output_type": "execute_result"
    }
   ],
   "source": [
    "list_a = [1, 2, 3, 4]\n",
    "calc(*list_a)"
   ]
  },
  {
   "cell_type": "markdown",
   "metadata": {},
   "source": [
    "将一个tuple作为参数传递"
   ]
  },
  {
   "cell_type": "code",
   "execution_count": 5,
   "metadata": {
    "collapsed": false
   },
   "outputs": [
    {
     "data": {
      "text/plain": [
       "30"
      ]
     },
     "execution_count": 5,
     "metadata": {},
     "output_type": "execute_result"
    }
   ],
   "source": [
    "tuple_a = (1, 2, 3, 4)\n",
    "calc(*tuple_a)"
   ]
  },
  {
   "cell_type": "code",
   "execution_count": 6,
   "metadata": {
    "collapsed": true
   },
   "outputs": [],
   "source": [
    "#判断可变参数的参数数量，len()\n",
    "def get_team_info(*names):\n",
    "    #形参names 是一个tuple中的一个元素\n",
    "    #('Alan', 'Bob')\n",
    "    print(names)\n",
    "    print(len(names))\n",
    "    if(0 == len(names)):\n",
    "        print(\"The team is nobody.\")\n",
    "    elif(1 == len(names)):\n",
    "        print(\"The team is {f_name}\".format(f_name=names))\n",
    "    else:\n",
    "        print(\"The team are {f_names}\".format(f_names=names))"
   ]
  },
  {
   "cell_type": "code",
   "execution_count": 7,
   "metadata": {
    "collapsed": false
   },
   "outputs": [
    {
     "name": "stdout",
     "output_type": "stream",
     "text": [
      "()\n",
      "0\n",
      "The team is nobody.\n"
     ]
    }
   ],
   "source": [
    "team_a = []\n",
    "get_team_info(*team_a)"
   ]
  },
  {
   "cell_type": "code",
   "execution_count": 8,
   "metadata": {
    "collapsed": false
   },
   "outputs": [
    {
     "name": "stdout",
     "output_type": "stream",
     "text": [
      "('Alan',)\n",
      "1\n",
      "The team is ('Alan',)\n"
     ]
    }
   ],
   "source": [
    "team_b = ['Alan']\n",
    "get_team_info(*team_b)"
   ]
  },
  {
   "cell_type": "code",
   "execution_count": 9,
   "metadata": {
    "collapsed": false
   },
   "outputs": [
    {
     "name": "stdout",
     "output_type": "stream",
     "text": [
      "('Alan', 'Bob')\n",
      "2\n",
      "The team are ('Alan', 'Bob')\n"
     ]
    }
   ],
   "source": [
    "team_c = ['Alan', 'Bob']\n",
    "get_team_info(*team_c)"
   ]
  },
  {
   "cell_type": "code",
   "execution_count": 10,
   "metadata": {
    "collapsed": false
   },
   "outputs": [
    {
     "name": "stdout",
     "output_type": "stream",
     "text": [
      "('Alan', 'Bob')\n",
      "2\n",
      "The team are ('Alan', 'Bob')\n"
     ]
    }
   ],
   "source": [
    "team_d = ('Alan', 'Bob')\n",
    "get_team_info(*team_d)"
   ]
  }
 ],
 "metadata": {
  "kernelspec": {
   "display_name": "Python 3",
   "language": "python",
   "name": "python3"
  },
  "language_info": {
   "codemirror_mode": {
    "name": "ipython",
    "version": 3
   },
   "file_extension": ".py",
   "mimetype": "text/x-python",
   "name": "python",
   "nbconvert_exporter": "python",
   "pygments_lexer": "ipython3",
   "version": "3.4.5"
  }
 },
 "nbformat": 4,
 "nbformat_minor": 2
}
