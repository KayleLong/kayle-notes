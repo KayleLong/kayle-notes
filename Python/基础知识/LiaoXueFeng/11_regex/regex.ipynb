{
 "cells": [
  {
   "cell_type": "markdown",
   "metadata": {},
   "source": [
    "### 正则表达式(Regular Expression)是一种文本模式\n",
    "包括普通字符（例如，a 到 z 之间的字母）和特殊字符（称为\"元字符\" metacharacter）。<br>\n",
    "正则表达式使用单个字符串来描述、匹配一系列匹配某个句法规则的字符串。"
   ]
  },
  {
   "cell_type": "markdown",
   "metadata": {},
   "source": [
    "### Python提供re模块，包含所有正则表达式的功能"
   ]
  },
  {
   "cell_type": "markdown",
   "metadata": {},
   "source": [
    "#### 常用元字符\n",
    "\n",
    "|代码\t|说明|\n",
    "|-----|----|\n",
    "|.\t|匹配除换行符以外的任意字符|\n",
    "|\\w\t|匹配字母或数字或下划线或汉字|\n",
    "|\\s\t|匹配任意的空白符|\n",
    "|\\d\t|匹配数字|\n",
    "|\\b\t|匹配单词的开始或结束|\n",
    "|^\t|匹配字符串的开始|\n",
    "|$\t|匹配字符串的结束|"
   ]
  },
  {
   "cell_type": "markdown",
   "metadata": {},
   "source": [
    "#### 精确匹配\n",
    "要做更精确地匹配，可以用[]表示范围，比如：\n",
    "\n",
    "    [0-9a-zA-Z\\_]可以匹配一个数字、字母或者下划线；\n",
    "    [0-9a-zA-Z\\_]+可以匹配至少由一个数字、字母或者下划线组成的字符串，比如'a100'，'0_Z'，'Py3000'等等；\n",
    "    [a-zA-Z\\_][0-9a-zA-Z\\_]*可以匹配由字母或下划线开头，后接任意个由一个数字、字母或者下划线组成的字符串，也就是Python合法的变量；\n",
    "    [a-zA-Z\\_][0-9a-zA-Z\\_]{0, 19}更精确地限制了变量的长度是1-20个字符（前面1个字符+后面最多19个字符）。\n",
    "    \n",
    "    A|B可以匹配A或B，所以(P|p)ython可以匹配'Python'或者'python'。\n",
    "\n",
    "    ^表示行的开头，^\\d表示必须以数字开头。\n",
    "\n",
    "    $表示行的结束，\\d$表示必须以数字结束。"
   ]
  },
  {
   "cell_type": "markdown",
   "metadata": {},
   "source": [
    "#### 常用限定符\n",
    "\n",
    "|代码/语法\t|说明|\n",
    "|-----------|----|\n",
    "|\\*\t|匹配前面的子表达式重复零次或更多次|\n",
    "|+\t|匹配前面的子表达式重复一次或更多次|\n",
    "|?\t|匹配前面的子表达式重复零次或一次|\n",
    "|{n}\t|匹配前面的子表达式重复n次|\n",
    "|{n,}\t|匹配前面的子表达式重复n次或更多次|\n",
    "|{n,m}\t|匹配前面的子表达式重复n到m次|"
   ]
  },
  {
   "cell_type": "markdown",
   "metadata": {},
   "source": [
    "### 强烈建议使用Python的r前缀，就不用考虑转义的问题"
   ]
  },
  {
   "cell_type": "markdown",
   "metadata": {},
   "source": [
    "<br>\n",
    "#### re模块——匹配字符串"
   ]
  },
  {
   "cell_type": "code",
   "execution_count": 1,
   "metadata": {
    "collapsed": false
   },
   "outputs": [
    {
     "data": {
      "text/plain": [
       "<_sre.SRE_Match object; span=(0, 9), match='010-12345'>"
      ]
     },
     "execution_count": 1,
     "metadata": {},
     "output_type": "execute_result"
    }
   ],
   "source": [
    "#!use/bin/env python3\n",
    "# -*- coding: utf-8 -*-\n",
    "\n",
    "import re\n",
    "\n",
    "re.match(r'^\\d{3}\\-\\d{3,8}$', '010-12345')# match()方法判断是否匹配，如果匹配成功，返回一个Match对象，否则返回None"
   ]
  },
  {
   "cell_type": "markdown",
   "metadata": {},
   "source": [
    "#### 注:``\\d{3,8}``的{}中不能使用空格。\n",
    "``re.match(r'^\\d{3}\\-\\d{3, 8}$', '010-12345')``<br>\n",
    "返回None"
   ]
  },
  {
   "cell_type": "code",
   "execution_count": 2,
   "metadata": {
    "collapsed": true
   },
   "outputs": [],
   "source": [
    "re.match(r'^\\d{3}\\-\\d{3,8}$', '010 12345')# 匹配失败，返回None"
   ]
  },
  {
   "cell_type": "markdown",
   "metadata": {},
   "source": [
    "<br>\n",
    "#### re模块——切分字符串"
   ]
  },
  {
   "cell_type": "markdown",
   "metadata": {},
   "source": [
    "正则表达式来把不规范的输入转化成正确的数组。"
   ]
  },
  {
   "cell_type": "code",
   "execution_count": 3,
   "metadata": {
    "collapsed": false
   },
   "outputs": [
    {
     "data": {
      "text/plain": [
       "['a', 'b', '', '', 'c']"
      ]
     },
     "execution_count": 3,
     "metadata": {},
     "output_type": "execute_result"
    }
   ],
   "source": [
    "'a b   c'.split(' ')# 无法识别连续的空格"
   ]
  },
  {
   "cell_type": "code",
   "execution_count": 4,
   "metadata": {
    "collapsed": false
   },
   "outputs": [
    {
     "data": {
      "text/plain": [
       "['a', 'b', 'c']"
      ]
     },
     "execution_count": 4,
     "metadata": {},
     "output_type": "execute_result"
    }
   ],
   "source": [
    "re.split(r'\\s+', 'a b   c')"
   ]
  },
  {
   "cell_type": "code",
   "execution_count": 5,
   "metadata": {
    "collapsed": false
   },
   "outputs": [
    {
     "data": {
      "text/plain": [
       "['a', 'b', 'c']"
      ]
     },
     "execution_count": 5,
     "metadata": {},
     "output_type": "execute_result"
    }
   ],
   "source": [
    "re.split(r'[\\s\\,]+', 'a, b,    c')"
   ]
  },
  {
   "cell_type": "code",
   "execution_count": 6,
   "metadata": {
    "collapsed": false
   },
   "outputs": [
    {
     "data": {
      "text/plain": [
       "['a', 'b', 'c']"
      ]
     },
     "execution_count": 6,
     "metadata": {},
     "output_type": "execute_result"
    }
   ],
   "source": [
    "re.split(r'[\\s\\,\\;]+', 'a;;b,,      c')"
   ]
  },
  {
   "cell_type": "markdown",
   "metadata": {},
   "source": [
    "<br>\n",
    "#### re模块——分组\n",
    "group()提取分组"
   ]
  },
  {
   "cell_type": "code",
   "execution_count": 7,
   "metadata": {
    "collapsed": false
   },
   "outputs": [
    {
     "data": {
      "text/plain": [
       "<_sre.SRE_Match object; span=(0, 9), match='010-12345'>"
      ]
     },
     "execution_count": 7,
     "metadata": {},
     "output_type": "execute_result"
    }
   ],
   "source": [
    "m = re.match(r'(\\d{3})-(\\d{3,8})$', '010-12345')# 在正则表达式中加()来表示的就是要提取的分组，例如：(\\d{3}) 和 (\\d{3,8})\n",
    "m"
   ]
  },
  {
   "cell_type": "code",
   "execution_count": 8,
   "metadata": {
    "collapsed": false
   },
   "outputs": [
    {
     "data": {
      "text/plain": [
       "'010-12345'"
      ]
     },
     "execution_count": 8,
     "metadata": {},
     "output_type": "execute_result"
    }
   ],
   "source": [
    "m.group(0)# 永远表示字符串本身"
   ]
  },
  {
   "cell_type": "code",
   "execution_count": 9,
   "metadata": {
    "collapsed": false
   },
   "outputs": [
    {
     "data": {
      "text/plain": [
       "'010'"
      ]
     },
     "execution_count": 9,
     "metadata": {},
     "output_type": "execute_result"
    }
   ],
   "source": [
    "m.group(1)"
   ]
  },
  {
   "cell_type": "code",
   "execution_count": 10,
   "metadata": {
    "collapsed": false
   },
   "outputs": [
    {
     "data": {
      "text/plain": [
       "'12345'"
      ]
     },
     "execution_count": 10,
     "metadata": {},
     "output_type": "execute_result"
    }
   ],
   "source": [
    "m.group(2)"
   ]
  },
  {
   "cell_type": "markdown",
   "metadata": {},
   "source": [
    "<br>\n",
    "#### re模块——贪婪匹配\n",
    "正则匹配默认是贪婪匹配，也就是匹配尽可能多的字符"
   ]
  },
  {
   "cell_type": "code",
   "execution_count": 11,
   "metadata": {
    "collapsed": false
   },
   "outputs": [
    {
     "data": {
      "text/plain": [
       "('123000', '')"
      ]
     },
     "execution_count": 11,
     "metadata": {},
     "output_type": "execute_result"
    }
   ],
   "source": [
    "re.match(r'(\\d+)(0*)$', '123000').groups()"
   ]
  },
  {
   "cell_type": "markdown",
   "metadata": {},
   "source": [
    "由于\\d+采用贪婪匹配，直接把后面的0全部匹配了，结果0\\*只能匹配空字符串了。<br><br>\n",
    "加个?就可以让\\d+采用非贪婪匹配："
   ]
  },
  {
   "cell_type": "code",
   "execution_count": 12,
   "metadata": {
    "collapsed": false
   },
   "outputs": [
    {
     "data": {
      "text/plain": [
       "('123', '000')"
      ]
     },
     "execution_count": 12,
     "metadata": {},
     "output_type": "execute_result"
    }
   ],
   "source": [
    "re.match(r'(\\d+?)(0*)$', '123000').groups()"
   ]
  },
  {
   "cell_type": "markdown",
   "metadata": {},
   "source": [
    "<br>\n",
    "#### re模块——编译\n",
    "当我们在Python中使用正则表达式时，re模块内部会干两件事情：\n",
    "\n",
    "1. 编译正则表达式，如果正则表达式的字符串本身不合法，会报错；\n",
    "2. 用编译后的正则表达式去匹配字符串。"
   ]
  },
  {
   "cell_type": "code",
   "execution_count": 13,
   "metadata": {
    "collapsed": false
   },
   "outputs": [
    {
     "data": {
      "text/plain": [
       "('010', '12345')"
      ]
     },
     "execution_count": 13,
     "metadata": {},
     "output_type": "execute_result"
    }
   ],
   "source": [
    "import re\n",
    "\n",
    "re_telephone = re.compile(r'^(\\d{3})-(\\d{3,8})$')\n",
    "re_telephone.match('010-12345').groups()"
   ]
  },
  {
   "cell_type": "code",
   "execution_count": 14,
   "metadata": {
    "collapsed": false
   },
   "outputs": [
    {
     "data": {
      "text/plain": [
       "('020', '33020')"
      ]
     },
     "execution_count": 14,
     "metadata": {},
     "output_type": "execute_result"
    }
   ],
   "source": [
    "re_telephone.match('020-33020').groups()"
   ]
  },
  {
   "cell_type": "markdown",
   "metadata": {},
   "source": [
    "### re模块方法\n",
    "#### RegexObject 实例的一些常见方法\n",
    "\n",
    "|方法|说明|参数说明|\n",
    "|----|----|--------|\n",
    "|compile(pattern, flag=0)|生成正则表达式对象|pattern描述正则表达式的字符串，flag专门为需要这一项参数提供一个特殊的标示(不重要的细节，下同)|\n",
    "|math(pattern, string, flag=0)|检查string是否存在一个与pattern匹配的前缀|string目标字符串|\n",
    "|search(pattern, string, flag=0)|在string里检索与pattern匹配的字符串||\n",
    "|split(pattern, string, maxsplit=0, flags=0)|以pattern作为分割串将string分割|maxsplit指明最大分割数，默认参数为0，表示处理完整个string|\n",
    "|findall(pattern, string, flag=0)|找到RE匹配的所有子串，并把它们作为一个列表返回||\n",
    "|finditer(pattern, string, flag=0)|找到RE匹配的所有子串，并把它们作为一个迭代器返回|如果sting只是常规字符，这种匹配模式的价值不大|\n",
    "\n",
    "在 re 模块中， re.match 和 re.search 是常用的两个方法：\n",
    "```\n",
    "re.match(pattern, string[, flags])\n",
    "re.search(pattern, string[, flags])\n",
    "```\n",
    "如果没有匹配成功的话，match()和search()将返回None。\n",
    "如果匹配成功的话，就会返回一个'MatchObject'实例。\n",
    "\n",
    "\n",
    "#### MatchObject 实例方法\n",
    "\n",
    "|方法|说明|\n",
    "|----|----|\n",
    "|group()|返回RE匹配的字符串|\n",
    "|start()|返回RE匹配开始的位置|\n",
    "|end()|返回RE匹配结束的位置|\n",
    "|span()|返回一个元组，包含RE匹配(开始，结束)的位置|"
   ]
  }
 ],
 "metadata": {
  "kernelspec": {
   "display_name": "Python 3",
   "language": "python",
   "name": "python3"
  },
  "language_info": {
   "codemirror_mode": {
    "name": "ipython",
    "version": 3
   },
   "file_extension": ".py",
   "mimetype": "text/x-python",
   "name": "python",
   "nbconvert_exporter": "python",
   "pygments_lexer": "ipython3",
   "version": "3.4.5"
  }
 },
 "nbformat": 4,
 "nbformat_minor": 2
}
