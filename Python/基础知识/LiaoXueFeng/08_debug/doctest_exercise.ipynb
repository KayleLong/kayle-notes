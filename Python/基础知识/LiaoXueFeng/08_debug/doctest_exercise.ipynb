{
 "cells": [
  {
   "cell_type": "markdown",
   "metadata": {},
   "source": [
    "对函数fact(n)编写doctest并执行："
   ]
  },
  {
   "cell_type": "markdown",
   "metadata": {},
   "source": [
    "```\n",
    "#!usr/bin/env python3\n",
    "\n",
    "def fact(n):\n",
    "    '''\n",
    "    \n",
    "    '''\n",
    "    if n < 1:\n",
    "        raise ValueError()\n",
    "    if n == 1:\n",
    "        return 1\n",
    "    return n * fact(n - 1)\n",
    "if __name__ == '__main__':\n",
    "    import doctest\n",
    "    doctest.testmod()\n",
    "```"
   ]
  },
  {
   "cell_type": "code",
   "execution_count": 1,
   "metadata": {
    "collapsed": false
   },
   "outputs": [],
   "source": [
    "#!usr/bin/env python3\n",
    "# -*- coding: utf-8 -*-\n",
    "\n",
    "def fact(n):\n",
    "    '''\n",
    "    >>> fact(0)# 注意'>>>' 后面必须要有一个空格\n",
    "    Traceback (most recent call last):\n",
    "        ...\n",
    "    ValueError\n",
    "    >>> fact(1)\n",
    "    1\n",
    "    >>> fact(2)\n",
    "    2\n",
    "    >>> fact(3)\n",
    "    6\n",
    "    >>> fact('a')\n",
    "    Traceback (most recent call last):\n",
    "        ...\n",
    "    TypeError: '<' not supported between instances of 'str' and 'int'\n",
    "    '''\n",
    "    \n",
    "    if n < 1:\n",
    "        raise ValueError()\n",
    "    if n == 1:\n",
    "        return 1\n",
    "    return n * fact(n - 1)\n",
    "\n",
    "if __name__ == '__main__':# 在Jupyter 中运行会出错。需要在控制台下运行\n",
    "    import doctest\n",
    "    doctest.testmod()"
   ]
  },
  {
   "cell_type": "markdown",
   "metadata": {},
   "source": [
    "#### 在控制台下运行dict.py的结果\n",
    "```\n",
    "λ python dict.py\n",
    "**********************************************************************\n",
    "File \"dict.py\", line 16, in __main__.fact\n",
    "Failed example:\n",
    "    fact('a')\n",
    "Expected:\n",
    "    Traceback (most recent call last):\n",
    "        ...\n",
    "    TypeError: '<' not supported between instances of 'str' and 'int'\n",
    "Got:\n",
    "    Traceback (most recent call last):\n",
    "      File \"C:\\Python27\\lib\\doctest.py\", line 1315, in __run\n",
    "        compileflags, 1) in test.globs\n",
    "      File \"<doctest __main__.fact[4]>\", line 1, in <module>\n",
    "        fact('a')\n",
    "      File \"dict.py\", line 26, in fact\n",
    "        return n * fact(n - 1)\n",
    "    TypeError: unsupported operand type(s) for -: 'str' and 'int'\n",
    "**********************************************************************\n",
    "1 items had failures:\n",
    "   1 of   5 in __main__.fact\n",
    "***Test Failed*** 1 failures.\n",
    "```"
   ]
  }
 ],
 "metadata": {
  "kernelspec": {
   "display_name": "Python 3",
   "language": "python",
   "name": "python3"
  },
  "language_info": {
   "codemirror_mode": {
    "name": "ipython",
    "version": 3
   },
   "file_extension": ".py",
   "mimetype": "text/x-python",
   "name": "python",
   "nbconvert_exporter": "python",
   "pygments_lexer": "ipython3",
   "version": "3.4.5"
  }
 },
 "nbformat": 4,
 "nbformat_minor": 2
}
