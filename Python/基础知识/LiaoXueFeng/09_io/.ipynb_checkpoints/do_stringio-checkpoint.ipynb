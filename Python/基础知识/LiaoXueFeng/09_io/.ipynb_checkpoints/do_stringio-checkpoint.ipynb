{
 "cells": [
  {
   "cell_type": "markdown",
   "metadata": {},
   "source": [
    "### StringIO用于在内存中读写str。\n",
    "\n",
    "要把str写入StringIO，我们需要先创建一个StringIO对象，然后，像文件一样写入即可。"
   ]
  },
  {
   "cell_type": "code",
   "execution_count": 10,
   "metadata": {
    "collapsed": false
   },
   "outputs": [
    {
     "name": "stdout",
     "output_type": "stream",
     "text": [
      "hello world!\n",
      "\n",
      "<class 'str'>\n",
      "{ \"keys\": [\"ctrl+x\"], \"command\": \"cut\" },\n",
      "<class 'str'>\n",
      "{\"keys\": [\"ctrl+c\"], \"command\": \"copy\"},\n",
      "<class 'str'>\n",
      "{\"keys\": [\"ctrl+v\"], \"command\": \"paste\"}\n",
      "\n",
      "\n",
      "\n",
      "<class 'list'>\n",
      "['{ \"keys\": [\"ctrl+x\"], \"command\": \"cut\" },\\n', ' {\"keys\": [\"ctrl+c\"], \"command\": \"copy\"},\\n', ' {\"keys\": [\"ctrl+v\"], \"command\": \"paste\"}']\n",
      "{ \"keys\": [\"ctrl+x\"], \"command\": \"cut\" },\n",
      "\n",
      " {\"keys\": [\"ctrl+c\"], \"command\": \"copy\"},\n",
      "\n",
      " {\"keys\": [\"ctrl+v\"], \"command\": \"paste\"}\n"
     ]
    }
   ],
   "source": [
    "#!/usr/bin/env python3\n",
    "# -*- coding: utf-8 -*-\n",
    "\n",
    "from io import StringIO\n",
    "\n",
    "# write to StringIO:\n",
    "f = StringIO()\n",
    "f.write('hello')\n",
    "f.write(' ')\n",
    "f.write('world!')\n",
    "print(f.getvalue() + '\\n')# getvalue()方法用于获得写入后的str\n",
    "\n",
    "# read from StringIO:\n",
    "f = StringIO('{\"keys\": [\"ctrl+x\"], \"command\": \"cut\" },\\n {\"keys\": [\"ctrl+c\"], \"command\": \"copy\"},\\n {\"keys\": [\"ctrl+v\"], \"command\": \"paste\"}')\n",
    "while True:\n",
    "    sline = f.readline()# 调用readline()可以每次读取一行内容返回string，调用readlines()一次读取所有内容并按行返回list    \n",
    "    if sline == '':\n",
    "        break\n",
    "    print(type(sline))\n",
    "    print(sline.strip())# 把末尾的'\\n'删掉\n",
    "print('\\n\\n')    \n",
    "    \n",
    "fs = StringIO('{\"keys\": [\"ctrl+x\"], \"command\": \"cut\" },\\n {\"keys\": [\"ctrl+c\"], \"command\": \"copy\"},\\n {\"keys\": [\"ctrl+v\"], \"command\": \"paste\"}')\n",
    "slines = fs.readlines()\n",
    "print(type(slines))\n",
    "print(slines)\n",
    "for s in slines:\n",
    "    print(s)"
   ]
  },
  {
   "cell_type": "markdown",
   "metadata": {},
   "source": [
    "如果文件很小，read()一次性读取最方便；如果不能确定文件大小，反复调用read(size)比较保险；如果是配置文件，调用readlines()最方便"
   ]
  }
 ],
 "metadata": {
  "kernelspec": {
   "display_name": "Python 3",
   "language": "python",
   "name": "python3"
  },
  "language_info": {
   "codemirror_mode": {
    "name": "ipython",
    "version": 3
   },
   "file_extension": ".py",
   "mimetype": "text/x-python",
   "name": "python",
   "nbconvert_exporter": "python",
   "pygments_lexer": "ipython3",
   "version": "3.6.0"
  }
 },
 "nbformat": 4,
 "nbformat_minor": 2
}
