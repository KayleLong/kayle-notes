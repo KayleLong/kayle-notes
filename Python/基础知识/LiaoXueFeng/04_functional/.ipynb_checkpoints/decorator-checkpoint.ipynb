{
 "cells": [
  {
   "cell_type": "markdown",
   "metadata": {},
   "source": [
    "参考链接：<br>\n",
    "https://www.zhihu.com/question/25950466<br>\n",
    "https://foofish.net/decorator.html\n",
    "\n",
    "### Python的装饰器的英文名叫Decorator。\n",
    "#### 装饰器是对一个已有的模块做一些“修饰工作”，所谓修饰工作就是想给现有的模块加上一些小装饰（一些小功能，这些小功能可能好多模块都会用到），但又不让这个小装饰（小功能）侵入到原有的模块中的代码里去。\n",
    "\n",
    "### 装饰器本质上是一个 Python 函数或类。\n",
    "装饰器可以让其他函数或类在不需要做任何代码修改的前提下增加额外功能，装饰器的返回值也是一个函数/类对象。它经常用于有切面需求的场景，比如：插入日志、性能测试、事务处理、缓存、权限校验等场景，装饰器是解决这类问题的绝佳设计。有了装饰器，我们就可以抽离出大量与函数功能本身无关的雷同代码到装饰器中并继续重用。概括的讲，装饰器的作用就是为已经存在的对象添加额外的功能。"
   ]
  },
  {
   "cell_type": "code",
   "execution_count": 1,
   "metadata": {
    "collapsed": false
   },
   "outputs": [
    {
     "name": "stdout",
     "output_type": "stream",
     "text": [
      "this is now\n"
     ]
    }
   ],
   "source": [
    "def now():\n",
    "    print('this is now')\n",
    "    \n",
    "now()"
   ]
  },
  {
   "cell_type": "markdown",
   "metadata": {},
   "source": [
    "假设我们要增强 now()函数的功能，比如，在函数调用前后自动打印日志，但又不希望修改 now()函数的定义。我们可以定义一个log()函数，在将now做为参数传递给log()。"
   ]
  },
  {
   "cell_type": "code",
   "execution_count": 2,
   "metadata": {
    "collapsed": false
   },
   "outputs": [
    {
     "name": "stdout",
     "output_type": "stream",
     "text": [
      "debin now()\n",
      "this is now\n"
     ]
    }
   ],
   "source": [
    "def log(func):\n",
    "    print('debin %s()' % func.__name__)\n",
    "    return func()\n",
    "    \n",
    "def now():\n",
    "    print('this is now')\n",
    "\n",
    "log(now)"
   ]
  },
  {
   "cell_type": "markdown",
   "metadata": {},
   "source": [
    "当now1()、now2()、now3()等函数都需要增加一个打印日志的功能，可以通过定义调用一个公共函数log()来实现。"
   ]
  },
  {
   "cell_type": "code",
   "execution_count": 3,
   "metadata": {
    "collapsed": false
   },
   "outputs": [
    {
     "name": "stdout",
     "output_type": "stream",
     "text": [
      "debin now()\n",
      "this is now\n",
      "debin now1()\n",
      "this is now1\n",
      "debin now2()\n",
      "this is now2\n"
     ]
    }
   ],
   "source": [
    "def log(func):\n",
    "    print('debin %s()' % func.__name__)\n",
    "    return func()\n",
    "    \n",
    "def now():\n",
    "    print('this is now')\n",
    "\n",
    "log(now)# 原本的业务代码为now()\n",
    "\n",
    "def now1():\n",
    "    print('this is now1')\n",
    "\n",
    "log(now1)\n",
    "\n",
    "def now2():\n",
    "    print('this is now2')\n",
    "\n",
    "log(now2)"
   ]
  },
  {
   "cell_type": "markdown",
   "metadata": {},
   "source": [
    "这时候虽然有一个公共的log()函数可以被调用，但是需要在每个人增加log功能的函数后面增加一个log(nowx)。这种方式不仅有些麻烦，而且这种方式已经破坏了原有的代码逻辑结构，之前执行业务逻辑时，执行运行now()，但是现在不得不改成log(now)。"
   ]
  },
  {
   "cell_type": "markdown",
   "metadata": {},
   "source": [
    "那么有没有更好的方式的呢？当然有，答案就是装饰器。"
   ]
  },
  {
   "cell_type": "markdown",
   "metadata": {},
   "source": [
    "#### 先看一个简单的装饰器："
   ]
  },
  {
   "cell_type": "code",
   "execution_count": 5,
   "metadata": {
    "collapsed": false
   },
   "outputs": [
    {
     "name": "stdout",
     "output_type": "stream",
     "text": [
      "debin now()\n",
      "this is now\n",
      "\n",
      "debin now1()\n",
      "this is now1\n",
      "\n",
      "debin now2()\n",
      "this is now2\n",
      "\n"
     ]
    }
   ],
   "source": [
    "def log(func):\n",
    "    def wrapper(*args, **kw):\n",
    "        print('debin %s()' % func.__name__)\n",
    "        return func(*args)\n",
    "    return wrapper\n",
    "\n",
    "def now():\n",
    "    print('this is now\\n')\n",
    "\n",
    "now = log(now)\n",
    "now()# 保留了原本的业务代码now()，只是增加了now = log(now)\n",
    "\n",
    "def now1():\n",
    "    print('this is now1\\n')\n",
    "\n",
    "now1 = log(now1)\n",
    "now1()\n",
    "\n",
    "def now2():\n",
    "    print('this is now2\\n')\n",
    "    \n",
    "now2 = log(now2)\n",
    "now2()"
   ]
  },
  {
   "cell_type": "markdown",
   "metadata": {},
   "source": [
    "函数log就是装饰器，它把真正的业务方法func包裹在函数里面，看起来像now被log装饰了。"
   ]
  },
  {
   "cell_type": "markdown",
   "metadata": {},
   "source": [
    "#### 在Python中，可以使用”@”语法糖来精简装饰器的代码。<br>\n",
    "使用了”@”语法糖后，我们就不需要额外代码来给”myfunc”重新赋值了，其实**”@deco”的本质就是”myfunc = deco(myfunc)”**<br>\n",
    "参数用(args, *kwargs)，只是自动适应变参和命名参数。"
   ]
  },
  {
   "cell_type": "code",
   "execution_count": 7,
   "metadata": {
    "collapsed": false
   },
   "outputs": [
    {
     "name": "stdout",
     "output_type": "stream",
     "text": [
      "debin now()\n",
      "this is now\n",
      "\n",
      "debin now1()\n",
      "this is now1\n",
      "\n",
      "debin now2()\n",
      "this is now2\n",
      "\n"
     ]
    }
   ],
   "source": [
    "#!usr/bin/env python3\n",
    "#-*- coding: utf-8 -*-\n",
    "\n",
    "def log(func):\n",
    "    def wrapper(*args, **kw):\n",
    "        print('debin %s()' % func.__name__)\n",
    "        return func(*args)\n",
    "    return wrapper\n",
    "\n",
    "@log\n",
    "def now():\n",
    "    print('this is now\\n')\n",
    "\n",
    "now()\n",
    "\n",
    "@log\n",
    "def now1():\n",
    "    print('this is now1\\n')\n",
    "\n",
    "now1()\n",
    "\n",
    "@log\n",
    "def now2():\n",
    "    print('this is now2\\n')\n",
    "\n",
    "now2()"
   ]
  },
  {
   "cell_type": "markdown",
   "metadata": {},
   "source": [
    "如果 decorator 本身需要传入参数，那就需要编写一个返回 decorator 的高阶函数，写出来会更复杂。"
   ]
  },
  {
   "cell_type": "code",
   "execution_count": 6,
   "metadata": {
    "collapsed": false
   },
   "outputs": [
    {
     "name": "stdout",
     "output_type": "stream",
     "text": [
      "execute now():\n",
      "2017.06.27\n"
     ]
    }
   ],
   "source": [
    "def log(text):\n",
    "    def decorator(func):\n",
    "        def wrapper(*args, **kw):\n",
    "            print('%s %s():'% (text, func.__name__))\n",
    "            return func(*args, **kw)\n",
    "        return wrapper\n",
    "    return decorator\n",
    "\n",
    "@log('execute')\n",
    "def now():\n",
    "    print('2017.06.27')\n",
    "    \n",
    "now()"
   ]
  },
  {
   "cell_type": "markdown",
   "metadata": {},
   "source": [
    "上面的程序，首先执行log('execute')，返回的是decorator函数，再调用返回的函数，参数是now函数，返回值最终是wrapper函数。<br>\n",
    "因为最终返回了wrapper函数，所以now.`__name__`的值为'wrapper'。"
   ]
  },
  {
   "cell_type": "code",
   "execution_count": 7,
   "metadata": {
    "collapsed": false
   },
   "outputs": [
    {
     "name": "stdout",
     "output_type": "stream",
     "text": [
      "DEBUG today():\n",
      "2015-3-25\n",
      "today\n"
     ]
    }
   ],
   "source": [
    "import functools\n",
    "\n",
    "def logger(text):\n",
    "    def decorator(func):#func=today\n",
    "        @functools.wraps(func)\n",
    "        def wrapper(*args, **kw):\n",
    "            print('%s %s():' % (text, func.__name__))\n",
    "            return func(*args, **kw)\n",
    "        return wrapper\n",
    "    return decorator\n",
    "\n",
    "@logger('DEBUG')# today = logger('DEBUG')(today)\n",
    "def today():\n",
    "    print('2015-3-25')\n",
    "\n",
    "today()\n",
    "print(today.__name__)"
   ]
  },
  {
   "cell_type": "markdown",
   "metadata": {},
   "source": [
    "### 装饰器的简单理解\n",
    "有一个原始函数A，现在想要加上额外的功能，但是又不想破外本身代码。<br>\n",
    "![image](https://sfault-image.b0.upaiyun.com/229/477/2294779212-595c870d264bd_articlex)\n",
    "这个函数B是自带其他功能的。然后把函数A，当作一个函数B的参数，直接扔进去，结果就变成了:<br>\n",
    "![image](https://sfault-image.b0.upaiyun.com/131/373/1313734609-595c99bd8f509_articlex)\n",
    "然后最终把这个加上壳的函数A，重新再赋值给函数A如图：<br>\n",
    "![image](https://sfault-image.b0.upaiyun.com/157/455/1574553280-595c9a7c9d9ce_articlex)\n",
    "于是最终，最初的原始函数A，就变成了一个加了外壳新功能的函数A,这个就是装饰器,一件功能更齐全的外壳。\n",
    "### 装饰器在Python使用如此方便都要归因于Python的函数能像普通的对象一样能作为参数传递给其他函数，可以被赋值给其他变量，可以作为返回值，可以被定义在另外一个函数内。"
   ]
  }
 ],
 "metadata": {
  "kernelspec": {
   "display_name": "Python 3",
   "language": "python",
   "name": "python3"
  },
  "language_info": {
   "codemirror_mode": {
    "name": "ipython",
    "version": 3
   },
   "file_extension": ".py",
   "mimetype": "text/x-python",
   "name": "python",
   "nbconvert_exporter": "python",
   "pygments_lexer": "ipython3",
   "version": "3.6.0"
  }
 },
 "nbformat": 4,
 "nbformat_minor": 2
}
