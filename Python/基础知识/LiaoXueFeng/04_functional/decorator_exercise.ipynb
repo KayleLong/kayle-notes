{
 "cells": [
  {
   "cell_type": "markdown",
   "metadata": {},
   "source": [
    "#### 请编写一个 decorator，能在函数调用的前后打印出'begin call'和'end call'的日志。"
   ]
  },
  {
   "cell_type": "code",
   "execution_count": 1,
   "metadata": {
    "collapsed": false
   },
   "outputs": [
    {
     "name": "stdout",
     "output_type": "stream",
     "text": [
      "begin call\n",
      "2017.06.27\n",
      "end call\n"
     ]
    }
   ],
   "source": [
    "#!usr/bin/env python3\n",
    "#-*- coding: utf-8 -*-\n",
    "\n",
    "def log(func):\n",
    "    def decorator(*args, **kw):\n",
    "        print('begin call')\n",
    "        func(*args, **kw)# not 'return func(*args, **kw)'\n",
    "        print('end call')\n",
    "    return decorator\n",
    "\n",
    "@log\n",
    "def now():\n",
    "    print('2017.06.27')\n",
    "    \n",
    "now()"
   ]
  },
  {
   "cell_type": "markdown",
   "metadata": {},
   "source": [
    "#### 写出一个@log的decorator，使它既支持：\n",
    "```\n",
    "@log\n",
    "def f():\n",
    "    pass\n",
    "```\n",
    "#### 又支持\n",
    "```\n",
    "@log('execute')\n",
    "def f():\n",
    "    pass\n",
    "```"
   ]
  },
  {
   "cell_type": "markdown",
   "metadata": {},
   "source": [
    "这个问题，实际就是：多个函数拥有不同的参数形式，怎么共用同样的装饰器？在Python中，函数可以支持(*args, **kwargs)可变参数，所以装饰器可以通过可变参数形式来实现内嵌函数的签名。"
   ]
  },
  {
   "cell_type": "code",
   "execution_count": 4,
   "metadata": {
    "collapsed": false
   },
   "outputs": [
    {
     "name": "stdout",
     "output_type": "stream",
     "text": [
      "Begin Call time():\n",
      "19:32:20\n",
      "End Call time():\n",
      "Begin Execute date():\n",
      "2017-06-27\n",
      "End Execute date():\n"
     ]
    }
   ],
   "source": [
    "#!usr/bin/env python3\n",
    "#-*- coding: utf-8 -*-\n",
    "\n",
    "import functools\n",
    "\n",
    "def log(text = None):\n",
    "    if isinstance(text, str):# 可变参数中含有str类型的参数\n",
    "        def decorator(func):\n",
    "            @functools.wraps(func)\n",
    "            def wrapper(*args, **kw):\n",
    "                print('Begin %s %s():' %(text, func.__name__))\n",
    "                func(*args, **kw)\n",
    "                print('End %s %s():' %(text, func.__name__))\n",
    "            return wrapper\n",
    "        return decorator\n",
    "    else:\n",
    "        @functools.wraps(text)\n",
    "        def wrapper(*args, **kw):\n",
    "            print('Begin Call %s():' %(text.__name__))\n",
    "            text(*args,**kw)\n",
    "            print('End Call %s():' %(text.__name__))\n",
    "        return wrapper\n",
    "\n",
    "@log\n",
    "def time():\n",
    "    print('19:32:20')\n",
    "\n",
    "@log('Execute')\n",
    "def date():\n",
    "    print('2017-06-27')\n",
    "\n",
    "time()\n",
    "date()"
   ]
  }
 ],
 "metadata": {
  "kernelspec": {
   "display_name": "Python 3",
   "language": "python",
   "name": "python3"
  },
  "language_info": {
   "codemirror_mode": {
    "name": "ipython",
    "version": 3
   },
   "file_extension": ".py",
   "mimetype": "text/x-python",
   "name": "python",
   "nbconvert_exporter": "python",
   "pygments_lexer": "ipython3",
   "version": "3.6.0"
  }
 },
 "nbformat": 4,
 "nbformat_minor": 2
}
