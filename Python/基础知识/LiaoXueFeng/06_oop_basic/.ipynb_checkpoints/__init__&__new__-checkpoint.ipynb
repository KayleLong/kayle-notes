{
 "cells": [
  {
   "cell_type": "markdown",
   "metadata": {},
   "source": [
    "参考链接：http://www.ynpxrz.com/n685992c2025.aspx\n",
    "\n",
    "### Python中``__init__``和``__new__``的区别"
   ]
  },
  {
   "cell_type": "markdown",
   "metadata": {},
   "source": [
    "``__init__`` 方法通常用在初始化一个类实例的时候。<br>\n",
    "**构造函数**"
   ]
  },
  {
   "cell_type": "code",
   "execution_count": 1,
   "metadata": {
    "collapsed": false
   },
   "outputs": [
    {
     "name": "stdout",
     "output_type": "stream",
     "text": [
      "<Person: piglei(24)>\n"
     ]
    }
   ],
   "source": [
    "# !/usr/bin/env python3\n",
    "# -*- coding: utf-8 -*-\n",
    "\n",
    "class Person(object):\n",
    "    \n",
    "    \"\"\"Silly Person\"\"\"\n",
    "    \n",
    "    def __init__(self, name, age):#  称为构造方法，在类创建对象时自动执行\n",
    "        self.name = name\n",
    "        self.age = age\n",
    "        \n",
    "    def __str__(self):\n",
    "        return '<Person: %s(%s)>' % (self.name, self.age)\n",
    "\n",
    "piglei = Person('piglei', 24)# 将piglei 和 24 分别封装到 piglei 的name 和 age 属性中\n",
    "print(piglei)"
   ]
  },
  {
   "cell_type": "markdown",
   "metadata": {},
   "source": [
    "这样便是``__init__``最普通的用法了。但``__init__``其实不是实例化一个类的时候第一个被调用的方法。<br>\n",
    "当使用 Persion(name, age) 这样的表达式来实例化一个类时，最先被调用的方法 其实是``__new__``方法。"
   ]
  },
  {
   "cell_type": "markdown",
   "metadata": {},
   "source": [
    "``__new__``方法接受的参数虽然也是和``__init__``一样，但``__init__``是在类实例创建之后调用，而 ``__new__``方法正是创建这个类实例的方法。"
   ]
  },
  {
   "cell_type": "code",
   "execution_count": 5,
   "metadata": {
    "collapsed": false
   },
   "outputs": [
    {
     "name": "stdout",
     "output_type": "stream",
     "text": [
      "__new__ called.\n",
      "__init__ called.\n",
      "<Person: piglei(24)>\n"
     ]
    },
    {
     "name": "stderr",
     "output_type": "stream",
     "text": [
      "C:\\Anaconda3\\envs\\py27\\lib\\site-packages\\ipykernel_launcher.py:9: DeprecationWarning: object() takes no parameters\n",
      "  if __name__ == '__main__':\n"
     ]
    }
   ],
   "source": [
    "# -*- coding: utf-8 -*-\n",
    "\n",
    "class Person(object):\n",
    "    \n",
    "    \"\"\"Silly Person\"\"\"\n",
    "    \n",
    "    def __new__(cls, name, age):\n",
    "        print'__new__ called.'\n",
    "        return super(Person, cls).__new__(cls, name, age)\n",
    "    \n",
    "    def __init__(self, name, age):\n",
    "        print'__init__ called.'\n",
    "        self.name = name\n",
    "        self.age = age\n",
    "        \n",
    "    def __str__(self):\n",
    "        return '<Person: %s(%s)>' % (self.name, self.age)\n",
    "\n",
    "if __name__ == '__main__':\n",
    "    piglei = Person('piglei', 24)\n",
    "    print(piglei)"
   ]
  },
  {
   "cell_type": "markdown",
   "metadata": {},
   "source": [
    "通过运行这段代码，我们可以看到，``__new__``方法的调用是发生在``__init__``之前的。其实当 你实例化一个类的时候，具体的执行逻辑是这样的：\n",
    "\n",
    "1.p = Person(name, age)\n",
    "\n",
    "2.首先执行使用name和age参数来执行Person类的``__new__``方法，这个``__new__``方法会 返回Person类的一个实例（通常情况下是使用 ``super(Persion, cls).__new__(cls, ... ...) ``这样的方式）\n",
    "\n",
    "3.然后利用这个实例来调用类的``__init__``方法，上一步里面``__new__``产生的实例也就是 ``__init__``里面的的 self。"
   ]
  },
  {
   "cell_type": "markdown",
   "metadata": {},
   "source": [
    "#### ``__init__`` 和 ``__new__`` 最主要的区别在于：\n",
    "\n",
    "1. ``__init__`` 通常用于初始化一个新实例，控制这个初始化的过程，比如添加一些属性， 做一些额外的操作，发生在类实例被创建完以后。它是实例级别的方法。\n",
    "\n",
    "2. ``__new__`` 通常用于控制生成一个新实例的过程。它是类级别的方法。"
   ]
  }
 ],
 "metadata": {
  "kernelspec": {
   "display_name": "Python 2",
   "language": "python",
   "name": "python2"
  },
  "language_info": {
   "codemirror_mode": {
    "name": "ipython",
    "version": 2
   },
   "file_extension": ".py",
   "mimetype": "text/x-python",
   "name": "python",
   "nbconvert_exporter": "python",
   "pygments_lexer": "ipython2",
   "version": "2.7.13"
  }
 },
 "nbformat": 4,
 "nbformat_minor": 2
}
