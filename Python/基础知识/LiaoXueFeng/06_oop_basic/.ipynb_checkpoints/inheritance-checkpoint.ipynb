{
 "cells": [
  {
   "cell_type": "markdown",
   "metadata": {},
   "source": [
    "### 在 OOP 程序设计中，当我们定义一个 class 的时候，可以从某个现有的class 继承，新的 class 称为子类（ Subclass），而被继承的 class 称为基类、父类或超类（ Base class、 Super class）。"
   ]
  },
  {
   "cell_type": "markdown",
   "metadata": {},
   "source": [
    "当子类和父类都存在相同的run()方法时，我们说，子类的run()覆盖了父类的run()，在代码运行的时候，总是会调用子类的run()。"
   ]
  },
  {
   "cell_type": "code",
   "execution_count": 1,
   "metadata": {
    "collapsed": false
   },
   "outputs": [
    {
     "name": "stdout",
     "output_type": "stream",
     "text": [
      "a is Animal? True\n",
      "a is Dog? False\n",
      "a is Cat? False\n",
      "d is Animal? True\n",
      "d is Dog? True\n",
      "d is Cat? False\n",
      "Cat is running...\n",
      "Cat is running...\n"
     ]
    }
   ],
   "source": [
    "#!/usr/bin/env python3\n",
    "# -*- coding: utf-8 -*-\n",
    "\n",
    "class Animal(object):\n",
    "    \n",
    "    def run(self):\n",
    "        print('Animal is running...')\n",
    "\n",
    "class Dog(Animal):\n",
    "    \n",
    "    def run(self):\n",
    "        print('Dog is running...')\n",
    "\n",
    "class Cat(Animal):\n",
    "    \n",
    "    def run(self):\n",
    "        print('Cat is running...')\n",
    "\n",
    "def run_twice(animal):\n",
    "    animal.run()\n",
    "    animal.run()\n",
    "\n",
    "a = Animal()\n",
    "d = Dog()\n",
    "c = Cat()\n",
    "\n",
    "print('a is Animal?', isinstance(a, Animal))\n",
    "print('a is Dog?', isinstance(a, Dog))\n",
    "print('a is Cat?', isinstance(a, Cat))\n",
    "\n",
    "print('d is Animal?', isinstance(d, Animal))\n",
    "print('d is Dog?', isinstance(d, Dog))\n",
    "print('d is Cat?', isinstance(d, Cat))\n",
    "\n",
    "run_twice(c)"
   ]
  },
  {
   "cell_type": "markdown",
   "metadata": {},
   "source": [
    "下面这个例子是以Python2代码进行修改的。由于Jupyter Kernel的一些原因，``__del__``没有及时销毁。\n",
    "\n",
    "**``__del__`` 会在垃圾回收进行的时候调用。**"
   ]
  },
  {
   "cell_type": "code",
   "execution_count": 2,
   "metadata": {
    "collapsed": false
   },
   "outputs": [
    {
     "name": "stdout",
     "output_type": "stream",
     "text": [
      "Initializing Swaroop\n",
      "Hi, my name is Swaroop.\n",
      "I'm the only person here.\n",
      "Initializing Abdul Kalam\n",
      "Hi, my name is Abdul Kalam.\n",
      "We are 2 persons here.\n",
      "Hi, my name is Swaroop.\n",
      "We are 2 persons here.\n",
      "Swaroop says bye\n",
      "There are still 1 people left.\n",
      "Abdul Kalam says bye\n",
      "I'm the last one.\n"
     ]
    }
   ],
   "source": [
    "#!usr/bin/env python3\n",
    "#-*- coding: utf-8 -*\n",
    "\n",
    "class Person(object):\n",
    "    \n",
    "    # Person属性\n",
    "    popilation = 0\n",
    "\n",
    "    # 初始化Person类的实例\n",
    "    def __init__(self, name):\n",
    "        self.name = name\n",
    "        print('Initializing %s' % (self.name))\n",
    "\n",
    "        Person.popilation += 1\n",
    "\n",
    "    # 销毁Person类的实例 \n",
    "    def __del__(self):\n",
    "        print('%s says bye' % (self.name))\n",
    "\n",
    "        Person.popilation -= 1\n",
    "\n",
    "        if Person.popilation == 0:\n",
    "            print('I\\'m the last one.')\n",
    "        else:\n",
    "            print('There are still %d people left.' % (Person.popilation))\n",
    "\n",
    "    # 定义Person类的方法\n",
    "    def say_hi(self):\n",
    "        print('Hi, my name is %s.' % (self.name))\n",
    "\n",
    "    def howmany(self):\n",
    "        if Person.popilation == 1:\n",
    "            print('I\\'m the only person here.')\n",
    "        else:\n",
    "            print('We are %d persons here.' % (Person.popilation))\n",
    "\n",
    "#实例化第一个对象\n",
    "swaroop = Person('Swaroop')\n",
    "swaroop.say_hi()\n",
    "swaroop.howmany()\n",
    "\n",
    "#实例化第二个对象\n",
    "kalam = Person('Abdul Kalam')\n",
    "kalam.say_hi()\n",
    "kalam.howmany()\n",
    "\n",
    "swaroop.say_hi()\n",
    "swaroop.howmany()\n",
    "del swaroop# 显示地调用__del__ \n",
    "del kalam "
   ]
  }
 ],
 "metadata": {
  "kernelspec": {
   "display_name": "Python 3",
   "language": "python",
   "name": "python3"
  },
  "language_info": {
   "codemirror_mode": {
    "name": "ipython",
    "version": 3
   },
   "file_extension": ".py",
   "mimetype": "text/x-python",
   "name": "python",
   "nbconvert_exporter": "python",
   "pygments_lexer": "ipython3",
   "version": "3.6.0"
  }
 },
 "nbformat": 4,
 "nbformat_minor": 2
}
