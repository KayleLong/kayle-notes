{
 "cells": [
  {
   "cell_type": "markdown",
   "metadata": {},
   "source": [
    "参考链接：<br>\n",
    "http://blog.csdn.net/chongtianfeiyu/article/details/21894005<br>\n",
    "https://www.oschina.net/code/snippet_1448389_49611<br>\n",
    "\n",
    "\n",
    "### 多态(Polymorphism)指同一个实体同时具有多种形式。它是面向对象程序设计（OOP）的一个重要特征。\n",
    "### 如果一个语言只支持类而不支持多态，只能说明它是基于对象的，而不是面向对象的。\n",
    "\n",
    "多态是指面向对象程序运行时，相同的消息可能会送给多个不同的类之对象，\n",
    "而系统可依据对象所属类，引发对应类的方法，而有不同的行为。<br>\n",
    "简单来说，所谓多态意指相同的消息给予不同的对象会引发不同的动作称之。\n",
    "在面向对象程序设计中，多态一般指子类型多态（Subtype polymorphism）。"
   ]
  },
  {
   "cell_type": "markdown",
   "metadata": {},
   "source": [
    "#### Python 的面向对象不同与Java、C#的面向对象"
   ]
  },
  {
   "cell_type": "markdown",
   "metadata": {},
   "source": [
    "问题一：Python 是否支持多态？\n",
    "\n",
    "Python中的变量是弱类型的，在定义时不用指明其类型，它会根据需要在运行时确定变量的类型（个人觉得这也是多态的一种体现），并且Python本身是一种解释性语言，不进行预编译，因此它就只在运行时确定其状态，故也有人说Python是一种多态语言。在Python中很多地方都可以体现多态的特性，比如 内置函数len(object)，len函数不仅可以计算字符串的长度，还可以计算列表、元组等对象中的数据个数，这里在运行时通过参数类型确定其具体的计算过程，正是多态的一种体现。"
   ]
  },
  {
   "cell_type": "markdown",
   "metadata": {},
   "source": [
    "问题二：Python 多态的特点\n",
    "\n",
    "Python以它这种独有的方式体现多态的根本原因有两点：\n",
    "1. Python是解释性语言；\n",
    "2. Python中变量是弱类型的。\n",
    "\n",
    "所以Python体现多态的方式和Java决然不同，但是不能因为同Java中体现多态的方式不同就认为Python不支持多态。"
   ]
  },
  {
   "cell_type": "markdown",
   "metadata": {},
   "source": [
    "多态是面向对象语言的一个基本特性，多态意味着变量并不知道引用的对象是什么，根据引用对象的不同表现不同的行为方式。\n",
    "\n",
    "Python 在处理多态对象时，只需要关注它的接口即可，python中并不需要显示的编写（像Java一样）接口，在使用对象的使用先假定有该接口，如果实际并不包含，在运行中报错。<br><br>"
   ]
  },
  {
   "cell_type": "markdown",
   "metadata": {},
   "source": [
    "#### 用“打开”这个动作来描述面向对象的多态。<br>\n",
    "\"打开\"，可以是打开门，打开窗户，打开书等等。\"打开\"这个动作，碰到不同的对象门，窗户，书，有不同的行为模式。<br>\n",
    "这个就是多态。"
   ]
  },
  {
   "cell_type": "markdown",
   "metadata": {},
   "source": [
    "例1：使用list循环"
   ]
  },
  {
   "cell_type": "code",
   "execution_count": 1,
   "metadata": {
    "collapsed": false
   },
   "outputs": [
    {
     "name": "stdout",
     "output_type": "stream",
     "text": [
      "Open Door\n",
      "Open Windows\n",
      "Open Book\n"
     ]
    }
   ],
   "source": [
    "class Door(object):\n",
    " \n",
    "    def open(self):\n",
    "        print(\"Open Door\")\n",
    "\n",
    "        \n",
    "class Windows(object):\n",
    " \n",
    "    def open(self):\n",
    "        print(\"Open Windows\")\n",
    " \n",
    " \n",
    "class Book(object):\n",
    " \n",
    "    def open(self):\n",
    "        print(\"Open Book\")\n",
    "        \n",
    "\n",
    "lst = [Door(), Windows(), Book()]\n",
    " \n",
    "for item in lst:\n",
    "    item.open()"
   ]
  },
  {
   "cell_type": "markdown",
   "metadata": {},
   "source": [
    "例2:用继承来说明多态的例子"
   ]
  },
  {
   "cell_type": "code",
   "execution_count": 2,
   "metadata": {
    "collapsed": false
   },
   "outputs": [
    {
     "name": "stdout",
     "output_type": "stream",
     "text": [
      "Missy: Meow!\n",
      "Mr. Mistoffelees: Meow!\n",
      "Lassie: Woof! Woof!\n"
     ]
    }
   ],
   "source": [
    "class Animal:\n",
    " \n",
    "    def __init__(self, name):\n",
    "        self.name = name\n",
    " \n",
    "    def talk(self):\n",
    "        raise NotImplementedError(\"Subclass must implement abstract method\")\n",
    " \n",
    " \n",
    "class Cat(Animal):\n",
    " \n",
    "    def talk(self):\n",
    "        return 'Meow!'\n",
    " \n",
    " \n",
    "class Dog(Animal):\n",
    " \n",
    "    def talk(self):\n",
    "        return 'Woof! Woof!'\n",
    "\n",
    "    \n",
    "animals = [Cat('Missy'),\n",
    "           Cat('Mr. Mistoffelees'),\n",
    "           Dog('Lassie')]\n",
    " \n",
    "for animal in animals:\n",
    "    print(animal.name + ': ' + animal.talk())"
   ]
  },
  {
   "cell_type": "markdown",
   "metadata": {},
   "source": [
    "#### python中的鸭子类型允许我们使用任何提供所需方法的对象，而不需要迫使它成为一个子类。 \n",
    "由于python属于动态语言，当你定义了一个基类和基类中的方法，并编写几个继承该基类的子类时，由于python在定义变量时不指定变量的类型，而是由解释器根据变量内容推断变量类型的（也就是说变量的类型取决于所关联的对象），这就使得python的多态不像是c++或Java中那样，定义一个基类类型变量而隐藏了具体子类的细节。"
   ]
  },
  {
   "cell_type": "code",
   "execution_count": null,
   "metadata": {
    "collapsed": true
   },
   "outputs": [],
   "source": []
  }
 ],
 "metadata": {
  "kernelspec": {
   "display_name": "Python 3",
   "language": "python",
   "name": "python3"
  },
  "language_info": {
   "codemirror_mode": {
    "name": "ipython",
    "version": 3
   },
   "file_extension": ".py",
   "mimetype": "text/x-python",
   "name": "python",
   "nbconvert_exporter": "python",
   "pygments_lexer": "ipython3",
   "version": "3.6.0"
  }
 },
 "nbformat": 4,
 "nbformat_minor": 2
}
