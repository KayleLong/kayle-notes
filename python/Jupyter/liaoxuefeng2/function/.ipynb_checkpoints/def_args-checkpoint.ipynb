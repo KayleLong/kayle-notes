{
 "cells": [
  {
   "cell_type": "markdown",
   "metadata": {},
   "source": [
    "##### 使用默认参数的最大好处是能够降低调用函数的难度。\n",
    "##### 使用默认参数需要注意的两点：\n",
    "1. 在前，默认参数在后。避免歧义。\n",
    "2. 默认参数必须为不可变对象。"
   ]
  },
  {
   "cell_type": "code",
   "execution_count": 1,
   "metadata": {},
   "outputs": [
    {
     "name": "stdout",
     "output_type": "stream",
     "text": [
      "Andy is 26, address is NanChang and job is Student\n"
     ]
    }
   ],
   "source": [
    "#!/usr/bin/env python3\n",
    "#-*- coding: utf-8 -*-\n",
    "\n",
    "def classmates_info(name, age, add=\"NanChang\", job=\"IT\"):\n",
    "    print \"{f_name} is {f_age}, address is {f_add} and job is {f_job}\".format(f_name=name, f_age=age, f_add=add, f_job=job)\n",
    "\n",
    "classmates_info(\"Andy\", \"26\", job=\"Student\")"
   ]
  },
  {
   "cell_type": "code",
   "execution_count": 2,
   "metadata": {},
   "outputs": [
    {
     "name": "stdout",
     "output_type": "stream",
     "text": [
      "Alan is 30, address is ShenZhen and job is IT\n"
     ]
    }
   ],
   "source": [
    "classmates_info(\"Alan\", \"30\", add=\"ShenZhen\")"
   ]
  },
  {
   "cell_type": "markdown",
   "metadata": {},
   "source": [
    "##### 参数add和job使用默认值"
   ]
  },
  {
   "cell_type": "code",
   "execution_count": 3,
   "metadata": {},
   "outputs": [
    {
     "name": "stdout",
     "output_type": "stream",
     "text": [
      "Kayle is 23, address is NanChang and job is IT\n"
     ]
    }
   ],
   "source": [
    "classmates_info(\"Kayle\", \"23\")"
   ]
  },
  {
   "cell_type": "markdown",
   "metadata": {},
   "source": [
    "##### 明确传递了默认参数，将使用传入的形参"
   ]
  },
  {
   "cell_type": "code",
   "execution_count": 4,
   "metadata": {},
   "outputs": [
    {
     "name": "stdout",
     "output_type": "stream",
     "text": [
      "Lucifer is 22, address is FuZhou and job is Edit\n"
     ]
    }
   ],
   "source": [
    "classmates_info(\"Lucifer\", \"22\", add=\"FuZhou\", job=\"Edit\")"
   ]
  }
 ],
 "metadata": {
  "kernelspec": {
   "display_name": "Python 2",
   "language": "python",
   "name": "python2"
  },
  "language_info": {
   "codemirror_mode": {
    "name": "ipython",
    "version": 2
   },
   "file_extension": ".py",
   "mimetype": "text/x-python",
   "name": "python",
   "nbconvert_exporter": "python",
   "pygments_lexer": "ipython2",
   "version": "2.7.13"
  }
 },
 "nbformat": 4,
 "nbformat_minor": 2
}
