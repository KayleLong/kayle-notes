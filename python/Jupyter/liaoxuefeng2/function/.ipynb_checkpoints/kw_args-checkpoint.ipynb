{
 "cells": [
  {
   "cell_type": "markdown",
   "metadata": {},
   "source": [
    "##### 关键字参数允许你传入0个或任意个含参数名的参数，这些关键字参数在函数内部自动组装为一个dict"
   ]
  },
  {
   "cell_type": "code",
   "execution_count": 1,
   "metadata": {
    "collapsed": true
   },
   "outputs": [],
   "source": [
    "#!/usr/bin/env python3\n",
    "#-*- coding: utf-8 -*-\n",
    "\n",
    "def print_scores(**kw):\n",
    "    print('      Name  Score')\n",
    "    print('------------------')\n",
    "    for name, score in kw.items():\n",
    "        print '%10s  %d' % (name, score)\n",
    "    print"
   ]
  },
  {
   "cell_type": "code",
   "execution_count": 2,
   "metadata": {},
   "outputs": [
    {
     "name": "stdout",
     "output_type": "stream",
     "text": [
      "      Name  Score\n",
      "------------------\n",
      "      Lisa  88\n",
      "      Adam  99\n",
      "      Bart  77\n",
      "\n"
     ]
    }
   ],
   "source": [
    "print_scores(Adam=99, Lisa=88, Bart=77)"
   ]
  },
  {
   "cell_type": "code",
   "execution_count": 3,
   "metadata": {},
   "outputs": [
    {
     "name": "stdout",
     "output_type": "stream",
     "text": [
      "      Name  Score\n",
      "------------------\n",
      "    Lisa S  88\n",
      "  Adam Lee  99\n",
      "    F.Bart  77\n",
      "\n"
     ]
    }
   ],
   "source": [
    "data = {\n",
    "    'Adam Lee': 99,\n",
    "    'Lisa S': 88,\n",
    "    'F.Bart': 77\n",
    "}\n",
    "print_scores(**data)"
   ]
  },
  {
   "cell_type": "markdown",
   "metadata": {},
   "source": [
    "##### 命名关键字参数需要一个特殊分隔符*，*后面的参数被视为命名关键字参数(Python2 不支持)"
   ]
  },
  {
   "cell_type": "code",
   "execution_count": 5,
   "metadata": {},
   "outputs": [
    {
     "ename": "SyntaxError",
     "evalue": "invalid syntax (<ipython-input-5-945bc3646dd4>, line 1)",
     "output_type": "error",
     "traceback": [
      "\u001b[1;36m  File \u001b[1;32m\"<ipython-input-5-945bc3646dd4>\"\u001b[1;36m, line \u001b[1;32m1\u001b[0m\n\u001b[1;33m    def print_info(name, *, gender, city='Beijing', age):\u001b[0m\n\u001b[1;37m                          ^\u001b[0m\n\u001b[1;31mSyntaxError\u001b[0m\u001b[1;31m:\u001b[0m invalid syntax\n"
     ]
    }
   ],
   "source": [
    "def print_info(name, *, gender, city='Beijing', age):\n",
    "    print 'Personal Info'\n",
    "    print '---------------'\n",
    "    print '   Name: %s' % name\n",
    "    print ' Gender: %s' % gender\n",
    "    print '   City: %s' % city\n",
    "    print '    Age: %s' % age\n",
    "    print"
   ]
  },
  {
   "cell_type": "code",
   "execution_count": 4,
   "metadata": {},
   "outputs": [
    {
     "ename": "SyntaxError",
     "evalue": "invalid syntax (<ipython-input-4-8e6fea105527>, line 1)",
     "output_type": "error",
     "traceback": [
      "\u001b[1;36m  File \u001b[1;32m\"<ipython-input-4-8e6fea105527>\"\u001b[1;36m, line \u001b[1;32m1\u001b[0m\n\u001b[1;33m    print_info()'Bob', gender='male', age=20)\u001b[0m\n\u001b[1;37m                    ^\u001b[0m\n\u001b[1;31mSyntaxError\u001b[0m\u001b[1;31m:\u001b[0m invalid syntax\n"
     ]
    }
   ],
   "source": [
    "print_info()'Bob', gender='male', age=20)"
   ]
  },
  {
   "cell_type": "code",
   "execution_count": null,
   "metadata": {},
   "outputs": [],
   "source": [
    "print_info()'Lisa', gender='female', city='Shanghai', age=18)"
   ]
  }
 ],
 "metadata": {
  "kernelspec": {
   "display_name": "Python 2",
   "language": "python",
   "name": "python2"
  },
  "language_info": {
   "codemirror_mode": {
    "name": "ipython",
    "version": 2
   },
   "file_extension": ".py",
   "mimetype": "text/x-python",
   "name": "python",
   "nbconvert_exporter": "python",
   "pygments_lexer": "ipython2",
   "version": "2.7.13"
  }
 },
 "nbformat": 4,
 "nbformat_minor": 2
}
