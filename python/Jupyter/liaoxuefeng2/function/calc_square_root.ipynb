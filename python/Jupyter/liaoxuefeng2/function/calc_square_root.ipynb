{
 "cells": [
  {
   "cell_type": "markdown",
   "metadata": {},
   "source": [
    "##### 计算一元二次方程的结果"
   ]
  },
  {
   "cell_type": "code",
   "execution_count": 1,
   "metadata": {
    "collapsed": true
   },
   "outputs": [],
   "source": [
    "#!usr/bin/env python3\n",
    "#-*- coding: utf-8 -*-\n",
    "\n",
    "import math\n",
    "\n",
    "def quadrtic(a, b ,c):\n",
    "    for type in [a, b, c]:\n",
    "        if not isinstance(type, (int, float)):\n",
    "            raise TypeError('bad poerand type', type)\n",
    "    \n",
    "    sqrt_num = b**2 - (4*a*c)\n",
    "    if(sqrt_num < 0):\n",
    "        return \"None result.\"\n",
    "    elif 0 == sqrt_num:\n",
    "        result_a = result_b = (-b) / (2*a)\n",
    "        print \"Have same result:\"\n",
    "    else:\n",
    "        result_a = (-b + math.sqrt(sqrt_num)) / (2*a)\n",
    "        result_b = (-b - math.sqrt(sqrt_num)) / (2*a)\n",
    "        print \"Different result:\"\n",
    "    return result_a, result_b"
   ]
  },
  {
   "cell_type": "code",
   "execution_count": 2,
   "metadata": {},
   "outputs": [
    {
     "name": "stdout",
     "output_type": "stream",
     "text": [
      "Different result:\n",
      "(-0.5, -1.0)\n"
     ]
    }
   ],
   "source": [
    "print quadrtic(2, 3, 1)# => (-0.5, -1.0)"
   ]
  },
  {
   "cell_type": "code",
   "execution_count": 3,
   "metadata": {},
   "outputs": [
    {
     "name": "stdout",
     "output_type": "stream",
     "text": [
      "Different result:\n",
      "(1.0, -4.0)\n"
     ]
    }
   ],
   "source": [
    "print quadrtic(1, 3, -4)# => (1.0, -4.0)"
   ]
  },
  {
   "cell_type": "code",
   "execution_count": 4,
   "metadata": {},
   "outputs": [
    {
     "name": "stdout",
     "output_type": "stream",
     "text": [
      "None result.\n"
     ]
    }
   ],
   "source": [
    "print quadrtic(1, 3, 4)"
   ]
  }
 ],
 "metadata": {
  "kernelspec": {
   "display_name": "Python 2",
   "language": "python",
   "name": "python2"
  },
  "language_info": {
   "codemirror_mode": {
    "name": "ipython",
    "version": 2
   },
   "file_extension": ".py",
   "mimetype": "text/x-python",
   "name": "python",
   "nbconvert_exporter": "python",
   "pygments_lexer": "ipython2",
   "version": "2.7.13"
  }
 },
 "nbformat": 4,
 "nbformat_minor": 2
}
