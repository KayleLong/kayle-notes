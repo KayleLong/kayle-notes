{
 "cells": [
  {
   "cell_type": "code",
   "execution_count": 1,
   "metadata": {
    "collapsed": false
   },
   "outputs": [
    {
     "name": "stdout",
     "output_type": "stream",
     "text": [
      "97\n",
      "98\n",
      "99\n",
      "120\n",
      "121\n",
      "122\n",
      "3 chars\n",
      "5 chars\n"
     ]
    }
   ],
   "source": [
    "#!/usr/bin/env python3\n",
    "# -*- coding: utf-8 -*-\n",
    "\n",
    "def each_ascii(s):\n",
    "    for ch in s:\n",
    "        yield ord(ch)\n",
    "    return '%s chars' % len(s)\n",
    "\n",
    "def yield_from(s):\n",
    "    r = yield from each_ascii(s)\n",
    "    print(r)\n",
    "\n",
    "def main():\n",
    "    for x in each_ascii('abc'):\n",
    "        print(x) # => 'a', 'b', 'c'\n",
    "    it = each_ascii('xyz')\n",
    "    try:\n",
    "        while True:\n",
    "            print(next(it)) # => 'x', 'y', 'z'\n",
    "    except StopIteration as s:\n",
    "        print(s.value) # => '3 chars'\n",
    "\n",
    "    # using yield from in main() will change main() from function to generator:\n",
    "    # r = yield from each_ascii('hello')\n",
    "\n",
    "    for ch in yield_from('hello'):\n",
    "        pass\n",
    "\n",
    "main()"
   ]
  }
 ],
 "metadata": {
  "kernelspec": {
   "display_name": "Python 3",
   "language": "python",
   "name": "python3"
  },
  "language_info": {
   "codemirror_mode": {
    "name": "ipython",
    "version": 3
   },
   "file_extension": ".py",
   "mimetype": "text/x-python",
   "name": "python",
   "nbconvert_exporter": "python",
   "pygments_lexer": "ipython3",
   "version": "3.6.0"
  }
 },
 "nbformat": 4,
 "nbformat_minor": 2
}
