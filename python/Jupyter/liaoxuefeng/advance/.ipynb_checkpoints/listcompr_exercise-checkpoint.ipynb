{
 "cells": [
  {
   "cell_type": "markdown",
   "metadata": {},
   "source": [
    "#### 请修改列表生成式，通过添加 if 语句保证列表生成式能正确地执行："
   ]
  },
  {
   "cell_type": "markdown",
   "metadata": {},
   "source": [
    "```\n",
    "L1 = ['Hello', 'World', 18, 'Apple', None]\n",
    "L2 = ???\n",
    "print(L2)\n",
    "```"
   ]
  },
  {
   "cell_type": "markdown",
   "metadata": {},
   "source": [
    "期待输出: ['hello', 'world', 'apple']"
   ]
  },
  {
   "cell_type": "code",
   "execution_count": 1,
   "metadata": {
    "collapsed": false
   },
   "outputs": [
    {
     "name": "stdout",
     "output_type": "stream",
     "text": [
      "['hello', 'world', 'apple']\n"
     ]
    }
   ],
   "source": [
    "#!usr/bin/env python3\n",
    "#-*- coding: utf-8 -*-\n",
    "\n",
    "L1 = ['Hello', 'world', 18, 'Apple', None]\n",
    "L2 = [s.lower() for s in L1 if isinstance(s, str) == True]\n",
    "# L2 = [s.lower() for s in L1 if isinstance(L1, str)]也是可以的，但是不如上面的语句显得清晰。\n",
    "print(L2)"
   ]
  }
 ],
 "metadata": {
  "kernelspec": {
   "display_name": "Python 3",
   "language": "python",
   "name": "python3"
  },
  "language_info": {
   "codemirror_mode": {
    "name": "ipython",
    "version": 3
   },
   "file_extension": ".py",
   "mimetype": "text/x-python",
   "name": "python",
   "nbconvert_exporter": "python",
   "pygments_lexer": "ipython3",
   "version": "3.6.0"
  }
 },
 "nbformat": 4,
 "nbformat_minor": 2
}
