{
 "cells": [
  {
   "cell_type": "markdown",
   "metadata": {},
   "source": [
    "1. collections模块的Iterable类型判断是否为可迭代对象\n",
    "2. 迭代器(Iterator)\n",
    "3. yield是关键字， 用起来像return，yield在告诉程序，要求函数返回一个生成器(generator)"
   ]
  },
  {
   "cell_type": "code",
   "execution_count": 1,
   "metadata": {
    "collapsed": true
   },
   "outputs": [],
   "source": [
    "#!usr/bin/env python3\n",
    "#-*- coding: utf-8 -*-\n",
    "\n",
    "from collections import Iterable, Iterator\n",
    "\n",
    "def g():\n",
    "    yield 1\n",
    "    yield 2\n",
    "    yield 3"
   ]
  },
  {
   "cell_type": "markdown",
   "metadata": {},
   "source": [
    "#### 如何判断一个对象是可迭代对象呢？方法是通过collections模块的Iterable类型判断"
   ]
  },
  {
   "cell_type": "code",
   "execution_count": 2,
   "metadata": {
    "collapsed": false
   },
   "outputs": [
    {
     "name": "stdout",
     "output_type": "stream",
     "text": [
      "Iterable? [1, 2, 3]: True\n"
     ]
    }
   ],
   "source": [
    "print('Iterable? [1, 2, 3]:', isinstance([1, 2, 3], Iterable))"
   ]
  },
  {
   "cell_type": "code",
   "execution_count": 3,
   "metadata": {
    "collapsed": false
   },
   "outputs": [
    {
     "name": "stdout",
     "output_type": "stream",
     "text": [
      "Iterable? 'abc': True\n"
     ]
    }
   ],
   "source": [
    "print('Iterable? \\'abc\\':', isinstance('abc', Iterable))"
   ]
  },
  {
   "cell_type": "code",
   "execution_count": 4,
   "metadata": {
    "collapsed": false
   },
   "outputs": [
    {
     "name": "stdout",
     "output_type": "stream",
     "text": [
      "Iterable? 123: False\n"
     ]
    }
   ],
   "source": [
    "print('Iterable? 123:', isinstance(123, Iterable))"
   ]
  },
  {
   "cell_type": "code",
   "execution_count": 5,
   "metadata": {
    "collapsed": false
   },
   "outputs": [
    {
     "name": "stdout",
     "output_type": "stream",
     "text": [
      "Iterable? g(): True\n"
     ]
    }
   ],
   "source": [
    "print('Iterable? g():', isinstance(g(), Iterable))"
   ]
  },
  {
   "cell_type": "markdown",
   "metadata": {},
   "source": [
    "#### Iterator类型判断是否是迭代器"
   ]
  },
  {
   "cell_type": "code",
   "execution_count": 6,
   "metadata": {
    "collapsed": false
   },
   "outputs": [
    {
     "name": "stdout",
     "output_type": "stream",
     "text": [
      "Iterator? [1, 2, 3]: False\n"
     ]
    }
   ],
   "source": [
    "print('Iterator? [1, 2, 3]:', isinstance([1, 2, 3], Iterator))"
   ]
  },
  {
   "cell_type": "code",
   "execution_count": 7,
   "metadata": {
    "collapsed": false
   },
   "outputs": [
    {
     "name": "stdout",
     "output_type": "stream",
     "text": [
      "Iterator? iter([1, 2, 3]): True\n"
     ]
    }
   ],
   "source": [
    "print('Iterator? iter([1, 2, 3]):', isinstance(iter([1, 2, 3]), Iterator))"
   ]
  },
  {
   "cell_type": "code",
   "execution_count": 8,
   "metadata": {
    "collapsed": false
   },
   "outputs": [
    {
     "name": "stdout",
     "output_type": "stream",
     "text": [
      "Iterator? 'abc': False\n"
     ]
    }
   ],
   "source": [
    "print('Iterator? \\'abc\\':', isinstance('abc', Iterator))"
   ]
  },
  {
   "cell_type": "code",
   "execution_count": 9,
   "metadata": {
    "collapsed": false
   },
   "outputs": [
    {
     "name": "stdout",
     "output_type": "stream",
     "text": [
      "Iterator? 123: False\n"
     ]
    }
   ],
   "source": [
    "print('Iterator? 123:', isinstance(123, Iterator))"
   ]
  },
  {
   "cell_type": "code",
   "execution_count": 10,
   "metadata": {
    "collapsed": false
   },
   "outputs": [
    {
     "name": "stdout",
     "output_type": "stream",
     "text": [
      "Iterator? g(): True\n"
     ]
    }
   ],
   "source": [
    "print('Iterator? g():', isinstance(g(), Iterator))"
   ]
  },
  {
   "cell_type": "markdown",
   "metadata": {},
   "source": [
    "#### 迭代对象和迭代器的区别\n",
    "Python中 list，truple，str，dict这些都可以被迭代即都是迭代对象，但他们并不是迭代器。为什么？<br>\n",
    "因为和迭代器相比有一个很大的不同，list/truple/map/dict这些数据的大小是确定的，也就是说有多少是可知的。<br>\n",
    "但迭代器不是，迭代器不知道要执行多少次，所以可以理解为不知道有多少个元素，每调用一次next()，就会往下走一步，是惰性的。<br>\n",
    "通过 iter()函数获得一个 Iterator 对象。<br>\n",
    "通过 list()函数让迭代器把整个序列都计算出来并返回一个 list。\n",
    "\n",
    "凡是可以for循环的，都是Iterable。<br>\n",
    "凡是可以next()的，都是Iterator。"
   ]
  },
  {
   "cell_type": "markdown",
   "metadata": {},
   "source": [
    "#### iter list 迭代列表"
   ]
  },
  {
   "cell_type": "code",
   "execution_count": 11,
   "metadata": {
    "collapsed": false
   },
   "outputs": [
    {
     "name": "stdout",
     "output_type": "stream",
     "text": [
      "for i in [1, 2, 3, 4, 5]:\n",
      "1\n",
      "2\n",
      "3\n",
      "4\n",
      "5\n"
     ]
    }
   ],
   "source": [
    "#iter list\n",
    "print('for i in [1, 2, 3, 4, 5]:')\n",
    "for i in [1, 2, 3, 4, 5]:\n",
    "    print(i)"
   ]
  },
  {
   "cell_type": "code",
   "execution_count": 12,
   "metadata": {
    "collapsed": false
   },
   "outputs": [
    {
     "name": "stdout",
     "output_type": "stream",
     "text": [
      "for i in iter[1, 2, 3, 4, 5]:\n",
      "1\n",
      "2\n",
      "3\n",
      "4\n",
      "5\n"
     ]
    }
   ],
   "source": [
    "print('for i in iter[1, 2, 3, 4, 5]:')\n",
    "for i in iter([1, 2, 3, 4, 5]):# 通过 iter()函数获得一个 Iterator 对象。\n",
    "    print(i)"
   ]
  },
  {
   "cell_type": "code",
   "execution_count": 13,
   "metadata": {
    "collapsed": false
   },
   "outputs": [
    {
     "name": "stdout",
     "output_type": "stream",
     "text": [
      "next():\n",
      "1\n"
     ]
    }
   ],
   "source": [
    "print('next():')\n",
    "it = iter([1, 2, 3, 4, 5])# 通过 iter()函数获得一个 Iterator 对象。这样就可以使用next()方法\n",
    "print(next(it))"
   ]
  },
  {
   "cell_type": "code",
   "execution_count": 14,
   "metadata": {
    "collapsed": false
   },
   "outputs": [
    {
     "name": "stdout",
     "output_type": "stream",
     "text": [
      "2\n"
     ]
    }
   ],
   "source": [
    "print(next(it))"
   ]
  },
  {
   "cell_type": "code",
   "execution_count": 15,
   "metadata": {
    "collapsed": false
   },
   "outputs": [
    {
     "name": "stdout",
     "output_type": "stream",
     "text": [
      "3\n"
     ]
    }
   ],
   "source": [
    "print(next(it))"
   ]
  },
  {
   "cell_type": "code",
   "execution_count": 16,
   "metadata": {
    "collapsed": false
   },
   "outputs": [
    {
     "name": "stdout",
     "output_type": "stream",
     "text": [
      "4\n"
     ]
    }
   ],
   "source": [
    "print(next(it))"
   ]
  },
  {
   "cell_type": "code",
   "execution_count": 17,
   "metadata": {
    "collapsed": false
   },
   "outputs": [
    {
     "name": "stdout",
     "output_type": "stream",
     "text": [
      "5\n"
     ]
    }
   ],
   "source": [
    "print(next(it))"
   ]
  },
  {
   "cell_type": "markdown",
   "metadata": {},
   "source": [
    "#### iter dict迭代字典"
   ]
  },
  {
   "cell_type": "code",
   "execution_count": 18,
   "metadata": {
    "collapsed": false
   },
   "outputs": [
    {
     "name": "stdout",
     "output_type": "stream",
     "text": [
      "iter key: {'a': 1, 'b': 2, 'c': 3}\n",
      "key: a\n",
      "key: b\n",
      "key: c\n"
     ]
    }
   ],
   "source": [
    "d = {'a':1, 'b':2, 'c':3}\n",
    "#iter each key:\n",
    "print('iter key:', d)\n",
    "for key in d.keys():\n",
    "    print('key:', key)"
   ]
  },
  {
   "cell_type": "code",
   "execution_count": 19,
   "metadata": {
    "collapsed": false
   },
   "outputs": [
    {
     "name": "stdout",
     "output_type": "stream",
     "text": [
      "iter vaule: {'a': 1, 'b': 2, 'c': 3}\n",
      "value: 1\n",
      "value: 2\n",
      "value: 3\n"
     ]
    }
   ],
   "source": [
    "#iter each value:\n",
    "print('iter vaule:', d)\n",
    "for val in d.values():\n",
    "    print('value:',val)"
   ]
  },
  {
   "cell_type": "code",
   "execution_count": 20,
   "metadata": {
    "collapsed": false
   },
   "outputs": [
    {
     "name": "stdout",
     "output_type": "stream",
     "text": [
      "iter item: {'a': 1, 'b': 2, 'c': 3}\n",
      "item: a 1\n",
      "item: b 2\n",
      "item: c 3\n"
     ]
    }
   ],
   "source": [
    "#iter both key and value:\n",
    "print('iter item:', d)\n",
    "for key, val in d.items():\n",
    "    print('item:', key, val)"
   ]
  },
  {
   "cell_type": "markdown",
   "metadata": {},
   "source": [
    "#### Python内置的enumerate函数可以把一个list变成索引-元素对，这样就可以在for循环中同时迭代索引和元素本身"
   ]
  },
  {
   "cell_type": "code",
   "execution_count": 21,
   "metadata": {
    "collapsed": false
   },
   "outputs": [
    {
     "name": "stdout",
     "output_type": "stream",
     "text": [
      "iter enumerate(['A', 'B', 'C']\n",
      "0 A\n",
      "1 B\n",
      "2 C\n"
     ]
    }
   ],
   "source": [
    "# iter list with index:\n",
    "print('iter enumerate([\\'A\\', \\'B\\', \\'C\\']')\n",
    "for i, value in enumerate(['A', 'B', 'C']):\n",
    "    print(i, value)"
   ]
  },
  {
   "cell_type": "code",
   "execution_count": 22,
   "metadata": {
    "collapsed": false
   },
   "outputs": [
    {
     "name": "stdout",
     "output_type": "stream",
     "text": [
      "iter [(1, 1), (2, 4), (3, 9)]:\n",
      "1 1\n",
      "2 4\n",
      "3 9\n"
     ]
    }
   ],
   "source": [
    "# iter complex list:\n",
    "print('iter [(1, 1), (2, 4), (3, 9)]:')#一个装有3个tuple元素的list\n",
    "for x, y in [(1, 1), (2, 4), (3, 9)]:\n",
    "    print(x, y)"
   ]
  }
 ],
 "metadata": {
  "kernelspec": {
   "display_name": "Python 3",
   "language": "python",
   "name": "python3"
  },
  "language_info": {
   "codemirror_mode": {
    "name": "ipython",
    "version": 3
   },
   "file_extension": ".py",
   "mimetype": "text/x-python",
   "name": "python",
   "nbconvert_exporter": "python",
   "pygments_lexer": "ipython3",
   "version": "3.6.0"
  }
 },
 "nbformat": 4,
 "nbformat_minor": 2
}
