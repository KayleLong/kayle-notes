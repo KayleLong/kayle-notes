{
 "cells": [
  {
   "cell_type": "markdown",
   "metadata": {},
   "source": [
    "#### 读取'dirName.txt'文件来创建文件夹"
   ]
  },
  {
   "cell_type": "code",
   "execution_count": 1,
   "metadata": {
    "collapsed": true
   },
   "outputs": [],
   "source": [
    "#!/usr/bin/env python\n",
    "# -*- coding: utf-8 -*-\n",
    "# @Date    : 2017-05-26 11:41:37\n",
    "# @Author  : Kayle Long\n",
    "\n",
    "import os\n",
    "\n",
    "with open('dirName.txt', 'r') as f:#open and read file\n",
    "    str_dir = f.read()\n",
    "\n",
    "list_dir = str_dir.split('\\n')#split the string, then to list\n",
    "for name in list_dir:\n",
    "    #makedir\n",
    "    os.mkdir(name)\n",
    "    #removedir\n",
    "    #os.rmdir(name)"
   ]
  }
 ],
 "metadata": {
  "kernelspec": {
   "display_name": "Python 3",
   "language": "python",
   "name": "python3"
  },
  "language_info": {
   "codemirror_mode": {
    "name": "ipython",
    "version": 3
   },
   "file_extension": ".py",
   "mimetype": "text/x-python",
   "name": "python",
   "nbconvert_exporter": "python",
   "pygments_lexer": "ipython3",
   "version": "3.6.0"
  }
 },
 "nbformat": 4,
 "nbformat_minor": 2
}
