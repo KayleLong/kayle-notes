{
 "cells": [
  {
   "cell_type": "markdown",
   "metadata": {},
   "source": [
    "### 重载 overload & 覆盖 override"
   ]
  },
  {
   "cell_type": "markdown",
   "metadata": {},
   "source": [
    "#### 覆盖（override),在同一个模块或者同一个类中，写两个名称相同的方法的时候（参数个数是否相同不重要），后面的那个方法会简单覆盖前面的方面;其次，在子类继承父类时，同名（不同参）的方法也会简单覆盖（子类覆盖父类）。这是大部分编程语言都具有的覆盖。"
   ]
  },
  {
   "cell_type": "markdown",
   "metadata": {},
   "source": [
    "#### 重载和覆盖，在C++，Java，C#等静态类型语言类型语言中，这两个概念同时存在。前者是为了让同一个函数名（方法名）匹配不同的参数（个数不同，类型不同）;后者是为了实现多态，在相同名称的函数（方法）和参数，在不同的类中（父类，子类），有不同的实现。"
   ]
  },
  {
   "cell_type": "markdown",
   "metadata": {},
   "source": [
    "#### Python是动态类型语言，不能简单地说它支持或者不支持重载，我的思考结果是，重载仍然存在，只是以不同的方式呈现。原来我们理解的重载，都是在静态类型语言中，**关心参数个数以及参数类型**;在动态类型语言里的重载根本不需要关心参数类型，只需要关心参数个数。而在Python里，关心参数个数的重载是由**默认参数和传递参数名称**来实现的。"
   ]
  }
 ],
 "metadata": {
  "kernelspec": {
   "display_name": "Python 3",
   "language": "python",
   "name": "python3"
  },
  "language_info": {
   "codemirror_mode": {
    "name": "ipython",
    "version": 3
   },
   "file_extension": ".py",
   "mimetype": "text/x-python",
   "name": "python",
   "nbconvert_exporter": "python",
   "pygments_lexer": "ipython3",
   "version": "3.6.0"
  }
 },
 "nbformat": 4,
 "nbformat_minor": 2
}
