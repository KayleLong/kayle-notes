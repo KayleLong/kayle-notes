{
 "cells": [
  {
   "cell_type": "code",
   "execution_count": 2,
   "metadata": {
    "collapsed": false
   },
   "outputs": [
    {
     "name": "stdout",
     "output_type": "stream",
     "text": [
      "hello\n"
     ]
    }
   ],
   "source": [
    "print(\"hello\")"
   ]
  },
  {
   "cell_type": "code",
   "execution_count": null,
   "metadata": {
    "collapsed": true
   },
   "outputs": [],
   "source": [
    "### 将本地的.py文件load到jupyter的一个cell中"
   ]
  },
  {
   "cell_type": "code",
   "execution_count": null,
   "metadata": {
    "collapsed": true
   },
   "outputs": [],
   "source": [
    "eg:%load makeDir.py"
   ]
  },
  {
   "cell_type": "code",
   "execution_count": null,
   "metadata": {
    "collapsed": true
   },
   "outputs": [],
   "source": [
    "# %load makeDir.py\n",
    "#!/usr/bin/env python\n",
    "# @Date    : 2017-05-26 11:41:37\n",
    "# @Author  : Your Name (you@example.org)\n",
    "# @Link    : http://example.org\n",
    "# @Version : $Id$\n",
    "\n",
    "import os\n",
    "\n",
    "with open('dirName.txt', 'r') as f:#open and read file\n",
    "\tstr_dir = f.read()\n",
    "\n",
    "list_dir = str_dir.split('\\n')#split the string, then to list\n",
    "for name in list_dir:\n",
    "\t#makedir\n",
    "\t#os.mkdir(name)\n",
    "\t#removedir\n",
    "\tos.rmdir(name)"
   ]
  }
 ],
 "metadata": {
  "kernelspec": {
   "display_name": "Python 3",
   "language": "python",
   "name": "python3"
  },
  "language_info": {
   "codemirror_mode": {
    "name": "ipython",
    "version": 3
   },
   "file_extension": ".py",
   "mimetype": "text/x-python",
   "name": "python",
   "nbconvert_exporter": "python",
   "pygments_lexer": "ipython3",
   "version": "3.6.0"
  }
 },
 "nbformat": 4,
 "nbformat_minor": 2
}
