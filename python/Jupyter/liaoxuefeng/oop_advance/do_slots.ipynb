{
 "cells": [
  {
   "cell_type": "markdown",
   "metadata": {},
   "source": [
    "正常情况下，当我们定义了一个class，创建了一个class的实例后，我们可以给该实例绑定任何属性和方法，这就是动态语言的灵活性。"
   ]
  },
  {
   "cell_type": "code",
   "execution_count": 1,
   "metadata": {
    "collapsed": false
   },
   "outputs": [
    {
     "name": "stdout",
     "output_type": "stream",
     "text": [
      "s.name=Alan, s.age=31\n"
     ]
    }
   ],
   "source": [
    "#!/usr/bin/env python3\n",
    "# -*- coding: utf-8 -*-\n",
    "\n",
    "class Student(object):\n",
    "    pass\n",
    "\n",
    "s = Student()\n",
    "s.name = \"Alan\"\n",
    "s.age = 31\n",
    "print('s.name=%s, s.age=%d' % (s.name, s.age))"
   ]
  },
  {
   "cell_type": "markdown",
   "metadata": {},
   "source": [
    "###### MethodType（）方法"
   ]
  },
  {
   "cell_type": "code",
   "execution_count": 2,
   "metadata": {
    "collapsed": true
   },
   "outputs": [],
   "source": [
    "#!/usr/bin/python\n",
    "# -*-coding:utf-8-*-\n",
    "\n",
    "# 公共部分\n",
    "from types import MethodType \n",
    "\n",
    "#创建一个方法\n",
    "def set_age(self, arg):\n",
    "    self.age = arg\n",
    "    \n",
    "# 创建一个类    \n",
    "class Student(object):\n",
    "    pass"
   ]
  },
  {
   "cell_type": "code",
   "execution_count": 3,
   "metadata": {
    "collapsed": false
   },
   "outputs": [
    {
     "name": "stdout",
     "output_type": "stream",
     "text": [
      "32\n"
     ]
    }
   ],
   "source": [
    "# 方法一：\n",
    "s_one = Student()\n",
    "# 给student 创建一个方法 但这里不是在class中创建而是创建了一个链接把外部的set_age 方法用链接知道Student内\n",
    "s_one.set_age = MethodType(set_age, Student)# 给实例绑定一个方法\n",
    "s_one.set_age(32)  #调用实例方法\n",
    "print(s_one.age)"
   ]
  },
  {
   "cell_type": "markdown",
   "metadata": {},
   "source": [
    "不链接把外部的set_age 方法，会报错。"
   ]
  },
  {
   "cell_type": "code",
   "execution_count": 4,
   "metadata": {
    "collapsed": false
   },
   "outputs": [
    {
     "ename": "AttributeError",
     "evalue": "'Student' object has no attribute 'set_age'",
     "output_type": "error",
     "traceback": [
      "\u001b[0;31m---------------------------------------------------------------------------\u001b[0m",
      "\u001b[0;31mAttributeError\u001b[0m                            Traceback (most recent call last)",
      "\u001b[0;32m<ipython-input-4-f83ec8af539f>\u001b[0m in \u001b[0;36m<module>\u001b[0;34m()\u001b[0m\n\u001b[1;32m      1\u001b[0m \u001b[0ms_two\u001b[0m \u001b[1;33m=\u001b[0m \u001b[0mStudent\u001b[0m\u001b[1;33m(\u001b[0m\u001b[1;33m)\u001b[0m\u001b[1;33m\u001b[0m\u001b[0m\n\u001b[0;32m----> 2\u001b[0;31m \u001b[0ms_two\u001b[0m\u001b[1;33m.\u001b[0m\u001b[0mset_age\u001b[0m\u001b[1;33m(\u001b[0m\u001b[1;36m100\u001b[0m\u001b[1;33m)\u001b[0m  \u001b[1;31m#这里来验证下是在类内有方法还是类外有方法。\u001b[0m\u001b[1;33m\u001b[0m\u001b[0m\n\u001b[0m\u001b[1;32m      3\u001b[0m \u001b[0mprint\u001b[0m\u001b[1;33m(\u001b[0m\u001b[0ms_two\u001b[0m\u001b[1;33m.\u001b[0m\u001b[0mage\u001b[0m\u001b[1;33m)\u001b[0m\u001b[1;33m\u001b[0m\u001b[0m\n",
      "\u001b[0;31mAttributeError\u001b[0m: 'Student' object has no attribute 'set_age'"
     ]
    }
   ],
   "source": [
    "s_two = Student() \n",
    "s_two.set_age(100)  #这里来验证下是在类内有方法还是类外有方法。\n",
    "print(s_two.age)"
   ]
  },
  {
   "cell_type": "code",
   "execution_count": 5,
   "metadata": {
    "collapsed": false
   },
   "outputs": [
    {
     "name": "stdout",
     "output_type": "stream",
     "text": [
      "99\n",
      "98\n"
     ]
    }
   ],
   "source": [
    "# 方法二：\n",
    "# 直接用类来创建一个方法  不过此时还是用链接的方式在类外的内存中创建\n",
    "Student.set_age = MethodType(set_age,Student)\n",
    "# 此时在创建实例的时候外部方法 set_age 也会复制 这些实例和Student类都指向同一个set_age方法\n",
    "new1 = Student()\n",
    "new2 = Student()\n",
    "new1.set_age(99)\n",
    "print(new2.age)\n",
    "new2.set_age(98)\n",
    "print(new1.age)"
   ]
  },
  {
   "cell_type": "markdown",
   "metadata": {},
   "source": [
    "###### 方法一是给实例对象s_one链接set_age()方法，方法二是给类对象Student链接set_age()方法。<br><br>"
   ]
  },
  {
   "cell_type": "markdown",
   "metadata": {},
   "source": [
    "Python允许在定义class的时候，定义一个特殊的``__slots__``变量，来限制该class实例能添加的属性。"
   ]
  },
  {
   "cell_type": "code",
   "execution_count": 6,
   "metadata": {
    "collapsed": false
   },
   "outputs": [
    {
     "name": "stdout",
     "output_type": "stream",
     "text": [
      "AttributeError: 'Student' object has no attribute 'score'\n"
     ]
    }
   ],
   "source": [
    "#!/usr/bin/env python3\n",
    "# -*- coding: utf-8 -*-\n",
    "\n",
    "class Student(object):\n",
    "    __slots__ = ('name', 'age') # 用tuple定义允许绑定的属性名称\n",
    "\n",
    "class GraduateStudent(Student):\n",
    "    pass\n",
    "\n",
    "s = Student() # 创建新的实例\n",
    "s.name = 'Michael' # 绑定属性'name'\n",
    "s.age = 25 # 绑定属性'age'\n",
    "# ERROR: AttributeError: 'Student' object has no attribute 'score'\n",
    "try:\n",
    "    s.score = 99\n",
    "except AttributeError as e:\n",
    "    print('AttributeError:', e)"
   ]
  },
  {
   "cell_type": "markdown",
   "metadata": {},
   "source": [
    "使用``__slots__``要注意，``__slots__``定义的属性仅对当前类实例起作用，对继承的子类是不起作用的。"
   ]
  },
  {
   "cell_type": "code",
   "execution_count": 7,
   "metadata": {
    "collapsed": false
   },
   "outputs": [
    {
     "name": "stdout",
     "output_type": "stream",
     "text": [
      "g.score = 99\n"
     ]
    }
   ],
   "source": [
    "g = GraduateStudent()\n",
    "g.score = 99\n",
    "print('g.score =', g.score)"
   ]
  }
 ],
 "metadata": {
  "kernelspec": {
   "display_name": "Python 3",
   "language": "python",
   "name": "python3"
  },
  "language_info": {
   "codemirror_mode": {
    "name": "ipython",
    "version": 3
   },
   "file_extension": ".py",
   "mimetype": "text/x-python",
   "name": "python",
   "nbconvert_exporter": "python",
   "pygments_lexer": "ipython3",
   "version": "3.6.0"
  }
 },
 "nbformat": 4,
 "nbformat_minor": 2
}
