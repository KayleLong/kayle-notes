{
 "cells": [
  {
   "cell_type": "markdown",
   "metadata": {},
   "source": [
    "参考链接：https://www.zhihu.com/question/44015086/answer/119215218\n",
    "\n",
    "\n",
    "#### Iterator实现的``__iter__``是为了兼容Iterable的接口，从而让Iterator成为Iterable的一种实现。"
   ]
  },
  {
   "cell_type": "markdown",
   "metadata": {},
   "source": [
    "Python中关于迭代有两个概念，第一个是Iterable，第二个是Iterator，协议规定Iterable的``__iter__``方法会返回一个Iterator, Iterator的``__next__``方法（Python 2里是next）会返回下一个迭代对象，如果迭代结束则抛出StopIteration异常。同时，**Iterator自己也是一种Iterable，所以也需要实现Iterable的接口，也就是``__iter__``**，这样在for当中两者都可以使用。Iterator的``__iter__``只需要返回自己就行了。"
   ]
  },
  {
   "cell_type": "code",
   "execution_count": 1,
   "metadata": {
    "collapsed": true
   },
   "outputs": [],
   "source": [
    "#!usr/bin/env python3\n",
    "# -*- coding utf-8 -*-\n",
    "\n",
    "class Fib(object):\n",
    "    def __init__(self):\n",
    "        self.a, self.b = 0, 1 # 初始化两个计数器a，b\n",
    "\n",
    "    def __iter__(self):\n",
    "        return self # 实例本身就是迭代对象，故返回自己\n",
    "\n",
    "    def __next__(self):\n",
    "        self.a, self.b = self.b, self.a + self.b # 计算下一个值,辗转相加\n",
    "        if self.a > 100: # 退出循环的条件\n",
    "            raise StopIteration()\n",
    "        return self.a # 返回下一个值"
   ]
  },
  {
   "cell_type": "markdown",
   "metadata": {},
   "source": [
    "Fib实例作用于for循环："
   ]
  },
  {
   "cell_type": "code",
   "execution_count": 2,
   "metadata": {
    "collapsed": false,
    "scrolled": true
   },
   "outputs": [
    {
     "name": "stdout",
     "output_type": "stream",
     "text": [
      "1\n",
      "1\n",
      "2\n",
      "3\n",
      "5\n",
      "8\n",
      "13\n",
      "21\n",
      "34\n",
      "55\n",
      "89\n"
     ]
    }
   ],
   "source": [
    "for i in Fib():\n",
    "    print(i)"
   ]
  },
  {
   "cell_type": "markdown",
   "metadata": {},
   "source": [
    "如果对象有``__iter__``会使用迭代器，但是如果对象没有``__iter__``，但是实现了``__getitem__``，会改用下标迭代的方式。"
   ]
  },
  {
   "cell_type": "code",
   "execution_count": 4,
   "metadata": {
    "collapsed": true
   },
   "outputs": [],
   "source": [
    "class NotIterable(object):\n",
    "    def __init__(self, baselist):\n",
    "        self._baselist = baselist\n",
    "\n",
    "    def __getitem__(self, index):\n",
    "        return self._baselist[index]"
   ]
  },
  {
   "cell_type": "code",
   "execution_count": 6,
   "metadata": {
    "collapsed": false
   },
   "outputs": [
    {
     "name": "stdout",
     "output_type": "stream",
     "text": [
      "1\n",
      "2\n",
      "3\n"
     ]
    }
   ],
   "source": [
    "t = NotIterable([1,2,3])\n",
    "for i in t:\n",
    "    print(i)"
   ]
  },
  {
   "cell_type": "markdown",
   "metadata": {},
   "source": [
    "当for发现没有``__iter__``但是有``__getitem__``的时候，会从0开始依次读取相应的下标，直到发生IndexError为止，这是一种旧的迭代协议。iter方法也会处理这种情况，在不存在``__iter__``的时候，返回一个下标迭代的iterator对象来代替。一个重要的例子是str，**字符串就是没有``__iter__``接口的**。"
   ]
  }
 ],
 "metadata": {
  "kernelspec": {
   "display_name": "Python 3",
   "language": "python",
   "name": "python3"
  },
  "language_info": {
   "codemirror_mode": {
    "name": "ipython",
    "version": 3
   },
   "file_extension": ".py",
   "mimetype": "text/x-python",
   "name": "python",
   "nbconvert_exporter": "python",
   "pygments_lexer": "ipython3",
   "version": "3.6.0"
  }
 },
 "nbformat": 4,
 "nbformat_minor": 2
}
