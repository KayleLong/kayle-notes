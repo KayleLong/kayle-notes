{
 "cells": [
  {
   "cell_type": "markdown",
   "metadata": {},
   "source": [
    "### 继承，面向对象中的继承和现实生活中的继承相同，即：子类可以继承父类的内容。\n",
    "#### 对于面向对象的继承来说，其实就是将多个类共有的方法提取到父类中，子类仅需继承父类而不必一一实现每个方法。\n",
    "#### 那么问题又来了，多继承呢？\n",
    "* 是否可以继承多个类\n",
    "* 如果继承的多个类每个类中都定了相同的函数，那么那一个会被使用呢？<br>\n",
    "\n",
    "\n",
    "1. Python的类可以继承多个类，Java和C#中则只能继承一个类\n",
    "2. Python的类如果继承了多个类，那么其寻找方法的方式有两种，分别是：深度优先和广度优先。\n",
    "\n",
    "\n",
    "* 当类是新式类时，多继承情况下，会按照广度优先方式查找\n",
    "* 当类是经典类时，多继承情况下，会按照深度优先方式查找<br>\n",
    "\n",
    "经典类和新式类，从字面上可以看出一个老一个新，新的必然包含了跟多的功能，也是之后推荐的写法，从写法上区分的话，如果 当前类或者父类继承了object类，那么该类便是新式类，否则便是经典类。"
   ]
  },
  {
   "cell_type": "markdown",
   "metadata": {},
   "source": [
    "### 经典类"
   ]
  },
  {
   "cell_type": "code",
   "execution_count": 1,
   "metadata": {
    "collapsed": false
   },
   "outputs": [
    {
     "name": "stdout",
     "output_type": "stream",
     "text": [
      "A.bar\n"
     ]
    }
   ],
   "source": [
    "#!usr/env/bin python3\n",
    "# -*- coding: utf-8 -*-\n",
    "\n",
    "class D:\n",
    "    \n",
    "    def bar(self):\n",
    "        print('D.bar')\n",
    "\n",
    "class C(D):\n",
    "    \n",
    "    def bar(self):\n",
    "        print('C.bar')\n",
    "\n",
    "class B(D):\n",
    "    \n",
    "    def bar(self):\n",
    "        print('B.bar')\n",
    "\n",
    "class A(B, C):\n",
    "    \n",
    "    def bar(self):\n",
    "        print('A.bar')\n",
    "\n",
    "a = A()\n",
    "a.bar()"
   ]
  },
  {
   "cell_type": "markdown",
   "metadata": {},
   "source": [
    "执行bar方法时, 首先去A类中查找，如果A类中没有，则继续去B类中找，如果B类中么有，则继续去D类中找，如果D类中么有，则继续去C类中找，如果还是未找到，则报错.所以，**查找顺序：A --> B --> D --> C**。<br>在上述查找bar方法的过程中，一旦找到，则寻找过程立即中断，便不会再继续找了。"
   ]
  },
  {
   "cell_type": "markdown",
   "metadata": {},
   "source": [
    "### 新式类"
   ]
  },
  {
   "cell_type": "code",
   "execution_count": 2,
   "metadata": {
    "collapsed": false
   },
   "outputs": [
    {
     "name": "stdout",
     "output_type": "stream",
     "text": [
      "A.bar\n"
     ]
    }
   ],
   "source": [
    "class D(object):\n",
    "    \n",
    "    def bar(self):\n",
    "        print('D.bar')\n",
    "\n",
    "class C(D):\n",
    "    \n",
    "    def bar(self):\n",
    "        print('C.bar')\n",
    "\n",
    "class B(D):\n",
    "    \n",
    "    def bar(self):\n",
    "        print('B.bar')\n",
    "\n",
    "class A(B, C):\n",
    "    \n",
    "    def bar(self):\n",
    "        print('A.bar')\n",
    "\n",
    "a = A()\n",
    "a.bar()"
   ]
  },
  {
   "cell_type": "markdown",
   "metadata": {},
   "source": [
    "执行bar方法时，首先去A类中查找，如果A类中没有，则继续去B类中找，如果B类中么有，则继续去C类中找，如果C类中么有，则继续去D类中找，如果还是未找到，则报错。所以，**查找顺序：A --> B --> C --> D**。<br>在上述查找bar方法的过程中，一旦找到，则寻找过程立即中断，便不会再继续找了。"
   ]
  },
  {
   "cell_type": "code",
   "execution_count": 3,
   "metadata": {
    "collapsed": false
   },
   "outputs": [
    {
     "name": "stdout",
     "output_type": "stream",
     "text": [
      "A1.bar\n",
      "B2.bar\n"
     ]
    }
   ],
   "source": [
    "#!usr/env/bin python3\n",
    "# -*- coding: utf-8 -*-\n",
    "\n",
    "class A1(object):\n",
    "    \n",
    "    def bar(self):\n",
    "        print('A1.bar')\n",
    "        \n",
    "class B2(object):\n",
    "    \n",
    "    def bar(self):\n",
    "        print('B2.bar')\n",
    "        \n",
    "class C3(object):\n",
    "    \n",
    "    def bar(self):\n",
    "        print('C.bar')\n",
    "\n",
    "class D(A1, B2, C3):\n",
    "    \n",
    "    pass\n",
    "\n",
    "class E(B2, C3, A1):\n",
    "    \n",
    "    pass\n",
    "\n",
    "d = D()\n",
    "d.bar()\n",
    "\n",
    "e = E()\n",
    "e.bar()"
   ]
  },
  {
   "cell_type": "markdown",
   "metadata": {},
   "source": [
    "同时继承多个父类，先调用第一个父类的方法。"
   ]
  }
 ],
 "metadata": {
  "kernelspec": {
   "display_name": "Python 3",
   "language": "python",
   "name": "python3"
  },
  "language_info": {
   "codemirror_mode": {
    "name": "ipython",
    "version": 3
   },
   "file_extension": ".py",
   "mimetype": "text/x-python",
   "name": "python",
   "nbconvert_exporter": "python",
   "pygments_lexer": "ipython3",
   "version": "3.6.0"
  }
 },
 "nbformat": 4,
 "nbformat_minor": 2
}
