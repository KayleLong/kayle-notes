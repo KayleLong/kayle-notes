{
 "cells": [
  {
   "cell_type": "markdown",
   "metadata": {},
   "source": [
    "``\n",
    "if x:\n",
    "    print('True')\n",
    "``\n",
    "##### 只要x是非零数值，非空字符串，非空list等，就判断为Ture。否则为False"
   ]
  },
  {
   "cell_type": "code",
   "execution_count": 1,
   "metadata": {
    "collapsed": false
   },
   "outputs": [
    {
     "name": "stdout",
     "output_type": "stream",
     "text": [
      "Please input your age:15\n",
      "teenager\n"
     ]
    }
   ],
   "source": [
    "#!/usr/bin/env python3\n",
    "#-*- coding: utf-8 -*-\n",
    "\n",
    "#input()返回字符串\n",
    "\n",
    "age = int(input(\"Please input your age:\"))\n",
    "if age >= 18:\n",
    "    print(\"adult\")\n",
    "elif age >= 6:\n",
    "    print(\"teenager\")\n",
    "else:\n",
    "    print(\"kid\")"
   ]
  }
 ],
 "metadata": {
  "kernelspec": {
   "display_name": "Python 3",
   "language": "python",
   "name": "python3"
  },
  "language_info": {
   "codemirror_mode": {
    "name": "ipython",
    "version": 3
   },
   "file_extension": ".py",
   "mimetype": "text/x-python",
   "name": "python",
   "nbconvert_exporter": "python",
   "pygments_lexer": "ipython3",
   "version": "3.6.0"
  }
 },
 "nbformat": 4,
 "nbformat_minor": 2
}
