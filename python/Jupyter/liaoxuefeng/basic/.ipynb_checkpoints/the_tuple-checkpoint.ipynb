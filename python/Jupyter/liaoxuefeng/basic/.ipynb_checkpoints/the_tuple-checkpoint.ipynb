{
 "cells": [
  {
   "cell_type": "code",
   "execution_count": 2,
   "metadata": {
    "collapsed": false
   },
   "outputs": [
    {
     "name": "stdout",
     "output_type": "stream",
     "text": [
      "classmates= ('Andy', 'Lucifer', 'Kayth', 'Kayle')\n",
      "classmates's len= 4\n",
      "classmates[0]= Andy\n",
      "classmates[1]= Lucifer\n",
      "classmates[2]= Kayth\n",
      "classmates[3]= Kayle\n",
      "classmates[-1]= Kayle\n",
      "1\n",
      "(1,)\n"
     ]
    },
    {
     "ename": "TypeError",
     "evalue": "'tuple' object does not support item assignment",
     "output_type": "error",
     "traceback": [
      "\u001b[0;31m---------------------------------------------------------------------------\u001b[0m",
      "\u001b[0;31mTypeError\u001b[0m                                 Traceback (most recent call last)",
      "\u001b[0;32m<ipython-input-2-0b7c1038f5b6>\u001b[0m in \u001b[0;36m<module>\u001b[0;34m()\u001b[0m\n\u001b[1;32m     20\u001b[0m \u001b[1;33m\u001b[0m\u001b[0m\n\u001b[1;32m     21\u001b[0m \u001b[1;31m#Can't modify the tuple\u001b[0m\u001b[1;33m\u001b[0m\u001b[1;33m\u001b[0m\u001b[0m\n\u001b[0;32m---> 22\u001b[0;31m \u001b[0mclassmates\u001b[0m\u001b[1;33m[\u001b[0m\u001b[1;36m0\u001b[0m\u001b[1;33m]\u001b[0m \u001b[1;33m=\u001b[0m \u001b[1;34m'Alan'\u001b[0m\u001b[1;33m\u001b[0m\u001b[0m\n\u001b[0m\u001b[1;32m     23\u001b[0m \u001b[0mclassmates\u001b[0m\u001b[1;33m.\u001b[0m\u001b[0mpop\u001b[0m\u001b[1;33m(\u001b[0m\u001b[1;33m)\u001b[0m\u001b[1;33m\u001b[0m\u001b[0m\n",
      "\u001b[0;31mTypeError\u001b[0m: 'tuple' object does not support item assignment"
     ]
    }
   ],
   "source": [
    "#!usr/bin/env python3\n",
    "#-*- coding: utf-8 -*-\n",
    "\n",
    "classmates = ('Andy', 'Lucifer', 'Kayth', 'Kayle')\n",
    "print(\"classmates=\", classmates)\n",
    "print(\"classmates's len=\", len(classmates))\n",
    "print(\"classmates[0]=\", classmates[0])\n",
    "print(\"classmates[1]=\", classmates[1])\n",
    "print(\"classmates[2]=\", classmates[2])\n",
    "print(\"classmates[3]=\", classmates[3])\n",
    "print(\"classmates[-1]=\", classmates[-1])\n",
    "\n",
    "#This is number 1, not a tuple\n",
    "tuple_1 = (1)\n",
    "print(tuple_1)\n",
    "\n",
    "#This is a tuple\n",
    "tuple_one = (1,)\n",
    "print(tuple_one)\n",
    "\n",
    "#Can't modify the tuple \n",
    "classmates[0] = 'Alan'\n",
    "classmates.pop()"
   ]
  }
 ],
 "metadata": {
  "kernelspec": {
   "display_name": "Python 3",
   "language": "python",
   "name": "python3"
  },
  "language_info": {
   "codemirror_mode": {
    "name": "ipython",
    "version": 3
   },
   "file_extension": ".py",
   "mimetype": "text/x-python",
   "name": "python",
   "nbconvert_exporter": "python",
   "pygments_lexer": "ipython3",
   "version": "3.6.0"
  }
 },
 "nbformat": 4,
 "nbformat_minor": 2
}
