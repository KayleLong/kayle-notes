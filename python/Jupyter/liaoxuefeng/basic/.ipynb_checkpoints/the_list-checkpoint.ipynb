{
 "cells": [
  {
   "cell_type": "code",
   "execution_count": 2,
   "metadata": {
    "collapsed": false,
    "scrolled": true
   },
   "outputs": [
    {
     "name": "stdout",
     "output_type": "stream",
     "text": [
      "classmates= ['Andy', 'Lucifer', 'Kayth', 'Kayle']\n",
      "classmates's len= 4\n",
      "classmates[0]= Andy\n",
      "classmates[1]= Lucifer\n",
      "classmates[2]= Kayth\n",
      "classmates[3]= Kayle\n",
      "classmates[-1]= Kayle\n",
      "classmates= ['Andy', 'Lucifer', 'Kayth']\n"
     ]
    }
   ],
   "source": [
    "#!/usr/bin/env python3\n",
    "#-*- coding: utf-8 -*-\n",
    "\n",
    "classmates = ['Andy', 'Lucifer', 'Kayth', 'Kayle']\n",
    "print(\"classmates=\", classmates)\n",
    "print(\"classmates's len=\", len(classmates))\n",
    "print(\"classmates[0]=\", classmates[0])\n",
    "print(\"classmates[1]=\", classmates[1])\n",
    "print(\"classmates[2]=\", classmates[2])\n",
    "print(\"classmates[3]=\", classmates[3])\n",
    "print(\"classmates[-1]=\", classmates[-1])\n",
    "classmates.pop()\n",
    "print(\"classmates=\", classmates)"
   ]
  }
 ],
 "metadata": {
  "kernelspec": {
   "display_name": "Python 3",
   "language": "python",
   "name": "python3"
  },
  "language_info": {
   "codemirror_mode": {
    "name": "ipython",
    "version": 3
   },
   "file_extension": ".py",
   "mimetype": "text/x-python",
   "name": "python",
   "nbconvert_exporter": "python",
   "pygments_lexer": "ipython3",
   "version": "3.6.0"
  }
 },
 "nbformat": 4,
 "nbformat_minor": 2
}
