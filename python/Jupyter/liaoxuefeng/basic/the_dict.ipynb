{
 "cells": [
  {
   "cell_type": "code",
   "execution_count": 6,
   "metadata": {
    "collapsed": false
   },
   "outputs": [
    {
     "name": "stdout",
     "output_type": "stream",
     "text": [
      "dict_grade['Andy']= 90\n",
      "dict_grade['Lucifer']= 80\n",
      "dict_grade['Kayth']= 95\n",
      "dict_grade['Kayle']= 70\n",
      "dict_grade.get('Anthony', -1)= -1\n"
     ]
    }
   ],
   "source": [
    "#!/usr/bin/env python3\n",
    "#-*- coding : utf-8 -*-\n",
    "\n",
    "dict_grade = {\n",
    "    'Andy':90,\n",
    "    'Lucifer':80,\n",
    "    'Kayth':95,\n",
    "    'Kayle':70\n",
    "}\n",
    "print(\"dict_grade['Andy']=\", dict_grade['Andy'])\n",
    "print(\"dict_grade['Lucifer']=\", dict_grade['Lucifer'])\n",
    "print(\"dict_grade['Kayth']=\", dict_grade['Kayth'])\n",
    "print(\"dict_grade['Kayle']=\", dict_grade['Kayle'])\n",
    "print(\"dict_grade.get('Anthony', -1)=\", dict_grade.get('Anthony', -1))"
   ]
  }
 ],
 "metadata": {
  "kernelspec": {
   "display_name": "Python 3",
   "language": "python",
   "name": "python3"
  },
  "language_info": {
   "codemirror_mode": {
    "name": "ipython",
    "version": 3
   },
   "file_extension": ".py",
   "mimetype": "text/x-python",
   "name": "python",
   "nbconvert_exporter": "python",
   "pygments_lexer": "ipython3",
   "version": "3.6.0"
  }
 },
 "nbformat": 4,
 "nbformat_minor": 2
}
