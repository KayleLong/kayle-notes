{
 "cells": [
  {
   "cell_type": "code",
   "execution_count": 1,
   "metadata": {
    "collapsed": false
   },
   "outputs": [
    {
     "name": "stdout",
     "output_type": "stream",
     "text": [
      "dict_grade['Andy']= 90\n"
     ]
    }
   ],
   "source": [
    "#!/usr/bin/env python3\n",
    "#-*- coding : utf-8 -*-\n",
    "\n",
    "dict_grade = {\n",
    "    'Andy':90,\n",
    "    'Lucifer':80,\n",
    "    'Kathy':95,\n",
    "    'Kayle':70\n",
    "}\n",
    "print(\"dict_grade['Andy']=\", dict_grade['Andy'])"
   ]
  },
  {
   "cell_type": "code",
   "execution_count": 2,
   "metadata": {
    "collapsed": false
   },
   "outputs": [
    {
     "name": "stdout",
     "output_type": "stream",
     "text": [
      "dict_grade['Lucifer']= 80\n"
     ]
    }
   ],
   "source": [
    "print(\"dict_grade['Lucifer']=\", dict_grade['Lucifer'])"
   ]
  },
  {
   "cell_type": "code",
   "execution_count": 3,
   "metadata": {
    "collapsed": false
   },
   "outputs": [
    {
     "name": "stdout",
     "output_type": "stream",
     "text": [
      "dict_grade['Kathy']= 95\n"
     ]
    }
   ],
   "source": [
    "print(\"dict_grade['Kathy']=\", dict_grade['Kathy'])"
   ]
  },
  {
   "cell_type": "code",
   "execution_count": 4,
   "metadata": {
    "collapsed": false
   },
   "outputs": [
    {
     "name": "stdout",
     "output_type": "stream",
     "text": [
      "dict_grade['Kayle']= 70\n"
     ]
    }
   ],
   "source": [
    "print(\"dict_grade['Kayle']=\", dict_grade['Kayle'])"
   ]
  },
  {
   "cell_type": "code",
   "execution_count": 5,
   "metadata": {
    "collapsed": false
   },
   "outputs": [
    {
     "name": "stdout",
     "output_type": "stream",
     "text": [
      "dict_grade.get('Anthony', -1)= -1\n"
     ]
    }
   ],
   "source": [
    "print(\"dict_grade.get('Anthony', -1)=\", dict_grade.get('Anthony', -1))"
   ]
  }
 ],
 "metadata": {
  "kernelspec": {
   "display_name": "Python 3",
   "language": "python",
   "name": "python3"
  },
  "language_info": {
   "codemirror_mode": {
    "name": "ipython",
    "version": 3
   },
   "file_extension": ".py",
   "mimetype": "text/x-python",
   "name": "python",
   "nbconvert_exporter": "python",
   "pygments_lexer": "ipython3",
   "version": "3.6.0"
  }
 },
 "nbformat": 4,
 "nbformat_minor": 2
}
