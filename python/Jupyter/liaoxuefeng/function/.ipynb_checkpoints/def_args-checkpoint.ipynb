{
 "cells": [
  {
   "cell_type": "code",
   "execution_count": 1,
   "metadata": {
    "collapsed": false
   },
   "outputs": [
    {
     "name": "stdout",
     "output_type": "stream",
     "text": [
      "Andy is 26, address is NanChang and job is Student\n"
     ]
    }
   ],
   "source": [
    "#!/usr/bin/env python3\n",
    "#-*- coding: utf-8 -*-\n",
    "\n",
    "def classmates_info(name, age, add=\"NanChang\", job=\"IT\"):\n",
    "    print(\"{f_name} is {f_age}, address is {f_add} and job is {f_job}\".format(f_name=name, f_age=age, f_add=add, f_job=job))\n",
    "\n",
    "classmates_info(\"Andy\", \"26\", job=\"Student\")"
   ]
  },
  {
   "cell_type": "code",
   "execution_count": 2,
   "metadata": {
    "collapsed": false
   },
   "outputs": [
    {
     "name": "stdout",
     "output_type": "stream",
     "text": [
      "Alan is 30, address is ShenZhen and job is IT\n"
     ]
    }
   ],
   "source": [
    "classmates_info(\"Alan\", \"30\", add=\"ShenZhen\")"
   ]
  },
  {
   "cell_type": "code",
   "execution_count": 3,
   "metadata": {
    "collapsed": false
   },
   "outputs": [
    {
     "name": "stdout",
     "output_type": "stream",
     "text": [
      "Kayle is 23, address is NanChang and job is IT\n"
     ]
    }
   ],
   "source": [
    "classmates_info(\"Kayle\", \"23\")"
   ]
  },
  {
   "cell_type": "code",
   "execution_count": 4,
   "metadata": {
    "collapsed": false
   },
   "outputs": [
    {
     "name": "stdout",
     "output_type": "stream",
     "text": [
      "Lucifer is 22, address is FuZhou and job is Edit\n"
     ]
    }
   ],
   "source": [
    "classmates_info(\"Lucifer\", \"22\", add=\"FuZhou\", job=\"Edit\")"
   ]
  }
 ],
 "metadata": {
  "kernelspec": {
   "display_name": "Python 3",
   "language": "python",
   "name": "python3"
  },
  "language_info": {
   "codemirror_mode": {
    "name": "ipython",
    "version": 3
   },
   "file_extension": ".py",
   "mimetype": "text/x-python",
   "name": "python",
   "nbconvert_exporter": "python",
   "pygments_lexer": "ipython3",
   "version": "3.6.0"
  }
 },
 "nbformat": 4,
 "nbformat_minor": 2
}
