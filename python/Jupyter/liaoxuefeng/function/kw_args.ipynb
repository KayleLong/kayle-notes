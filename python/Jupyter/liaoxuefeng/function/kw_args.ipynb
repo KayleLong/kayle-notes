{
 "cells": [
  {
   "cell_type": "code",
   "execution_count": 1,
   "metadata": {
    "collapsed": true
   },
   "outputs": [],
   "source": [
    "#!/usr/bin/env python3\n",
    "#-*- coding: utf-8 -*-\n",
    "\n",
    "#关键字参数允许你传入0个或任意个含参数名的参数，这些关键字参数在函数内部自动组装为一个dict\n",
    "def print_scores(**kw):\n",
    "    print('      Name  Score')\n",
    "    print('------------------')\n",
    "    for name, score in kw.items():\n",
    "        print('%10s  %d' % (name, score))\n",
    "    print()"
   ]
  },
  {
   "cell_type": "code",
   "execution_count": 2,
   "metadata": {
    "collapsed": false
   },
   "outputs": [
    {
     "name": "stdout",
     "output_type": "stream",
     "text": [
      "      Name  Score\n",
      "------------------\n",
      "      Adam  99\n",
      "      Lisa  88\n",
      "      Bart  77\n",
      "\n"
     ]
    }
   ],
   "source": [
    "print_scores(Adam=99, Lisa=88, Bart=77)"
   ]
  },
  {
   "cell_type": "code",
   "execution_count": 3,
   "metadata": {
    "collapsed": false
   },
   "outputs": [
    {
     "name": "stdout",
     "output_type": "stream",
     "text": [
      "      Name  Score\n",
      "------------------\n",
      "  Adam Lee  99\n",
      "    Lisa S  88\n",
      "    F.Bart  77\n",
      "\n"
     ]
    }
   ],
   "source": [
    "data = {\n",
    "    'Adam Lee': 99,\n",
    "    'Lisa S': 88,\n",
    "    'F.Bart': 77\n",
    "}\n",
    "print_scores(**data)"
   ]
  },
  {
   "cell_type": "code",
   "execution_count": 4,
   "metadata": {
    "collapsed": true
   },
   "outputs": [],
   "source": [
    "#命名关键字参数需要一个特殊分隔符*，*后面的参数被视为命名关键字参数\n",
    "def print_info(name, *, gender, city='Beijing', age):\n",
    "    print('Personal Info')\n",
    "    print('---------------')\n",
    "    print('   Name: %s' % name)\n",
    "    print(' Gender: %s' % gender)\n",
    "    print('   City: %s' % city)\n",
    "    print('    Age: %s' % age)\n",
    "    print()"
   ]
  },
  {
   "cell_type": "code",
   "execution_count": 5,
   "metadata": {
    "collapsed": false
   },
   "outputs": [
    {
     "name": "stdout",
     "output_type": "stream",
     "text": [
      "Personal Info\n",
      "---------------\n",
      "   Name: Bob\n",
      " Gender: male\n",
      "   City: Beijing\n",
      "    Age: 20\n",
      "\n"
     ]
    }
   ],
   "source": [
    "print_info('Bob', gender='male', age=20)"
   ]
  },
  {
   "cell_type": "code",
   "execution_count": 6,
   "metadata": {
    "collapsed": false
   },
   "outputs": [
    {
     "name": "stdout",
     "output_type": "stream",
     "text": [
      "Personal Info\n",
      "---------------\n",
      "   Name: Lisa\n",
      " Gender: female\n",
      "   City: Shanghai\n",
      "    Age: 18\n",
      "\n"
     ]
    }
   ],
   "source": [
    "print_info('Lisa', gender='female', city='Shanghai', age=18)"
   ]
  }
 ],
 "metadata": {
  "kernelspec": {
   "display_name": "Python 3",
   "language": "python",
   "name": "python3"
  },
  "language_info": {
   "codemirror_mode": {
    "name": "ipython",
    "version": 3
   },
   "file_extension": ".py",
   "mimetype": "text/x-python",
   "name": "python",
   "nbconvert_exporter": "python",
   "pygments_lexer": "ipython3",
   "version": "3.6.0"
  }
 },
 "nbformat": 4,
 "nbformat_minor": 2
}
