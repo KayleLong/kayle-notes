{
 "cells": [
  {
   "cell_type": "markdown",
   "metadata": {},
   "source": [
    "#### 异常是 class类型，所有的异常类都是由BaseException派生而来的。\n",
    "捕获一个错误就是捕获到该 class 的一个实例。因此，错误并不是凭空产生的，而是有意创建并抛出的。 Python 的内置函数会\n",
    "抛出很多类型的错误。"
   ]
  },
  {
   "cell_type": "code",
   "execution_count": 1,
   "metadata": {
    "collapsed": false
   },
   "outputs": [
    {
     "ename": "FooError",
     "evalue": "invalid value: 0",
     "output_type": "error",
     "traceback": [
      "\u001b[0;31m---------------------------------------------------------------------------\u001b[0m",
      "\u001b[0;31mFooError\u001b[0m                                  Traceback (most recent call last)",
      "\u001b[0;32m<ipython-input-1-f4553e83a8eb>\u001b[0m in \u001b[0;36m<module>\u001b[0;34m()\u001b[0m\n\u001b[1;32m     11\u001b[0m     \u001b[1;32mreturn\u001b[0m \u001b[1;36m10\u001b[0m \u001b[1;33m/\u001b[0m \u001b[0mn\u001b[0m\u001b[1;33m\u001b[0m\u001b[0m\n\u001b[1;32m     12\u001b[0m \u001b[1;33m\u001b[0m\u001b[0m\n\u001b[0;32m---> 13\u001b[0;31m \u001b[0mfoo\u001b[0m\u001b[1;33m(\u001b[0m\u001b[1;34m'0'\u001b[0m\u001b[1;33m)\u001b[0m\u001b[1;33m\u001b[0m\u001b[0m\n\u001b[0m",
      "\u001b[0;32m<ipython-input-1-f4553e83a8eb>\u001b[0m in \u001b[0;36mfoo\u001b[0;34m(s)\u001b[0m\n\u001b[1;32m      8\u001b[0m     \u001b[0mn\u001b[0m \u001b[1;33m=\u001b[0m \u001b[0mint\u001b[0m\u001b[1;33m(\u001b[0m\u001b[0ms\u001b[0m\u001b[1;33m)\u001b[0m\u001b[1;33m\u001b[0m\u001b[0m\n\u001b[1;32m      9\u001b[0m     \u001b[1;32mif\u001b[0m \u001b[0mn\u001b[0m\u001b[1;33m==\u001b[0m\u001b[1;36m0\u001b[0m\u001b[1;33m:\u001b[0m\u001b[1;33m\u001b[0m\u001b[0m\n\u001b[0;32m---> 10\u001b[0;31m         \u001b[1;32mraise\u001b[0m \u001b[0mFooError\u001b[0m\u001b[1;33m(\u001b[0m\u001b[1;34m'invalid value: %s'\u001b[0m \u001b[1;33m%\u001b[0m \u001b[0ms\u001b[0m\u001b[1;33m)\u001b[0m\u001b[1;33m\u001b[0m\u001b[0m\n\u001b[0m\u001b[1;32m     11\u001b[0m     \u001b[1;32mreturn\u001b[0m \u001b[1;36m10\u001b[0m \u001b[1;33m/\u001b[0m \u001b[0mn\u001b[0m\u001b[1;33m\u001b[0m\u001b[0m\n\u001b[1;32m     12\u001b[0m \u001b[1;33m\u001b[0m\u001b[0m\n",
      "\u001b[0;31mFooError\u001b[0m: invalid value: 0"
     ]
    }
   ],
   "source": [
    "#!usr/bin/env python3\n",
    "# -*- coding: utf-8 -*-\n",
    "\n",
    "class FooError(ValueError):\n",
    "    pass\n",
    "\n",
    "def foo(s):\n",
    "    n = int(s)\n",
    "    if n==0:\n",
    "        raise FooError('invalid value: %s' % s)\n",
    "    return 10 / n\n",
    "\n",
    "foo('0')"
   ]
  },
  {
   "cell_type": "markdown",
   "metadata": {},
   "source": [
    "### python常见的标准异常类："
   ]
  },
  {
   "cell_type": "markdown",
   "metadata": {},
   "source": [
    "| 异常名称    | 描述|\n",
    "|--------|---------|\n",
    "|BaseException|所有异常的基类|\n",
    "|SystemExit|解释器请求退出|\n",
    "|KeyboardInterrupt|用户中断执行(通常是输入^C)|\n",
    "|Exception|常规错误的基类|\n",
    "|StopIteration|迭代器没有更多的值|\n",
    "|GeneratorExit|生成器(generator)发生异常来通知退出|\n",
    "|SystemExit|Python 解释器请求退出|\n",
    "|StandardError|所有的内建标准异常的基类|\n",
    "|ArithmeticError |所有数值计算错误的基类|\n",
    "|FloatingPointError|浮点计算错误|\n",
    "|OverflowError|数值运算超出最大限制|\n",
    "|ZeroDivisionError|除(或取模)零 (所有数据类型)|\n",
    "|AssertionError|断言语句失败|\n",
    "|AttributeError|对象没有这个属性|\n",
    "|EOFError|没有内建输入,到达EOF 标记|\n",
    "|EnvironmentError|操作系统错误的基类|\n",
    "|IOError |输入/输出操作失败|\n",
    "|OSError |操作系统错误|\n",
    "|WindowsError|系统调用失败|\n",
    "|ImportError |导入模块/对象失败|\n",
    "|KeyboardInterrupt|用户中断执行(通常是输入^C)|\n",
    "|LookupError |无效数据查询的基类|\n",
    "|IndexError  |序列中没有没有此索引(index)|\n",
    "|KeyError|映射中没有这个键|\n",
    "|MemoryError |内存溢出错误(对于Python 解释器不是致命的)|\n",
    "|NameError|未声明/初始化对象 (没有属性)|\n",
    "|UnboundLocalError|访问未初始化的本地变量|\n",
    "|ReferenceError | 弱引用(Weak reference)试图访问已经垃圾回收了的对象|\n",
    "|RuntimeError|一般的运行时错误|\n",
    "|NotImplementedError| 尚未实现的方法|\n",
    "|SyntaxError Python |语法错误|\n",
    "|IndentationError|缩进错误|\n",
    "|TabErrorTab |和空格混用|\n",
    "|SystemError |一般的解释器系统错误|\n",
    "|TypeError|对类型无效的操作|\n",
    "|ValueError  |传入无效的参数|\n",
    "|UnicodeError|Unicode 相关的错误|\n",
    "|UnicodeDecodeError | Unicode 解码时的错误|\n",
    "|UnicodeEncodeError  |Unicode 编码时错误|\n",
    "|UnicodeTranslateError|Unicode 转换时错误|\n",
    "|Warning |警告的基类|\n",
    "|DeprecationWarning  |关于被弃用的特征的警告|\n",
    "|FutureWarning|关于构造将来语义会有改变的警告|\n",
    "|OverflowWarning |旧的关于自动提升为长整型(long)的警告|\n",
    "|PendingDeprecationWarning|关于特性将会被废弃的警告|\n",
    "|RuntimeWarning  |可疑的运行时行为(runtime behavior)的警告|\n",
    "|SyntaxWarning|可疑的语法的警告|\n",
    "|UserWarning |用户代码生成的警告|"
   ]
  }
 ],
 "metadata": {
  "kernelspec": {
   "display_name": "Python 3",
   "language": "python",
   "name": "python3"
  },
  "language_info": {
   "codemirror_mode": {
    "name": "ipython",
    "version": 3
   },
   "file_extension": ".py",
   "mimetype": "text/x-python",
   "name": "python",
   "nbconvert_exporter": "python",
   "pygments_lexer": "ipython3",
   "version": "3.6.0"
  }
 },
 "nbformat": 4,
 "nbformat_minor": 2
}
