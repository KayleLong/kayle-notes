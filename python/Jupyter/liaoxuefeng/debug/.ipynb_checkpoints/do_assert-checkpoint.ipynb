{
 "cells": [
  {
   "cell_type": "markdown",
   "metadata": {},
   "source": [
    "#### python assert断言是声明其布尔值必须为真的判定，如果发生异常就说明表达示为假。可以理解assert断言语句为raise-if-not，用来测试表示式，其返回值为假，就会触发异常。\n",
    "\n",
    "1. 凡是用print()来辅助查看的地方，都可以用断言（assert）来替代。\n",
    "2. 启动Python解释器时可以用-O参数来关闭assert。"
   ]
  },
  {
   "cell_type": "code",
   "execution_count": null,
   "metadata": {
    "collapsed": true
   },
   "outputs": [],
   "source": [
    "def foo(s):\n",
    "    n = int(s)\n",
    "    assert n != 0, 'n is zero!'\n",
    "    return 10 / n\n",
    "\n",
    "def main():\n",
    "    foo('0')\n",
    "\n",
    "main()"
   ]
  },
  {
   "cell_type": "markdown",
   "metadata": {},
   "source": [
    "### 但是程序中如果到处充斥着assert，和print()相比也好不到哪去。\n",
    "所以必要时，可以使用测试框架中的断言机制。如：\n",
    "\n",
    "1. py.test 是一个轻量级的测试框架。\n",
    "2. unittest单元测试框架就有了自己的断言方法self.assertXXX()。\n",
    "3. assertpy一个功能强大的测试框架。"
   ]
  }
 ],
 "metadata": {
  "kernelspec": {
   "display_name": "Python 3",
   "language": "python",
   "name": "python3"
  },
  "language_info": {
   "codemirror_mode": {
    "name": "ipython",
    "version": 3
   },
   "file_extension": ".py",
   "mimetype": "text/x-python",
   "name": "python",
   "nbconvert_exporter": "python",
   "pygments_lexer": "ipython3",
   "version": "3.6.0"
  }
 },
 "nbformat": 4,
 "nbformat_minor": 2
}
