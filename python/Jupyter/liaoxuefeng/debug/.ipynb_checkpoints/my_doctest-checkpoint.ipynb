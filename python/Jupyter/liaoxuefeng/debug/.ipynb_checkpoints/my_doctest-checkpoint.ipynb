{
 "cells": [
  {
   "cell_type": "markdown",
   "metadata": {},
   "source": [
    "阅读Python的官方文档，可以看到很多文档都有示例代码。<br>\n",
    "可以把这些示例代码在Python的交互式环境下输入并执行，结果与文档中的示例代码显示的一致。"
   ]
  },
  {
   "cell_type": "markdown",
   "metadata": {},
   "source": [
    "Python内置的“文档测试”（doctest）模块可以直接提取注释中的代码并执行测试。\n",
    "\n",
    "doctest严格按照Python交互式命令行的输入和输出来判断测试结果是否正确。只有测试异常的时候，可以用...表示中间一大段烦人的输出。"
   ]
  },
  {
   "cell_type": "code",
   "execution_count": 1,
   "metadata": {
    "collapsed": true
   },
   "outputs": [],
   "source": [
    "#!/usr/bin/env python3\n",
    "# -*- coding: utf-8 -*-\n",
    "\n",
    "class Dict(dict):\n",
    "    '''\n",
    "    Simple dict but also support access as x.y style.\n",
    "    >>> d1 = Dict()\n",
    "    >>> d1['x'] = 100\n",
    "    >>> d1.x\n",
    "    100\n",
    "    >>> d1.y = 200\n",
    "    >>> d1['y']\n",
    "    200\n",
    "    >>> d2 = Dict(a=1, b=2, c='3')\n",
    "    >>> d2.c\n",
    "    '3'\n",
    "    >>> d2['empty']\n",
    "    Traceback (most recent call last):\n",
    "        ...\n",
    "    KeyError: 'empty'\n",
    "    >>> d2.empty\n",
    "    Traceback (most recent call last):\n",
    "        ...\n",
    "    AttributeError: 'Dict' object has no attribute 'empty'\n",
    "    '''\n",
    "    \n",
    "    def __init__(self, **kw):\n",
    "        super(Dict, self).__init__(**kw)\n",
    "\n",
    "    def __getattr__(self, key):\n",
    "        try:\n",
    "            return self[key]\n",
    "        except KeyError:\n",
    "            raise AttributeError(r\"'Dict' object has no attribute '%s'\" % key)\n",
    "\n",
    "    def __setattr__(self, key, value):\n",
    "        self[key] = value\n",
    "\n",
    "if __name__=='__main__':\n",
    "    import doctest\n",
    "    doctest.testmod()"
   ]
  },
  {
   "cell_type": "markdown",
   "metadata": {},
   "source": [
    "什么输出也没有。这说明我们编写的doctest运行都是正确的。"
   ]
  }
 ],
 "metadata": {
  "kernelspec": {
   "display_name": "Python 3",
   "language": "python",
   "name": "python3"
  },
  "language_info": {
   "codemirror_mode": {
    "name": "ipython",
    "version": 3
   },
   "file_extension": ".py",
   "mimetype": "text/x-python",
   "name": "python",
   "nbconvert_exporter": "python",
   "pygments_lexer": "ipython3",
   "version": "3.6.0"
  }
 },
 "nbformat": 4,
 "nbformat_minor": 2
}
