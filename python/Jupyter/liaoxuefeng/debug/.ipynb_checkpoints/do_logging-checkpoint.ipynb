{
 "cells": [
  {
   "cell_type": "markdown",
   "metadata": {},
   "source": [
    "参考链接：<br>\n",
    "http://blog.csdn.net/lml282518588/article/details/52994313<br>\n",
    "http://www.jianshu.com/p/feb86c06c4f4"
   ]
  },
  {
   "cell_type": "markdown",
   "metadata": {},
   "source": [
    "#### Python的logging模块提供了通用的日志系统，可以方便第三方模块或者是应用使用。这个模块提供不同的日志级别，并可以采用不同的方式记录日志，比如文件，HTTP GET/POST，SMTP，Socket等，甚至可以自己实现具体的日志记录方式。"
   ]
  },
  {
   "cell_type": "markdown",
   "metadata": {},
   "source": [
    "如果使用Python写一个比较大型的程序，你一定会用上日志系统。特别是Python这样的动态语言，很多错误都只能在运行的时候才能发现，一个好的日志系统对于Python程序相当重要。最简单的解决方案当然是直接使用print输出运行信息。但是这样太简单了，没有分级功能，如果在发布的时候想去掉调试用的运行信息还得找出所有的print语句进行修改。再者，print只能输出到控制台，想要输出到文件或者通过电子邮件发送到其他地方，一个print语句就没办法解决了。"
   ]
  },
  {
   "cell_type": "markdown",
   "metadata": {},
   "source": [
    "#### 通过使用Python的日志系统，不仅不会抛出错误，而且可以将调试信息输出到指定的文件或者控制台。"
   ]
  },
  {
   "cell_type": "markdown",
   "metadata": {},
   "source": [
    "先看一个简单的例子："
   ]
  },
  {
   "cell_type": "code",
   "execution_count": 1,
   "metadata": {
    "collapsed": false
   },
   "outputs": [
    {
     "name": "stderr",
     "output_type": "stream",
     "text": [
      "INFO:root:n = 0\n"
     ]
    },
    {
     "ename": "ZeroDivisionError",
     "evalue": "division by zero",
     "output_type": "error",
     "traceback": [
      "\u001b[0;31m---------------------------------------------------------------------------\u001b[0m",
      "\u001b[0;31mZeroDivisionError\u001b[0m                         Traceback (most recent call last)",
      "\u001b[0;32m<ipython-input-1-b107c3b3610a>\u001b[0m in \u001b[0;36m<module>\u001b[0;34m()\u001b[0m\n\u001b[1;32m      9\u001b[0m \u001b[0mn\u001b[0m \u001b[1;33m=\u001b[0m \u001b[0mint\u001b[0m\u001b[1;33m(\u001b[0m\u001b[0ms\u001b[0m\u001b[1;33m)\u001b[0m\u001b[1;33m\u001b[0m\u001b[0m\n\u001b[1;32m     10\u001b[0m \u001b[0mlogging\u001b[0m\u001b[1;33m.\u001b[0m\u001b[0minfo\u001b[0m\u001b[1;33m(\u001b[0m\u001b[1;34m'n = %d'\u001b[0m \u001b[1;33m%\u001b[0m \u001b[0mn\u001b[0m\u001b[1;33m)\u001b[0m\u001b[1;33m\u001b[0m\u001b[0m\n\u001b[0;32m---> 11\u001b[0;31m \u001b[0mprint\u001b[0m\u001b[1;33m(\u001b[0m\u001b[1;36m10\u001b[0m \u001b[1;33m/\u001b[0m \u001b[0mn\u001b[0m\u001b[1;33m)\u001b[0m\u001b[1;33m\u001b[0m\u001b[0m\n\u001b[0m",
      "\u001b[0;31mZeroDivisionError\u001b[0m: division by zero"
     ]
    }
   ],
   "source": [
    "#!/usr/bin/env python3\n",
    "# -*- coding: utf-8 -*-\n",
    "\n",
    "import logging\n",
    "\n",
    "logging.basicConfig(level=logging.INFO)\n",
    "\n",
    "s = '0'\n",
    "n = int(s)\n",
    "logging.info('n = %d' % n)\n",
    "print(10 / n)"
   ]
  },
  {
   "cell_type": "markdown",
   "metadata": {},
   "source": [
    "level=logging.INFO 用于指定输出级别，logging.info('n = %d' % n) logging的级别为info。<br><br>"
   ]
  },
  {
   "cell_type": "markdown",
   "metadata": {},
   "source": [
    "```\n",
    "import logging# 导入logging模块\n",
    "\n",
    "LOG=logging.getLogger(’应用程序名’)# Logger通常对应了程序的模块名\n",
    "console = logging.StreamHandler()\n",
    "console.setLevel(logging.INFO)# 指定输出级别\n",
    "LOG.addHandler(console)\n",
    "\n",
    "logging.debug(’调试信息’)\n",
    "logging.info(’有用的信息’)\n",
    "logging.warning(’警告信息’)\n",
    "logging.error(’错误信息’)\n",
    "logging.critical(’严重错误信息’)\n",
    "```"
   ]
  },
  {
   "cell_type": "markdown",
   "metadata": {},
   "source": [
    "日志级别大小关系为：CRITICAL > ERROR > WARNING > INFO > DEBUG > NOTSET，当然也可以自己定义日志级别。"
   ]
  },
  {
   "cell_type": "code",
   "execution_count": 2,
   "metadata": {
    "collapsed": false
   },
   "outputs": [
    {
     "name": "stderr",
     "output_type": "stream",
     "text": [
      "INFO:root:This is info message\n",
      "WARNING:root:This is warning message\n"
     ]
    }
   ],
   "source": [
    "import logging\n",
    "\n",
    "logging.debug('This is debug message')\n",
    "logging.info('This is info message')\n",
    "logging.warning('This is warning message')"
   ]
  },
  {
   "cell_type": "markdown",
   "metadata": {},
   "source": [
    "默认情况下，logging将日志打印到屏幕，日志级别为WARNING。"
   ]
  },
  {
   "cell_type": "markdown",
   "metadata": {},
   "source": [
    "#### 日志级别\n",
    "|级别|何时使用|\n",
    "|--------|---------|\n",
    "|DEBUG|详细信息，典型地调试问题时会感兴趣。|\n",
    "|INFO|证明事情按预期工作。|\n",
    "|WARNING|表明发生了一些意外，或者不久的将来会发生问题（如‘磁盘满了’）。软件还是在正常工作。|\n",
    "|ERROR|由于更严重的问题，软件已不能执行一些功能了。|\n",
    "|CRITICAL|严重错误，表明软件已不能继续运行了。|"
   ]
  },
  {
   "cell_type": "markdown",
   "metadata": {},
   "source": [
    "#### 几个重要的概念\n",
    "\n",
    "    Logger 记录器，暴露了应用程序代码能直接使用的接口。\n",
    "    Handler 处理器，将（记录器产生的）日志记录发送至合适的目的地。\n",
    "    Filter 过滤器，提供了更好的粒度控制，它可以决定输出哪些日志记录。\n",
    "    Formatter 格式化器，指明了最终输出中日志记录的布局。"
   ]
  },
  {
   "cell_type": "markdown",
   "metadata": {},
   "source": [
    "#### 通过logging.basicConfig函数对日志的输出格式及方式做相关配置"
   ]
  },
  {
   "cell_type": "code",
   "execution_count": 3,
   "metadata": {
    "collapsed": false
   },
   "outputs": [
    {
     "name": "stderr",
     "output_type": "stream",
     "text": [
      "INFO:root:This is info message\n",
      "WARNING:root:This is warning message\n"
     ]
    }
   ],
   "source": [
    "import logging\n",
    "\n",
    "logging.basicConfig(level=logging.DEBUG,\n",
    "                format='%(asctime)s %(filename)s[line:%(lineno)d] %(levelname)s %(message)s',\n",
    "                datefmt='%a, %d %b %Y %H:%M:%S',\n",
    "                filename='myapp.log',\n",
    "                filemode='w')\n",
    "    \n",
    "logging.debug('This is debug message')\n",
    "logging.info('This is info message')\n",
    "logging.warning('This is warning message')\n",
    "\n",
    "# 需要在控制台执行此程序\n",
    "# myapp.log文件中内容为:\n",
    "'''\n",
    "Wed, 19 Jul 2017 12:01:14 <ipython-input-4-52de2159bc5d>[line:10] DEBUG This is debug message\n",
    "Wed, 19 Jul 2017 12:01:14 <ipython-input-4-52de2159bc5d>[line:11] INFO This is info message\n",
    "Wed, 19 Jul 2017 12:01:14 <ipython-input-4-52de2159bc5d>[line:12] WARNING This is warning message\n",
    "'''"
   ]
  },
  {
   "cell_type": "markdown",
   "metadata": {},
   "source": [
    "#### logging.basicConfig函数各参数:\n",
    "    filename: 指定日志文件名\n",
    "    filemode: 和file函数意义相同，指定日志文件的打开模式，'w'或'a'\n",
    "    format: 指定输出的格式和内容，format可以输出很多有用信息，如上例所示:\n",
    "         %(levelno)s: 打印日志级别的数值\n",
    "         %(levelname)s: 打印日志级别名称\n",
    "         %(pathname)s: 打印当前执行程序的路径，其实就是sys.argv[0]\n",
    "         %(filename)s: 打印当前执行程序名\n",
    "         %(funcName)s: 打印日志的当前函数\n",
    "         %(lineno)d: 打印日志的当前行号\n",
    "         %(asctime)s: 打印日志的时间\n",
    "         %(thread)d: 打印线程ID\n",
    "         %(threadName)s: 打印线程名称\n",
    "         %(process)d: 打印进程ID\n",
    "         %(message)s: 打印日志信息\n",
    "    datefmt: 指定时间格式，同time.strftime()\n",
    "    level: 设置日志级别，默认为logging.WARNING\n",
    "    stream: 指定将日志的输出流，可以指定输出到sys.stderr,sys.stdout或者文件，默认输出到sys.stderr。"
   ]
  }
 ],
 "metadata": {
  "kernelspec": {
   "display_name": "Python 3",
   "language": "python",
   "name": "python3"
  },
  "language_info": {
   "codemirror_mode": {
    "name": "ipython",
    "version": 3
   },
   "file_extension": ".py",
   "mimetype": "text/x-python",
   "name": "python",
   "nbconvert_exporter": "python",
   "pygments_lexer": "ipython3",
   "version": "3.6.0"
  }
 },
 "nbformat": 4,
 "nbformat_minor": 2
}
