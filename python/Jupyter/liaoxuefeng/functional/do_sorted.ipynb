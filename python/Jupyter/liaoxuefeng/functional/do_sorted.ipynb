{
 "cells": [
  {
   "cell_type": "markdown",
   "metadata": {
    "collapsed": true
   },
   "source": [
    "sorted()函数做普通函数时，就是一个起排序作用的函数。也可以做为一个高阶函数。\n",
    "\n",
    "#### 函数原型 ： sorted(sequence[, cmp[, key[, reverse]]]) ，作用是根据指定域进行排序。\n",
    "参数解释：\n",
    "1. sequence 指定要排序的list或者iterable。\n",
    "2. cmp 为函数，指定排序时进行比较的函数，可以指定一个函数或者lambda函数，如：\n",
    "    students为类对象的list，没个成员有三个域，用sorted进行比较时可以自己定cmp函数，\n",
    "    例如这里要通过比较**第三个数据成员**来排序，代码可以这样写：\n",
    "```\n",
    "students = [('john', 'A', 15), ('jane', 'B', 12), ('dave', 'B', 10)]\n",
    "sorted(students, key=lambda student : student[2])\n",
    "```   \n",
    "3. key 为函数，指定取待排序元素的哪一项进行排序，函数用上面的例子来说明，代码如下：\n",
    "```\n",
    "sorted(students, key=lambda student : student[2])\n",
    "```\n",
    "key指定的lambda函数功能是去元素student的第三个域（即：student[2]），因此sorted排序时，会以students所有元素的第三个域来进行排序。"
   ]
  },
  {
   "cell_type": "code",
   "execution_count": 1,
   "metadata": {
    "collapsed": true
   },
   "outputs": [],
   "source": [
    "#!usr/bin/env python3\n",
    "#-*- coding: utf-8 -*-\n",
    "\n",
    "from operator import itemgetter\n",
    "\n",
    "L = ['bob', 'about', 'Year', 'Credit']"
   ]
  },
  {
   "cell_type": "code",
   "execution_count": 2,
   "metadata": {
    "collapsed": false
   },
   "outputs": [
    {
     "data": {
      "text/plain": [
       "['Credit', 'Year', 'about', 'bob']"
      ]
     },
     "execution_count": 2,
     "metadata": {},
     "output_type": "execute_result"
    }
   ],
   "source": [
    "sorted(L)"
   ]
  },
  {
   "cell_type": "markdown",
   "metadata": {},
   "source": [
    "#### sorted()函数接收一个key函数来实现自定义的排序，key指定的函数将作用于list的每一个元素上，并根据key函数返回的结果进行排序"
   ]
  },
  {
   "cell_type": "code",
   "execution_count": 3,
   "metadata": {
    "collapsed": false
   },
   "outputs": [
    {
     "data": {
      "text/plain": [
       "['about', 'bob', 'Credit', 'Year']"
      ]
     },
     "execution_count": 3,
     "metadata": {},
     "output_type": "execute_result"
    }
   ],
   "source": [
    "sorted(L, key=str.lower)# sorted传入key函数,指定将list元素按照字符串转换为小写后，按照ASCII大小进行排序。"
   ]
  },
  {
   "cell_type": "code",
   "execution_count": 4,
   "metadata": {
    "collapsed": false
   },
   "outputs": [
    {
     "data": {
      "text/plain": [
       "['bob', 'Year', 'about', 'Credit']"
      ]
     },
     "execution_count": 4,
     "metadata": {},
     "output_type": "execute_result"
    }
   ],
   "source": [
    "sorted(L, key=len)"
   ]
  },
  {
   "cell_type": "markdown",
   "metadata": {},
   "source": [
    "#### 用sorted()排序的关键在于实现一个映射函数"
   ]
  },
  {
   "cell_type": "code",
   "execution_count": 5,
   "metadata": {
    "collapsed": false
   },
   "outputs": [
    {
     "data": {
      "text/plain": [
       "['Year', 'Credit', 'bob', 'about']"
      ]
     },
     "execution_count": 5,
     "metadata": {},
     "output_type": "execute_result"
    }
   ],
   "source": [
    "sorted(L, key=str.lower, reverse=True)# 增加第三个参数，reverse=True 表示进行反向排序。"
   ]
  },
  {
   "cell_type": "code",
   "execution_count": 6,
   "metadata": {
    "collapsed": false
   },
   "outputs": [],
   "source": [
    "students = [('Bob', 75), ('Adam', 92), ('Bart', 66), ('Lisa', 88)]"
   ]
  },
  {
   "cell_type": "code",
   "execution_count": 7,
   "metadata": {
    "collapsed": false,
    "scrolled": true
   },
   "outputs": [
    {
     "name": "stdout",
     "output_type": "stream",
     "text": [
      "[('Adam', 92), ('Bart', 66), ('Bob', 75), ('Lisa', 88)]\n"
     ]
    }
   ],
   "source": [
    "print(sorted(students, key=itemgetter(0)))# 获取对象的第0个的值"
   ]
  },
  {
   "cell_type": "code",
   "execution_count": 8,
   "metadata": {
    "collapsed": false
   },
   "outputs": [
    {
     "name": "stdout",
     "output_type": "stream",
     "text": [
      "[('Bart', 66), ('Bob', 75), ('Lisa', 88), ('Adam', 92)]\n"
     ]
    }
   ],
   "source": [
    "print(sorted(students, key=lambda t: t[1]))# 获取对象的第1个的值"
   ]
  },
  {
   "cell_type": "code",
   "execution_count": 9,
   "metadata": {
    "collapsed": false
   },
   "outputs": [
    {
     "name": "stdout",
     "output_type": "stream",
     "text": [
      "[('Adam', 92), ('Lisa', 88), ('Bob', 75), ('Bart', 66)]\n"
     ]
    }
   ],
   "source": [
    "print(sorted(students, key=itemgetter(1), reverse=True))"
   ]
  },
  {
   "cell_type": "markdown",
   "metadata": {},
   "source": [
    "#### 多级排序"
   ]
  },
  {
   "cell_type": "code",
   "execution_count": 10,
   "metadata": {
    "collapsed": false
   },
   "outputs": [
    {
     "name": "stdout",
     "output_type": "stream",
     "text": [
      "[('Adam', 71), ('Adam', 92), ('Bob', 75), ('Lisa', 75), ('Lisa', 88), ('bart', 66)]\n"
     ]
    }
   ],
   "source": [
    "#!usr/bin/env python3\n",
    "#-*- coding: utf-8 -*-\n",
    "\n",
    "from operator import itemgetter\n",
    "\n",
    "M=[('Bob',75),('Adam',92),('bart',66),('Lisa',88),('Adam',71),('Lisa',75)]\n",
    "\n",
    "# ①有同名的人，不同分数:('Adam',92)，('Adam',71)\n",
    "# ②不同的人，有相同的分数:('Bob',75)，('Lisa',75)\n",
    "\n",
    "# 先按名字的字母顺排序，如果有同名人的话，按分数从低到高（升顺）排序\n",
    "print(sorted(M, key = itemgetter(0, 1))) #多级排序，sortkey:index(0)⇒index(1)"
   ]
  },
  {
   "cell_type": "code",
   "execution_count": 11,
   "metadata": {
    "collapsed": false
   },
   "outputs": [
    {
     "name": "stdout",
     "output_type": "stream",
     "text": [
      "[('bart', 66), ('Adam', 71), ('Bob', 75), ('Lisa', 75), ('Lisa', 88), ('Adam', 92)]\n"
     ]
    }
   ],
   "source": [
    "# 先按分数（升顺）排序，如果有相同分数的话，按名字的字母顺排序\n",
    "print(sorted(M, key = itemgetter(1, 0))) #多级排序，sortkey:index(1)⇒index(0)"
   ]
  },
  {
   "cell_type": "code",
   "execution_count": 12,
   "metadata": {
    "collapsed": false
   },
   "outputs": [
    {
     "name": "stdout",
     "output_type": "stream",
     "text": [
      "[('bart', 66), ('Lisa', 88), ('Lisa', 75), ('Bob', 75), ('Adam', 92), ('Adam', 71)]\n"
     ]
    }
   ],
   "source": [
    "# 先按名字（降顺）排序，如果有同名人的话，按分数从高到低（降顺）排序\n",
    "print(sorted(M, key = itemgetter(0, 1), reverse = True)) #多级排序，逆序"
   ]
  }
 ],
 "metadata": {
  "kernelspec": {
   "display_name": "Python 3",
   "language": "python",
   "name": "python3"
  },
  "language_info": {
   "codemirror_mode": {
    "name": "ipython",
    "version": 3
   },
   "file_extension": ".py",
   "mimetype": "text/x-python",
   "name": "python",
   "nbconvert_exporter": "python",
   "pygments_lexer": "ipython3",
   "version": "3.6.0"
  }
 },
 "nbformat": 4,
 "nbformat_minor": 2
}
