{
 "cells": [
  {
   "cell_type": "markdown",
   "metadata": {},
   "source": [
    "参考链接：<br>\n",
    "http://www.cnblogs.com/wupeiqi/articles/4980620.html<br>\n",
    "https://foofish.net/decorator.html<br>\n",
    "https://foofish.net/decorator-with-paramter.html"
   ]
  },
  {
   "cell_type": "markdown",
   "metadata": {},
   "source": [
    "在面向对象（OOP）的设计模式中，decorator被称为装饰模式。OOP的装饰模式需要通过继承和组合来实现，而Python除了能支持OOP的decorator外，直接从语法层次支持decorator。Python的decorator可以用函数实现，也可以用类实现。\n",
    "\n",
    "代码要遵循开发封闭原则，虽然在这个原则是用的面向对象开发，但是也适用于函数式编程，简单来说，它规定已经实现的功能代码不允许被修改，但可以被扩展，即：\n",
    "#### 封闭：已实现的功能代码块\n",
    "#### 开放：对扩展开发\n",
    "\n",
    "第一篇博客中的例子很不错，切合实际。里面讲的段子就有些尴尬了，也许是因为大多数程序员都是一群闷骚，一言不合就开车的群体吧。<br><br>"
   ]
  },
  {
   "cell_type": "markdown",
   "metadata": {},
   "source": [
    "### 不带参数的装饰器"
   ]
  },
  {
   "cell_type": "code",
   "execution_count": 1,
   "metadata": {
    "collapsed": false
   },
   "outputs": [
    {
     "name": "stdout",
     "output_type": "stream",
     "text": [
      "*****\n",
      "now()\n",
      "this is now\n",
      "\n",
      "*****\n",
      "now1()\n",
      "this is now1\n",
      "\n",
      "*****\n",
      "now2()\n",
      "this is now2\n",
      "\n"
     ]
    }
   ],
   "source": [
    "#!usr/bin/env python3\n",
    "#-*- coding: utf-8 -*-\n",
    "\n",
    "def log(func):\n",
    "    def wrapper(*args, **kwargs):\n",
    "        print('*****\\n%s()' % func.__name__)\n",
    "        return func(*args)\n",
    "    return wrapper\n",
    "\n",
    "@log\n",
    "def now():\n",
    "    print('this is now\\n')\n",
    "\n",
    "@log\n",
    "def now1():\n",
    "    print('this is now1\\n')\n",
    "    \n",
    "@log\n",
    "def now2():\n",
    "    print('this is now2\\n')\n",
    "\n",
    "now()\n",
    "now1()\n",
    "now2()"
   ]
  },
  {
   "cell_type": "markdown",
   "metadata": {},
   "source": [
    "当业务需求出现变更的时候，如现在要使得now1()打印``****``，而now()和now2()打印----。这时候我们需要在装饰器中带入参数，然后在封装的闭包中进行对参数进行判断。"
   ]
  },
  {
   "cell_type": "markdown",
   "metadata": {},
   "source": [
    "### 带参数的装饰器"
   ]
  },
  {
   "cell_type": "markdown",
   "metadata": {},
   "source": [
    "装饰器的语法允许我们在调用时，提供其它参数，比如@decorator(a)。这样，就为装饰器的编写和使用提供了更大的灵活性。"
   ]
  },
  {
   "cell_type": "code",
   "execution_count": 2,
   "metadata": {
    "collapsed": false
   },
   "outputs": [
    {
     "name": "stdout",
     "output_type": "stream",
     "text": [
      "*****\n",
      "now()\n",
      "this is now\n",
      "\n",
      "-----\n",
      "now1()\n",
      "this is now1\n",
      "\n",
      "*****\n",
      "now2()\n",
      "this is now2\n",
      "\n"
     ]
    }
   ],
   "source": [
    "#!usr/bin/env python3\n",
    "#-*- coding: utf-8 -*-\n",
    "\n",
    "def log(level='now'):# 使用默认参数\n",
    "    def decorator(func):\n",
    "        def wrapper(*args, **kw):\n",
    "            if level == \"now\":\n",
    "                print('*****\\n%s()' % func.__name__)\n",
    "            else:\n",
    "                print('-----\\n%s()' % func.__name__)\n",
    "            return func(*args)\n",
    "        return wrapper\n",
    "    return decorator\n",
    "\n",
    "@log()# 由于定义装饰器log时，使用了默认参数，所以这里的装饰器必须参入参数。此时参数为空\n",
    "def now():\n",
    "    print('this is now\\n')\n",
    "\n",
    "@log(level='now1')\n",
    "def now1():\n",
    "    print('this is now1\\n')\n",
    "\n",
    "@log()\n",
    "def now2():\n",
    "    print('this is now2\\n')\n",
    "\n",
    "now()\n",
    "now1()\n",
    "now2()"
   ]
  },
  {
   "cell_type": "markdown",
   "metadata": {},
   "source": [
    "上面的log是允许带参数的装饰器。它实际上是对原有装饰器的一个函数封装，并返回一个装饰器。我们可以将它理解为一个含有参数的闭包。当我们使用@log(level=\"now1\")调用的时候，Python能够发现这一层的封装，并把参数传递到装饰器的环境中。"
   ]
  },
  {
   "cell_type": "markdown",
   "metadata": {},
   "source": [
    "### 类装饰器"
   ]
  },
  {
   "cell_type": "markdown",
   "metadata": {},
   "source": [
    "再来看看类装饰器，相比函数装饰器，类装饰器具有灵活度大、高内聚、封装性等优点。使用类装饰器还可以依靠类内部的``__call__``方法，当使用 @ 形式将装饰器附加到函数上时，就会调用此方法。"
   ]
  },
  {
   "cell_type": "code",
   "execution_count": 6,
   "metadata": {
    "collapsed": false
   },
   "outputs": [
    {
     "name": "stdout",
     "output_type": "stream",
     "text": [
      "class decorator runing\n",
      "bar\n",
      "class decorator ending\n"
     ]
    }
   ],
   "source": [
    "class Foo(object):\n",
    "    def __init__(self, func):\n",
    "        self._func = func\n",
    "\n",
    "    def __call__(self):\n",
    "        print ('class decorator runing')\n",
    "        self._func()\n",
    "        print ('class decorator ending')\n",
    "\n",
    "@Foo# 装饰器本质上是一个 Python 函数或类\n",
    "def bar():\n",
    "    print ('bar')\n",
    "\n",
    "bar()"
   ]
  },
  {
   "cell_type": "markdown",
   "metadata": {},
   "source": [
    "### functools.wraps"
   ]
  },
  {
   "cell_type": "markdown",
   "metadata": {
    "collapsed": true
   },
   "source": [
    "使用装饰器极大地复用了代码，但是他有一个缺点就是原函数的元信息不见了，比如函数的``docstring、__name__``、参数列表，先看例子："
   ]
  },
  {
   "cell_type": "code",
   "execution_count": 4,
   "metadata": {
    "collapsed": false
   },
   "outputs": [
    {
     "name": "stdout",
     "output_type": "stream",
     "text": [
      "with_log\n",
      "None\n"
     ]
    }
   ],
   "source": [
    "# 装饰器\n",
    "\n",
    "def log(func):\n",
    "    def with_log(*args, **kwargs):\n",
    "        print(func.__name__ + \" was called\")\n",
    "        return func(*args, **kwargs)\n",
    "    return with_log\n",
    "\n",
    "# 函数\n",
    "@log# 等价于f = log(f)\n",
    "def f(x):\n",
    "   \"\"\"does some math\"\"\"# __doc__\n",
    "   return x + x * x\n",
    "    \n",
    "print(f.__name__)\n",
    "print(f.__doc__)"
   ]
  },
  {
   "cell_type": "markdown",
   "metadata": {},
   "source": [
    "**``@log``等价于f = log(f)**，函数f被with_logging取代了，当然它的``docstring，__name__``就是变成了with_logging函数的信息了。<br><br>"
   ]
  },
  {
   "cell_type": "markdown",
   "metadata": {},
   "source": [
    "这个问题就比较严重的，好在我们有**functools.wraps**，wraps本身也是一个装饰器，它能把原函数的元信息拷贝到装饰器函数中，这使得装饰器函数也有和原函数一样的元信息了。"
   ]
  },
  {
   "cell_type": "code",
   "execution_count": 5,
   "metadata": {
    "collapsed": false
   },
   "outputs": [
    {
     "name": "stdout",
     "output_type": "stream",
     "text": [
      "f\n",
      "does some math\n"
     ]
    }
   ],
   "source": [
    "from functools import wraps\n",
    "\n",
    "# 装饰器\n",
    "def log(func):\n",
    "    @wraps(func)\n",
    "    def with_log(*args, **kwargs):\n",
    "        print(func.__name__ + \" was called\")\n",
    "        return func(*args, **kwargs)\n",
    "    return with_log\n",
    "\n",
    "# 函数\n",
    "@log\n",
    "def f(x):\n",
    "   \"\"\"does some math\"\"\"# __doc__\n",
    "   return x + x * x\n",
    "    \n",
    "print(f.__name__)\n",
    "print(f.__doc__)"
   ]
  },
  {
   "cell_type": "markdown",
   "metadata": {},
   "source": [
    "### 内置装饰器"
   ]
  },
  {
   "cell_type": "markdown",
   "metadata": {},
   "source": [
    "**@staticmathod**         静态方法<br>\n",
    "**@classmethod**         类方法<br>\n",
    "**@property**            方法变属性<br>"
   ]
  },
  {
   "cell_type": "markdown",
   "metadata": {},
   "source": [
    "### 装饰器的顺序"
   ]
  },
  {
   "cell_type": "markdown",
   "metadata": {},
   "source": [
    "``\n",
    "@a\n",
    "@b\n",
    "@c\n",
    "def f ():\n",
    "    pass\n",
    "``"
   ]
  },
  {
   "cell_type": "markdown",
   "metadata": {},
   "source": [
    "等效与"
   ]
  },
  {
   "cell_type": "markdown",
   "metadata": {},
   "source": [
    "f = a(b(c(f)))"
   ]
  }
 ],
 "metadata": {
  "kernelspec": {
   "display_name": "Python 3",
   "language": "python",
   "name": "python3"
  },
  "language_info": {
   "codemirror_mode": {
    "name": "ipython",
    "version": 3
   },
   "file_extension": ".py",
   "mimetype": "text/x-python",
   "name": "python",
   "nbconvert_exporter": "python",
   "pygments_lexer": "ipython3",
   "version": "3.6.0"
  }
 },
 "nbformat": 4,
 "nbformat_minor": 2
}
