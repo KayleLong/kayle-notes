{
 "cells": [
  {
   "cell_type": "markdown",
   "metadata": {},
   "source": [
    "### 数据结构的基本概念"
   ]
  },
  {
   "cell_type": "markdown",
   "metadata": {},
   "source": [
    "#### 数据\n",
    "数据是信息的载体，是描述客观事物属性的数、字符以及所有能输入到计算机中被计算机程序识别和处理的符号的集合。"
   ]
  },
  {
   "cell_type": "markdown",
   "metadata": {},
   "source": [
    "#### 数据元素\n",
    "数据元素是数据的基本单位，一个数据元素可以由多个数据项组成。数据项是构成数据元素的不可分割的最小单位。"
   ]
  },
  {
   "cell_type": "markdown",
   "metadata": {},
   "source": [
    "#### 抽象数据类型 Abstract Data Type\n",
    "抽象数据类型(ADT)是指一个数学模型以及定义在该模型上的一组操作。"
   ]
  },
  {
   "cell_type": "markdown",
   "metadata": {},
   "source": [
    "#### 数据结构\n",
    "数据结构是相互之间存在一种或多种特定关系的数据元素的集合。\n",
    "\n",
    "数据结构的内容：**逻辑结构、存储结构、数据的运算**"
   ]
  },
  {
   "cell_type": "markdown",
   "metadata": {},
   "source": [
    "#### 数据的逻辑结构\n",
    "逻辑结构是指数据之间的逻辑关系，它与数据的存储无关，是独立于计算机的。\n",
    "\n",
    "数据的逻辑结构分为线性结构和非线性结构。\n",
    "\n",
    "线性表是典型的线性结构，集合、树和图是典型的非线性结构。\n",
    "\n",
    "|结构|关系|\n",
    "|---|---|\n",
    "|集合|结构中的数据元素之间除了**‘同属于一个集合’**的关系外，没有其他关系|\n",
    "|线性结构|结构中的数据元素之间只存在**一对一**关系|\n",
    "|树形关系|结构中的数据元素之间存在**一对多**关系|\n",
    "|图状结构|结构中的数据元素之间存在**多对多**关系|"
   ]
  },
  {
   "cell_type": "markdown",
   "metadata": {},
   "source": []
  },
  {
   "cell_type": "markdown",
   "metadata": {},
   "source": []
  },
  {
   "cell_type": "markdown",
   "metadata": {},
   "source": []
  },
  {
   "cell_type": "markdown",
   "metadata": {},
   "source": []
  },
  {
   "cell_type": "markdown",
   "metadata": {},
   "source": []
  }
 ],
 "metadata": {
  "kernelspec": {
   "display_name": "Python 3",
   "language": "python",
   "name": "python3"
  },
  "language_info": {
   "codemirror_mode": {
    "name": "ipython",
    "version": 3
   },
   "file_extension": ".py",
   "mimetype": "text/x-python",
   "name": "python",
   "nbconvert_exporter": "python",
   "pygments_lexer": "ipython3",
   "version": "3.4.5"
  }
 },
 "nbformat": 4,
 "nbformat_minor": 2
}
