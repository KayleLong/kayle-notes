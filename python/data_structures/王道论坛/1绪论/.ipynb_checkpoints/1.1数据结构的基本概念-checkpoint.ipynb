{
 "cells": [
  {
   "cell_type": "markdown",
   "metadata": {},
   "source": [
    "#### 1.  基本概念和术语"
   ]
  },
  {
   "cell_type": "markdown",
   "metadata": {},
   "source": [
    "##### 数据\n",
    "数据是信息的载体，是描述客观事物属性的数、字符以及能够输入到计算机中并被计算机程序识别和处理的符号的集合。"
   ]
  },
  {
   "cell_type": "markdown",
   "metadata": {},
   "source": [
    "##### 数据元素\n",
    "数据元素是数据的基本单位，一个数据元素可以由多个数据项组成。数据项是构成数据元素的不可分割的最小单位。"
   ]
  },
  {
   "cell_type": "markdown",
   "metadata": {},
   "source": [
    "##### 数据类型\n",
    "数据类型是**一个值的集合**和定义在此集合上**一组操作的总称**\n",
    "1. 原子类型：其值不可再分的数据类型。\n",
    "2. 结构类型：其值可以再分解为若干成分的数据类型。\n",
    "3. 抽象数据类型：抽象数据组织(属性)和与之相关的操作(方法)。"
   ]
  },
  {
   "cell_type": "markdown",
   "metadata": {},
   "source": [
    "##### 抽象数据类型 Abstract Data Type\n",
    "抽象数据类型(ADT)是指一个数学模型以及定义在该模型上的一组操作。<br>\n",
    "通常用**数据对象、数据关系、基本操作集**这样的三元组来表示抽象数据类型。**从而构成了一个完整的数据结构定义**。"
   ]
  },
  {
   "cell_type": "markdown",
   "metadata": {},
   "source": [
    "##### 数据结构\n",
    "数据结构是相互之间存在一种或多种特定关系的数据元素的集合。\n",
    "\n",
    "数据结构包括三方面的内容：**逻辑结构、存储结构、数据的运算**\n",
    "\n",
    "数据的逻辑结构和存储结构式密不可分的两个方面，一个算法的**设计**取决于所选定的逻辑结构，而算法的**实现**依赖于所采用的存储结构。\n",
    "\n",
    "**注：需要理解设计与实现的概念与区别**"
   ]
  },
  {
   "cell_type": "markdown",
   "metadata": {},
   "source": [
    "<br>\n",
    "#### 2. 数据结构的三要素"
   ]
  },
  {
   "cell_type": "markdown",
   "metadata": {},
   "source": [
    "##### 数据的逻辑结构\n",
    "逻辑结构是指数据之间的逻辑关系，它与数据的存储无关，是独立于计算机的。\n",
    "\n",
    "数据的逻辑结构分为线性结构和非线性结构。\n",
    "\n",
    "线性表是典型的线性结构，集合、树和图是典型的非线性结构。\n",
    "\n",
    "|结构|关系|\n",
    "|---|---|\n",
    "|集合|结构中的数据元素之间除了**‘同属于一个集合’**的关系外，没有其他关系|\n",
    "|线性结构|结构中的数据元素之间只存在**一对一**关系|\n",
    "|树形关系|结构中的数据元素之间存在**一对多**关系|\n",
    "|图状结构|结构中的数据元素之间存在**多对多**关系|"
   ]
  }
 ],
 "metadata": {
  "kernelspec": {
   "display_name": "Python 2",
   "language": "python",
   "name": "python2"
  },
  "language_info": {
   "codemirror_mode": {
    "name": "ipython",
    "version": 2
   },
   "file_extension": ".py",
   "mimetype": "text/x-python",
   "name": "python",
   "nbconvert_exporter": "python",
   "pygments_lexer": "ipython2",
   "version": "2.7.13"
  }
 },
 "nbformat": 4,
 "nbformat_minor": 2
}
