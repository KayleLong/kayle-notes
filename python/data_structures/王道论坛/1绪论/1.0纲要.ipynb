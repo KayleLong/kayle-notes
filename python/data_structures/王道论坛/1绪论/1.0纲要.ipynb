{
 "cells": [
  {
   "cell_type": "markdown",
   "metadata": {},
   "source": [
    "### 复习要点\n",
    "1. 数据结构相关的概念和术语\n",
    "2. 数据结构的三要素：逻辑结构、物理结构和数据运算\n",
    "3. 算法的时间复杂度和空间复杂度的分析和计算"
   ]
  },
  {
   "cell_type": "markdown",
   "metadata": {},
   "source": [
    "- 绪论\n",
    "    - 三要素\n",
    "        - 逻辑结构\n",
    "            1. 线性结构：       线性表、栈、队列\n",
    "            2. 非线性结构：      树、图、集合\n",
    "        - 物理结构（存储结构）\n",
    "        - 数据运算\n",
    "    - 五个特征\n",
    "        - 算法的定义\n",
    "        - 五个特征\n",
    "            1. 有穷性\n",
    "            2. 确定性\n",
    "            3. 可行性\n",
    "            4. 输入\n",
    "            5. 输出\n",
    "        - 效率的度量\n",
    "            1. 时间复杂度\n",
    "            2. 空间复杂度"
   ]
  },
  {
   "cell_type": "markdown",
   "metadata": {},
   "source": [
    "### 目标：初步了解数据结构的基本内容和基本方法，分析算法的时间复杂度和空间复杂度是重点。"
   ]
  }
 ],
 "metadata": {
  "kernelspec": {
   "display_name": "Python 2",
   "language": "python",
   "name": "python2"
  },
  "language_info": {
   "codemirror_mode": {
    "name": "ipython",
    "version": 2
   },
   "file_extension": ".py",
   "mimetype": "text/x-python",
   "name": "python",
   "nbconvert_exporter": "python",
   "pygments_lexer": "ipython2",
   "version": "2.7.13"
  }
 },
 "nbformat": 4,
 "nbformat_minor": 2
}
