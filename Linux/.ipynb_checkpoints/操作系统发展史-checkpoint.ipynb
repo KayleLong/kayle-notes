{
 "cells": [
  {
   "cell_type": "markdown",
   "metadata": {},
   "source": [
    "##### Unix\n",
    "1969 年 Ken Thompson 以 BCPL 语言为基础，设计出很简单且\n",
    "很接近硬件的 B 语言（取BCPL的首字母），并且他用 B 语言 写了第一个 UNIX 操作系统\n",
    "Dennis M.Ritchie 加入了 Thompson 的开发项目，合作开发 UNIX，他的主要工作是改造B 语言，因为B 语言 的跨平台性较差\n",
    "1972 年，Dennis M.Ritchie 在 B 语言 的基础上最终设计出了一种新的语言，他取了 BCPL 的第二个字母作为这种语言的名字，这就是 C 语言\n",
    "1973 年初，C 语言的主体完成，Thompson 和 Ritchie 迫不及待地开始用它完全重写了现在大名鼎鼎的 Unix 操作系统\n",
    "\n",
    "##### C 语言\n",
    "在把 UNIX 移植到其他类型的计算机上使用时，C 语言强大的移植性（Portability）在此显现\n",
    "机器语言和汇编语言都不具有移植性，为 x86 开发的程序，不可能在 Alpha，SPARC 和 ARM 等机器上运行\n",
    "而 C 语言程序则可以使用在任意架构的处理器上，只要那种架构的处理器具有对应的C 语言编译器和库，然后将 C 源代码编译、连接成目标二进制文件之后即可运行\n",
    "\n",
    "##### Linux\n",
    "林纳斯 利用 GNU 的 bash 当做开发环境，gcc 当做编译工具，编写了 Linux 内核。\n",
    "内核（kernel）是系统的心脏，是运行程序和管理像磁盘和打印机等硬件设备的核心程序，它提供了一个在裸设备与应用程序间的抽象层\n",
    "\n",
    "Linux 内核版本又分为 稳定版 和 开发版，两种版本是相互关联，相互循环\n",
    "稳定版：具有工业级强度，可以广泛地应用和部署。新的稳定版相对于较旧的只是修正一些 bug 或加入一些新的驱动程序\n",
    "开发版：由于要试验各种解决方案，所以变化很快"
   ]
  }
 ],
 "metadata": {
  "kernelspec": {
   "display_name": "Python 3",
   "language": "python",
   "name": "python3"
  },
  "language_info": {
   "codemirror_mode": {
    "name": "ipython",
    "version": 3
   },
   "file_extension": ".py",
   "mimetype": "text/x-python",
   "name": "python",
   "nbconvert_exporter": "python",
   "pygments_lexer": "ipython3",
   "version": "3.5.4"
  }
 },
 "nbformat": 4,
 "nbformat_minor": 2
}
