{
 "cells": [
  {
   "cell_type": "markdown",
   "metadata": {},
   "source": [
    "# 配置软件源"
   ]
  },
  {
   "cell_type": "markdown",
   "metadata": {},
   "source": [
    "###### Date:2020.04.14\n",
    "###### Code:Kayle Long\n",
    "###### Note:\n",
    "###### Update:"
   ]
  },
  {
   "cell_type": "markdown",
   "metadata": {},
   "source": [
    "如果希望在 ubuntu 中安装软件，更加快速，可以通过设置镜像源，选择一个访问网\n",
    "速更快的服务器，来提供软件下载／安装服务\n",
    "提示：更换服务器之后，需要一个相对比较长时间的更新过程，需要耐心等待。更新\n",
    "完成后，再安装软件都会从新设置的服务器下载软件了\n",
    "所谓镜像源，就是所有服务器的内容是相同的（镜像），但是根据所在\n",
    "位置不同，国内服务器通常速度会更快一些！"
   ]
  }
 ],
 "metadata": {
  "kernelspec": {
   "display_name": "Python 3",
   "language": "python",
   "name": "python3"
  },
  "language_info": {
   "codemirror_mode": {
    "name": "ipython",
    "version": 3
   },
   "file_extension": ".py",
   "mimetype": "text/x-python",
   "name": "python",
   "nbconvert_exporter": "python",
   "pygments_lexer": "ipython3",
   "version": "3.5.4"
  }
 },
 "nbformat": 4,
 "nbformat_minor": 2
}
