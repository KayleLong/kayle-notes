{
 "cells": [
  {
   "cell_type": "markdown",
   "metadata": {},
   "source": [
    "# 操作系统（Operation System，OS）"
   ]
  },
  {
   "cell_type": "markdown",
   "metadata": {
    "collapsed": true
   },
   "source": [
    "### 操作系统的作用\n",
    "\n",
    "```\n",
    "是现代计算机系统中 最基本和最重要 的系统软件\n",
    "是配置在计算机硬件上的第一层软件，是对硬件系统的首次扩展\n",
    "\n",
    "主要作用是管理好硬件设备，并为用户和应用程序提供一个简单的接口，以便于使用\n",
    "而其他的诸如编译程序、数据库管理系统，以及大量的应用软件，都直接依赖于操作系统的支持\n",
    "```"
   ]
  },
  {
   "cell_type": "markdown",
   "metadata": {},
   "source": [
    "#### 不同应用领域的主流操作系统\n",
    "```\n",
    "桌面操作系统\n",
    "\tWindows 系列\t用户群体大\n",
    "\tmacOS\t\t\t适合于开发人员\n",
    "\tLinux\t\t\t应用软件少\n",
    "服务器操作系统\n",
    "\tLinux\n",
    "\t\t\t\t\t安全、稳定、免费\n",
    "\t\t\t\t\t占有率高\n",
    "\tWindows Server\n",
    "\t\t\t\t\t付费\n",
    "\t\t\t\t\t占有率低\n",
    "嵌入式操作系统\n",
    "\tLinux\n",
    "移动设备操作系统\n",
    "\tiOS\n",
    "\tAndroid（基于 Linux ）\n",
    "```"
   ]
  },
  {
   "cell_type": "markdown",
   "metadata": {},
   "source": [
    "#### 虚拟机\n",
    "虚拟机（Virtual Machine）指通过软件模拟的具有完整硬件系统功能的、运行在一个**完全隔离**环境中的完整计算机系统。\n",
    "虚拟系统通过生成现有操作系统的全新虚拟镜像，具有真实操作系统完全一样的功能,进入虚拟系统后，所有操作都是在这个全新的独立的虚拟系统里面进行，可以独立安装运行软件，保存数据，拥有自己的独立桌面，不会对真正的系统产生任何影响,而且能够在现有系统与虚拟镜像之间灵活切换的一类操作系统。"
   ]
  }
 ],
 "metadata": {
  "kernelspec": {
   "display_name": "Python 3",
   "language": "python",
   "name": "python3"
  },
  "language_info": {
   "codemirror_mode": {
    "name": "ipython",
    "version": 3
   },
   "file_extension": ".py",
   "mimetype": "text/x-python",
   "name": "python",
   "nbconvert_exporter": "python",
   "pygments_lexer": "ipython3",
   "version": "3.6.2"
  }
 },
 "nbformat": 4,
 "nbformat_minor": 2
}
