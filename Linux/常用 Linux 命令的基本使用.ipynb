{
 "cells": [
  {
   "cell_type": "markdown",
   "metadata": {},
   "source": [
    "# 常用Linux命令"
   ]
  },
  {
   "cell_type": "markdown",
   "metadata": {},
   "source": [
    "###### Date:2020.04.14\n",
    "###### Code:Kayle Long\n",
    "###### Note:\n",
    "###### Update:"
   ]
  },
  {
   "cell_type": "markdown",
   "metadata": {},
   "source": [
    "### 终端命令格式"
   ]
  },
  {
   "cell_type": "markdown",
   "metadata": {},
   "source": [
    "command [-options] [parameter]\n",
    "\n",
    "说明：\n",
    "```\n",
    "command ：命令名，相应功能的英文单词或单词的缩写\n",
    "[-options] ：选项，可用来对命令进行控制，也可以省略\n",
    "parameter ：传给命令的参数，可以是 零个、一个 或者 多个\n",
    "[] 代表可选\n",
    "```"
   ]
  },
  {
   "cell_type": "markdown",
   "metadata": {},
   "source": [
    "### 常用命令\n",
    "\n",
    "|命令|对应英文|作用|\n",
    "|--|--|--|\n",
    "|ls|list|查看当前文件夹下的内容|\n",
    "|pwd|print wrok directory|查看当前所在文件夹|\n",
    "|cd [目录名]|change directory|切换文件夹|\n",
    "|touch [文件名]|touch|如果文件不存在，新建文件|\n",
    "|mkdir [目录名]|make directory|创建目录|\n",
    "|rm [文件名]|remove|删除指定的文件名|\n",
    "|clear|clear|清屏|"
   ]
  },
  {
   "cell_type": "markdown",
   "metadata": {},
   "source": [
    "### 命令详解"
   ]
  },
  {
   "cell_type": "markdown",
   "metadata": {},
   "source": [
    "#### 查看目录内容\tls"
   ]
  },
  {
   "cell_type": "markdown",
   "metadata": {},
   "source": [
    "|参数|含义|\n",
    "|---|--|\n",
    "|-a|显示指定目录下所有子目录与文件，包括隐藏文件|\n",
    "|-l|以列表方式显示文件的详细信息|\n",
    "|-h|配合 -l 以人性化的方式显示文件大小|"
   ]
  },
  {
   "cell_type": "markdown",
   "metadata": {},
   "source": [
    "#### 切换目录 cd"
   ]
  },
  {
   "cell_type": "markdown",
   "metadata": {},
   "source": [
    "|命令|含义|\n",
    "|--|--|\n",
    "|cd | 切换到当前用户的主目录(/home/用户目录)|\n",
    "|cd ~| 切换到当前用户的主目录(/home/用户目录)|\n",
    "|cd .|保持在当前目录不变|\n",
    "|cd ..|切换到上级目录|\n",
    "|cd -|可以在最近两次工作目录之间来回切换|"
   ]
  },
  {
   "cell_type": "markdown",
   "metadata": {},
   "source": [
    "#### 删除操作 rm"
   ]
  },
  {
   "cell_type": "markdown",
   "metadata": {},
   "source": [
    "|选项|含义|\n",
    "|--|--|\n",
    "|-f|强制删除，忽略不存在的文件，无需提示|\n",
    "|-r|递归地删除目录下的内容，删除文件夹 时必须加此参数|"
   ]
  },
  {
   "cell_type": "markdown",
   "metadata": {},
   "source": [
    "#### 拷贝和移动文件 cp mv"
   ]
  },
  {
   "cell_type": "markdown",
   "metadata": {},
   "source": [
    "|命令|对应英文|作用|选项|含义|\n",
    "|--|--|--|--|--|\n",
    "|tree [目录名]|tree|以树状图列出文件目录结构|||\n",
    "||||-d|只显示目录|\n",
    "|cp 源文件 目标文件|copy|复制文件或者目录|||\n",
    "||||-i|覆盖文件前提示|\n",
    "||||-r|若给出的源文件是目录文件，则 cp将递归复制该目录下的所有子目录和文件，目标文件必须为一个目录名|\n",
    "|mv 源文件 目标文件|move|移动文件或者目录／文件或者目录重命名|||"
   ]
  },
  {
   "cell_type": "markdown",
   "metadata": {},
   "source": [
    "#### 修改权限 chmod"
   ]
  },
  {
   "cell_type": "markdown",
   "metadata": {},
   "source": [
    "|命令|含义|\n",
    "|--|--|\n",
    "|chmod +/-rwx 文件名/目录名|修改文件夹/目录的读写权限|"
   ]
  },
  {
   "cell_type": "markdown",
   "metadata": {},
   "source": [
    "#### 查看文件内容 cat more grep"
   ]
  },
  {
   "cell_type": "markdown",
   "metadata": {},
   "source": [
    "|命令|对应英文|作用|选项|含义|\n",
    "|--|--|--|--|--|\n",
    "|cat|concatenate(连结)|查看文件内容、创建文件、文件合并、追加文件内容等功能|||\n",
    "|more 文件名|more|分屏显示文件内容|||\n",
    "|grep 文件夹/文件名|grep|搜索文本文件内容|||\n",
    "||||-n|显示匹配行及行号|\n",
    "||||-v|显示不包含匹配文本的所有行（相当于求反）|\n",
    "||||-i|忽略大小写|"
   ]
  },
  {
   "cell_type": "markdown",
   "metadata": {},
   "source": [
    "#### 时间和日期"
   ]
  },
  {
   "cell_type": "markdown",
   "metadata": {},
   "source": [
    "|命令|对应英文|作用|选项|含义|\n",
    "|--|--|--|--|--|\n",
    "|date|date|查看系统时间|||\n",
    "|cal|calender|查看日历|||\n",
    "||||-y| 可以查看一年的日历|"
   ]
  },
  {
   "cell_type": "markdown",
   "metadata": {},
   "source": [
    "#### 磁盘和目录空间"
   ]
  },
  {
   "cell_type": "markdown",
   "metadata": {},
   "source": [
    "|命令|对应英文|作用|\n",
    "|--|--|--|\n",
    "|df|disk fee|显示磁盘剩余空间|\n",
    "|du [目录名]|disk usage|显示目录下的文件大小|"
   ]
  },
  {
   "cell_type": "markdown",
   "metadata": {},
   "source": [
    "#### 进程信息"
   ]
  },
  {
   "cell_type": "markdown",
   "metadata": {},
   "source": [
    "|命令|对应英文|作用|\n",
    "|--|--|--|\n",
    "|ps|process status|查看进程的详细状况|\n",
    "|top|top|动态显示运行中的进程并且排序|\n",
    "|kill [-9] 进程号|kill|终止指定代号的进程，-9 表示强行终止|"
   ]
  },
  {
   "cell_type": "markdown",
   "metadata": {},
   "source": [
    "### 其他命令"
   ]
  },
  {
   "cell_type": "markdown",
   "metadata": {},
   "source": []
  },
  {
   "cell_type": "markdown",
   "metadata": {},
   "source": []
  },
  {
   "cell_type": "markdown",
   "metadata": {},
   "source": []
  },
  {
   "cell_type": "markdown",
   "metadata": {},
   "source": []
  },
  {
   "cell_type": "markdown",
   "metadata": {},
   "source": [
    "### 打包和压缩"
   ]
  },
  {
   "cell_type": "markdown",
   "metadata": {},
   "source": []
  },
  {
   "cell_type": "markdown",
   "metadata": {},
   "source": []
  },
  {
   "cell_type": "markdown",
   "metadata": {},
   "source": []
  },
  {
   "cell_type": "markdown",
   "metadata": {},
   "source": [
    "### 软件安装"
   ]
  },
  {
   "cell_type": "markdown",
   "metadata": {},
   "source": []
  },
  {
   "cell_type": "markdown",
   "metadata": {},
   "source": []
  },
  {
   "cell_type": "markdown",
   "metadata": {},
   "source": []
  },
  {
   "cell_type": "code",
   "execution_count": null,
   "metadata": {
    "collapsed": true
   },
   "outputs": [],
   "source": []
  },
  {
   "cell_type": "code",
   "execution_count": null,
   "metadata": {
    "collapsed": true
   },
   "outputs": [],
   "source": []
  }
 ],
 "metadata": {
  "kernelspec": {
   "display_name": "Python 3",
   "language": "python",
   "name": "python3"
  },
  "language_info": {
   "codemirror_mode": {
    "name": "ipython",
    "version": 3
   },
   "file_extension": ".py",
   "mimetype": "text/x-python",
   "name": "python",
   "nbconvert_exporter": "python",
   "pygments_lexer": "ipython3",
   "version": "3.5.4"
  }
 },
 "nbformat": 4,
 "nbformat_minor": 2
}
