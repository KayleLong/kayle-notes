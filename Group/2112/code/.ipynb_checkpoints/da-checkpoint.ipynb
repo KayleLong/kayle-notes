{
 "cells": [
  {
   "cell_type": "markdown",
   "metadata": {
    "collapsed": true
   },
   "source": [
    "### 主题：利用Python进行数据控制、处理、分析、展示等方面的具体细节和基本要点。\n",
    "<br>\n",
    "通过介绍Python编程和用于数据处理的库和工具环境,可以让需要掌握数据处理和对数据处理有兴趣的同学得到一个更宽阔的认识。</h3>"
   ]
  },
  {
   "cell_type": "markdown",
   "metadata": {
    "collapsed": true
   },
   "source": [
    "---\n",
    "# <center>1. 数据</center>"
   ]
  },
  {
   "cell_type": "markdown",
   "metadata": {
    "collapsed": true
   },
   "source": [
    "## 1.1 什么是数据\n",
    "这里出现的“数据”，究竟指的是什么呢？\n",
    "\n",
    "主要指的是**<font color=blue>结构化数据</font>**（structured data），这个含糊其辞的术语代指了所有通用格式的数据，例如：\n",
    "* 表格型数据，其中各列可能是不同的类型（字符串、数值、日期等）。比如保存在关系型数据库中或以制表符/逗号为分隔符的文本文件中的那些数据。\n",
    "* 多维数组（矩阵）。\n",
    "* 通过关键列（对于SQL用户而言，就是主键和外键）相互联系的多个表。\n",
    "* 间隔平均或不平均的时间序列。\n",
    "\n",
    "如果不太能理解的话，可以简单地理解为excel表中数据"
   ]
  },
  {
   "cell_type": "markdown",
   "metadata": {},
   "source": [
    "## 1.2 数据处理和分析的步骤\n",
    "尽管同学们各自的工作任务不同，但是数据的处理始终贯穿我们的学习。<br>\n",
    "其处理和分析的过程大致上可以分为这几步：\n",
    "1. <h4>获取数据</h4><br>\n",
    "      与外部世界交互，阅读编写多种文件格式和数据存储；\n",
    "2. <h4>数据准备</h4><br>\n",
    "      清洗、修改、结合、标准化、重塑、转换，以便于进行下一步的分析；\n",
    "3. <h4>转换数据</h4><br>\n",
    "  对旧的数据集进行数学和统计操作，生成新的数据集（例如，通过各组变量聚类成大的表）；\n",
    "4. <h4>建模和计算</h4><br>\n",
    "  将数据绑定统计模型、机器学习算法、或其他计算工具；\n",
    "5. <h4>展示</h4><br>\n",
    "  创建交互式和静态的图表可视化和文本总结。"
   ]
  },
  {
   "cell_type": "markdown",
   "metadata": {},
   "source": [
    "## 1.3 数据处理的常用操作\n",
    "\n",
    "这里的数据是针对结构化数据，即表格或者矩阵。\n",
    "\n",
    "|操作名称|函数|说明|\n",
    "|--|--|--|\n",
    "|读取excel|read_excel||\n",
    "|读取csv|read_csv||\n",
    "|选取前几列|iloc||\n",
    "|插入数据|insert|data.insert(loc = 1,column = 'x' , value = 1024)  在第二列插入指定列名的列  改变原来的data|\n",
    "|唯一值|unique||\n",
    "|合并|concat|pd.concat([data1, data2])  将多个列相同的数据集合并后再分析|\n",
    "|重置索引|reset_index|重组后的数据需要重置索引，通常发生在选择或排序操作后|\n",
    "|表连接|merge||\n",
    "|排序|sort|data.sort(reverse = True) 从小到大排|\n",
    "|分类汇总|groupby|data.groupby('year') 根据year列的值来进行分组|\n",
    "|应用函数|apply|data.apply(sum) 对所有数据进行某一个操作|"
   ]
  },
  {
   "cell_type": "markdown",
   "metadata": {},
   "source": [
    "## 1.4 数据集\n",
    "\n",
    "数据集(Data Set)是一个数据的集合，通常以<font color=blue>表格</font>形式出现。\n",
    "大部分数据集都能被转化为更加适合分析和建模的结构化形式，虽然有时这并不是很明显。\n",
    "\n",
    "如果不行的话，也可以将数据集的特征提取为某种结构化形式。例如，一组新闻文章可以被处理为一张词频表，而这张词频表就可以用于情感分析。"
   ]
  },
  {
   "cell_type": "markdown",
   "metadata": {},
   "source": [
    "**Excel文件**\n",
    "\n",
    "Top250.xls是豆瓣电影评分Top250的影片信息表，包括：片名、上映年份、评分、评价人数、导演、编剧、主演、类型、国家/地区、时长等信息。"
   ]
  },
  {
   "cell_type": "code",
   "execution_count": 1,
   "metadata": {
    "collapsed": false
   },
   "outputs": [
    {
     "ename": "FileNotFoundError",
     "evalue": "[Errno 2] No such file or directory: '../datasets/T.xls'",
     "output_type": "error",
     "traceback": [
      "\u001b[0;31m---------------------------------------------------------------------------\u001b[0m",
      "\u001b[0;31mFileNotFoundError\u001b[0m                         Traceback (most recent call last)",
      "\u001b[0;32m<ipython-input-1-a9e85c5ced5a>\u001b[0m in \u001b[0;36m<module>\u001b[0;34m()\u001b[0m\n\u001b[1;32m      5\u001b[0m \u001b[1;33m\u001b[0m\u001b[0m\n\u001b[1;32m      6\u001b[0m \u001b[0mpath\u001b[0m \u001b[1;33m=\u001b[0m \u001b[1;34m'../datasets/T.xls'\u001b[0m\u001b[1;33m\u001b[0m\u001b[0m\n\u001b[0;32m----> 7\u001b[0;31m \u001b[0mdataframe\u001b[0m \u001b[1;33m=\u001b[0m \u001b[0mpd\u001b[0m\u001b[1;33m.\u001b[0m\u001b[0mread_excel\u001b[0m\u001b[1;33m(\u001b[0m\u001b[0mpath\u001b[0m\u001b[1;33m,\u001b[0m \u001b[0msheetname\u001b[0m\u001b[1;33m=\u001b[0m\u001b[1;36m0\u001b[0m\u001b[1;33m,\u001b[0m \u001b[0mheader\u001b[0m\u001b[1;33m=\u001b[0m\u001b[1;36m0\u001b[0m\u001b[1;33m)\u001b[0m\u001b[1;33m\u001b[0m\u001b[0m\n\u001b[0m\u001b[1;32m      8\u001b[0m \u001b[0mdataframe\u001b[0m\u001b[1;33m.\u001b[0m\u001b[0mhead\u001b[0m\u001b[1;33m(\u001b[0m\u001b[1;36m10\u001b[0m\u001b[1;33m)\u001b[0m\u001b[1;33m\u001b[0m\u001b[0m\n",
      "\u001b[0;32mD:\\Anaconda3\\lib\\site-packages\\pandas\\util\\_decorators.py\u001b[0m in \u001b[0;36mwrapper\u001b[0;34m(*args, **kwargs)\u001b[0m\n\u001b[1;32m    116\u001b[0m                 \u001b[1;32melse\u001b[0m\u001b[1;33m:\u001b[0m\u001b[1;33m\u001b[0m\u001b[0m\n\u001b[1;32m    117\u001b[0m                     \u001b[0mkwargs\u001b[0m\u001b[1;33m[\u001b[0m\u001b[0mnew_arg_name\u001b[0m\u001b[1;33m]\u001b[0m \u001b[1;33m=\u001b[0m \u001b[0mnew_arg_value\u001b[0m\u001b[1;33m\u001b[0m\u001b[0m\n\u001b[0;32m--> 118\u001b[0;31m             \u001b[1;32mreturn\u001b[0m \u001b[0mfunc\u001b[0m\u001b[1;33m(\u001b[0m\u001b[1;33m*\u001b[0m\u001b[0margs\u001b[0m\u001b[1;33m,\u001b[0m \u001b[1;33m**\u001b[0m\u001b[0mkwargs\u001b[0m\u001b[1;33m)\u001b[0m\u001b[1;33m\u001b[0m\u001b[0m\n\u001b[0m\u001b[1;32m    119\u001b[0m         \u001b[1;32mreturn\u001b[0m \u001b[0mwrapper\u001b[0m\u001b[1;33m\u001b[0m\u001b[0m\n\u001b[1;32m    120\u001b[0m     \u001b[1;32mreturn\u001b[0m \u001b[0m_deprecate_kwarg\u001b[0m\u001b[1;33m\u001b[0m\u001b[0m\n",
      "\u001b[0;32mD:\\Anaconda3\\lib\\site-packages\\pandas\\io\\excel.py\u001b[0m in \u001b[0;36mread_excel\u001b[0;34m(io, sheet_name, header, skiprows, skip_footer, index_col, names, usecols, parse_dates, date_parser, na_values, thousands, convert_float, converters, dtype, true_values, false_values, engine, squeeze, **kwds)\u001b[0m\n\u001b[1;32m    228\u001b[0m \u001b[1;33m\u001b[0m\u001b[0m\n\u001b[1;32m    229\u001b[0m     \u001b[1;32mif\u001b[0m \u001b[1;32mnot\u001b[0m \u001b[0misinstance\u001b[0m\u001b[1;33m(\u001b[0m\u001b[0mio\u001b[0m\u001b[1;33m,\u001b[0m \u001b[0mExcelFile\u001b[0m\u001b[1;33m)\u001b[0m\u001b[1;33m:\u001b[0m\u001b[1;33m\u001b[0m\u001b[0m\n\u001b[0;32m--> 230\u001b[0;31m         \u001b[0mio\u001b[0m \u001b[1;33m=\u001b[0m \u001b[0mExcelFile\u001b[0m\u001b[1;33m(\u001b[0m\u001b[0mio\u001b[0m\u001b[1;33m,\u001b[0m \u001b[0mengine\u001b[0m\u001b[1;33m=\u001b[0m\u001b[0mengine\u001b[0m\u001b[1;33m)\u001b[0m\u001b[1;33m\u001b[0m\u001b[0m\n\u001b[0m\u001b[1;32m    231\u001b[0m \u001b[1;33m\u001b[0m\u001b[0m\n\u001b[1;32m    232\u001b[0m     return io._parse_excel(\n",
      "\u001b[0;32mD:\\Anaconda3\\lib\\site-packages\\pandas\\io\\excel.py\u001b[0m in \u001b[0;36m__init__\u001b[0;34m(self, io, **kwds)\u001b[0m\n\u001b[1;32m    292\u001b[0m             \u001b[0mself\u001b[0m\u001b[1;33m.\u001b[0m\u001b[0mbook\u001b[0m \u001b[1;33m=\u001b[0m \u001b[0mxlrd\u001b[0m\u001b[1;33m.\u001b[0m\u001b[0mopen_workbook\u001b[0m\u001b[1;33m(\u001b[0m\u001b[0mfile_contents\u001b[0m\u001b[1;33m=\u001b[0m\u001b[0mdata\u001b[0m\u001b[1;33m)\u001b[0m\u001b[1;33m\u001b[0m\u001b[0m\n\u001b[1;32m    293\u001b[0m         \u001b[1;32melif\u001b[0m \u001b[0misinstance\u001b[0m\u001b[1;33m(\u001b[0m\u001b[0mself\u001b[0m\u001b[1;33m.\u001b[0m\u001b[0m_io\u001b[0m\u001b[1;33m,\u001b[0m \u001b[0mcompat\u001b[0m\u001b[1;33m.\u001b[0m\u001b[0mstring_types\u001b[0m\u001b[1;33m)\u001b[0m\u001b[1;33m:\u001b[0m\u001b[1;33m\u001b[0m\u001b[0m\n\u001b[0;32m--> 294\u001b[0;31m             \u001b[0mself\u001b[0m\u001b[1;33m.\u001b[0m\u001b[0mbook\u001b[0m \u001b[1;33m=\u001b[0m \u001b[0mxlrd\u001b[0m\u001b[1;33m.\u001b[0m\u001b[0mopen_workbook\u001b[0m\u001b[1;33m(\u001b[0m\u001b[0mself\u001b[0m\u001b[1;33m.\u001b[0m\u001b[0m_io\u001b[0m\u001b[1;33m)\u001b[0m\u001b[1;33m\u001b[0m\u001b[0m\n\u001b[0m\u001b[1;32m    295\u001b[0m         \u001b[1;32melse\u001b[0m\u001b[1;33m:\u001b[0m\u001b[1;33m\u001b[0m\u001b[0m\n\u001b[1;32m    296\u001b[0m             raise ValueError('Must explicitly set engine if not passing in'\n",
      "\u001b[0;32mD:\\Anaconda3\\lib\\site-packages\\xlrd\\__init__.py\u001b[0m in \u001b[0;36mopen_workbook\u001b[0;34m(filename, logfile, verbosity, use_mmap, file_contents, encoding_override, formatting_info, on_demand, ragged_rows)\u001b[0m\n\u001b[1;32m    393\u001b[0m         \u001b[0mpeek\u001b[0m \u001b[1;33m=\u001b[0m \u001b[0mfile_contents\u001b[0m\u001b[1;33m[\u001b[0m\u001b[1;33m:\u001b[0m\u001b[0mpeeksz\u001b[0m\u001b[1;33m]\u001b[0m\u001b[1;33m\u001b[0m\u001b[0m\n\u001b[1;32m    394\u001b[0m     \u001b[1;32melse\u001b[0m\u001b[1;33m:\u001b[0m\u001b[1;33m\u001b[0m\u001b[0m\n\u001b[0;32m--> 395\u001b[0;31m         \u001b[1;32mwith\u001b[0m \u001b[0mopen\u001b[0m\u001b[1;33m(\u001b[0m\u001b[0mfilename\u001b[0m\u001b[1;33m,\u001b[0m \u001b[1;34m\"rb\"\u001b[0m\u001b[1;33m)\u001b[0m \u001b[1;32mas\u001b[0m \u001b[0mf\u001b[0m\u001b[1;33m:\u001b[0m\u001b[1;33m\u001b[0m\u001b[0m\n\u001b[0m\u001b[1;32m    396\u001b[0m             \u001b[0mpeek\u001b[0m \u001b[1;33m=\u001b[0m \u001b[0mf\u001b[0m\u001b[1;33m.\u001b[0m\u001b[0mread\u001b[0m\u001b[1;33m(\u001b[0m\u001b[0mpeeksz\u001b[0m\u001b[1;33m)\u001b[0m\u001b[1;33m\u001b[0m\u001b[0m\n\u001b[1;32m    397\u001b[0m     \u001b[1;32mif\u001b[0m \u001b[0mpeek\u001b[0m \u001b[1;33m==\u001b[0m \u001b[1;34mb\"PK\\x03\\x04\"\u001b[0m\u001b[1;33m:\u001b[0m \u001b[1;31m# a ZIP file\u001b[0m\u001b[1;33m\u001b[0m\u001b[0m\n",
      "\u001b[0;31mFileNotFoundError\u001b[0m: [Errno 2] No such file or directory: '../datasets/T.xls'"
     ]
    }
   ],
   "source": [
    "import warnings\n",
    "warnings.filterwarnings(\"ignore\")\n",
    "\n",
    "import pandas as pd\n",
    "\n",
    "path = '../datasets/Top250.xls'\n",
    "dataframe = pd.read_excel(path, sheetname=0, header=0)\n",
    "dataframe.head(10)"
   ]
  },
  {
   "cell_type": "markdown",
   "metadata": {},
   "source": [
    "**CSV文件**\n",
    "\n",
    ".csv文件是一种特殊格式的纯文本文件。即是一组字符序列，字符之间以英文字符的逗号或制表符（Tab）分隔。poem.csv文件是包含了唐代所有诗人和作品数量的数据集。"
   ]
  },
  {
   "cell_type": "code",
   "execution_count": null,
   "metadata": {
    "collapsed": false
   },
   "outputs": [],
   "source": [
    "import pandas as pd\n",
    "\n",
    "path = '../datasets/poem.csv'\n",
    "dataframe = pd.read_csv(path)\n",
    "dataframe.head(5)"
   ]
  },
  {
   "cell_type": "markdown",
   "metadata": {
    "collapsed": true
   },
   "source": [
    "---\n",
    "# <center>2. 常用的Python库</center>"
   ]
  },
  {
   "cell_type": "markdown",
   "metadata": {
    "collapsed": true
   },
   "source": [
    "Python库是指python中的完成一定功能的、提供用户使用的代码集合。<br>\n",
    "不同的Python库，有着不同的功能。下面我先对一些常用的Python库做一个简单的介绍。"
   ]
  },
  {
   "cell_type": "markdown",
   "metadata": {
    "collapsed": true
   },
   "source": [
    "## 1. 数据爬取\n",
    "\n",
    "|名称|作用|\n",
    "|--|--|\n",
    "|scrapy|网页采集、爬虫。|\n",
    "|scrapy-redis|分布式爬虫。|\n",
    "|selenium|web测试、仿真浏览器。|"
   ]
  },
  {
   "cell_type": "markdown",
   "metadata": {
    "collapsed": true
   },
   "source": [
    "## 2. 数据读取\n",
    "\n",
    "|名称|作用|\n",
    "|--|--|\n",
    "|beautifulsoup|网页解释库，提供lxml的支持|\n",
    "|lxml|xml解释库|\n",
    "|xlrd|excel文件读取|\n",
    "|xlwt|excel文件写入|\n",
    "|slutls|excel文件简单格式修改|\n",
    "|pywin32|excel文件的读取写入及复杂格式定制|\n",
    "|Python-docx|Word文件的读取写入|"
   ]
  },
  {
   "cell_type": "markdown",
   "metadata": {
    "collapsed": true
   },
   "source": [
    "## 3. 数据处理和分析\n",
    "\n",
    "|名称|作用|\n",
    "|--|--|\n",
    "|numpy|基于矩阵的数学计算库|\n",
    "|pandas|基于表格的统计分析库|\n",
    "|scipy|科学计算库，支持高阶抽象和复杂模型|\n",
    "|statsmodels|统计建模和计量经济学工具包|\n",
    "|scikit-learn|机器学习工具库|\n",
    "|gensim|自然语言处理工具库|\n",
    "|jieba|中文分词工具库|"
   ]
  },
  {
   "cell_type": "markdown",
   "metadata": {
    "collapsed": true
   },
   "source": [
    "## 4. 数据存储\n",
    "\n",
    "|名称|作用|\n",
    "|--|--|\n",
    "|MySQL-python|mysql的读写接口库|\n",
    "|mysqlclient|mysql的读写接口库|\n",
    "|SQLAlchemy|数据库的ORM封装|\n",
    "|pymysql|sqlserver读写接口库|\n",
    "|redis|redis的读写接口|\n",
    "|PyMongo|MongoDB的读写接口|"
   ]
  },
  {
   "cell_type": "markdown",
   "metadata": {
    "collapsed": true
   },
   "source": [
    "## 5. 数据展示\n",
    "\n",
    "|名称|作用|\n",
    "|--|--|\n",
    "|matplotlib|流行的数据可视化库|\n",
    "|seaborn|美观的数据可视化库，基于matplotlib|"
   ]
  },
  {
   "cell_type": "markdown",
   "metadata": {
    "collapsed": true
   },
   "source": [
    "---"
   ]
  },
  {
   "cell_type": "markdown",
   "metadata": {
    "collapsed": true
   },
   "source": [
    "我们来看一些真实世界的数据集。对于每个数据集，我们会使用一些数据处理常用的方法，从原始数据中提取有意义的内容。展示的方法也适用于其它数据集。\n"
   ]
  },
  {
   "cell_type": "markdown",
   "metadata": {
    "collapsed": true
   },
   "source": [
    "# <center>MovieLens 1M数据集</center>"
   ]
  },
  {
   "cell_type": "markdown",
   "metadata": {
    "collapsed": true
   },
   "source": [
    "## 数据内容\n",
    "MviesLens 1M数据集含有来自6000多名用户对4000部电影的100万条评分数据。它分为三个表：<br>\n",
    "\n",
    "* 评分(ratings.dat)<br>\n",
    "* 用户信息(users.dat)<br>\n",
    "* 电影信息(movies.dat)\n",
    "\n",
    "\n",
    "## 目标\n",
    "使用pandas对json格式的文本进行<font color=blue>数据处理和分析</font>(统计、排序)。\n",
    "\n",
    "1. 根据性别和年龄计算某部电影的平均得分\n",
    "2. 找出观众分歧最大的电影"
   ]
  },
  {
   "cell_type": "markdown",
   "metadata": {},
   "source": [
    "首先查看数据集"
   ]
  },
  {
   "cell_type": "code",
   "execution_count": null,
   "metadata": {
    "collapsed": false
   },
   "outputs": [],
   "source": [
    "!head -n 5 ../datasets/movielens/users.dat\n",
    "# UserID::Gender::Age::Occupation::Zip-code"
   ]
  },
  {
   "cell_type": "code",
   "execution_count": null,
   "metadata": {
    "collapsed": false
   },
   "outputs": [],
   "source": [
    "!head -n 5 ../datasets/movielens/ratings.dat\n",
    "# UserID::MovieID::Rating::Timestamp"
   ]
  },
  {
   "cell_type": "code",
   "execution_count": null,
   "metadata": {
    "collapsed": false
   },
   "outputs": [],
   "source": [
    "!head -n 5 ../datasets/movielens/movies.dat\n",
    "# MovieID::Title::Genres"
   ]
  },
  {
   "cell_type": "markdown",
   "metadata": {},
   "source": [
    "### 0.合并数据集"
   ]
  },
  {
   "cell_type": "code",
   "execution_count": null,
   "metadata": {
    "collapsed": true
   },
   "outputs": [],
   "source": [
    "# 设置工作路径\n",
    "rating_path = '../datasets/movielens/ratings.dat'\n",
    "user_path = '../datasets/movielens/users.dat'\n",
    "movie_path = '../datasets/movielens/movies.dat'"
   ]
  },
  {
   "cell_type": "code",
   "execution_count": null,
   "metadata": {
    "collapsed": true
   },
   "outputs": [],
   "source": [
    "import pandas as pd\n",
    "\n",
    "# 用户信息表中的内容 \n",
    "unames = ['user_id', 'gender', 'age', 'occupation', 'zip']\n",
    "users = pd.read_csv(user_path, sep='::', header=None, names=unames, engine='python')\n",
    "\n",
    "# 评分表中的内容\n",
    "rnames = ['user_id', 'movie_id', 'rating', 'timestamp']\n",
    "ratings = pd.read_csv(rating_path, sep='::', header=None, names=rnames, engine='python')\n",
    "\n",
    "# 电影信息表中的内容\n",
    "mnames = ['movie_id', 'title', 'genres']\n",
    "movies = pd.read_csv(movie_path, sep='::', header=None, names=mnames, engine='python')"
   ]
  },
  {
   "cell_type": "code",
   "execution_count": null,
   "metadata": {
    "collapsed": false
   },
   "outputs": [],
   "source": [
    "users[:5]"
   ]
  },
  {
   "cell_type": "code",
   "execution_count": null,
   "metadata": {
    "collapsed": false
   },
   "outputs": [],
   "source": [
    "ratings[:5]"
   ]
  },
  {
   "cell_type": "code",
   "execution_count": null,
   "metadata": {
    "collapsed": false
   },
   "outputs": [],
   "source": [
    "movies[:5]"
   ]
  },
  {
   "cell_type": "code",
   "execution_count": null,
   "metadata": {
    "collapsed": true
   },
   "outputs": [],
   "source": [
    "# 使用pandas的merge函数将三张表合并到一起\n",
    "data = pd.merge(pd.merge(ratings, users), movies)"
   ]
  },
  {
   "cell_type": "code",
   "execution_count": null,
   "metadata": {
    "collapsed": false
   },
   "outputs": [],
   "source": [
    "data"
   ]
  },
  {
   "cell_type": "code",
   "execution_count": null,
   "metadata": {
    "collapsed": false
   },
   "outputs": [],
   "source": [
    "# 查看第一个数据\n",
    "data.loc[0]"
   ]
  },
  {
   "cell_type": "markdown",
   "metadata": {
    "collapsed": true
   },
   "source": [
    "### 1. 按性别计算每部电影的平均得分\n",
    "即希望得到一个类似与下方内容一致的表格\n",
    "\n",
    "|电影名称|女性平均评分|男性平均评分|\n",
    "|--|--|--|\n",
    "|Toy Story (1995)|4.5|4.2|\n",
    "|Jumanji (1995)|4.6|4.3|\n",
    "|Grumpier Old Men (1995)|4.7|4.4|"
   ]
  },
  {
   "cell_type": "markdown",
   "metadata": {},
   "source": [
    "①对评分数据进行<font color=blue>聚合</font>操作"
   ]
  },
  {
   "cell_type": "code",
   "execution_count": null,
   "metadata": {
    "collapsed": false
   },
   "outputs": [],
   "source": [
    "# 指定index作为纵轴索引、columns作为横轴索引来观察指定的values值，另外aggfunc指定的是均值函数（mean）\n",
    "mean_ratings = data.pivot_table('rating', index='title', columns='gender', aggfunc='mean')\n",
    "mean_ratings[:5]"
   ]
  },
  {
   "cell_type": "markdown",
   "metadata": {},
   "source": [
    "②<font color=blue>过滤</font>掉评论较少(小于250)的数据"
   ]
  },
  {
   "cell_type": "code",
   "execution_count": null,
   "metadata": {
    "collapsed": false
   },
   "outputs": [],
   "source": [
    "# 对title分组\n",
    "ratings_by_title = data.groupby('title').size()\n",
    "ratings_by_title[:10]"
   ]
  },
  {
   "cell_type": "code",
   "execution_count": null,
   "metadata": {
    "collapsed": false
   },
   "outputs": [],
   "source": [
    "active_titles = ratings_by_title.index[ratings_by_title >= 250]\n",
    "mean_ratings = mean_ratings.loc[active_titles]\n",
    "mean_ratings"
   ]
  },
  {
   "cell_type": "markdown",
   "metadata": {},
   "source": [
    "③<font color=blue>排序</font>"
   ]
  },
  {
   "cell_type": "code",
   "execution_count": null,
   "metadata": {
    "collapsed": false
   },
   "outputs": [],
   "source": [
    "# 女性观众喜欢的电影，对F列降序排列\n",
    "top_female_ratings = mean_ratings.sort_values(by='F',  ascending=False)\n",
    "top_female_ratings[:10]"
   ]
  },
  {
   "cell_type": "markdown",
   "metadata": {},
   "source": [
    "### 2.计算评分分歧"
   ]
  },
  {
   "cell_type": "markdown",
   "metadata": {},
   "source": [
    "#### 方案一：找出女性和男性观众分歧最大的电影\n",
    "\n",
    "计算女性观众和男性观众的平均分之差，并对其排序"
   ]
  },
  {
   "cell_type": "code",
   "execution_count": null,
   "metadata": {
    "collapsed": false
   },
   "outputs": [],
   "source": [
    "mean_ratings['diff'] = mean_ratings['M'] - mean_ratings['F']\n",
    "sorted_by_diff = mean_ratings.sort_values(by='diff')\n",
    "sorted_by_diff[:5]"
   ]
  },
  {
   "cell_type": "code",
   "execution_count": null,
   "metadata": {
    "collapsed": false
   },
   "outputs": [],
   "source": [
    "# 先逆转，再取前15行\n",
    "sorted_by_diff[::-1][:5]"
   ]
  },
  {
   "cell_type": "markdown",
   "metadata": {},
   "source": [
    "#### 方案二：只找出分歧最大的电影\n",
    "不考虑性别因素，只考虑得分数据的方差或者标准差\n"
   ]
  },
  {
   "cell_type": "code",
   "execution_count": null,
   "metadata": {
    "collapsed": false
   },
   "outputs": [],
   "source": [
    "# 计算数据的方差\n",
    "rating_std_by_title = data.groupby('title')['rating'].std()\n",
    "# 根据active_titles进行过滤\n",
    "rating_std_by_title = rating_std_by_title.loc[active_titles]\n",
    "rating_std_by_title.sort_values(ascending=False)[:5]"
   ]
  },
  {
   "cell_type": "markdown",
   "metadata": {},
   "source": [
    "---\n",
    "# <center>names 数据集</center>"
   ]
  },
  {
   "cell_type": "markdown",
   "metadata": {},
   "source": [
    "# 数据内容\n",
    "一份从1880年到2010年的全美国婴儿名字频率数据。\n",
    "\n",
    "对于 1879 年之后的每一年 YYYY，创建了一个以逗号为分隔符的文件，名为yobYYYY.txt。 \n",
    "各个年度文件中的每条记录的格式为\n",
    "```\n",
    "name,sex,number\n",
    "```\n",
    "其中姓名是 2 到 15 个字符，性别是 M（男）或 F（女），次数是对应姓名出现的次数。 每个文件首先按性别排序，然后按出现次数降序排序。\n",
    "\n",
    "为了保护隐私，这些文件中仅含有当年出现超过5次的名字。\n",
    "\n",
    "# 目标\n",
    "\n",
    "* 计算某个名字的相对排名\n",
    "* 计算指定名字的年度比例\n",
    "* 评估命名多样性的增长"
   ]
  },
  {
   "cell_type": "markdown",
   "metadata": {
    "collapsed": true
   },
   "source": [
    "首先查看数据集"
   ]
  },
  {
   "cell_type": "code",
   "execution_count": null,
   "metadata": {
    "collapsed": false
   },
   "outputs": [],
   "source": [
    "!head -n 5 ../datasets/babynames/yob1880.txt"
   ]
  },
  {
   "cell_type": "markdown",
   "metadata": {},
   "source": [
    "先统计单个年份的信息"
   ]
  },
  {
   "cell_type": "code",
   "execution_count": null,
   "metadata": {
    "collapsed": false
   },
   "outputs": [],
   "source": [
    "import pandas as pd\n",
    "names1880 = pd.read_csv('../datasets/babynames/yob1880.txt', names=['name', 'sex', 'births'])\n",
    "names1880"
   ]
  },
  {
   "cell_type": "code",
   "execution_count": null,
   "metadata": {
    "collapsed": false
   },
   "outputs": [],
   "source": [
    "names1880.groupby('sex').births.sum()"
   ]
  },
  {
   "cell_type": "code",
   "execution_count": null,
   "metadata": {
    "collapsed": true
   },
   "outputs": [],
   "source": [
    "# 导入必要的第三方库\n",
    "from __future__ import division\n",
    "from numpy.random import randn\n",
    "import numpy as np\n",
    "import matplotlib.pyplot as plt\n",
    "plt.rc('figure', figsize=(12, 5))\n",
    "np.set_printoptions(precision=4)"
   ]
  },
  {
   "cell_type": "markdown",
   "metadata": {},
   "source": [
    "### 0.合并数据集\n",
    "由于整个数据集是按照年度被分隔成了多个文件，所以第一件事情就是要将所有的数据都组装到一个DataFrame里面，并加上一个year字段。"
   ]
  },
  {
   "cell_type": "code",
   "execution_count": null,
   "metadata": {
    "collapsed": false
   },
   "outputs": [],
   "source": [
    "# 2010是目前最后一个有效统计年度\n",
    "years = range(1880, 2011)\n",
    "\n",
    "pieces = []\n",
    "columns = ['name', 'sex', 'births']\n",
    "\n",
    "# 循环读取数据\n",
    "for year in years:\n",
    "    path = '../datasets/babynames/yob{y}.txt'.format(y=year)\n",
    "    frame = pd.read_csv(path, names=columns)\n",
    "    \n",
    "    # 添加一个year字段\n",
    "    frame['year'] = year\n",
    "    pieces.append(frame)\n",
    "    \n",
    "# 将所有数据整合到单个DataFrame中\n",
    "names = pd.concat(pieces, ignore_index=True)\n",
    "names"
   ]
  },
  {
   "cell_type": "markdown",
   "metadata": {
    "collapsed": true
   },
   "source": [
    "### 按年份统计出现次数\n",
    "思路：利用groupby或pivot_table在year和sex级别上对其进行聚合"
   ]
  },
  {
   "cell_type": "code",
   "execution_count": null,
   "metadata": {
    "collapsed": false
   },
   "outputs": [],
   "source": [
    "total_births = names.pivot_table('births', index='year', columns='sex', aggfunc=sum)\n",
    "total_births.tail()"
   ]
  },
  {
   "cell_type": "code",
   "execution_count": null,
   "metadata": {
    "collapsed": false
   },
   "outputs": [],
   "source": [
    "total_births.plot(title='Total birth by sex and year')\n",
    "plt.show()"
   ]
  },
  {
   "cell_type": "markdown",
   "metadata": {},
   "source": [
    "### 统计不同年份、不同性别分组下，各名字出现次数所占分组人数比例\n",
    "思路：插入一个prop列，用于存放指定名字的婴儿数相对总出生数的比例"
   ]
  },
  {
   "cell_type": "code",
   "execution_count": null,
   "metadata": {
    "collapsed": true
   },
   "outputs": [],
   "source": [
    "def add_prop(group):\n",
    "    # 整数除法会向下取整\n",
    "    births = group.births.astype(float)\n",
    "    \n",
    "    group['prop'] = births / births.sum()\n",
    "    return group\n",
    "names = names.groupby(['year', 'sex']).apply(add_prop)"
   ]
  },
  {
   "cell_type": "code",
   "execution_count": null,
   "metadata": {
    "collapsed": false
   },
   "outputs": [],
   "source": [
    "names.head()"
   ]
  },
  {
   "cell_type": "markdown",
   "metadata": {},
   "source": [
    "###  排名：给出不同年份、不同性别分组下，各名字在分组中出现频率的排名\n",
    "\n",
    "思路：现将数据按年份、性别分组，然后对分组数据的frequency列调用rank()方法降序得到排名，并将排名赋到新增的“ranked”列"
   ]
  },
  {
   "cell_type": "code",
   "execution_count": null,
   "metadata": {
    "collapsed": false
   },
   "outputs": [],
   "source": [
    "baby_names = names\n",
    "baby_names[\"ranked\"]=baby_names.groupby([\"year\",\"sex\"])[\"births\"].rank(ascending=False)\n",
    "baby_names.head()"
   ]
  },
  {
   "cell_type": "markdown",
   "metadata": {},
   "source": [
    "### 缩小数据集\n",
    "为了便于实现更进一步的分析，取出该数据的子集：每对sex/year组合的前1000个名字"
   ]
  },
  {
   "cell_type": "code",
   "execution_count": null,
   "metadata": {
    "collapsed": false
   },
   "outputs": [],
   "source": [
    "def get_top1000(group):\n",
    "    return group.sort_values(by='births', ascending=False)[:1000]\n",
    "\n",
    "grouped = names.groupby(['year', 'sex'])\n",
    "top1000 = grouped.apply(get_top1000)\n",
    "# 添加索引\n",
    "top1000.index = np.arange(len(top1000))"
   ]
  },
  {
   "cell_type": "markdown",
   "metadata": {},
   "source": [
    "接下来的数据分析工作就针对这个top1000数据集"
   ]
  },
  {
   "cell_type": "markdown",
   "metadata": {},
   "source": [
    "### 计算指定名字的年度比例"
   ]
  },
  {
   "cell_type": "code",
   "execution_count": null,
   "metadata": {
    "collapsed": true
   },
   "outputs": [],
   "source": [
    "boys = top1000[top1000.sex == 'M']\n",
    "girls = top1000[top1000.sex == 'F']\n",
    "# 生成一张按year和name统计的总出生数透视图\n",
    "total_births = top1000.pivot_table('births', index='year', columns='name', aggfunc=sum)"
   ]
  },
  {
   "cell_type": "code",
   "execution_count": null,
   "metadata": {
    "collapsed": false
   },
   "outputs": [],
   "source": [
    "total_births"
   ]
  },
  {
   "cell_type": "code",
   "execution_count": null,
   "metadata": {
    "collapsed": false
   },
   "outputs": [],
   "source": [
    "subset = total_births[['John', 'Harry', 'Mary', 'Marilyn']]\n",
    "subset.plot(subplots=True, figsize=(12, 10), grid=False, title='Number of births per year')\n",
    "plt.show()"
   ]
  },
  {
   "cell_type": "markdown",
   "metadata": {},
   "source": [
    "### 评估命名多样性的增长\n",
    "方案一：计算最流行的1000个名字在Top1000数据集中所占的比例。"
   ]
  },
  {
   "cell_type": "code",
   "execution_count": null,
   "metadata": {
    "collapsed": false
   },
   "outputs": [],
   "source": [
    "table = top1000.pivot_table('prop', index='year',\n",
    "                            columns='sex', aggfunc=sum)\n",
    "table.plot(title='Sum of table1000.prop by year and sex',\n",
    "           yticks=np.linspace(0, 1.2, 13), xticks=range(1880, 2020, 10))\n",
    "plt.show()"
   ]
  },
  {
   "cell_type": "markdown",
   "metadata": {},
   "source": [
    "从图中可以看出前1000项的比例确实降低了。"
   ]
  },
  {
   "cell_type": "markdown",
   "metadata": {},
   "source": [
    "方案二：计算占出生人数前50%的不同名字的数量。\n",
    "\n",
    "面临的第一个问题就是，在Top1000数据集中，各个年份里面多少个名字的人数加起来才够50%。\n",
    "思路：先计算prop(比例)的累计和(cumsum)，然后再通过searchsorted方法找出0.5应该插入在哪个位置才能保证不会破坏顺序。"
   ]
  },
  {
   "cell_type": "markdown",
   "metadata": {},
   "source": [
    "对整个Top1000数据集直接进行操作，计算量太大了。可以先取某一个年份进行计算，例如对2010年的男孩的名字。"
   ]
  },
  {
   "cell_type": "code",
   "execution_count": null,
   "metadata": {
    "collapsed": false
   },
   "outputs": [],
   "source": [
    "df = boys[boys.year == 2010]\n",
    "df"
   ]
  },
  {
   "cell_type": "code",
   "execution_count": null,
   "metadata": {
    "collapsed": false
   },
   "outputs": [],
   "source": [
    "# 排序\n",
    "prop_cumsum = df.sort_values(by='prop', ascending=False).prop.cumsum()\n",
    "prop_cumsum[:10]"
   ]
  },
  {
   "cell_type": "code",
   "execution_count": null,
   "metadata": {
    "collapsed": false
   },
   "outputs": [],
   "source": [
    "prop_cumsum.values.searchsorted(0.5)"
   ]
  },
  {
   "cell_type": "markdown",
   "metadata": {},
   "source": [
    "这里计算出的116称为<font color=blue>中位数</font>，其含义是表示，2010年男孩子姓名出现次数按照降序排序的第117(<font color=red>因为数组索引从0开始</font>)位之后的，属于前50%。"
   ]
  },
  {
   "cell_type": "markdown",
   "metadata": {},
   "source": [
    "现在可以对Top1000数据集进行计算了。\n",
    "思路：按照year和sex这两个字段进行groupby处理，然后用一个函数计算各分组的中位数。"
   ]
  },
  {
   "cell_type": "code",
   "execution_count": null,
   "metadata": {
    "collapsed": false
   },
   "outputs": [],
   "source": [
    "def get_quantile_count(group, q=0.5):\n",
    "    group = group.sort_values(by='prop', ascending=False)\n",
    "    return group.prop.cumsum().values.searchsorted(q) + 1\n",
    "\n",
    "diversity = top1000.groupby(['year', 'sex']).apply(get_quantile_count)\n",
    "diversity = diversity.unstack('sex')\n",
    "\n",
    "diversity.head()"
   ]
  },
  {
   "cell_type": "code",
   "execution_count": null,
   "metadata": {
    "collapsed": false
   },
   "outputs": [],
   "source": [
    "diversity.plot(title=\"Number of popular names in top 50%\")\n",
    "plt.show()"
   ]
  },
  {
   "cell_type": "markdown",
   "metadata": {},
   "source": [
    "从图中可以看出，女孩名字多样性总是比男孩子高，而且还在变得越来越高。"
   ]
  }
 ],
 "metadata": {
  "kernelspec": {
   "display_name": "Python 3",
   "language": "python",
   "name": "python3"
  },
  "language_info": {
   "codemirror_mode": {
    "name": "ipython",
    "version": 3
   },
   "file_extension": ".py",
   "mimetype": "text/x-python",
   "name": "python",
   "nbconvert_exporter": "python",
   "pygments_lexer": "ipython3",
   "version": "3.6.0"
  }
 },
 "nbformat": 4,
 "nbformat_minor": 2
}
