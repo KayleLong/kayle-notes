{
 "cells": [
  {
   "cell_type": "markdown",
   "metadata": {},
   "source": [
    "# <center>环境</center>\n",
    "翻译环境：将源代码转换为可执行的机器指令。<br>\n",
    "执行环境：执行代码。\n",
    "\n",
    "### 翻译\n",
    "1. 编译\n",
    "    源文件通过编译过程分别转换为目标代码\n",
    "2. 链接\n",
    "    各个目标文件由链接器捆绑在一起，形成一个单一而完整的可执行程序\n",
    "    \n",
    "### 文件名约定\n",
    "C源代码通常保存以 .c 拓展名命名的文件中<br>\n",
    "由#include 指令包含到C源代码的文件称为头文件，通常保存以 .h 拓展名命名的文件中<br>\n",
    "\n",
    "### 编译和链接\n",
    "在UNIX系统中，C编译器称为cc(Linux中是gcc)。C程序的不同编译和链接命令：\n",
    "\n",
    "1. 编译并链接一个源文件\n",
    "```\n",
    "cc  program.c\n",
    "```\n",
    "这条命令会产生一个称为 a.out 的可执行程序。中间会产生一个名为 program.o 的目标文件，但它在链接过程中会被删除。(因为只有一个目标文件，链接器会直接判定其为所需要的目标文件，从而直接进行链接)\n",
    "\n",
    "2. 编译并链接多个源文件\n",
    "```\n",
    "cc main.c lookup.c\n",
    "```\n",
    "当编译的源文件超过1个时，目标文件便不会被删除。\n",
    "\n",
    "3. 编译一个源文件，并把它和现存的目标文件链接在一起\n",
    "```\n",
    "cc mian.o lookip.o sort.c\n",
    "```\n",
    "\n",
    "4. 编译单个源文件，并产生一个目标文件，以后再进行链接\n",
    "```\n",
    "cc -c program.c\n",
    "```\n",
    "\n",
    "5. 编译多个源文件，并为每个文件产生一个目标文件\n",
    "```\n",
    "cc -c main.c lookup.c\n",
    "```\n",
    "\n",
    "6. 链接多个文件\n",
    "```\n",
    "cc main.o lookup.o\n",
    "```\n",
    "上面这些命令均可以加上 \"-o name\"选项，它可以使链接器把可执行程序保存为\"name\"文件，而不是缺省的\"a.out\"\n"
   ]
  },
  {
   "cell_type": "markdown",
   "metadata": {},
   "source": [
    "# <center>词法规则</center>\n",
    "\n",
    "### 标识符\n",
    "标识符(identifier)就是变量、函数、类型等的名字。标识符<font color=red size=4>由大小写字母、数字和下划线组成，但是不能以数字开头</font>\n",
    "\n",
    "C语言关键字是被保留的，它们不能作为标识符使用"
   ]
  }
 ],
 "metadata": {
  "kernelspec": {
   "display_name": "Python 2",
   "language": "python",
   "name": "python2"
  },
  "language_info": {
   "codemirror_mode": {
    "name": "ipython",
    "version": 2
   },
   "file_extension": ".py",
   "mimetype": "text/x-python",
   "name": "python",
   "nbconvert_exporter": "python",
   "pygments_lexer": "ipython2",
   "version": "2.7.13"
  }
 },
 "nbformat": 4,
 "nbformat_minor": 2
}
