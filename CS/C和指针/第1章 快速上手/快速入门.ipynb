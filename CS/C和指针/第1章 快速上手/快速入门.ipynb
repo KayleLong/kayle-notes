{
 "cells": [
  {
   "cell_type": "markdown",
   "metadata": {},
   "source": [
    "### 空白和注释\n",
    "空行将程序的不同部分分隔开来；制表符(Tab)用于缩进语句。<br>\n",
    "\n",
    "注释以符号/\\*开始，以符号 */结束。<br>\n",
    "注释在程序中不起作用，但并不是将其真正从源文件中删除。<font color=blue size=4>要从逻辑上删除一段C代码，更好的办法是使用#if指令。</font>\n",
    "\n",
    "### 预处理指令\n",
    "预处理指令是由预处理器解释的。预处理器读入源代码，根据预处理指令对其进行修改(替换),然后把修改过的源代码递交给编译器。\n",
    "\n",
    "\\# include  用于包含文件、避免重复声明。<br>\n",
    "\\# define  用于定义常量，或者定义函数原型。\n",
    "\n",
    "### 函数原型\n",
    "```\n",
    "int read_column_numbers(int columns[], int max);\n",
    "void rearrange(char *output, char const *input, int n_columns, int const columns[]);\n",
    "```\n",
    "这些声明被称为函数原型。它们告诉编译器这些将在源文件中定义的函数的特征。因为C语言是强类型语言，当这些函数被调用时，编译器就能对它们进行准确性检查。<br>\n",
    "每个函数原型以一个类型名开头，表示函数返回值的类型。\n",
    "\n",
    "### main函数\n",
    "每一个C程序都必须有一个main函数，因为它是程序执行的起点。\n",
    "\n",
    "### 参数传递规则\n",
    "在C语言中，<font color=blue size=4>数组参数是以引用(传址)形式传递，标量和常量则是按值传递</font>\n",
    "<font color=blue size=4>所有传递给函数的参数都是按值传递。</font>\n",
    "\n"
   ]
  }
 ],
 "metadata": {
  "kernelspec": {
   "display_name": "Python 2",
   "language": "python",
   "name": "python2"
  },
  "language_info": {
   "codemirror_mode": {
    "name": "ipython",
    "version": 2
   },
   "file_extension": ".py",
   "mimetype": "text/x-python",
   "name": "python",
   "nbconvert_exporter": "python",
   "pygments_lexer": "ipython2",
   "version": "2.7.13"
  }
 },
 "nbformat": 4,
 "nbformat_minor": 2
}
