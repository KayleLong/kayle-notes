{
 "cells": [
  {
   "cell_type": "markdown",
   "metadata": {},
   "source": [
    "# <center>C语言中的各种语句</center>\n",
    "\n",
    "C语言实现了其他现代高级语言所具有的所有语句。但是，和其他语言相比，C语言还是存在一些不同之处。\n",
    "\n",
    "例如，C不具备专门的赋值语句，而是统一采用了\"表达式语句\"来替代。switch 语句实现了其他语言中case语句的功能，但是实现方式却大有不同。"
   ]
  },
  {
   "cell_type": "markdown",
   "metadata": {},
   "source": [
    "# 空语句\n",
    "\n",
    "```\n",
    ";\n",
    "```\n",
    "空语句只包含一个分号，空语句本身不执行任何任务。类似Python中的pass"
   ]
  },
  {
   "cell_type": "markdown",
   "metadata": {},
   "source": [
    "### 表达式语句\n",
    "\n",
    "```\n",
    "x = y + 3;\n",
    "ch = getchar();\n",
    "```\n",
    "在表达式后面加一个分号，就可以把表达式转变为语句。<br>\n",
    "上面的两个语句是表达式语句，而不是赋值语句。\n",
    "\n",
    "*下面的语句是合法的*\n",
    "```\n",
    "y + 3;\n",
    "getchar();\n",
    "```\n",
    "语句1 并不具备任何效果。<br>\n",
    "语句2 执行了读取输入中的下一个字符，然后将其丢弃。\n",
    "\n",
    "### 副作用\n",
    "编写没有任何效果的语句看起来没有作用，但是看看下面的语句\n",
    "```\n",
    "printf(\"Hello world\");\n",
    "```\n",
    "这个语句输出了字符串\"Hello world\"。<br>\n",
    "但是查看printf函数的原型\n",
    "```\n",
    "int printf(const char *format, ...)\n",
    "```\n",
    "C 库函数 int printf(const char \\*format, ...) 发送格式化输出到标准输出 stdout。<br>\n",
    "printf函数将会返回一个值，但是printf函数的返回值(打印的字符数)我们并不关心，所以将其弃之不用。<br>\n",
    "<font color=red size=4>所谓语句\"没有效果\"，只是表示表达式的值被忽略，printf函数执行了有用的工作，这类作用称为\"副作用\"</font>"
   ]
  },
  {
   "cell_type": "markdown",
   "metadata": {},
   "source": [
    "### 代码块\n",
    "代码块就是位于一对花括号之内的可选的声明和语句列表。\n",
    "```\n",
    "{\n",
    "    declarations\n",
    "    statements\n",
    "}\n",
    "```"
   ]
  },
  {
   "cell_type": "markdown",
   "metadata": {},
   "source": [
    "### if 语句\n",
    "```\n",
    "if(expression){\n",
    "    statement\n",
    "}\n",
    "else{\n",
    "    statement\n",
    "}\n",
    "```\n",
    "C语言并不具备布尔类型，而是使用整型来替代。experssion ——零值表示\"假\",非零值表示\"真\"。"
   ]
  },
  {
   "cell_type": "markdown",
   "metadata": {},
   "source": [
    "### while 语句\n",
    "```\n",
    "while(expression)\n",
    "    statement\n",
    "```\n",
    "\n",
    "1. break 语句        在while循环中，使用 break 语句用于永久终止循环\n",
    "2. continue 语句      在while循环中，使用 continue 语句用于永久终止当前的那一次循环"
   ]
  },
  {
   "cell_type": "markdown",
   "metadata": {},
   "source": [
    "### for 语句\n",
    "在需要使用循环语句时，在C语言中for 语句更为常用。<br>\n",
    "因为for语句时while 循环的一种极为常用的语句组合形式的简单写法。\n",
    "```\n",
    "for(expression1; expression2; expression3)\n",
    "    statement\n",
    "```\n",
    "其中的 statement 称为循环体，<br>\n",
    "expression1 称为初始化部分，它只在循环开始时执行一次。<br>\n",
    "expression2 称为条件部分，它在循环每次执行前都要执行一次。<br>\n",
    "expression3 称为调整部分，<font color=red size=3>它在循环体每次执行完毕，在下一次条件部分即将执行前执行。</font>\n",
    "\n",
    "#### for 循环与while 循环的比较\n",
    "for循环代码：\n",
    "```\n",
    "for(i=0; i<MAX_SIZE; i++){\n",
    "    array[i]=0;\n",
    "}\n",
    "```\n",
    "while循环代码\n",
    "```\n",
    "i=0；\n",
    "while(i<MAX_SIZE){\n",
    "    array[i]=0;\n",
    "    i += 1;\n",
    "}\n",
    "```\n",
    "for循环有一个风格上的优势，它把所有用于操纵循环的表达式收集在一起，放在一起便于查找。"
   ]
  },
  {
   "cell_type": "markdown",
   "metadata": {},
   "source": []
  },
  {
   "cell_type": "markdown",
   "metadata": {},
   "source": []
  },
  {
   "cell_type": "markdown",
   "metadata": {},
   "source": []
  },
  {
   "cell_type": "markdown",
   "metadata": {},
   "source": []
  }
 ],
 "metadata": {
  "kernelspec": {
   "display_name": "Python 2",
   "language": "python",
   "name": "python2"
  },
  "language_info": {
   "codemirror_mode": {
    "name": "ipython",
    "version": 2
   },
   "file_extension": ".py",
   "mimetype": "text/x-python",
   "name": "python",
   "nbconvert_exporter": "python",
   "pygments_lexer": "ipython2",
   "version": "2.7.13"
  }
 },
 "nbformat": 4,
 "nbformat_minor": 2
}
