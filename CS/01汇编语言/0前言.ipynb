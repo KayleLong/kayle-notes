{
 "cells": [
  {
   "cell_type": "markdown",
   "metadata": {},
   "source": [
    "### 学习汇编的根本目的\n",
    "充分获得底层编程的体验，深刻理解机器运行程序的机理。\n",
    "\n",
    "### 为什么采用8086CPU\n",
    "1. 8086CPU满足的条件：常用而结构简洁。\n",
    "2. Intel系列的处理器都兼容8086CPU\n",
    "\n",
    "### 学习目标\n",
    "在裸机的环境下，即在一个没有操作系统的环境中直接对硬件进行编程。   \n",
    "通过学习关键指令来深入理解机器工作的基本原理，培养底层编程意识和思想。\n"
   ]
  }
 ],
 "metadata": {
  "kernelspec": {
   "display_name": "Python 3",
   "language": "python",
   "name": "python3"
  },
  "language_info": {
   "codemirror_mode": {
    "name": "ipython",
    "version": 3
   },
   "file_extension": ".py",
   "mimetype": "text/x-python",
   "name": "python",
   "nbconvert_exporter": "python",
   "pygments_lexer": "ipython3",
   "version": "3.6.2"
  }
 },
 "nbformat": 4,
 "nbformat_minor": 2
}
