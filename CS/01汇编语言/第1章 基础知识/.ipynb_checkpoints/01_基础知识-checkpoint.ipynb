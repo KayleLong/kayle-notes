{
 "cells": [
  {
   "cell_type": "markdown",
   "metadata": {},
   "source": [
    "# <center>1.1 指令</center>\n",
    "\n",
    "机器指令：CPU能直接识别并执行的二进制编码。<br>\n",
    "汇编指令：汇编指令是机器指令的助记符，同机器指令一一对应。<br>\n",
    "指令：指令通常由操作码和地址码（操作数）两部分组成。<br>\n",
    "指令集：每种CPU都有自己的汇编指令集。<br>\n",
    "编译器：够将汇编指令转换成机器指令的翻译程序每一种CPU都有自己的汇编指令集。<br>"
   ]
  },
  {
   "cell_type": "markdown",
   "metadata": {},
   "source": [
    "### 汇编语言由3类指令组成。\n",
    "\n",
    "|类型|说明|\n",
    "|-|-|\n",
    "|汇编指令|机器码的助记符，有对应的机器码|\n",
    "|伪指令|没有对应的机器码，由编译器执行，计算机并不执\n",
    "|其他符号|如+、-、\\*、/等，由编译器识别，没有对应的机器码|\n",
    "\n",
    "<font color=blue size=4>汇编语言的核心是汇编指令</font>，它决定了汇编语言的特性。"
   ]
  },
  {
   "cell_type": "markdown",
   "metadata": {},
   "source": [
    "# <center>1.2 存储器</center>\n",
    "\n",
    "指令和数据在存储器中存放，也就是平时说的内存。\n",
    "\n",
    "### 存储器的分类\n",
    "随机存储器（RAM）在程序的执行过程中可读可写，必须带电存储<br>\n",
    "只读存储器（ROM）在程序的执行过程中只读，关机数据不丢失\n",
    "\n",
    "\n",
    "### 存储单元\n",
    "存储器被划分为多个存储单元，每个存储单元从<font color=blue size=4>0开始顺序编号</font>。<br>\n",
    "电子计算机最小的信息单位是bit 比特，8个bit组成一个Byte 字节。\n",
    "\n",
    "### CPU对存储器的读写\n",
    "CPU想要进行数据的读写，必须和外部器件进行<font color=blue size=4>3类</font>信息的交互，\n",
    "- 存储单元的地址（地址信息）\n",
    "- 读或者写的命令（控制信息）\n",
    "- 读或者写的数据（数据信息）\n",
    "\n",
    "\n",
    "##### 示例\n",
    "```\n",
    "mov ax bx,\n",
    "\n",
    "```\n",
    "<font color=green size=4>上面的汇编语句的作用是将寄存器bx中的内容传送到ax寄存器中。其中<br>\n",
    "mov 为控制信息， ax 为地址信息， bx 为数据信息。</font>"
   ]
  },
  {
   "cell_type": "markdown",
   "metadata": {},
   "source": [
    "# <center>1.3 总线</center>\n",
    "<font color=blue size=4>CPU是通过总线将地址、数据和控制信息传到存储器芯片中的</font><br>\n",
    "总线是连接各个部件的信息传输线，是各个部件共享的传输介质<br>\n",
    "<font color=blue size=4>总线从逻辑上分3类</font>：<br>\n",
    "\n",
    "|类型|作用|说明|\n",
    "|--|--|--|\n",
    "|地址总线|寻址能力|能传送多少个不同的信息。一个CPU有N跟地址线，这样的CPU最多可以寻找2的N次方个内存单元|\n",
    "|控制总线|CPU对外部器件的控制能力|CPU提供了对外部器件的多少种控制|\n",
    "|数据总线|数据传送能力|数据总线宽度决定了CPU与外界的数据传送速度。如8根数据总线一次可以传送8位二进制数据(即一个字节)|"
   ]
  }
 ],
 "metadata": {
  "kernelspec": {
   "display_name": "Python 3",
   "language": "python",
   "name": "python3"
  },
  "language_info": {
   "codemirror_mode": {
    "name": "ipython",
    "version": 3
   },
   "file_extension": ".py",
   "mimetype": "text/x-python",
   "name": "python",
   "nbconvert_exporter": "python",
   "pygments_lexer": "ipython3",
   "version": "3.6.2"
  }
 },
 "nbformat": 4,
 "nbformat_minor": 2
}
