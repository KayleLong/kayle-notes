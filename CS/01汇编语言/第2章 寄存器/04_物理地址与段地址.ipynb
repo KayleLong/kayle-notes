{
 "cells": [
  {
   "cell_type": "markdown",
   "metadata": {},
   "source": [
    "##  物理地址\n",
    "\n",
    "CPU访问内存单元时，需要给出内存单元的地址，所有的内存单元构成的存储空间是一个一维的线性空间，每一个内存单元在这个空间中都是唯一地址，我们将这个唯一的地址称为物理地址<br>\n",
    "不同的CPU可以有不用的形成物理地址的方式。8086CPU是采用<font color=red size=4>两个16位地址合成的方法来形成一个20位的物理地址</font><br>\n",
    "地址加法器采用<font color=blue size=4>物理地址=段地址*16 + 偏移地址</font>的方法用段地址和偏移地址合成物理地址<br>\n",
    "\n",
    "\n",
    "## 8086CPU读写内存的步骤\n",
    "1. CPU中的相关部件提供两个16位地址，一个称为段地址，另一个称为偏移地址；\n",
    "2. 段地址和偏移地址通过内部总线送入一个称为地址加法器的部件；\n",
    "3. 地址加法器将两个16位地址合成一个20位的物理地址；\n",
    "4. 地址加法器通过控制电路将20位物理地址送上地址总线；\n",
    "5. 20位物理地址被地址总线传送到存储器。\n"
   ]
  },
  {
   "cell_type": "markdown",
   "metadata": {},
   "source": [
    "## \"段地址*16 + 偏移地址 = 物理地址\"的本质含义\n",
    "\"段地址\\*16 + 偏移地址 = 物理地址\"的本质含义是：CPU在访问内存时，用一个基础地址(段地址*16)和一个相对于基础地址的偏移地址相加，给出内存单元的物理地址。\n",
    "\n",
    "## 段地址\n",
    "段地址中\"段\"的概念是人为地在CPU上设定的逻辑概念。是为了便于管理内存地址，实际上内存并没有分段。"
   ]
  }
 ],
 "metadata": {
  "kernelspec": {
   "display_name": "Python 3",
   "language": "python",
   "name": "python3"
  },
  "language_info": {
   "codemirror_mode": {
    "name": "ipython",
    "version": 3
   },
   "file_extension": ".py",
   "mimetype": "text/x-python",
   "name": "python",
   "nbconvert_exporter": "python",
   "pygments_lexer": "ipython3",
   "version": "3.6.2"
  }
 },
 "nbformat": 4,
 "nbformat_minor": 2
}
