{
 "cells": [
  {
   "cell_type": "markdown",
   "metadata": {},
   "source": [
    "# <center>段寄存器</center>\n",
    "<font color=blue size=4>8086CPU中4个段寄存器：CS、DS、SS、ES。</font>\n",
    "\n",
    "\n",
    "##  CS:IP 的重要性\n",
    "其中CS(代码段寄存器)和IP(指令指针寄存器)是8086CPU中两个最关键的寄存器，因为它们指示了读取指令的地址。<br>\n",
    "在使用8086CPU的机器中，任意时刻，设CS中的内容为M, IP中的内容为N。8086CPU将内存 M\\*16+N 单元开始，读取一条指令并执行。<br>\n",
    "也就是说，8086机器中，任意时刻，CPU将 CS:IP 指向的内容当作指令执行。\n",
    "\n",
    "<font color=blue size=4>读取一条指令后，IP中的值自动增长，以使得CPU可以读取下一条指令。</font>\n",
    "\n",
    "## 8086CPU 的工作过程\n",
    "\n",
    "简要描述\n",
    "1.  从 CS：IP 指向的内存单元中读取指令，读取的指令进入指令缓冲器； \n",
    "2.  IP = IP+所读取指令的长度，从而指向下一个指令； \n",
    "3.  执行指令。转到步骤1，重复这个过程。 \n",
    "\n",
    "## 修改CS、IP的指令\n",
    "mov指令不能用于设置CS、IP的值，因为这样的操作不被允许。<br>\n",
    "能够改变CS、IP的内容的指令被统称为<font color=blue size=4>转移指令</font>\n",
    "\n",
    "\n",
    "### 同时修改CS、IP\n",
    "\"jmp 段地址：偏移地址\"指令的功能为：用指令中给出的段地址修改CS，偏移地址修改IP\n",
    "```\n",
    "jmp 2AE3:3\n",
    "```\n",
    "执行后：CS=2AE3H, IP=0003H，CPU将从2AE33H处读取指令。\n",
    "\n",
    "### 只修改IP\n",
    "\"jmp  某一合法寄存器\"\n",
    "```\n",
    "jmp ax,\n",
    "```\n",
    "执行前，AX=1000H, CS=2000H, IP=0003H<br>\n",
    "执行后，AX=1000H, CS=2000H, IP=1000H<br>\n",
    "jmp ax 等价于 mov IP, ax"
   ]
  }
 ],
 "metadata": {
  "kernelspec": {
   "display_name": "Python 3",
   "language": "python",
   "name": "python3"
  },
  "language_info": {
   "codemirror_mode": {
    "name": "ipython",
    "version": 3
   },
   "file_extension": ".py",
   "mimetype": "text/x-python",
   "name": "python",
   "nbconvert_exporter": "python",
   "pygments_lexer": "ipython3",
   "version": "3.6.2"
  }
 },
 "nbformat": 4,
 "nbformat_minor": 2
}
