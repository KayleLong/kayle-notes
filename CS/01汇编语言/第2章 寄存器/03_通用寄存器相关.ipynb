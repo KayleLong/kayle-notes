{
 "cells": [
  {
   "cell_type": "markdown",
   "metadata": {},
   "source": [
    "# <center>通用寄存器</center>\n",
    "\n",
    "## 汇编指令举例\n",
    "\n",
    "|汇编指令|控制CPU完成的操作|用高级语言的语法描述|\n",
    "|--|--|--|\n",
    "|mov ax, 18|将18送人寄存器AX | AX=18|\n",
    "|mov ah, 78|将78送人寄存器AH | AX=78|\n",
    "|add ax, 8|将寄存器AX中的数值加上8 | AX=AX+8|\n",
    "|mov ax, bx|将寄存器BX中的数据送人寄存器AX中 |AX=BX|\n",
    "|add ax, bx|将AX和BX中的数值相加，其结果存入AX中 |AX=AX+BX|\n"
   ]
  },
  {
   "cell_type": "markdown",
   "metadata": {},
   "source": [
    "## Notes\n",
    "一个8位寄存器所能存储的数据的最大值为 2^8-1<br>\n",
    "为了区分不同的进制，常采用 <font color=red size=4>在十六进制数据的后面加 H</font>, <font color=red size=4>在二进制数据的后面加 B</font>，十进制数据后面什么也不加<br>\n",
    "汇编语句或者寄存器的名称不区分大小写<br>\n",
    "在进行数据传送或者运算时，要注意指令的两个操作对象的位数必须一致<br>\n",
    "```\n",
    "mov ax, bl \n",
    "```\n",
    "在8位寄存器和16位寄存器之间传送数据，是错误的<br>\n",
    "<font color=green size=4>错误的原因是指令的两个操作对象的位数是不一致的</font><br>"
   ]
  }
 ],
 "metadata": {
  "kernelspec": {
   "display_name": "Python 3",
   "language": "python",
   "name": "python3"
  },
  "language_info": {
   "codemirror_mode": {
    "name": "ipython",
    "version": 3
   },
   "file_extension": ".py",
   "mimetype": "text/x-python",
   "name": "python",
   "nbconvert_exporter": "python",
   "pygments_lexer": "ipython3",
   "version": "3.6.2"
  }
 },
 "nbformat": 4,
 "nbformat_minor": 2
}
