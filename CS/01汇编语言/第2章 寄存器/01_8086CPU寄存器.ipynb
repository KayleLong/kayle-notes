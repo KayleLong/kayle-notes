{
 "cells": [
  {
   "cell_type": "markdown",
   "metadata": {},
   "source": [
    "# <center>8086CPU寄存器英文全称</center>\n",
    "8086CPU有14个寄存器。所有寄存器都是16位的。\n",
    "\n",
    "\n",
    "|寄存器|英文|名称|作用|说明|\n",
    "|--|--|--|--|--|\n",
    "|AX|accumulator|累加寄存器|通用寄存器，常用于存放一般性的数据|为了兼容上一代的8位CPU，8086CPU的16寄存器位可以存放2个字节，分为高位AH,低位AL|\n",
    "|BX|base|基址寄存器|通用寄存器|BH，BL|\n",
    "|CX|count|计数寄存器|通用寄存器|CH，CL|\n",
    "|DX|data|数据寄存器|通用寄存器|DH，DL|\n",
    "|IP|Instruction Pointer|指令指针寄存器|||\n",
    "|SP|Stack Pointer|堆栈指针寄存器|||\n",
    "|BP|Base Pointer|基址指针寄存器|||\n",
    "|SI|Source Index|源变址寄存器|||\n",
    "|DI|Destination Inde|目的变址寄存器|||\n",
    "|CS|Code Segment|代码段寄存器|||\n",
    "|DS|Data Segment|数据段寄存器|||\n",
    "|SS|Stack Segment|堆栈段寄存器|||\n",
    "|ES|Extra Segment|附加段寄存器|||\n",
    "|PSW|Programe State Word|程序状态字寄存器(标志寄存器)||||\n"
   ]
  }
 ],
 "metadata": {
  "kernelspec": {
   "display_name": "Python 3",
   "language": "python",
   "name": "python3"
  },
  "language_info": {
   "codemirror_mode": {
    "name": "ipython",
    "version": 3
   },
   "file_extension": ".py",
   "mimetype": "text/x-python",
   "name": "python",
   "nbconvert_exporter": "python",
   "pygments_lexer": "ipython3",
   "version": "3.6.2"
  }
 },
 "nbformat": 4,
 "nbformat_minor": 2
}
