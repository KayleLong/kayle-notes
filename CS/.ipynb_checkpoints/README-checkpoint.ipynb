{
 "cells": [
  {
   "cell_type": "markdown",
   "metadata": {},
   "source": [
    "# <center>说明</center>\n",
    "\n",
    "## 书籍顺序\n",
    "\n",
    "## 字体颜色\n",
    "<font color=red size=4>易错点，难点，疑点</font><br>\n",
    "<font color=blue size=4>重点</font><br>\n",
    "<font color=green size=4>解释性文字</font><br>\n"
   ]
  }
 ],
 "metadata": {
  "kernelspec": {
   "display_name": "Python 3",
   "language": "python",
   "name": "python3"
  },
  "language_info": {
   "codemirror_mode": {
    "name": "ipython",
    "version": 3
   },
   "file_extension": ".py",
   "mimetype": "text/x-python",
   "name": "python",
   "nbconvert_exporter": "python",
   "pygments_lexer": "ipython3",
   "version": "3.6.2"
  }
 },
 "nbformat": 4,
 "nbformat_minor": 2
}
