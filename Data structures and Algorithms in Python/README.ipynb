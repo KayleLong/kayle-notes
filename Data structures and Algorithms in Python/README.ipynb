{
 "cells": [
  {
   "cell_type": "markdown",
   "metadata": {},
   "source": [
    "# 内容介绍\n",
    "\n",
    "## 所用教材\n",
    "《数据结构与算法 Python语言描述》 裘宗燕 著\n",
    "\n",
    "## 章节内容\n",
    "1. 绪论\n",
    "2. 抽象数据类型和Python类\n",
    "3. 线性表\n",
    "4. 字符串\n",
    "5. 栈和队列\n",
    "6. 二叉树和树\n",
    "7. 图\n",
    "8. 字典和集合(查找)\n",
    "9. 排序\n",
    "\n",
    "## 链接\n",
    "关于代码部分可以参考裘老师上课的代码在链接 https://www.math.pku.edu.cn/teachers/qiuzy/ds_python/courseware/index.htm   \n",
    "其中还包含了PDF格式的课件。"
   ]
  }
 ],
 "metadata": {
  "kernelspec": {
   "display_name": "Python 3",
   "language": "python",
   "name": "python3"
  },
  "language_info": {
   "codemirror_mode": {
    "name": "ipython",
    "version": 3
   },
   "file_extension": ".py",
   "mimetype": "text/x-python",
   "name": "python",
   "nbconvert_exporter": "python",
   "pygments_lexer": "ipython3",
   "version": "3.6.2"
  }
 },
 "nbformat": 4,
 "nbformat_minor": 2
}
