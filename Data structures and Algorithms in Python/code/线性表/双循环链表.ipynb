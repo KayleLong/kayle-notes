{
 "cells": [
  {
   "cell_type": "code",
   "execution_count": null,
   "metadata": {
    "collapsed": true
   },
   "outputs": [],
   "source": [
    "# -*- coding: utf-8 -*-\n",
    "# 双循环链表模块\n",
    "\n",
    "from LNode import LNode\n",
    "from LRList import LRList\n",
    "\n",
    "\n",
    "class LDNode(LNode):  # class of Double Linked Nodes\n",
    "    def __init__(self, prev, elem, nxt):\n",
    "        LNode.__init__(self, elem, nxt)\n",
    "        self.prev = prev\n",
    "\n",
    "\n",
    "class LDList(LRList):  # class of Double Linked List\n",
    "    def __init__(self):\n",
    "        LRList.__init__(self)\n",
    "\n",
    "    def prepend(self, elem):\n",
    "        p = LDNode(None, elem, self.head)\n",
    "        self.head = p\n",
    "        if self.rear is None:  # insert in empty list\n",
    "            self.rear = p\n",
    "        else:  # otherwise, create the prev reference\n",
    "            p.next.prev = p\n",
    "\n",
    "    def append(self, elem):\n",
    "        p = LDNode(self.rear, elem, None)\n",
    "        self.rear = p\n",
    "        if self.head is None:  # insert in empty list\n",
    "            self.head = p\n",
    "        else:  # otherwise, create the next reference\n",
    "            p.prev.next = p\n",
    "\n",
    "    def pop(self):\n",
    "        if self.head is None:\n",
    "            raise ValueError\n",
    "        e = self.head.elem\n",
    "        self.head = self.head.next\n",
    "        if self.head is None:\n",
    "            self.rear = None  # it is empty now\n",
    "        else:\n",
    "            self.head.prev = None\n",
    "        return e\n",
    "\n",
    "    def pop_last(self):\n",
    "        if self.head is None:\n",
    "            raise ValueError\n",
    "        e = self.rear.elem\n",
    "        self.rear = self.rear.prev\n",
    "        if self.rear is None:\n",
    "            self.head = None  # it is empty now\n",
    "        else:\n",
    "            self.rear.next = None\n",
    "        return e"
   ]
  },
  {
   "cell_type": "code",
   "execution_count": null,
   "metadata": {
    "collapsed": true
   },
   "outputs": [],
   "source": [
    "if __name__ == '__main__':\n",
    "    mlist = LDList()\n",
    "    for i in range(10):\n",
    "        mlist.prepend(i)\n",
    "    for i in range(11, 20):\n",
    "        mlist.append(i)\n",
    "    # mlist1.print_all()\n",
    "\n",
    "    while not mlist.is_empty():\n",
    "        print(mlist.pop())\n",
    "        if not mlist.is_empty():\n",
    "            print(mlist.pop_last())"
   ]
  }
 ],
 "metadata": {
  "kernelspec": {
   "display_name": "Python 3",
   "language": "python",
   "name": "python3"
  },
  "language_info": {
   "codemirror_mode": {
    "name": "ipython",
    "version": 3
   },
   "file_extension": ".py",
   "mimetype": "text/x-python",
   "name": "python",
   "nbconvert_exporter": "python",
   "pygments_lexer": "ipython3",
   "version": "3.6.2"
  }
 },
 "nbformat": 4,
 "nbformat_minor": 2
}
