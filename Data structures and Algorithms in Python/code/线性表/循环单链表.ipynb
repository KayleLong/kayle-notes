{
 "cells": [
  {
   "cell_type": "code",
   "execution_count": null,
   "metadata": {
    "collapsed": true
   },
   "outputs": [],
   "source": [
    "# -*- coding: utf-8 -*-\n",
    "# 循环单链表模块\n",
    "\n",
    "from LNode import LNode\n",
    "\n",
    "\n",
    "class LCList:  # class of Circular Linked List\n",
    "    def __init__(self):\n",
    "        self.rear = None\n",
    "\n",
    "    def is_empty(self):\n",
    "        return self.rear is None\n",
    "\n",
    "    def prepend(self, elem):  # add element in the front end\n",
    "        p = LNode(elem, None)\n",
    "        if self.rear is None:\n",
    "            p.next = p  # initiates circle\n",
    "            self.rear = p\n",
    "        else:\n",
    "            p.next = self.rear.next\n",
    "            self.rear.next = p\n",
    "\n",
    "    def append(self, elem):  # add element in the rear end\n",
    "        self.prepend(elem)\n",
    "        self.rear = self.rear.next\n",
    "\n",
    "    def pop(self):  # pop out head element\n",
    "        if self.rear is None:\n",
    "            raise ValueError\n",
    "        p = self.rear.next\n",
    "        if self.rear is p:\n",
    "            self.rear = None\n",
    "        else:\n",
    "            self.rear.next = p.next\n",
    "        return p.elem\n",
    "\n",
    "    def print_all(self):\n",
    "        p = self.rear.next\n",
    "        while True:\n",
    "            print(p.elem)\n",
    "            if p is self.rear:\n",
    "                break\n",
    "            p = p.next"
   ]
  },
  {
   "cell_type": "code",
   "execution_count": null,
   "metadata": {
    "collapsed": true
   },
   "outputs": [],
   "source": [
    "if __name__ == '__main__':\n",
    "    mlist = LCList()\n",
    "    for i in range(10):\n",
    "        mlist.prepend(i)\n",
    "    for i in range(11, 20):\n",
    "        mlist.append(i)\n",
    "    # mlist1.printall()\n",
    "\n",
    "    while not mlist.is_empty():\n",
    "        print(mlist.pop())"
   ]
  }
 ],
 "metadata": {
  "kernelspec": {
   "display_name": "Python 3",
   "language": "python",
   "name": "python3"
  },
  "language_info": {
   "codemirror_mode": {
    "name": "ipython",
    "version": 3
   },
   "file_extension": ".py",
   "mimetype": "text/x-python",
   "name": "python",
   "nbconvert_exporter": "python",
   "pygments_lexer": "ipython3",
   "version": "3.6.2"
  }
 },
 "nbformat": 4,
 "nbformat_minor": 2
}
