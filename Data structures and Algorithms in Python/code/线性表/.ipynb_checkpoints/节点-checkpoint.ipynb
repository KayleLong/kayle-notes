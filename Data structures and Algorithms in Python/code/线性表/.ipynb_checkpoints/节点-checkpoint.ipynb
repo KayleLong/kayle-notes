{
 "cells": [
  {
   "cell_type": "code",
   "execution_count": 1,
   "metadata": {
    "collapsed": true
   },
   "outputs": [],
   "source": [
    "# -*- coding: utf-8 -*-\n",
    "# 节点类模块\n",
    "\n",
    "class LNode :\n",
    "    def __init__(self, elm, nxt):\n",
    "        self.elem = elm\n",
    "        self.next = nxt\n"
   ]
  },
  {
   "cell_type": "code",
   "execution_count": 2,
   "metadata": {
    "collapsed": false
   },
   "outputs": [
    {
     "name": "stdout",
     "output_type": "stream",
     "text": [
      "1\n",
      "2\n",
      "3\n",
      "4\n",
      "5\n",
      "6\n",
      "7\n",
      "8\n",
      "9\n",
      "10\n"
     ]
    }
   ],
   "source": [
    "if __name__ == '__main__':\n",
    "    llist1 = LNode(1, None)\n",
    "    pnode = llist1\n",
    "\n",
    "    for i in range(2, 11):\n",
    "        pnode.next = LNode(i, None)\n",
    "        pnode = pnode.next\n",
    "\n",
    "    pnode = llist1\n",
    "    while pnode != None:\n",
    "        print(pnode.elem)\n",
    "        pnode = pnode.next"
   ]
  }
 ],
 "metadata": {
  "kernelspec": {
   "display_name": "Python 3",
   "language": "python",
   "name": "python3"
  },
  "language_info": {
   "codemirror_mode": {
    "name": "ipython",
    "version": 3
   },
   "file_extension": ".py",
   "mimetype": "text/x-python",
   "name": "python",
   "nbconvert_exporter": "python",
   "pygments_lexer": "ipython3",
   "version": "3.6.2"
  }
 },
 "nbformat": 4,
 "nbformat_minor": 2
}
