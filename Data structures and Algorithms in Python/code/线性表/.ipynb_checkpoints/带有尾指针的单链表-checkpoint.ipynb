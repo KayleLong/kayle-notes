{
 "cells": [
  {
   "cell_type": "code",
   "execution_count": null,
   "metadata": {
    "collapsed": true
   },
   "outputs": [],
   "source": [
    "# -*- coding: utf-8 -*-\n",
    "# 带尾指针的单链表模块\n",
    "\n",
    "from LNode import LNode\n",
    "from LList import LList\n",
    "\n",
    "\n",
    "class LRList(LList):\n",
    "    def __init__(self):\n",
    "        LList.__init__(self)\n",
    "        self.rear = None\n",
    "\n",
    "    def prepend(self, elem):\n",
    "        self.head = LNode(elem, self.head)\n",
    "        if self.rear is None:  # empty list\n",
    "            self.rear = self.head\n",
    "\n",
    "    def append(self, elem):\n",
    "        if self.rear is None:  # empty list\n",
    "            self.prepend(elem)\n",
    "        else:\n",
    "            self.rear.next = LNode(elem, None)\n",
    "            self.rear = self.rear.next\n",
    "\n",
    "    def pop(self):\n",
    "        if self.head is None:\n",
    "            raise ValueError\n",
    "        e = self.head.elem\n",
    "        if self.rear is self.head:  # list with one node\n",
    "            self.rear = None\n",
    "        self.head = self.head.next\n",
    "        return e\n",
    "\n",
    "    def pop_last(self):\n",
    "        if self.head is None:  # empty list\n",
    "            raise ValueError\n",
    "        p = self.head\n",
    "        if p.next is None:  # only one elem\n",
    "            e = p.elem\n",
    "            self.head = None\n",
    "            return e\n",
    "        while p.next.next is not None:\n",
    "            p = p.next\n",
    "        e = p.next.elem\n",
    "        p.next = None\n",
    "        self.rear = p\n",
    "        return e"
   ]
  },
  {
   "cell_type": "code",
   "execution_count": null,
   "metadata": {
    "collapsed": true
   },
   "outputs": [],
   "source": [
    "if __name__ == '__main__':\n",
    "    mlist1 = LRList()\n",
    "    for i in range(10):\n",
    "        mlist1.prepend(i)\n",
    "\n",
    "    for i in range(11, 20):\n",
    "        mlist1.append(i)\n",
    "        mlist1.print_all()\n"
   ]
  }
 ],
 "metadata": {
  "kernelspec": {
   "display_name": "Python 3",
   "language": "python",
   "name": "python3"
  },
  "language_info": {
   "codemirror_mode": {
    "name": "ipython",
    "version": 3
   },
   "file_extension": ".py",
   "mimetype": "text/x-python",
   "name": "python",
   "nbconvert_exporter": "python",
   "pygments_lexer": "ipython3",
   "version": "3.6.2"
  }
 },
 "nbformat": 4,
 "nbformat_minor": 2
}
