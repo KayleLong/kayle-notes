{
 "cells": [
  {
   "cell_type": "code",
   "execution_count": 1,
   "metadata": {
    "collapsed": true
   },
   "outputs": [],
   "source": [
    "# -*- coding: utf-8 -*-\n",
    "# Module rational defines a class (a type) retional.\n",
    "# More operations (methods) should be filled.\n",
    "\n",
    "def gcd(m, n):\n",
    "    if n == 0 :\n",
    "        m, n = n, m\n",
    "    while m != 0 :\n",
    "        m, n = n%m, m\n",
    "    return n\n",
    "\n",
    "class rational:\n",
    "    def __init__(self, num, den = 1) :\n",
    "        if type(num) != int or type(den) != int :\n",
    "            raise TypeError\n",
    "        if den == 0 :\n",
    "            raise ValueError\n",
    "        sign = 1\n",
    "        if (num < 0) :\n",
    "            num, sign = -num, -sign\n",
    "        if (den < 0) :\n",
    "            den, sign = -den, -sign\n",
    "        g = gcd(num, den)\n",
    "        # call function gcd defined in rational class.\n",
    "        self.num = sign * (num//g)\n",
    "        self.den = den//g\n",
    "\n",
    "    def print(self):\n",
    "        print(self.num, \"/\", self.den)\n",
    "\n",
    "    def __str__(self):\n",
    "        return str(self.num) + \"/\" + str(self.den)\n",
    "\n",
    "    def plus(self, another):\n",
    "        den = self.den * another.den\n",
    "        num = (self.num * another.den + self.den * another.num)\n",
    "        return rational(num, den)\n",
    "\n",
    "    def __add__(self, another):\n",
    "        den = self.den * another.den\n",
    "        num = (self.num * another.den + self.den * another.num)\n",
    "        return rational(num, den)\n",
    "    \n",
    "    def __sub__(self, another):\n",
    "        den = self.den * another.den\n",
    "        num = (self.num * another.den - self.den * another.num)\n",
    "        return rational(num, den)\n",
    "    \n",
    "    def __mul__(self, another):\n",
    "        den = self.den * another.den\n",
    "        num = self.num * another.num\n",
    "        return rational(num, den)\n",
    "    \n",
    "    def __floordiv__(self, another):\n",
    "        if another.num == 0 :\n",
    "            raise ZeroDivisionError\n",
    "        den = self.den * another.num\n",
    "        num = self.num * another.den\n",
    "        return rational(num, den)\n",
    "    \n",
    "    def get_num(self):\n",
    "        return self.num\n",
    "    \n",
    "    def get_den(self):\n",
    "        return self.den"
   ]
  },
  {
   "cell_type": "code",
   "execution_count": 2,
   "metadata": {
    "collapsed": false
   },
   "outputs": [
    {
     "name": "stdout",
     "output_type": "stream",
     "text": [
      "13 / 10\n"
     ]
    }
   ],
   "source": [
    "x = rational(3,5)\n",
    "x = x + rational(7,10)\n",
    "x.print()"
   ]
  },
  {
   "cell_type": "code",
   "execution_count": 4,
   "metadata": {
    "collapsed": false
   },
   "outputs": [
    {
     "data": {
      "text/plain": [
       "13"
      ]
     },
     "execution_count": 4,
     "metadata": {},
     "output_type": "execute_result"
    }
   ],
   "source": [
    "x.get_num()"
   ]
  },
  {
   "cell_type": "code",
   "execution_count": 5,
   "metadata": {
    "collapsed": false
   },
   "outputs": [
    {
     "data": {
      "text/plain": [
       "10"
      ]
     },
     "execution_count": 5,
     "metadata": {},
     "output_type": "execute_result"
    }
   ],
   "source": [
    "x.get_den()"
   ]
  },
  {
   "cell_type": "code",
   "execution_count": 6,
   "metadata": {
    "collapsed": false
   },
   "outputs": [
    {
     "name": "stdout",
     "output_type": "stream",
     "text": [
      "11 / 10\n"
     ]
    }
   ],
   "source": [
    "y = x - rational(1, 5)\n",
    "y.print()"
   ]
  },
  {
   "cell_type": "code",
   "execution_count": 7,
   "metadata": {
    "collapsed": false
   },
   "outputs": [
    {
     "name": "stdout",
     "output_type": "stream",
     "text": [
      "143 / 100\n"
     ]
    }
   ],
   "source": [
    "z = x * y\n",
    "z.print()"
   ]
  }
 ],
 "metadata": {
  "kernelspec": {
   "display_name": "Python 3",
   "language": "python",
   "name": "python3"
  },
  "language_info": {
   "codemirror_mode": {
    "name": "ipython",
    "version": 3
   },
   "file_extension": ".py",
   "mimetype": "text/x-python",
   "name": "python",
   "nbconvert_exporter": "python",
   "pygments_lexer": "ipython3",
   "version": "3.6.2"
  }
 },
 "nbformat": 4,
 "nbformat_minor": 2
}
