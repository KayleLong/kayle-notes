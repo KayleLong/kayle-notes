{
 "cells": [
  {
   "cell_type": "markdown",
   "metadata": {},
   "source": [
    "# <center>conda命令</center>"
   ]
  },
  {
   "cell_type": "markdown",
   "metadata": {},
   "source": [
    "主要参考Anaconda官方指南Using Conda：https://conda.io/docs/using/index.html\n",
    "\n",
    "1. 获取版本号\n",
    "```\n",
    "conda --version\n",
    "```\n",
    "或\n",
    "```\n",
    "conda -V\n",
    "```\n",
    "\n",
    "2. 获取帮助\n",
    "```\n",
    "conda --help\n",
    "```\n",
    "或\n",
    "```\n",
    "conda -h\n",
    "```\n",
    "查看某一命令的帮助，如update命令及remove命令\n",
    "\n",
    "3. 环境管理\n",
    "查看环境管理的全部命令帮助\n",
    "```\n",
    "conda env -h\n",
    "```\n",
    "创建环境\n",
    "```\n",
    "conda creat --name（your env name）\n",
    "```\n",
    "输入y确认创建。\n",
    "\n",
    "创建制定python版本的环境\n",
    "```\n",
    "conda creat --py2.7 python=2.7\n",
    "conda creat --py3.6 python=3.6\n",
    "```\n",
    "上面两个指令分别创建了一个名为py2.7，一个名为py3.6的虚拟环境，分别对应python2.7版本和python3.6版本。\n",
    "\n",
    "列举当前所有环境\n",
    "```\n",
    "conda info --env\n",
    "conda list\n",
    "```\n",
    "\n",
    "激活（进入）某个环境\n",
    "```\n",
    "activate --name\n",
    "```\n",
    "例如:activate py3.6\n",
    "\n",
    "退出当前环境\n",
    "```\n",
    "deactivate\n",
    "```\n",
    "\n",
    "复制某个环境\n",
    "```\n",
    "conda creat --name new_env_name --clone old_env_name\n",
    "```\n",
    "\n",
    "删除某个环境\n",
    "```\n",
    "conda remove --name --all\n",
    "```"
   ]
  }
 ],
 "metadata": {
  "kernelspec": {
   "display_name": "Python 3",
   "language": "python",
   "name": "python3"
  },
  "language_info": {
   "codemirror_mode": {
    "name": "ipython",
    "version": 3
   },
   "file_extension": ".py",
   "mimetype": "text/x-python",
   "name": "python",
   "nbconvert_exporter": "python",
   "pygments_lexer": "ipython3",
   "version": "3.6.2"
  }
 },
 "nbformat": 4,
 "nbformat_minor": 2
}
