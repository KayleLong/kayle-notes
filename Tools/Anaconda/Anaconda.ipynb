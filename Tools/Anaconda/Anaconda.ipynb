{
 "cells": [
  {
   "cell_type": "markdown",
   "metadata": {},
   "source": [
    "### Anaconda 3 下实现Jupyter Notebook实现同时使用Py2 和 Py3内核\n",
    "\n",
    "链接：https://segmentfault.com/a/1190000008585746\n",
    "\n",
    "\n",
    "##### 基于 python3.5 创建一个名为py3 的环境\n",
    "conda create --name py36 python=3.6\n",
    " \n",
    "##### 基于 python2.7 创建一个名为py2 的环境\n",
    "conda create --name py27 python=2.7\n",
    " \n",
    "##### 激活 test 环境(windows下)\n",
    "activate py27 \n",
    "\n",
    "##### 切换到python3\n",
    "activate py36\n",
    "\n",
    "\n",
    "切换环境后，可以自由执行ipython 命令。\n",
    "\n",
    "切换到py2环境下执行 jupyter notebook，出现错误。\n",
    "在jupyter notebook 中执行python2，内核错误。\n",
    "\n",
    "控制台打印错误信息，\n",
    "[I 17:03:26.476 NotebookApp] Kernel started: e72b0baa-8d89-4d2d-a3f4-66de0b31d34c\n",
    "D:\\Python\\Anaconda\\Anaconda3\\pkgs\\python-2.7.13-1\\python.exe: No module named ipykernel\n",
    "[I 17:03:29.483 NotebookApp] KernelRestarter: restarting kernel (1/5)\n",
    "D:\\Python\\Anaconda\\Anaconda3\\pkgs\\python-2.7.13-1\\python.exe: No module named ipykernel\n",
    "[I 17:03:32.500 NotebookApp] KernelRestarter: restarting kernel (2/5)\n",
    "D:\\Python\\Anaconda\\Anaconda3\\pkgs\\python-2.7.13-1\\python.exe: No module named ipykernel\n",
    "[I 17:03:35.528 NotebookApp] KernelRestarter: restarting kernel (3/5)\n",
    "D:\\Python\\Anaconda\\Anaconda3\\pkgs\\python-2.7.13-1\\python.exe: No module named ipykernel\n",
    "\n",
    "从后台打印情况发现(py27)环境还缺少ipykernel\n",
    "\n",
    "(py27)环境安装ipykernel\n",
    "\n",
    "所以安装ipykernel\n",
    "\n",
    "conda install ipykernel\n",
    "\n",
    "重启Jupyter Notebook切换到python2\n"
   ]
  }
 ],
 "metadata": {
  "kernelspec": {
   "display_name": "Python 3",
   "language": "python",
   "name": "python3"
  },
  "language_info": {
   "codemirror_mode": {
    "name": "ipython",
    "version": 3
   },
   "file_extension": ".py",
   "mimetype": "text/x-python",
   "name": "python",
   "nbconvert_exporter": "python",
   "pygments_lexer": "ipython3",
   "version": "3.6.0"
  }
 },
 "nbformat": 4,
 "nbformat_minor": 2
}
