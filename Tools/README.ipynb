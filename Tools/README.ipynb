{
 "cells": [
  {
   "cell_type": "markdown",
   "metadata": {},
   "source": [
    "# <center>常用工具介绍</center>"
   ]
  },
  {
   "cell_type": "markdown",
   "metadata": {},
   "source": [
    "### Anaconda\n",
    "Anaconda是包括Conda、Python以及一大堆安装好的集成工具包。比如：numpy、pandas等<br>\n",
    "Anaconda可以便捷获取包且对包能够进行管理，同时对环境可以统一管理的发行版本。<br>\n"
   ]
  },
  {
   "cell_type": "markdown",
   "metadata": {},
   "source": [
    "### conda\n",
    "conda是一个开源的包、环境管理器，可以用于在同一个机器上安装不同版本的软件包及其依赖，并能够在不同的环境之间切换。<br>\n"
   ]
  },
  {
   "cell_type": "markdown",
   "metadata": {},
   "source": [
    "### Jupyter Notebook\n",
    "\n",
    "Jupyter Notebook 的本质是一个 Web 应用程序，便于创建和共享程序文档，支持实时代码，数学方程，可视化和 markdown。 \n",
    "\n",
    "用途包括：数据清理和转换，数值模拟，统计建模，机器学习等等。\n",
    "\n",
    "在Jupyter Notebook 中，代码可以实时的生成图像，视频，LaTeX和JavaScript。"
   ]
  },
  {
   "cell_type": "markdown",
   "metadata": {},
   "source": [
    "### Pycharm\n",
    "PyCharm是一种Python IDE（Integrated Development Environment，集成开发环境）。\n",
    "\n",
    "带有一整套可以帮助用户在使用Python语言开发时提高其效率的工具，比如调试、语法高亮、项目管理、代码跳转、智能提示、自动完成、单元测试、版本控制。\n",
    "\n",
    "此外，该IDE提供了一些高级功能，以用于支持Django框架下的专业Web开发。"
   ]
  },
  {
   "cell_type": "markdown",
   "metadata": {},
   "source": [
    "### sublime text\n",
    "Sublime Text 是一个文本编辑器。\n",
    "\n",
    "Sublime Text具有漂亮的用户界面和强大的功能，例如代码缩略图，Python的插件，代码段等。还可自定义键绑定，菜单和工具栏。Sublime Text 的主要功能包括：拼写检查，书签，完整的 Python API ， Goto 功能，即时项目切换，多选择，多窗口等等。Sublime Text 是一个跨平台的编辑器，同时支持Windows、Linux、Mac OS X等操作系统。"
   ]
  },
  {
   "cell_type": "markdown",
   "metadata": {},
   "source": [
    "***\n",
    "### Anaconda、conda、pip、virtualenv的区别\n",
    "1. Anaconda\n",
    "Anaconda是一个包含180+的科学包及其依赖项的发行版本。其包含的科学包包括：conda, numpy, scipy, ipython notebook等。\n",
    "\n",
    "2. conda\n",
    "conda是包及其依赖项和环境的管理工具。\n",
    "\n",
    "    - 适用语言：Python, R, Ruby, Lua, Scala, Java, JavaScript, C/C++, FORTRAN。\n",
    "\n",
    "    - 适用平台：Windows, macOS, Linux\n",
    "\n",
    "    - 用途：\n",
    "\n",
    "        快速安装、运行和升级包及其依赖项。\n",
    "        在计算机中便捷地创建、保存、加载和切换环境。\n",
    "\n",
    "conda为Python项目而创造，但可适用于上述的多种语言。\n",
    "\n",
    "conda包和环境管理器包含于Anaconda的所有版本当中。\n",
    "\n",
    "3. pip\n",
    "pip是用于安装和管理软件包的包管理器。\n",
    "\n",
    "pip编写语言：Python。\n",
    "\n",
    "Python中默认安装的版本：\n",
    "\n",
    "Python 2.7.9及后续版本：默认安装，命令为pip\n",
    "Python 3.4及后续版本：默认安装，命令为pip3\n",
    "pip名称的由来：pip采用的是递归缩写进行命名的。其名字被普遍认为来源于2处：\n",
    "\n",
    "“Pip installs Packages”（“pip安装包”）\n",
    "“Pip installs Python”（“pip安装Python”）\n",
    "\n",
    "4. virtualenv\n",
    "virtualenv：用于创建一个独立的Python环境的工具。\n",
    "\n",
    "解决问题：\n",
    "\n",
    "当一个程序需要使用Python 2.7版本，而另一个程序需要使用Python 3.6版本，如何同时使用这两个程序？\n",
    "\n",
    "如果将所有程序都安装在系统下的默认路径，如：/usr/lib/python2.7/site-packages，当不小心升级了本不该升级的程序时，将会对其他的程序造成影响。\n",
    "\n",
    "如果想要安装程序并在程序运行时对其库或库的版本进行修改，都会导致程序的中断。\n",
    "\n",
    "在共享主机时，无法在全局site-packages目录中安装包。\n",
    "\n",
    "virtualenv将会为它自己的安装目录创建一个环境，这并不与其他virtualenv环境共享库；同时也可以选择性地不连接已安装的全局库。\n",
    "\n",
    "5. pip 与 conda 比较\n",
    "→ 依赖项检查\n",
    "pip：\n",
    "不一定会展示所需其他依赖包。\n",
    "安装包时或许会直接忽略依赖项而安装，仅在结果中提示错误。\n",
    "conda：\n",
    "列出所需其他依赖包。\n",
    "安装包时自动安装其依赖项。\n",
    "可以便捷地在包的不同版本中自由切换。"
   ]
  }
 ],
 "metadata": {
  "kernelspec": {
   "display_name": "Python 3",
   "language": "python",
   "name": "python3"
  },
  "language_info": {
   "codemirror_mode": {
    "name": "ipython",
    "version": 3
   },
   "file_extension": ".py",
   "mimetype": "text/x-python",
   "name": "python",
   "nbconvert_exporter": "python",
   "pygments_lexer": "ipython3",
   "version": "3.6.2"
  }
 },
 "nbformat": 4,
 "nbformat_minor": 2
}
