{
 "cells": [
  {
   "cell_type": "markdown",
   "metadata": {},
   "source": [
    "# <center>Jupyter Notebook中安装多个内核版本</center>"
   ]
  },
  {
   "cell_type": "markdown",
   "metadata": {},
   "source": [
    "### 0.Jupyter Notebook支持多个内核版本\n",
    "不同的jupyter文件所需要的内核版本不同，Jupyter Notebook支持python2、python3不同内核的切换"
   ]
  },
  {
   "cell_type": "markdown",
   "metadata": {},
   "source": [
    "### 1.添加内核\n",
    "查看jupyter notebook 内核列表\n",
    "\n",
    "```\n",
    "jupyter kernelspec list\n",
    "```\n",
    "安装内核\n",
    "```\n",
    "ipython kernel install --name python2\n",
    "```\n",
    "删除内核\n",
    "```\n",
    "jupyter kernelspec uninstall python2\n",
    "```"
   ]
  }
 ],
 "metadata": {
  "kernelspec": {
   "display_name": "Python 3",
   "language": "python",
   "name": "python3"
  },
  "language_info": {
   "codemirror_mode": {
    "name": "ipython",
    "version": 3
   },
   "file_extension": ".py",
   "mimetype": "text/x-python",
   "name": "python",
   "nbconvert_exporter": "python",
   "pygments_lexer": "ipython3",
   "version": "3.6.0"
  }
 },
 "nbformat": 4,
 "nbformat_minor": 2
}
