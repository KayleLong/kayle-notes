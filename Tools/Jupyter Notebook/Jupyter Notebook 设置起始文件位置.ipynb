{
 "cells": [
  {
   "cell_type": "markdown",
   "metadata": {},
   "source": [
    "# <center>Jupyter Notebook 设置起始文件位置</center>"
   ]
  },
  {
   "cell_type": "markdown",
   "metadata": {},
   "source": [
    "[https://blog.csdn.net/m0_38071863/article/details/102958740]\n",
    "关于修改Jupyter Notebook默认起始：\n",
    "\n",
    "方法1、设置快捷方式的起始位置，找到Jupyter Notebook的快捷方式。\n",
    "\n",
    "直接右键Jupyter Notebook的属性找到起始位置这个选项，修改成你想要的路径，例如：G：\\pythoncode\n",
    "**不一定有效**\n",
    "\n",
    "方法2、\n",
    "在Windows的cmd中输入\n",
    "```\n",
    "jupyter notebook --generate-config\n",
    "```\n",
    "```\n",
    "C:\\Users\\LA\n",
    "λ jupyter notebook --generate-config\n",
    "Writing default config to: C:\\Users\\LA\\.jupyter\\jupyter_notebook_config.py\n",
    "```\n",
    "\n",
    "修改用户目录下.jupyter中的 jupyter_notebook_config.py 文件中的 c.NotebookApp.notebook_dir = u'' 属性；\n",
    "\n",
    "取消注释（即删除#号）将等于号后面修改为你的路径，并用单引号括起来，例如： \n",
    "```\n",
    "c.NotebookApp.notebook_dir ='E:\\\\Code\\\\PycharmProjects\\\\jupyterbooks' \n",
    "```"
   ]
  },
  {
   "cell_type": "markdown",
   "metadata": {},
   "source": [
    "config.py文件位置\n",
    "```\n",
    "C:\\Users\\计算机名称\\.jupyter\n",
    "```"
   ]
  }
 ],
 "metadata": {
  "kernelspec": {
   "display_name": "Python 3",
   "language": "python",
   "name": "python3"
  },
  "language_info": {
   "codemirror_mode": {
    "name": "ipython",
    "version": 3
   },
   "file_extension": ".py",
   "mimetype": "text/x-python",
   "name": "python",
   "nbconvert_exporter": "python",
   "pygments_lexer": "ipython3",
   "version": "3.6.0"
  }
 },
 "nbformat": 4,
 "nbformat_minor": 2
}
