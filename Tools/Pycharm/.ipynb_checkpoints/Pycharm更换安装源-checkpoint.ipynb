{
 "cells": [
  {
   "cell_type": "markdown",
   "metadata": {},
   "source": [
    "# <center>Pycharm更换安装源</center>"
   ]
  },
  {
   "cell_type": "markdown",
   "metadata": {},
   "source": [
    "### 1.为什么需要更换安装源\n",
    "Pycharm里的pip是官方自带的源，国内使用pip安装的时候十分缓慢，所以最好是更换成中国国内的源地址。\n",
    "\n",
    "目前国内靠谱的 pip 镜像源有：<br>\n",
    "清华: https://pypi.tuna.tsinghua.edu.cn/simple <br>\n",
    "豆瓣: http://pypi.douban.com/simple/ <br>\n",
    "阿里: http://mirrors.aliyun.com/pypi/simple/<br>\n",
    "建议使用清华的"
   ]
  },
  {
   "cell_type": "markdown",
   "metadata": {},
   "source": [
    "### 2.Pycharm如何更换安装源\n",
    "打开Pycharm,点击File->Setting，搜索interpreter，<br>\n",
    "选择Project Interpreter<br>\n",
    "然后点击右侧的\"+\"号，<br>\n",
    "选择Manage Repositories，<br>\n",
    "删除默认的源，添加清华的安装源，保存配置。"
   ]
  }
 ],
 "metadata": {
  "kernelspec": {
   "display_name": "Python 3",
   "language": "python",
   "name": "python3"
  },
  "language_info": {
   "codemirror_mode": {
    "name": "ipython",
    "version": 3
   },
   "file_extension": ".py",
   "mimetype": "text/x-python",
   "name": "python",
   "nbconvert_exporter": "python",
   "pygments_lexer": "ipython3",
   "version": "3.6.2"
  }
 },
 "nbformat": 4,
 "nbformat_minor": 2
}
