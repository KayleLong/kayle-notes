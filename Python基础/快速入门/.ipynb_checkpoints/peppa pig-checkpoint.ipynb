{
 "cells": [
  {
   "cell_type": "code",
   "execution_count": 1,
   "metadata": {
    "collapsed": false
   },
   "outputs": [],
   "source": [
    "import turtle as t\n",
    "import matplotlib.pyplot as plt"
   ]
  },
  {
   "cell_type": "markdown",
   "metadata": {},
   "source": [
    "设置画笔参数"
   ]
  },
  {
   "cell_type": "code",
   "execution_count": 2,
   "metadata": {
    "collapsed": true
   },
   "outputs": [],
   "source": [
    "def SetParam():\n",
    "    t.pensize(4)\n",
    "    t.hideturtle()\n",
    "    t.colormode(255)\n",
    "    t.color((255, 155, 192), \"pink\")\n",
    "    t.setup(840, 500)\n",
    "    t.speed(10)"
   ]
  },
  {
   "cell_type": "markdown",
   "metadata": {},
   "source": [
    "鼻子"
   ]
  },
  {
   "cell_type": "code",
   "execution_count": 3,
   "metadata": {
    "collapsed": true
   },
   "outputs": [],
   "source": [
    "def DrawNose():\n",
    "    t.pu()\n",
    "    t.goto(-100, 100)\n",
    "    t.pd()\n",
    "    t.seth(-30)\n",
    "    t.begin_fill()\n",
    "    a = 0.4\n",
    "    for i in range(120):\n",
    "        if 0 <= i<30 or 60 <= i<90:\n",
    "            a=a+0.08\n",
    "            t.lt(3) # 向左转3度\n",
    "            t.fd(a) # 向前走a的步长\n",
    "        else:\n",
    "            a=a-0.08\n",
    "            t.lt(3)\n",
    "            t.fd(a)\n",
    "    t.end_fill()\n",
    "\n",
    "    t.pu()\n",
    "    t.seth(90)\n",
    "    t.fd(25)\n",
    "    t.seth(0)\n",
    "    t.fd(10)\n",
    "    t.pd()\n",
    "    t.pencolor(255, 155, 192)\n",
    "    t.seth(10)\n",
    "    t.begin_fill()\n",
    "    t.circle(5)\n",
    "    t.color(160, 82, 45)\n",
    "    t.end_fill()\n",
    "\n",
    "    t.pu()\n",
    "    t.seth(0)\n",
    "    t.fd(20)\n",
    "    t.pd()\n",
    "    t.pencolor(255, 155, 192)\n",
    "    t.seth(10)\n",
    "    t.begin_fill()\n",
    "    t.circle(5)\n",
    "    t.color(160, 82, 45)\n",
    "    t.end_fill()"
   ]
  },
  {
   "cell_type": "markdown",
   "metadata": {},
   "source": [
    "头部"
   ]
  },
  {
   "cell_type": "code",
   "execution_count": 4,
   "metadata": {
    "collapsed": true
   },
   "outputs": [],
   "source": [
    "def DrawHead():\n",
    "    t.color((255, 155, 192), \"pink\")\n",
    "    t.pu()\n",
    "    t.seth(90)\n",
    "    t.fd(41)\n",
    "    t.seth(0)\n",
    "    t.fd(0)\n",
    "    t.pd()\n",
    "    t.begin_fill()\n",
    "    t.seth(180)\n",
    "    t.circle(300, -30)\n",
    "    t.circle(100, -60)\n",
    "    t.circle(80, -100)\n",
    "    t.circle(150, -20)\n",
    "    t.circle(60, -95)\n",
    "    t.seth(161)\n",
    "    t.circle(-300, 15)\n",
    "    t.pu()\n",
    "    t.goto(-100, 100)\n",
    "    t.pd()\n",
    "    t.seth(-30)\n",
    "    a=0.4\n",
    "    for i in range(60):\n",
    "        if 0 <= i<30 or 60 <= i<90:\n",
    "            a=a+0.08\n",
    "            t.lt(3) #向左转3度\n",
    "            t.fd(a) #向前走a的步长\n",
    "        else:\n",
    "            a=a-0.08\n",
    "            t.lt(3)\n",
    "            t.fd(a)\n",
    "    t.end_fill()"
   ]
  },
  {
   "cell_type": "markdown",
   "metadata": {},
   "source": [
    "耳朵"
   ]
  },
  {
   "cell_type": "code",
   "execution_count": 5,
   "metadata": {
    "collapsed": true
   },
   "outputs": [],
   "source": [
    "def DrawEar():\n",
    "    t.color((255, 155, 192), \"pink\")\n",
    "    t.pu()\n",
    "    t.seth(90)\n",
    "    t.fd(-7)\n",
    "    t.seth(0)\n",
    "    t.fd(70)\n",
    "    t.pd()\n",
    "    t.begin_fill()\n",
    "    t.seth(100)\n",
    "    t.circle(-50, 50)\n",
    "    t.circle(-10, 120)\n",
    "    t.circle(-50, 54)\n",
    "    t.end_fill()\n",
    "\n",
    "    t.pu()\n",
    "    t.seth(90)\n",
    "    t.fd(-12)\n",
    "    t.seth(0)\n",
    "    t.fd(30)\n",
    "    t.pd()\n",
    "    t.begin_fill()\n",
    "    t.seth(100)\n",
    "    t.circle(-50, 50)\n",
    "    t.circle(-10, 120)\n",
    "    t.circle(-50, 56)\n",
    "    t.end_fill()"
   ]
  },
  {
   "cell_type": "markdown",
   "metadata": {},
   "source": [
    "眼睛"
   ]
  },
  {
   "cell_type": "code",
   "execution_count": 6,
   "metadata": {
    "collapsed": true
   },
   "outputs": [],
   "source": [
    "def DrawEyes():\n",
    "    t.color((255, 155, 192), \"white\")\n",
    "    t.pu()\n",
    "    t.seth(90)\n",
    "    t.fd(-20)\n",
    "    t.seth(0)\n",
    "    t.fd(-95)\n",
    "    t.pd()\n",
    "    t.begin_fill()\n",
    "    t.circle(15)\n",
    "    t.end_fill()\n",
    "\n",
    "    t.color(\"black\")\n",
    "    t.pu()\n",
    "    t.seth(90)\n",
    "    t.fd(12)\n",
    "    t.seth(0)\n",
    "    t.fd(-3)\n",
    "    t.pd()\n",
    "    t.begin_fill()\n",
    "    t.circle(3)\n",
    "    t.end_fill()\n",
    "\n",
    "    t.color((255, 155, 192), \"white\")\n",
    "    t.pu()\n",
    "    t.seth(90)\n",
    "    t.fd(-25)\n",
    "    t.seth(0)\n",
    "    t.fd(40)\n",
    "    t.pd()\n",
    "    t.begin_fill()\n",
    "    t.circle(15)\n",
    "    t.end_fill()\n",
    "\n",
    "    t.color(\"black\")\n",
    "    t.pu()\n",
    "    t.seth(90)\n",
    "    t.fd(12)\n",
    "    t.seth(0)\n",
    "    t.fd(-3)\n",
    "    t.pd()\n",
    "    t.begin_fill()\n",
    "    t.circle(3)\n",
    "    t.end_fill()"
   ]
  },
  {
   "cell_type": "markdown",
   "metadata": {},
   "source": [
    "腮红"
   ]
  },
  {
   "cell_type": "code",
   "execution_count": 7,
   "metadata": {
    "collapsed": true
   },
   "outputs": [],
   "source": [
    "def DrawCheek():\n",
    "    t.color((255, 155, 192))\n",
    "    t.pu()\n",
    "    t.seth(90)\n",
    "    t.fd(-95)\n",
    "    t.seth(0)\n",
    "    t.fd(65)\n",
    "    t.pd()\n",
    "    t.begin_fill()\n",
    "    t.circle(30)\n",
    "    t.end_fill()"
   ]
  },
  {
   "cell_type": "markdown",
   "metadata": {},
   "source": [
    "嘴巴"
   ]
  },
  {
   "cell_type": "code",
   "execution_count": 8,
   "metadata": {
    "collapsed": true
   },
   "outputs": [],
   "source": [
    "def DrawMouth():\n",
    "    t.color(239, 69, 19)\n",
    "    t.pu()\n",
    "    t.seth(90)\n",
    "    t.fd(15)\n",
    "    t.seth(0)\n",
    "    t.fd(-100)\n",
    "    t.pd()\n",
    "    t.seth(-80)\n",
    "    t.circle(30, 40)\n",
    "    t.circle(40, 80)"
   ]
  },
  {
   "cell_type": "markdown",
   "metadata": {},
   "source": [
    "身体"
   ]
  },
  {
   "cell_type": "code",
   "execution_count": 9,
   "metadata": {
    "collapsed": true
   },
   "outputs": [],
   "source": [
    "def DrawBody():\n",
    "    t.color(\"red\", (255, 99, 71))\n",
    "    t.pu()\n",
    "    t.seth(90)\n",
    "    t.fd(-20)\n",
    "    t.seth(0)\n",
    "    t.fd(-78)\n",
    "    t.pd()\n",
    "    t.begin_fill()\n",
    "    t.seth(-130)\n",
    "    t.circle(100, 10)\n",
    "    t.circle(300, 30)\n",
    "    t.seth(0)\n",
    "    t.fd(230)\n",
    "    t.seth(90)\n",
    "    t.circle(300, 30)\n",
    "    t.circle(100, 3)\n",
    "    t.color((255, 155, 192), (255, 100, 100))\n",
    "    t.seth(-135)\n",
    "    t.circle(-80, 63)\n",
    "    t.circle(-150, 24)\n",
    "    t.end_fill()"
   ]
  },
  {
   "cell_type": "markdown",
   "metadata": {},
   "source": [
    "手"
   ]
  },
  {
   "cell_type": "code",
   "execution_count": 10,
   "metadata": {
    "collapsed": true
   },
   "outputs": [],
   "source": [
    "def DrawHand():\n",
    "    t.color((255, 155, 192))\n",
    "    t.pu()\n",
    "    t.seth(90)\n",
    "    t.fd(-40)\n",
    "    t.seth(0)\n",
    "    t.fd(-27)\n",
    "    t.pd()\n",
    "    t.seth(-160)\n",
    "    t.circle(300, 15)\n",
    "    t.pu()\n",
    "    t.seth(90)\n",
    "    t.fd(15)\n",
    "    t.seth(0)\n",
    "    t.fd(0)\n",
    "    t.pd()\n",
    "    t.seth(-10)\n",
    "    t.circle(-20, 90)\n",
    "\n",
    "    t.pu()\n",
    "    t.seth(90)\n",
    "    t.fd(30)\n",
    "    t.seth(0)\n",
    "    t.fd(237)\n",
    "    t.pd()\n",
    "    t.seth(-20)\n",
    "    t.circle(-300, 15)\n",
    "    t.pu()\n",
    "    t.seth(90)\n",
    "    t.fd(20)\n",
    "    t.seth(0)\n",
    "    t.fd(0)\n",
    "    t.pd()\n",
    "    t.seth(-170)\n",
    "    t.circle(20, 90)"
   ]
  },
  {
   "cell_type": "markdown",
   "metadata": {},
   "source": [
    "脚"
   ]
  },
  {
   "cell_type": "code",
   "execution_count": 11,
   "metadata": {
    "collapsed": true
   },
   "outputs": [],
   "source": [
    "def DrawFoot():\n",
    "    t.pensize(10)\n",
    "    t.color((240, 128, 128))\n",
    "    t.pu()\n",
    "    t.seth(90)\n",
    "    t.fd(-75)\n",
    "    t.seth(0)\n",
    "    t.fd(-180)\n",
    "    t.pd()\n",
    "    t.seth(-90)\n",
    "    t.fd(40)\n",
    "    t.seth(-180)\n",
    "    t.color(\"black\")\n",
    "    t.pensize(15)\n",
    "    t.fd(20)\n",
    "\n",
    "    t.pensize(10)\n",
    "    t.color((240, 128, 128))\n",
    "    t.pu()\n",
    "    t.seth(90)\n",
    "    t.fd(40)\n",
    "    t.seth(0)\n",
    "    t.fd(90)\n",
    "    t.pd()\n",
    "    t.seth(-90)\n",
    "    t.fd(40)\n",
    "    t.seth(-180)\n",
    "    t.color(\"black\")\n",
    "    t.pensize(15)\n",
    "    t.fd(20)"
   ]
  },
  {
   "cell_type": "markdown",
   "metadata": {},
   "source": [
    "尾巴"
   ]
  },
  {
   "cell_type": "code",
   "execution_count": 12,
   "metadata": {
    "collapsed": true
   },
   "outputs": [],
   "source": [
    "def DrawTail():\n",
    "    t.pensize(4)\n",
    "    t.color((255, 155, 192))\n",
    "    t.pu()\n",
    "    t.seth(90)\n",
    "    t.fd(70)\n",
    "    t.seth(0)\n",
    "    t.fd(95)\n",
    "    t.pd()\n",
    "    t.seth(0)\n",
    "    t.circle(70, 20)\n",
    "    t.circle(10, 330)\n",
    "    t.circle(70, 30)"
   ]
  },
  {
   "cell_type": "markdown",
   "metadata": {},
   "source": [
    "主函数"
   ]
  },
  {
   "cell_type": "code",
   "execution_count": 13,
   "metadata": {
    "collapsed": false
   },
   "outputs": [],
   "source": [
    "def main():\n",
    "    SetParam()\n",
    "    DrawNose()\n",
    "    DrawHead()\n",
    "    DrawEar()\n",
    "    DrawEyes()\n",
    "    DrawCheek()\n",
    "    DrawMouth()\n",
    "    DrawBody()\n",
    "    DrawHand()\n",
    "    DrawFoot()\n",
    "    DrawTail()\n",
    "\n",
    "main()"
   ]
  }
 ],
 "metadata": {
  "kernelspec": {
   "display_name": "Python 2",
   "language": "python",
   "name": "python2"
  },
  "language_info": {
   "codemirror_mode": {
    "name": "ipython",
    "version": 2
   },
   "file_extension": ".py",
   "mimetype": "text/x-python",
   "name": "python",
   "nbconvert_exporter": "python",
   "pygments_lexer": "ipython2",
   "version": "2.7.13"
  }
 },
 "nbformat": 4,
 "nbformat_minor": 2
}
