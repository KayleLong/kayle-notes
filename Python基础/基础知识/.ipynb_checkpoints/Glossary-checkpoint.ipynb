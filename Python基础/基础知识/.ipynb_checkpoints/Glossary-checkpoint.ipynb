{
 "cells": [
  {
   "cell_type": "markdown",
   "metadata": {},
   "source": [
    "## chapter1\n",
    "\n",
    "**problem solving（解决问题）**: The process of formulating a problem, finding a solution,and expressing the solution.将问题形式化、寻找解决方案和表达解决方案的过程。\n",
    "\n",
    "**high-level language（高级语言）**: A programming language like Python that is designed to be easy for humans to read and write.一种类似于 Python 的编程语言，旨在易于人类阅读和编写\n",
    "\n",
    "**low-level language(低级语言)**: A programming language that is designed to be easy for a computer to execute; also called “machine language” or “assembly language.”一种旨在易于计算机执行的编程语言； 也称为“机器语言”或“汇编语言”。\n",
    "\n",
    "**portability(移植性)**: A property of a program that can run on more than one kind of computer.可以在多种计算机上运行的程序的属性。\n",
    "\n",
    "**interpret(解释)**: To execute a program in a high-level language by translating it one line at a time.通过一次翻译一行来执行高级语言程序。\n",
    "\n",
    "**compile(编译)**: To translate a program written in a high-level language into a low-level language all at once, in preparation for later execution.将用高级语言编写的程序一次性翻译成低级语言，为之后的运行做准备。\n",
    "\n",
    "**source code(源代码)**: A program in a high-level language before being compiled.编译前的高级语言程序。\n",
    "\n",
    "**object code(目标代码)**: The output of the compiler after it translates the program.编译器将程序翻译后的输出。\n",
    "\n",
    "**executable(可执行程序)**: Another name for object code that is ready to be executed.准备好执行的目标代码的别名。\n",
    "\n",
    "**prompt(提示符)**: Characters displayed by the interpreter to indicate that it is ready to take input from the user.解释器显示的字符，表示它已准备好接受用户的输入。\n",
    "\n",
    "**script(脚本)**: A program stored in a file (usually one that will be interpreted).存储在文件中的程序（通常是一个将被解释的程序）。\n",
    "\n",
    "**interactive mode(交互模式)**: A way of using the Python interpreter by typing commands and expressions at the prompt.通过在提示符下输入命令和表达式来使用 Python 解释器的一种方式。\n",
    "\n",
    "**script mode(脚本模式)**: A way of using the Python interpreter to read and execute statements in a script.一种使用 Python 解释器读取和执行脚本中的语句的方法。\n",
    "\n",
    "**program(程序)**: A set of instructions that specifies a computation.一组指定计算的指令。\n",
    "\n",
    "**algorithm(算法)**: A general process for solving a category of problems.解决一类问题的一般过程。\n",
    "\n",
    "**bug**: An error in a program.程序中的错误。\n",
    "\n",
    "**debugging(调试)**: The process of finding and removing any of the three kinds of programming errors.查找和消除三种编程错误中的任何一种的过程。\n",
    "\n",
    "**syntax(语法)**: The structure of a program and the rules about that structure.程序的结构以及关于那些结构的规则。\n",
    "\n",
    "**exception(异常)**: An error that is detected while the program is running.程序运行时检测到的错误。\n",
    "\n",
    "**semantics(语义)**: The meaning of a program.程序的意义。\n",
    "\n",
    "**syntax error(语法错误)**: An error in a program that makes it impossible to parse (and therefore impossible to interpret).程序中导致无法解析的错误（因此无法解释）。\n",
    "\n",
    "**Runtime errors(运行时错误)**：An error in a program that is detected while the program is runnin.These errors are also called exceptions.程序运行时检测到的错误。这些错误也称为异常。\n",
    "\n",
    "**semantic error(语义错误)**: An error in a program that makes it do something other than what the programmer intended.程序中的一个错误，使它做一些与程序员意图不同的事情。\n",
    "\n",
    "\n",
    "**natural language(自然语言)**: Any one of the languages that people speak that evolved naturally.人们说的任何一种自然进化的语言。\n",
    "\n",
    "**formal language(形式语言)**: Any one of the languages that people have designed for specific purposes, such as representing mathematical ideas or computer programs; all programming languages are formal languages.人们为特定目的而设计的任何一种语言，例如表示数学思想或计算机程序； 所有的编程语言都是形式语言。\n",
    "\n",
    "**token(记号)**: One of the basic elements of the syntactic structure of a program, analo\u0002gous to a word in a natural language.\n",
    "\n",
    "**parse(分析)**: To examine a program and analyze the syntactic structure.\n",
    "\n",
    "**print statement(打印语句)**: An instruction that causes the Python interpreter to display a value on the screen.\n"
   ]
  },
  {
   "cell_type": "markdown",
   "metadata": {},
   "source": [
    "## chapter2\n",
    "\n",
    "**value(值)**: One of the basic units of data, like a number or string, that a program manipulates.\n",
    "\n",
    "**type(类型)**: A category of values. The types we have seen so far are integers (type int), floating-point numbers (type float), and strings (type str).\n",
    "\n",
    "**integer(整数)**: A type that represents whole numbers.\n",
    "\n",
    "**floating-point(浮点)**: A type that represents numbers with fractional parts.\n",
    "\n",
    "**string(字符串)**: A type that represents sequences of characters.\n",
    "\n",
    "**variable(变量)**: A name that refers to a value.\n",
    "\n",
    "**statement(语句)**: A section of code that represents a command or action. So far, the statements we have seen are assignments and print statements.\n",
    "\n",
    "**assignment(赋值)**: A statement that assigns a value to a variable.\n",
    "\n",
    "**state diagram(状态图)**: A graphical representation of a set of variables and the values they refer to.\n",
    "\n",
    "**keyword(关键字)**: A reserved word that is used by the compiler to parse a program; you cannot use keywords like if, def, and while as variable names.\n",
    "\n",
    "**operator(操作符)**: A special symbol that represents a simple computation like addition, multiplication, or string concatenation.\n",
    "\n",
    "**operand(运算数)**: One of the values on which an operator operates.\n",
    "\n",
    "**floor division(向下取整除)**: The operation that divides two numbers and chops off the fraction part.\n",
    "\n",
    "**expression(表达式)**: A combination of variables, operators, and values that represents a single result value.\n",
    "\n",
    "**evaluate(计算)**: To simplify an expression by performing the operations in order to yield a single value.\n",
    "\n",
    "**rules of precedence(优先级规则)**: The set of rules governing the order in which expressions involving multiple operators and operands are evaluated.\n",
    "\n",
    "**concatenate(级联)**: To join two operands end-to-end.\n",
    "\n",
    "**comment(注释)**: Information in a program that is meant for other programmers (or anyone reading the source code) and has no effect on the execution of the program.\n"
   ]
  },
  {
   "cell_type": "markdown",
   "metadata": {},
   "source": [
    "## chapter3"
   ]
  },
  {
   "cell_type": "markdown",
   "metadata": {},
   "source": [
    "## chapter4"
   ]
  },
  {
   "cell_type": "markdown",
   "metadata": {},
   "source": [
    "## chapter5"
   ]
  },
  {
   "cell_type": "markdown",
   "metadata": {},
   "source": [
    "## chapter6"
   ]
  },
  {
   "cell_type": "markdown",
   "metadata": {},
   "source": [
    "## chapter7"
   ]
  },
  {
   "cell_type": "markdown",
   "metadata": {},
   "source": [
    "## chapter8"
   ]
  },
  {
   "cell_type": "markdown",
   "metadata": {},
   "source": [
    "## chapter9"
   ]
  },
  {
   "cell_type": "markdown",
   "metadata": {},
   "source": []
  },
  {
   "cell_type": "markdown",
   "metadata": {},
   "source": []
  }
 ],
 "metadata": {
  "kernelspec": {
   "display_name": "Python 3",
   "language": "python",
   "name": "python3"
  },
  "language_info": {
   "codemirror_mode": {
    "name": "ipython",
    "version": 3
   },
   "file_extension": ".py",
   "mimetype": "text/x-python",
   "name": "python",
   "nbconvert_exporter": "python",
   "pygments_lexer": "ipython3",
   "version": "3.6.2"
  }
 },
 "nbformat": 4,
 "nbformat_minor": 2
}
