{
 "cells": [
  {
   "cell_type": "markdown",
   "metadata": {},
   "source": [
    "# <center>Python的一些高级特性</center>"
   ]
  },
  {
   "cell_type": "markdown",
   "metadata": {},
   "source": [
    "## 切片(Slice)\n",
    "```\n",
    "作用：选取序列类型(list 、tuple或者NumPy数组等)的子集\n",
    "语法：序列对象[起始:结束:步长]\n",
    "````"
   ]
  },
  {
   "cell_type": "markdown",
   "metadata": {},
   "source": [
    "1. 起始或者结束都是可以省略的，省略时默认为序列的起始处和结尾处\n",
    "2. 负数索引是从序列的末尾开始的。如 list[:-1] 是从起始处到结尾处。(-0 = 0,表示起始处)"
   ]
  },
  {
   "cell_type": "markdown",
   "metadata": {},
   "source": [
    "#### 注：Python 中字符串没有对应的字符串截取操作，对字符串的截取全部采用切片操作符来实现"
   ]
  },
  {
   "cell_type": "markdown",
   "metadata": {},
   "source": [
    "## 迭代（Iteration）\n",
    "```\n",
    "作用：可以通过for循环来遍历\n",
    "语法：for 临时变量名 in 迭代对象\n",
    "```"
   ]
  },
  {
   "cell_type": "markdown",
   "metadata": {},
   "source": [
    "任何可迭代对象都可以作用于 for 循环，包括我们自定义的数据类型，只要符合迭代条件，就可以使用 for 循环。\n",
    "\n",
    "如何判断一个对象是可迭代对象呢？方法是通过 collections 模块的 Iterable 类型判断"
   ]
  },
  {
   "cell_type": "code",
   "execution_count": 20,
   "metadata": {
    "collapsed": false
   },
   "outputs": [
    {
     "data": {
      "text/plain": [
       "True"
      ]
     },
     "execution_count": 20,
     "metadata": {},
     "output_type": "execute_result"
    }
   ],
   "source": [
    "from collections import Iterable\n",
    "isinstance('abc', Iterable) # str 是否可迭代"
   ]
  },
  {
   "cell_type": "markdown",
   "metadata": {},
   "source": [
    "## 列表生成式(List Comprehensions)\n",
    "```\n",
    "作用：创建所需要的list\n",
    "语法：L = [表达式]\n",
    "```"
   ]
  },
  {
   "cell_type": "code",
   "execution_count": 21,
   "metadata": {
    "collapsed": false
   },
   "outputs": [
    {
     "data": {
      "text/plain": [
       "[1, 4, 9, 16, 25, 36, 49, 64, 81]"
      ]
     },
     "execution_count": 21,
     "metadata": {},
     "output_type": "execute_result"
    }
   ],
   "source": [
    "[x*x for x in range(1,10)]"
   ]
  },
  {
   "cell_type": "code",
   "execution_count": 22,
   "metadata": {
    "collapsed": false
   },
   "outputs": [
    {
     "data": {
      "text/plain": [
       "[4, 16, 36, 64]"
      ]
     },
     "execution_count": 22,
     "metadata": {},
     "output_type": "execute_result"
    }
   ],
   "source": [
    "# for 循环后面还可以加上 if 判断\n",
    "[x*x for x in range(1,10) if 0==x%2]"
   ]
  },
  {
   "cell_type": "markdown",
   "metadata": {},
   "source": [
    "## 生成器(generator)\n",
    "```\n",
    "作用：能以一种一致的方法对序列进行迭代（list或者文件中的行）\n",
    "语法：\n",
    "    1. gen = (表达式)\n",
    "    \n",
    "    2. 将普通函数中的return 改为yeild\n",
    "```"
   ]
  },
  {
   "cell_type": "markdown",
   "metadata": {},
   "source": [
    "#### 注：1中的gen是一个生成器表达式，适合逻辑简单的list,tuple等。2是生成器函数，适合逻辑复杂的情形。\n",
    "generator 函数，在每次调用 next()的时候执行，遇到 yield 语句返回，再次执行时从上次返回的 yield 语句处继续执行"
   ]
  },
  {
   "cell_type": "markdown",
   "metadata": {},
   "source": [
    "1. 生成器是一边循环一遍计算，是惰性计算。\n",
    "2. 惰性计算（尽可能延迟表达式求值）是许多函数式编程语言的特性。惰性集合在需要时提供其元素，无需预先计算它们，这带来了一些好处。   \n",
    "   2.1 可以将耗时的计算推迟到绝对需要的时候。  \n",
    "   2.2 可以创造无限个集合，只要它们继续收到请求，就会继续提供元素。  \n",
    "   2.3 map 和 filter 等函数的惰性使用让您能够得到更高效的代码。  \n",
    "3. 创建了一个 generator 后，基本上永远不会调用 next()，而是通过 for 循环来迭代它"
   ]
  },
  {
   "cell_type": "markdown",
   "metadata": {},
   "source": [
    "## 迭代器(Iterator)\n",
    "Python中 list，truple，str，dict这些都可以被迭代，但他们并不是迭代器。为什么？   \n",
    "因为和迭代器相比有一个很大的不同，list/truple/map/dict这些数据的大小是确定的，也就是说有多少是可知的。  \n",
    "但迭代器不是，迭代器不知道要执行多少次，所以可以理解为不知道有多少个元素，每调用一次next()，就会往下走一步，是惰性的。通过 iter()函数获得一个 Iterator 对象。通过 list()函数让迭代器把整个序列都计算出来并返回一个 list。  \n",
    "**凡是可以for循环的，都是Iterable**  \n",
    "**凡是可以next()的，都是Iterator**"
   ]
  },
  {
   "cell_type": "markdown",
   "metadata": {},
   "source": [
    "可以使用 isinstance()判断一个对象是否是 Iterator 对象"
   ]
  },
  {
   "cell_type": "code",
   "execution_count": 23,
   "metadata": {
    "collapsed": false
   },
   "outputs": [
    {
     "data": {
      "text/plain": [
       "True"
      ]
     },
     "execution_count": 23,
     "metadata": {},
     "output_type": "execute_result"
    }
   ],
   "source": [
    "from collections import Iterator\n",
    "isinstance((x for x in range(10)), Iterator)"
   ]
  },
  {
   "cell_type": "code",
   "execution_count": 24,
   "metadata": {
    "collapsed": false
   },
   "outputs": [
    {
     "data": {
      "text/plain": [
       "False"
      ]
     },
     "execution_count": 24,
     "metadata": {},
     "output_type": "execute_result"
    }
   ],
   "source": [
    "isinstance('abc', Iterator)"
   ]
  }
 ],
 "metadata": {
  "kernelspec": {
   "display_name": "Python 3",
   "language": "python",
   "name": "python3"
  },
  "language_info": {
   "codemirror_mode": {
    "name": "ipython",
    "version": 3
   },
   "file_extension": ".py",
   "mimetype": "text/x-python",
   "name": "python",
   "nbconvert_exporter": "python",
   "pygments_lexer": "ipython3",
   "version": "3.6.2"
  }
 },
 "nbformat": 4,
 "nbformat_minor": 2
}
