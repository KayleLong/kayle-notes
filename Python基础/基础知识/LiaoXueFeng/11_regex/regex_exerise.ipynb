{
 "cells": [
  {
   "cell_type": "markdown",
   "metadata": {},
   "source": [
    "请尝试写一个验证Email地址的正则表达式。验证出类似的Email\n",
    "\n",
    "```\n",
    "someone@gmail.com\n",
    "bill.gates@microsoft.com\n",
    "```"
   ]
  },
  {
   "cell_type": "code",
   "execution_count": 1,
   "metadata": {
    "collapsed": false
   },
   "outputs": [
    {
     "name": "stdout",
     "output_type": "stream",
     "text": [
      "Successful\n",
      "Successful\n",
      "Fail\n"
     ]
    }
   ],
   "source": [
    "#!usr/bin/env python3\n",
    "# -*- coding: utf-8 -*-\n",
    "\n",
    "import re\n",
    "\n",
    "email_str1 = r'someone@gmail.com'\n",
    "email_str2 = r'bill.gates@microsoft.com'\n",
    "email_str3 = r'123456@qq'\n",
    "\n",
    "\n",
    "def rep_email(str):\n",
    "    re_email = re.compile(r'[0-9a-zA-Z._]*@\\w+.com')\n",
    "    if re_email.match(str):\n",
    "        print('Successful')\n",
    "    else:\n",
    "        print('Fail')\n",
    "\n",
    "rep_email(email_str1)\n",
    "rep_email(email_str2)\n",
    "rep_email(email_str3)"
   ]
  },
  {
   "cell_type": "markdown",
   "metadata": {},
   "source": [
    "验证并提取出带名字的Email地址\n",
    "\n",
    "```\n",
    "<Tom Paris> tom@voyager.org\n",
    "```"
   ]
  },
  {
   "cell_type": "code",
   "execution_count": 2,
   "metadata": {
    "collapsed": false
   },
   "outputs": [
    {
     "name": "stdout",
     "output_type": "stream",
     "text": [
      "Tom Paris\n",
      "Kayle Long\n"
     ]
    }
   ],
   "source": [
    "import re\n",
    "\n",
    "email_name1 = r'<Tom Paris> tom@voyager.org'\n",
    "email_name2 = r'<Kayle Long> Kayle@jxutcm.edu'\n",
    "\n",
    "def rep_email_name(str):\n",
    "    re_email_name = re.compile(r'^\\<([a-zA-Z._\\s]+)>([0-9a-zA-Z._\\s]+)\\@([0-9a-zA-Z]+.[a-z]+)')\n",
    "    email_match = re_email_name.match(str)\n",
    "    if email_match:\n",
    "        print(email_match.group(1))\n",
    "    else:\n",
    "        print('Fail')\n",
    "        \n",
    "rep_email_name(email_name1)\n",
    "rep_email_name(email_name2)"
   ]
  }
 ],
 "metadata": {
  "kernelspec": {
   "display_name": "Python 3",
   "language": "python",
   "name": "python3"
  },
  "language_info": {
   "codemirror_mode": {
    "name": "ipython",
    "version": 3
   },
   "file_extension": ".py",
   "mimetype": "text/x-python",
   "name": "python",
   "nbconvert_exporter": "python",
   "pygments_lexer": "ipython3",
   "version": "3.6.0"
  }
 },
 "nbformat": 4,
 "nbformat_minor": 2
}
