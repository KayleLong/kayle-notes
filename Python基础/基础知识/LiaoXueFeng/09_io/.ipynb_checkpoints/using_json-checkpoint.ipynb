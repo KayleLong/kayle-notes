{
 "cells": [
  {
   "cell_type": "markdown",
   "metadata": {},
   "source": [
    "### JSON表示的对象就是标准的JavaScript语言的对象。\n",
    "#### JSON和Python内置的数据类型对应如下：\n",
    "\n",
    "|JSON类型\t|Python类型|\n",
    "|---------|----------|\n",
    "|{}\t|dict|\n",
    "|[]\t|list|\n",
    "|\"string\"\t|str|\n",
    "|1234.56\t|int或float|\n",
    "|true/false\t|True/False|\n",
    "|null\t|None|"
   ]
  },
  {
   "cell_type": "markdown",
   "metadata": {},
   "source": [
    "#### dumps()方法的参数列表:\n",
    "```\n",
    "json.dumps(obj, *, skipkeys=False, ensure_ascii=True, check_circular=True, allow_nan=True, cls=None, indent=None, separators=None, default=None, sort_keys=False, **kw)\n",
    "```\n",
    "除了第一个必须的obj参数外，dumps()方法还提供了一大堆的可选参数。"
   ]
  },
  {
   "cell_type": "code",
   "execution_count": 1,
   "metadata": {
    "collapsed": false
   },
   "outputs": [
    {
     "name": "stdout",
     "output_type": "stream",
     "text": [
      "JSON Data is a str: {\"name\": \"Bob\", \"age\": 20, \"score\": 88}\n",
      "<class 'dict'>\n",
      "{'name': 'Bob', 'age': 20, 'score': 88}\n",
      "Dump Student: {\"name\": \"Bob\", \"age\": 20, \"score\": 88}\n",
      "Student object (Bob, 20, 88)\n"
     ]
    }
   ],
   "source": [
    "#!/usr/bin/env python3\n",
    "# -*- coding: utf-8 -*-\n",
    "\n",
    "import json\n",
    "\n",
    "d = dict(name='Bob', age=20, score=88)\n",
    "data = json.dumps(d)#dumps()方法返回一个str，内容就是标准的JSON。类似的，dump()方法可以直接把JSON写入一个file-like Object\n",
    "print('JSON Data is a str:', data)\n",
    "reborn = json.loads(data)# 用loads()或者对应的load()方法，前者把JSON的字符串反序列化，后者从file-like Object中读取字符串并反序列化\n",
    "print(type(reborn))# 字典类型\n",
    "print(reborn)\n",
    "\n",
    "class Student(object):\n",
    "\n",
    "    def __init__(self, name, age, score):\n",
    "        self.name = name\n",
    "        self.age = age\n",
    "        self.score = score\n",
    "\n",
    "    def __str__(self):\n",
    "        return 'Student object (%s, %s, %s)' % (self.name, self.age, self.score)\n",
    "\n",
    "s = Student('Bob', 20, 88)\n",
    "std_data = json.dumps(s, default=lambda obj: obj.__dict__)# class的实例都有一个__dict__属性,用来存储实例变量\n",
    "print('Dump Student:', std_data)\n",
    "rebuild = json.loads(std_data, object_hook=lambda d: Student(d['name'], d['age'], d['score']))\n",
    "print(rebuild)"
   ]
  },
  {
   "cell_type": "markdown",
   "metadata": {},
   "source": [
    "json模块的dumps()和loads()函数是定义得非常好的接口的典范。当我们使用时，只需要传入一个必须的参数。但是，当默认的序列化或反序列机制不满足我们的要求时，我们又可以传入更多的参数来定制序列化或反序列化的规则，既做到了接口简单易用，又做到了充分的扩展性和灵活性。"
   ]
  }
 ],
 "metadata": {
  "kernelspec": {
   "display_name": "Python 3",
   "language": "python",
   "name": "python3"
  },
  "language_info": {
   "codemirror_mode": {
    "name": "ipython",
    "version": 3
   },
   "file_extension": ".py",
   "mimetype": "text/x-python",
   "name": "python",
   "nbconvert_exporter": "python",
   "pygments_lexer": "ipython3",
   "version": "3.6.0"
  }
 },
 "nbformat": 4,
 "nbformat_minor": 2
}
