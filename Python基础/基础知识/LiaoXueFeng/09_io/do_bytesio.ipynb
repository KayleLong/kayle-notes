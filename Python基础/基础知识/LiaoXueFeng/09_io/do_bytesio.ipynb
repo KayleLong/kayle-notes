{
 "cells": [
  {
   "cell_type": "markdown",
   "metadata": {},
   "source": [
    "### StringIO操作的只能是str，如果要操作二进制数据，就需要使用BytesIO。\n",
    "\n",
    "BytesIO实现了在内存中读写bytes，我们创建一个BytesIO，然后写入一些bytes"
   ]
  },
  {
   "cell_type": "code",
   "execution_count": 1,
   "metadata": {
    "collapsed": false
   },
   "outputs": [
    {
     "name": "stdout",
     "output_type": "stream",
     "text": [
      "b'hello world!'\n",
      "b'\\xe5\\xbd\\x93\\xe6\\x97\\xb6\\xe6\\x98\\x8e\\xe6\\x9c\\x88\\xe5\\x9c\\xa8\\xef\\xbc\\x8c\\xe6\\x9b\\xbe\\xe7\\x85\\xa7\\xe5\\xbd\\xa9\\xe4\\xba\\x91\\xe5\\xbd\\x92\\xe3\\x80\\x82'\n"
     ]
    }
   ],
   "source": [
    "#!/usr/bin/env python3\n",
    "# -*- coding: utf-8 -*-\n",
    "\n",
    "from io import BytesIO\n",
    "\n",
    "# write to BytesIO:\n",
    "f = BytesIO()\n",
    "f.write(b'hello')\n",
    "f.write(b' ')\n",
    "f.write(b'world!')\n",
    "print(f.getvalue())\n",
    "\n",
    "# read from BytesIO:\n",
    "data = '当时明月在，曾照彩云归。'.encode('utf-8')\n",
    "f = BytesIO(data)\n",
    "print(f.read())"
   ]
  },
  {
   "cell_type": "code",
   "execution_count": 2,
   "metadata": {
    "collapsed": false
   },
   "outputs": [
    {
     "name": "stdout",
     "output_type": "stream",
     "text": [
      "当时明月在，曾照彩云归。\n"
     ]
    }
   ],
   "source": [
    "print(b'\\xe5\\xbd\\x93\\xe6\\x97\\xb6\\xe6\\x98\\x8e\\xe6\\x9c\\x88\\xe5\\x9c\\xa8\\xef\\xbc\\x8c\\xe6\\x9b\\xbe\\xe7\\x85\\xa7\\xe5\\xbd\\xa9\\xe4\\xba\\x91\\xe5\\xbd\\x92\\xe3\\x80\\x82'.decode())"
   ]
  }
 ],
 "metadata": {
  "kernelspec": {
   "display_name": "Python 3",
   "language": "python",
   "name": "python3"
  },
  "language_info": {
   "codemirror_mode": {
    "name": "ipython",
    "version": 3
   },
   "file_extension": ".py",
   "mimetype": "text/x-python",
   "name": "python",
   "nbconvert_exporter": "python",
   "pygments_lexer": "ipython3",
   "version": "3.6.0"
  }
 },
 "nbformat": 4,
 "nbformat_minor": 2
}
