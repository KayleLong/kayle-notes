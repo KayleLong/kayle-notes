{
 "cells": [
  {
   "cell_type": "code",
   "execution_count": 1,
   "metadata": {
    "collapsed": false
   },
   "outputs": [],
   "source": [
    "from multiprocessing import Process\n",
    "import os"
   ]
  },
  {
   "cell_type": "code",
   "execution_count": 2,
   "metadata": {
    "collapsed": false
   },
   "outputs": [
    {
     "name": "stdout",
     "output_type": "stream",
     "text": [
      "Parent procees <built-in function getpid>\n",
      "Child process will start\n",
      "Child process end\n"
     ]
    }
   ],
   "source": [
    "# 子进程代码\n",
    "def run_proc(name):\n",
    "    print('Run child process {0} ({1})'.format(name, os.getpid) )\n",
    "    \n",
    "if __name__ == '__main__':\n",
    "    print('Parent procees {}'.format(os.getpid))\n",
    "    # 实例化对象\n",
    "    p = Process(target=run_proc, args=('test', ))\n",
    "    print('Child process will start')\n",
    "    p.start()\n",
    "    p.join()\n",
    "    print('Child process end')"
   ]
  }
 ],
 "metadata": {
  "kernelspec": {
   "display_name": "Python 3",
   "language": "python",
   "name": "python3"
  },
  "language_info": {
   "codemirror_mode": {
    "name": "ipython",
    "version": 3
   },
   "file_extension": ".py",
   "mimetype": "text/x-python",
   "name": "python",
   "nbconvert_exporter": "python",
   "pygments_lexer": "ipython3",
   "version": "3.4.5"
  }
 },
 "nbformat": 4,
 "nbformat_minor": 2
}
