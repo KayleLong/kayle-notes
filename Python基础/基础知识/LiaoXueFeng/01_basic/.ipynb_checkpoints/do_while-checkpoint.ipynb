{
 "cells": [
  {
   "cell_type": "code",
   "execution_count": 1,
   "metadata": {
    "collapsed": false
   },
   "outputs": [
    {
     "name": "stdout",
     "output_type": "stream",
     "text": [
      "5050\n"
     ]
    }
   ],
   "source": [
    "#!usr/bin/env python3\n",
    "#-*- coding: utf-8 -*-\n",
    "\n",
    "#计算1 + 2 + 3 + …… +100\n",
    "sum = 0\n",
    "n = 0\n",
    "while n <= 100:\n",
    "    sum = sum + n\n",
    "    n = n + 1\n",
    "    \n",
    "print(sum)"
   ]
  },
  {
   "cell_type": "code",
   "execution_count": 2,
   "metadata": {
    "collapsed": false
   },
   "outputs": [
    {
     "name": "stdout",
     "output_type": "stream",
     "text": [
      "93326215443944152681699238856266700490715968264381621468592963895217599993229915608941463976156518286253697920827223758251185210916864000000000000000000000000\n"
     ]
    }
   ],
   "source": [
    "#计算1 * 2 * 3 * …… * 100\n",
    "acc = 1\n",
    "n = 1\n",
    "while n <= 100:\n",
    "    acc = acc * n\n",
    "    n = n + 1\n",
    "    \n",
    "print(acc)"
   ]
  }
 ],
 "metadata": {
  "kernelspec": {
   "display_name": "Python 3",
   "language": "python",
   "name": "python3"
  },
  "language_info": {
   "codemirror_mode": {
    "name": "ipython",
    "version": 3
   },
   "file_extension": ".py",
   "mimetype": "text/x-python",
   "name": "python",
   "nbconvert_exporter": "python",
   "pygments_lexer": "ipython3",
   "version": "3.6.0"
  }
 },
 "nbformat": 4,
 "nbformat_minor": 2
}
