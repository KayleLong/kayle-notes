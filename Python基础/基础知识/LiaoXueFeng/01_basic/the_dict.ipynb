{
 "cells": [
  {
   "cell_type": "markdown",
   "metadata": {},
   "source": [
    "### Python 内置了字典： dict 的支持， dict 全称 dictionary，在其他语言中也称为 map，使用键-值（ key-value）存储，具有极快的查找速度。\n",
    "#### 1. dict内部存放的顺序和key放入的顺序无关，因为dict的使用hash表来实现，所以通常会占用大量内存。\n",
    "#### 2. dict 是一种以空间换时间的策略。\n",
    "\n",
    "### dict的key必须是不可变对象。 因为dict是通过key来计算value的存储位置，如果每次计算相同的key，得到的结果不同，那么dict就不知道指定的value是位置了。"
   ]
  },
  {
   "cell_type": "code",
   "execution_count": 1,
   "metadata": {
    "collapsed": false
   },
   "outputs": [
    {
     "name": "stdout",
     "output_type": "stream",
     "text": [
      "dict_grade['Andy']= 90\n"
     ]
    }
   ],
   "source": [
    "#!/usr/bin/env python3\n",
    "#-*- coding : utf-8 -*-\n",
    "\n",
    "dict_grade = {\n",
    "    'Andy':90,\n",
    "    'Lucifer':80,\n",
    "    'Kathy':95,\n",
    "    'Kayle':70\n",
    "}\n",
    "print(\"dict_grade['Andy']=\", dict_grade['Andy'])"
   ]
  },
  {
   "cell_type": "code",
   "execution_count": 2,
   "metadata": {
    "collapsed": false
   },
   "outputs": [
    {
     "name": "stdout",
     "output_type": "stream",
     "text": [
      "dict_grade['Lucifer']= 80\n"
     ]
    }
   ],
   "source": [
    "print(\"dict_grade['Lucifer']=\", dict_grade['Lucifer'])"
   ]
  },
  {
   "cell_type": "code",
   "execution_count": 3,
   "metadata": {
    "collapsed": false
   },
   "outputs": [
    {
     "name": "stdout",
     "output_type": "stream",
     "text": [
      "dict_grade['Kathy']= 95\n"
     ]
    }
   ],
   "source": [
    "print(\"dict_grade['Kathy']=\", dict_grade['Kathy'])"
   ]
  },
  {
   "cell_type": "code",
   "execution_count": 4,
   "metadata": {
    "collapsed": false
   },
   "outputs": [
    {
     "name": "stdout",
     "output_type": "stream",
     "text": [
      "dict_grade['Kayle']= 70\n"
     ]
    }
   ],
   "source": [
    "print(\"dict_grade['Kayle']=\", dict_grade['Kayle'])"
   ]
  },
  {
   "cell_type": "markdown",
   "metadata": {},
   "source": [
    "#### 要避免 key 不存在的错误，有两种办法：\n",
    "#### 1. 通过in判断key是否存在。\n",
    "#### 2. 通过dict提供的get方法，如果key不存在，可以返回None(没有任何提示)，或者返回自己指定的value。"
   ]
  },
  {
   "cell_type": "code",
   "execution_count": 5,
   "metadata": {
    "collapsed": false
   },
   "outputs": [
    {
     "data": {
      "text/plain": [
       "False"
      ]
     },
     "execution_count": 5,
     "metadata": {},
     "output_type": "execute_result"
    }
   ],
   "source": [
    "'Alan' in dict_grade"
   ]
  },
  {
   "cell_type": "code",
   "execution_count": 6,
   "metadata": {
    "collapsed": false
   },
   "outputs": [
    {
     "name": "stdout",
     "output_type": "stream",
     "text": [
      "dict_grade.get('Anthony', -1)= -1\n"
     ]
    }
   ],
   "source": [
    "print(\"dict_grade.get('Anthony', -1)=\", dict_grade.get('Anthony', -1))"
   ]
  }
 ],
 "metadata": {
  "kernelspec": {
   "display_name": "Python 3",
   "language": "python",
   "name": "python3"
  },
  "language_info": {
   "codemirror_mode": {
    "name": "ipython",
    "version": 3
   },
   "file_extension": ".py",
   "mimetype": "text/x-python",
   "name": "python",
   "nbconvert_exporter": "python",
   "pygments_lexer": "ipython3",
   "version": "3.6.2"
  }
 },
 "nbformat": 4,
 "nbformat_minor": 2
}
