{
 "cells": [
  {
   "cell_type": "markdown",
   "metadata": {},
   "source": [
    "#### try不仅捕获异常，而且会恢复执行"
   ]
  },
  {
   "cell_type": "markdown",
   "metadata": {},
   "source": [
    "#### try...except...finally 大致的使用原则：\n",
    "1. 当执行try...except之间的语句序列没有发生异常时，则忽略异常处理部分的语句，程序直接转移try...except..end后面的语句处执行。\n",
    "2. Except括起来的语句，则只有在产生异常的情况下会被执行，其他情况一概不执行的。\n",
    "3. Finally括起来的语句是铁定会被执行的，无论是否有异常产生(finally 不是必须的)。"
   ]
  },
  {
   "cell_type": "markdown",
   "metadata": {},
   "source": [
    "我们把可能发生错误的语句放在try模块里，用except来处理异常。except可以处理一个专门的异常，也可以处理一组圆括号中的异常，如果except后没有指定异常，则默认处理所有的异常。每一个try，都必须至少有一个except。"
   ]
  },
  {
   "cell_type": "code",
   "execution_count": 1,
   "metadata": {
    "collapsed": false
   },
   "outputs": [
    {
     "name": "stdout",
     "output_type": "stream",
     "text": [
      "tring ...\n",
      "ZeroDivisionError： division by zero\n",
      "finally...\n",
      "END\n"
     ]
    }
   ],
   "source": [
    "#!usr/bin/env python3\n",
    "# -*- coding: utf-8 -*-\n",
    "\n",
    "try:\n",
    "    print('tring ...')\n",
    "    r = 10 / 0\n",
    "    print('result:', r)\n",
    "except ZeroDivisionError as e:\n",
    "    print('ZeroDivisionError：', e)\n",
    "except ValueError as e:# 多个except之间是并列关系,可以通过不同类型的except来捕获不同类型的error\n",
    "    print('ValueError:', e)\n",
    "finally:\n",
    "    print('finally...')\n",
    "    \n",
    "print('END')"
   ]
  }
 ],
 "metadata": {
  "kernelspec": {
   "display_name": "Python 3",
   "language": "python",
   "name": "python3"
  },
  "language_info": {
   "codemirror_mode": {
    "name": "ipython",
    "version": 3
   },
   "file_extension": ".py",
   "mimetype": "text/x-python",
   "name": "python",
   "nbconvert_exporter": "python",
   "pygments_lexer": "ipython3",
   "version": "3.4.5"
  }
 },
 "nbformat": 4,
 "nbformat_minor": 2
}
