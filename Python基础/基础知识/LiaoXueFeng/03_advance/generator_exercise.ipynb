{
 "cells": [
  {
   "cell_type": "markdown",
   "metadata": {},
   "source": [
    "#### 杨辉三角定义如下：\n",
    "         1\n",
    "        1 1\n",
    "       1 2 1\n",
    "      1 3 3 1\n",
    "     1 4 6 4 1\n",
    "    1 5 10 10 5 1\n",
    "\n",
    "要求：把每一行看做一个 list，试写一个 generator，不断输出下一行的 list。"
   ]
  },
  {
   "cell_type": "markdown",
   "metadata": {},
   "source": [
    "```\n",
    "#-*- conding: utf-8 -*-\n",
    "def triangles():\n",
    "    pass\n",
    "\n",
    "n = 0\n",
    "for t in triangles():\n",
    "    print(t)\n",
    "    n = n + 1\n",
    "    if n == 10:\n",
    "        break\n",
    "```"
   ]
  },
  {
   "cell_type": "markdown",
   "metadata": {},
   "source": [
    "期待输出：<br>\n",
    "[1]<br>\n",
    "[1, 2, 1]<br>\n",
    "[1, 3, 3, 1]<br>\n",
    "[1, 4, 6, 4, 1]<br>\n",
    "[1, 5, 10, 10, 5, 1]<br>\n",
    "[1, 6, 15, 20, 15, 6, 1]<br>\n",
    "[1, 7, 21, 35, 35, 21, 7, 1]<br>\n",
    "[1, 8, 28, 56, 70, 56, 28, 8, 1]<br>\n",
    "[1, 9, 36, 84, 126, 126, 84, 36, 9, 1]<br>"
   ]
  },
  {
   "cell_type": "markdown",
   "metadata": {},
   "source": [
    "#### 解法一："
   ]
  },
  {
   "cell_type": "code",
   "execution_count": 3,
   "metadata": {
    "collapsed": false
   },
   "outputs": [
    {
     "name": "stdout",
     "output_type": "stream",
     "text": [
      "[1]\n",
      "[1, 1]\n",
      "[1, 2, 1]\n",
      "[1, 3, 3, 1]\n",
      "[1, 4, 6, 4, 1]\n",
      "[1, 5, 10, 10, 5, 1]\n",
      "[1, 6, 15, 20, 15, 6, 1]\n",
      "[1, 7, 21, 35, 35, 21, 7, 1]\n",
      "[1, 8, 28, 56, 70, 56, 28, 8, 1]\n",
      "[1, 9, 36, 84, 126, 126, 84, 36, 9, 1]\n"
     ]
    }
   ],
   "source": [
    "#!usr/bin/env python3\n",
    "#-*- conding: utf-8 -*-\n",
    "\n",
    "def triangles_1():\n",
    "    L = [1]\n",
    "    while True:\n",
    "        yield L\n",
    "        L = [1] + [ L[x-1] + L[x] for x in range(1,len(L)) ] + [1]\n",
    "\n",
    "n = 0\n",
    "for x in triangles_1():\n",
    "    print(x)\n",
    "    n = n + 1\n",
    "    if n == 10:\n",
    "        break"
   ]
  },
  {
   "cell_type": "markdown",
   "metadata": {},
   "source": [
    "#### 解法一解析：\n",
    "L = [1]  # 定义一个只有一个值的list\n",
    "yield L # 遇到yield就返回L ,此时返回第一行 [1]\n",
    "L = [1] + [ L[x-1] + L[x] for x in range(1,len(L)) ] + [1]\n",
    "此时len(L)=1, range(1,1)返回None。那么L中有两个元素 [1, 1]\n",
    "\n",
    "接下来，\n",
    "len(L)=2,列表生成器中一个有元素[2] # L[0]+L[1]=1+1=2<br>\n",
    "**L = [1, 2, 1]**<br>\n",
    "len(L)=3,列表生成器中两个有元素[3，3] # L[0]+L[1]=1+2=3 L[1]+L[2]=2+1=3<br>\n",
    "**L = [1, 3, 3, 1]**<br>\n",
    "\n",
    "以此类推"
   ]
  },
  {
   "cell_type": "markdown",
   "metadata": {},
   "source": [
    "#### 解法二："
   ]
  },
  {
   "cell_type": "code",
   "execution_count": 4,
   "metadata": {
    "collapsed": false
   },
   "outputs": [
    {
     "name": "stdout",
     "output_type": "stream",
     "text": [
      "[1]\n",
      "[1, 1]\n",
      "[1, 2, 1]\n",
      "[1, 3, 3, 1]\n",
      "[1, 4, 6, 4, 1]\n",
      "[1, 5, 10, 10, 5, 1]\n",
      "[1, 6, 15, 20, 15, 6, 1]\n",
      "[1, 7, 21, 35, 35, 21, 7, 1]\n",
      "[1, 8, 28, 56, 70, 56, 28, 8, 1]\n",
      "[1, 9, 36, 84, 126, 126, 84, 36, 9, 1]\n"
     ]
    }
   ],
   "source": [
    "#!usr/bin/env python3\n",
    "#-*- conding: utf-8 -*-\n",
    "\n",
    "def triangles_2():\n",
    "    L = [1]\n",
    "    while True:\n",
    "        yield L\n",
    "        L.append(0)\n",
    "        L = [L[x-1] + L[x] for x in range(len(L))]\n",
    "\n",
    "m = 0\n",
    "for y in triangles_2():\n",
    "    print(y)\n",
    "    m = m + 1\n",
    "    if m == 10:\n",
    "        break"
   ]
  },
  {
   "cell_type": "markdown",
   "metadata": {},
   "source": [
    "L = [1]  # 定义一个只有一个值的list\n",
    "yield L # 遇到yield就返回L ,此时返回第一行 [1]\n",
    "L.append(0) # 给L添加个元素0，此时L = [1,0]\n",
    "此时 L 里面有两个元素，len(L) = 2,range(len(L)) = range(2) = [0,1]\n",
    "L = [L[i-1] + L[i] for i in range(len(L))]\n",
    "  = [L[-1] + L[0],L[0] + L[1]]\n",
    "  = [0 + 1, 1 + 0]\n",
    "  = [1, 1]\n",
    "\n",
    "**此时yield 返回第二行 [1,1]**\n",
    "\n",
    "第三行：\n",
    "首先 L.append(0), L = [1, 1, 0]\n",
    "那么 len(L) = 3, range(len(L)) = [0, 1, 2]\n",
    "\n",
    "L = [L[i-1] + L[i] for i in range(len(L))]\n",
    "  = [L[-1] + L[0], L[0] + L[1], L[1] + L[2]]\n",
    "  = [0 + 1, 1 + 1, 1 + 0]\n",
    "  = [1, 2, 1]\n",
    "  \n",
    "**此时yield返回第三行 [1, 2, 1]**\n",
    "\n",
    "第四行：\n",
    "首先L.append(0), 则L = [1, 2, 1, 0]\n",
    "那么 len(L) = 4, range(len(L)) = [0, 1, 2, 3]\n",
    "\n",
    "L = [L[i-1] + L[i] for i in range(len(L))]\n",
    "  = [L[-1] + L[0], L[0] + L[1], L[1] + [2], L[2] + L[3]]\n",
    "  = [0 + 1, 1 + 2, 2 + 1, 1 + 0]\n",
    "  = [1, 3, 3, 1]\n",
    "\n",
    "以此类推"
   ]
  }
 ],
 "metadata": {
  "kernelspec": {
   "display_name": "Python 3",
   "language": "python",
   "name": "python3"
  },
  "language_info": {
   "codemirror_mode": {
    "name": "ipython",
    "version": 3
   },
   "file_extension": ".py",
   "mimetype": "text/x-python",
   "name": "python",
   "nbconvert_exporter": "python",
   "pygments_lexer": "ipython3",
   "version": "3.6.0"
  }
 },
 "nbformat": 4,
 "nbformat_minor": 2
}
