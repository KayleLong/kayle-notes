{
 "cells": [
  {
   "cell_type": "markdown",
   "metadata": {},
   "source": [
    "### 无论是列表生成式，字典生成式，还是集合生成式，都只是语法糖而已。"
   ]
  },
  {
   "cell_type": "markdown",
   "metadata": {},
   "source": [
    "#### 1. 列表生成式\n",
    "\n",
    "列表生成式是python受欢迎的语法之一，通过一句简洁的语法就可以对一组元素进行过滤，还可以对得到的元素进行转换处理。\n",
    "\n",
    "语法格式为：**[exp for val in collection if condition]**\n",
    "\n",
    "相当于：\n",
    "````\n",
    "result=[]\n",
    "for val in collection:\n",
    "    if(condition):\n",
    "        result.append(exp)\n",
    "```"
   ]
  },
  {
   "cell_type": "code",
   "execution_count": 1,
   "metadata": {
    "collapsed": false
   },
   "outputs": [
    {
     "name": "stdout",
     "output_type": "stream",
     "text": [
      "[0, 1, 4, 9, 16, 25, 36, 49, 64, 81, 100]\n"
     ]
    }
   ],
   "source": [
    "#!/usr/bin/env python3\n",
    "#-*- coding: utf-8 -*-\n",
    "\n",
    "print([x * x for x in range(11)])"
   ]
  },
  {
   "cell_type": "markdown",
   "metadata": {},
   "source": [
    "for 循环后面加if判断。"
   ]
  },
  {
   "cell_type": "code",
   "execution_count": 2,
   "metadata": {
    "collapsed": false
   },
   "outputs": [
    {
     "name": "stdout",
     "output_type": "stream",
     "text": [
      "[0, 4, 16, 36, 64, 100]\n"
     ]
    }
   ],
   "source": [
    "print([x * x for x in range(11) if x % 2 ==0])"
   ]
  },
  {
   "cell_type": "code",
   "execution_count": 3,
   "metadata": {
    "collapsed": false
   },
   "outputs": [
    {
     "name": "stdout",
     "output_type": "stream",
     "text": [
      "['AX', 'AY', 'AZ', 'BX', 'BY', 'BZ', 'CX', 'CY', 'CZ']\n"
     ]
    }
   ],
   "source": [
    "print([m + n for m in 'ABC' for n in 'XYZ'])# m for in 'ABC'  n for in 'XYZ'"
   ]
  },
  {
   "cell_type": "markdown",
   "metadata": {},
   "source": [
    "for 循环其实可以同时使用两个甚至多个变量。"
   ]
  },
  {
   "cell_type": "code",
   "execution_count": 4,
   "metadata": {
    "collapsed": false
   },
   "outputs": [
    {
     "name": "stdout",
     "output_type": "stream",
     "text": [
      "['x=A', 'y=B', 'z=C']\n"
     ]
    }
   ],
   "source": [
    "d = {'x': 'A', 'y': 'B', 'z': 'C' }\n",
    "print([k + '=' + v for k, v in d.items()])"
   ]
  },
  {
   "cell_type": "markdown",
   "metadata": {},
   "source": [
    "把一个 list 中所有的字符串变成小写。"
   ]
  },
  {
   "cell_type": "code",
   "execution_count": 5,
   "metadata": {
    "collapsed": false
   },
   "outputs": [
    {
     "name": "stdout",
     "output_type": "stream",
     "text": [
      "['hello', 'world', 'ibm', 'apple']\n"
     ]
    }
   ],
   "source": [
    "L = ['Hello', 'World', 'IBM', 'Apple']\n",
    "print([s.lower() for s in L])"
   ]
  },
  {
   "cell_type": "markdown",
   "metadata": {},
   "source": [
    "### 2. 字典生成器\n",
    "字典生成式与列表生成式类似，用于生成字典推导式。\n",
    "\n",
    "语法格式为：**{key-exp:val-exp for value in collection if condition}**"
   ]
  },
  {
   "cell_type": "code",
   "execution_count": 6,
   "metadata": {
    "collapsed": false
   },
   "outputs": [
    {
     "name": "stdout",
     "output_type": "stream",
     "text": [
      "{2: 20, 4: 40, 6: 60, 8: 80}\n"
     ]
    }
   ],
   "source": [
    "print({i:i*10 for i in range(1,10) if(i%2==0)})"
   ]
  },
  {
   "cell_type": "markdown",
   "metadata": {},
   "source": [
    "### 3. 集合生成式\n",
    "集合生成式格式和列表生成式类似，只不过用的是大括号：\n",
    "\n",
    "语法格式为：**{exp for value in collection if condition}**"
   ]
  },
  {
   "cell_type": "code",
   "execution_count": 7,
   "metadata": {
    "collapsed": false
   },
   "outputs": [
    {
     "name": "stdout",
     "output_type": "stream",
     "text": [
      "{2, 5}\n"
     ]
    }
   ],
   "source": [
    "# 例如：统计列表中字符串元素的各种长度。\n",
    "\n",
    "L_len = ['Hello', 10, 'Apple', 'OK', None]\n",
    "print({len(x) for x in L_len if isinstance(x,str)})"
   ]
  }
 ],
 "metadata": {
  "kernelspec": {
   "display_name": "Python 3",
   "language": "python",
   "name": "python3"
  },
  "language_info": {
   "codemirror_mode": {
    "name": "ipython",
    "version": 3
   },
   "file_extension": ".py",
   "mimetype": "text/x-python",
   "name": "python",
   "nbconvert_exporter": "python",
   "pygments_lexer": "ipython3",
   "version": "3.6.2"
  }
 },
 "nbformat": 4,
 "nbformat_minor": 2
}
