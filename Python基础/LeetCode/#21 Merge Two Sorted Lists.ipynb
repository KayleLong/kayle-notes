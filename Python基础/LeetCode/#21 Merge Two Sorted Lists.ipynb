{
 "cells": [
  {
   "cell_type": "markdown",
   "metadata": {},
   "source": [
    "### 合并两个有序链表"
   ]
  },
  {
   "cell_type": "markdown",
   "metadata": {},
   "source": [
    "#### 题目描述"
   ]
  },
  {
   "cell_type": "markdown",
   "metadata": {},
   "source": [
    "将两个有序链表合并为一个新的有序链表并返回。新链表是通过拼接给定的两个链表的所有节点组成的。"
   ]
  },
  {
   "cell_type": "markdown",
   "metadata": {},
   "source": [
    "#### 示例"
   ]
  },
  {
   "cell_type": "markdown",
   "metadata": {},
   "source": [
    "输入：1->2->4, 1->3->4<br>\n",
    "输出：1->1->2->3->4->4\n",
    "\n",
    "输入：1->5->6, 1->3->4<br>\n",
    "输出：1->1->3->4->5->6\n",
    "\n",
    "输入：10->12->24, 11->13->14<br>\n",
    "输出：10->11->12->13->14->24"
   ]
  },
  {
   "cell_type": "code",
   "execution_count": 1,
   "metadata": {
    "collapsed": false
   },
   "outputs": [],
   "source": [
    "# Definition for singly-linked list.\n",
    "\n",
    "class ListNode:\n",
    "    def __init__(self, x):\n",
    "        self.val = x\n",
    "        self.next = None\n",
    "\n",
    "class Solution:\n",
    "    def mergeTwoLists(self, l1, l2):\n",
    "        \"\"\"\n",
    "        :type l1: ListNode\n",
    "        :type l2: ListNode\n",
    "        :rtype: ListNode\n",
    "        \"\"\"\n",
    "        head = ListNode(0)\n",
    "        first = head\n",
    "        if l1==None and l2==None:\n",
    "            return None\n",
    "        if l1==None:\n",
    "            return l2\n",
    "        if l2==None:\n",
    "            return l1\n",
    "        while l1!=None and l2!=None:\n",
    "            if l1.val <= l2.val:\n",
    "                head.next = l1\n",
    "                l1 = l1.next\n",
    "            else:\n",
    "                head.next = l2\n",
    "                l2 = l2.next\n",
    "            head = head.next\n",
    "        # 用于处理l1/l2中的一个链表遍历完之后\n",
    "        if l1 != None:\n",
    "            head.next = l1\n",
    "        elif l2 != None:\n",
    "            head.next = l2\n",
    "        return first.next"
   ]
  },
  {
   "cell_type": "code",
   "execution_count": 2,
   "metadata": {
    "collapsed": true
   },
   "outputs": [],
   "source": [
    "x = Solution()\n",
    "y = Solution()\n",
    "z = Solution()"
   ]
  },
  {
   "cell_type": "code",
   "execution_count": 3,
   "metadata": {
    "collapsed": false
   },
   "outputs": [
    {
     "data": {
      "text/plain": [
       "<__main__.ListNode at 0x4e770b8>"
      ]
     },
     "execution_count": 3,
     "metadata": {},
     "output_type": "execute_result"
    }
   ],
   "source": [
    "l1 = ListNode([1, 2, 4])\n",
    "l2 = ListNode([1, 3, 4])\n",
    "x.mergeTwoLists(l1, l2)"
   ]
  },
  {
   "cell_type": "code",
   "execution_count": 4,
   "metadata": {
    "collapsed": false
   },
   "outputs": [
    {
     "data": {
      "text/plain": [
       "<__main__.ListNode at 0x4e77208>"
      ]
     },
     "execution_count": 4,
     "metadata": {},
     "output_type": "execute_result"
    }
   ],
   "source": [
    "l1 = ListNode([1, 5, 6])\n",
    "l2 = ListNode([1, 3, 4])\n",
    "y.mergeTwoLists(l1, l2)"
   ]
  },
  {
   "cell_type": "code",
   "execution_count": 5,
   "metadata": {
    "collapsed": false
   },
   "outputs": [
    {
     "data": {
      "text/plain": [
       "<__main__.ListNode at 0x4e77048>"
      ]
     },
     "execution_count": 5,
     "metadata": {},
     "output_type": "execute_result"
    }
   ],
   "source": [
    "l1 = ListNode([10, 12, 24])\n",
    "l2 = ListNode([21, 23, 24])\n",
    "z.mergeTwoLists(l1, l2)"
   ]
  }
 ],
 "metadata": {
  "kernelspec": {
   "display_name": "Python 3",
   "language": "python",
   "name": "python3"
  },
  "language_info": {
   "codemirror_mode": {
    "name": "ipython",
    "version": 3
   },
   "file_extension": ".py",
   "mimetype": "text/x-python",
   "name": "python",
   "nbconvert_exporter": "python",
   "pygments_lexer": "ipython3",
   "version": "3.4.5"
  }
 },
 "nbformat": 4,
 "nbformat_minor": 2
}
