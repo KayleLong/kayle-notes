{
 "cells": [
  {
   "cell_type": "markdown",
   "metadata": {},
   "source": [
    "# <center>Django book 2.0 学习笔记</center>"
   ]
  },
  {
   "cell_type": "markdown",
   "metadata": {},
   "source": [
    "目录<br>\n",
    "第一章：介紹Django<br>\n",
    "第二章：入门<br>\n",
    "第三章：视图和URL配置<br>\n",
    "第四章：模版<br> \n",
    "第五章：模型<br>\n",
    "第六章：Admin<br>\n",
    "第七章：表单<br>\n",
    "第八章：高级视图和URL配置<br>\n",
    "第九章：模版高级进阶<br>\n",
    "第十章：模型高级进阶<br>\n",
    "第十一章：通用视图<br>\n",
    "第十二章：部署Django<br>\n",
    "第十三章：输出非HTML内容<br>\n",
    "第十四章：会话、用户和注册<br>\n",
    "第十五章：缓存机制<br>\n",
    "第十六章：集成的子框架 django.contrib<br>\n",
    "第十七章：中间件<br>\n",
    "第十八章：集成已有的数据库和应用<br>\n",
    "第十九章：国际化<br>\n",
    "第二十章：安全 <br>"
   ]
  },
  {
   "cell_type": "markdown",
   "metadata": {},
   "source": [
    "1-12 Django 的基础  其中1-7章是核心课程，8-11章讲述Django的高级应用  \n",
    "12章讲述部署相关的知识  \n",
    "13-20章，讲述Django特有的特点，可以任意顺序阅读。"
   ]
  },
  {
   "cell_type": "markdown",
   "metadata": {},
   "source": [
    "## 第一章：介紹Django"
   ]
  },
  {
   "cell_type": "markdown",
   "metadata": {},
   "source": [
    "### 1.1 主要任务\n",
    "\n",
    "主要侧重于两方面： \n",
    "1. 我们深度解释 Django 到底做了哪些工作，以及如何用她构建Web应用；\n",
    "2. 我们将会在适当的地方讨论更高级的概念，并解释如何 在自己的项目中高效的使用这些工具。"
   ]
  },
  {
   "cell_type": "markdown",
   "metadata": {},
   "source": [
    "### 1.2 MVC\n",
    "MVC(模型-视图-控制器) 设计模式\n",
    "\n",
    "作用：代码的定义和数据访问的方法（模型）与请求逻辑 （控制器）还有用户接口（视图）分开来。\n",
    "\n",
    "\n",
    "Django 采用的是MVC模式。主要有4个基本的文件：python(models.py, views.py, urls.py) HTML\n",
    "\n",
    "    models.py 文件主要用一个 Python 类来描述数据表。 称为 模型(model) 。 ORM 运用这个类，你可以通过简单的 Python 的代码来创建、检索、更新、删除 数据库中的记录而无需写一条又一条的SQL语句。  \n",
    "    views.py文件包含了页面的业务逻辑。  \n",
    "    urls.py 指出了什么样的 URL 调用什么的视图。  \n",
    "    latest_books.html 是 html 模板，它描述了这个页面的设计是如何的。 使用带基本逻辑声明的模板语言，如{% for book in book_list %}"
   ]
  },
  {
   "cell_type": "markdown",
   "metadata": {},
   "source": [
    "### 1.3 学习Django的本质\n",
    "本质上来说， Django 只不过是用 Python 编写的一组类库。  \n",
    "学习 Django 的关键就是学习如何进行 Python 编程并理解 Django 类库的运作方式。  \n",
    "有Python开发经验，学习Django就是学习她的命名规则和API。"
   ]
  },
  {
   "cell_type": "markdown",
   "metadata": {},
   "source": [
    "### 1.4 Django版本支持\n",
    "*此书内容对Django 1.1兼容。*  \n",
    "Django的开发者保证主要版本号向后兼容。 这意味着，你用Django 1.1写的应用，可以用于1.2，1.3，1.9等所有以1开头的版本"
   ]
  },
  {
   "cell_type": "markdown",
   "metadata": {},
   "source": [
    "## 第二章：入门 "
   ]
  },
  {
   "cell_type": "markdown",
   "metadata": {},
   "source": [
    "### 2.1 安装\n",
    "安装Python，Django \n",
    "```\n",
    "pip install python==3.6\n",
    "pip install django==1.11\n",
    "```\n",
    "(教程中推荐2.6+1.1)  实际环境为3.6+1.11\n",
    "\n",
    "安装数据库   Django支持四种数据库\n",
    "\n",
    "    PostgreSQL (推荐)\n",
    "    SQLite 3 \n",
    "    MySQL \n",
    "    Oracle"
   ]
  },
  {
   "cell_type": "markdown",
   "metadata": {},
   "source": [
    "### 2.2 开始一个项目\n",
    "创建项目 \n",
    "```\n",
    "django‐admin.py startproject mysite\n",
    "```\n",
    "\n",
    "目录结构\n",
    "```\n",
    "mysite/\n",
    "\t __init__.py \t\t(** 不需要修改)声明为包\n",
    "\t manage.py \t\t\t(**)命令行工具\n",
    "\t settings.py \t\t() Django 项目的设置或配置\n",
    "\t urls.py \t\t\t()Django项目的URL设置。 可视其为你的django网站的目录。\n",
    "```\n",
    "运行项目 \n",
    "```\n",
    "python manage.py runserver\n",
    "```\n",
    "浏览器访问 \n",
    "```\n",
    "http://127.0.0.1:8000/\n",
    "```\n",
    "改变端口 \n",
    "```\n",
    "python manage.py runserver 8080 \n",
    "```"
   ]
  },
  {
   "cell_type": "markdown",
   "metadata": {},
   "source": [
    "## 第三章：视图和URL配置"
   ]
  },
  {
   "cell_type": "markdown",
   "metadata": {},
   "source": [
    "### 3.1 Hello world\n",
    "建立视图  views.py\n",
    "```\n",
    "# views.py\n",
    "from django.http import HttpResponse\n",
    "\n",
    "def hello(request):\n",
    "\treturn HttpResponse(\"Hello world\")\n",
    "```\n",
    "说明：\n",
    "\t- 每个视图函数至少要有一个参数，通常被叫作request\n",
    "\t- 触发当前视图、包含当前Web请求信息的对象，是类django.http.HttpRequest的一个实例。\n",
    "\t- 在这个示例中，我们虽然不用request做任何事情，然而它仍必须是这个视图的第一个参数。"
   ]
  },
  {
   "cell_type": "markdown",
   "metadata": {},
   "source": [
    "### 3.2 解析\n",
    "一个视图就是Python的一个函数。这个函数第一个参数的类型是HttpRequest；它返回一个HttpResponse实例。  \n",
    "为了使一个Python的函数成为一个Django可识别的视图，它必须满足这两个条件。(此时没有注册URL,即Django找不到view.hello)  \n",
    "所以需要通过一个详细描述的URL来显式的告诉Django并且激活这个视图。  \n",
    "例如，当用户访问/foo/时，调用视图函数foo_view()，这个视图函数存在于Python模块文件view.py中。  "
   ]
  },
  {
   "cell_type": "markdown",
   "metadata": {},
   "source": [
    "### 3.3 编写URL\n",
    "```\n",
    "# urls.py\n",
    "from django.contrib import admin\n",
    "from django.urls import path\n",
    "from mysite.views import hello\n",
    "\n",
    "urlpatterns = [\n",
    "    path('admin/', admin.site.urls),\n",
    "    url('^hello/$', hello),\n",
    "]\n",
    "```\n",
    "hello函数 是作为对象，传递过去。\n",
    "\n",
    "模式包含了一个尖号(^)和一个美元符号($)。这些都是正则表达式符号，并且有特定的含义： 上箭头要求表\n",
    "达式对字符串的头部进行匹配，美元符号则要求表达式对字符串的尾部进行匹配\n",
    "\n",
    "    1. 如果我们用尾部不是$的模式’^hello/’，那么任何以/hello/开头的URL将会匹配，例如：/hello/foo 和/hello/bar，而不仅仅是/hello/。\n",
    "    2. 类似地，如果我们忽略了尖号(^)， 即’hello/$’，那么任何以hello/结尾的URL将会匹配，例如：/foo/bar/hello/。\n",
    "    3. 如果我们简单使用hello/，即没有^开头和$结尾，那么任何包含hello/的URL将会匹配，如：/foo/hello/bar。\n",
    "    因此，我们使用这两个符号以确保只有/hello/匹配，不多也不少。\n",
    "\n",
    "URL模式要求尾部有一个斜杠(/)， 尾部没有斜杠/ ,将重定向至尾部包含斜杠的相同字眼的URL。"
   ]
  },
  {
   "cell_type": "markdown",
   "metadata": {},
   "source": [
    "### 3.4 Django是怎么处理请求的\n",
    "当你通过在浏览器里敲http://127.0.0.1:8000/hello/ 来访问Hello world消息得时候，Django在后台有些什么动作呢？\n",
    "\n",
    "    找URL配置\n",
    "\t\t1. 所有均开始于setting文件。当你运行python manage.py runserver，脚本将在于manage.py同一个目录下查找名为setting.py的文件。\n",
    "\t\t2. 这个文件包含了所有有关这个Django项目的配置信息，均大写： TEMPLATE_DIRS, DATABASE_NAME , 等. 最重要的设置是ROOT_URLCONF，它将作为URLconf告诉Django在这个站点中那些Python的模块将被用\n",
    "```\n",
    "ROOT_URLCONF = 'mysite.urls'\n",
    "```\n",
    "    \n",
    "    匹配URL\n",
    "\t\t1. 当访问 URL /hello/ 时，Django 根据 ROOT_URLCONF 的设置装载 URLconf 。 \n",
    "\t\t2. 然后按顺序逐个匹配URLconf里的URLpatterns，直到找到一个匹配的。 当找到这个匹配 的URLpatterns就调用相关联的view函数，并把HttpRequest 对象作为第一个参数。"
   ]
  },
  {
   "cell_type": "markdown",
   "metadata": {},
   "source": [
    "### 3.5 总结一下：\n",
    "\t1. 进来的请求转入/hello/.\n",
    "\t2. Django通过在ROOT_URLCONF配置来决定根URLconf.\n",
    "\t3. Django在URLconf中的所有URL模式中，查找第一个匹配/hello/的条目。\n",
    "\t4. 如果找到匹配，将调用相应的视图函数\n",
    "\t5. 视图函数返回一个HttpResponse\n",
    "\t6. Django转换HttpResponse为一个适合的HTTP response， 以Web page显示出来"
   ]
  },
  {
   "cell_type": "markdown",
   "metadata": {},
   "source": [
    "### 3.6 动态内容和动态视图\n",
    "在HTML中嵌入 python 变量\n",
    "```\n",
    "now = datetime.datetime.now()\n",
    "html = \"<html><body>It is now %s.</body></html>\" % now\n",
    "return HttpResponse(html)\n",
    "```\n",
    "\n",
    "\n",
    "对于含有变量参数的url，例如：/books/243/、/books/81196/\n",
    "\n",
    "常规做法 /time/plus?hours=3， 然后查询字符串中被参数hours指定。\n",
    "Django 支持这种方法，但是不够Django。\n",
    "我们如何设计程序来处理任意数量的时差？ 答案是：使用通配符（wildcard URLpatterns）\n",
    "```\n",
    "# urls.py\n",
    "url(r'time/plus/(?P<offset>\\d{1,2})/$', 'hours_ahead'),\n",
    "```\n",
    "\n",
    "```\n",
    "# views.py\n",
    "def hours_ahead(request, offset):\n",
    "\ttry:\n",
    "\t\toffset = int(offset)\n",
    "\texcept ValueError:\n",
    "\t\traise Http404()\n",
    "\tdt = datetime.datetime.now() + datetime.timedelta(hours=offset)\n",
    "```\n",
    "\n",
    "offset 是从匹配的URL里提取出来的。 例如：如果请求URL是/time/plus/3/，那么offset将会是3；\n",
    "如果请求URL是/time/plus/21/，那么offset将会是21。请注意：捕获值永远都是字符串（string）类型"
   ]
  },
  {
   "cell_type": "markdown",
   "metadata": {},
   "source": [
    "## 第四章：模版 "
   ]
  },
  {
   "cell_type": "markdown",
   "metadata": {},
   "source": [
    "### 4.1 模板语句\n",
    "```{{ person_name }}``` 称为 变量(variable)\n",
    "\n",
    "循环  \n",
    "```\n",
    "{% for item in item_list %}\n",
    "```\n",
    "\n",
    "控制语句\n",
    "```\n",
    "{% if ordered_warranty %\n",
    "{% else %}\n",
    "{% endif %}\n",
    "```"
   ]
  },
  {
   "cell_type": "markdown",
   "metadata": {},
   "source": [
    "### 4.2 模板系统\n",
    "\n",
    "创建模板\n",
    "\t1. 创建一个 Template 对象， Django同样支持用指定模板文件路径的方式来创建 Template 对象;\n",
    "\t2. 调用模板对象的render方法，并且传入一套变量context。它将返回一个基于模板的展现字符串，模板中的变量和标签会被context值替换。\n",
    "```\n",
    ">>> from django import template\n",
    ">>> t = template.Template('My name is {{ name }}.')\n",
    ">>> c = template.Context({'name': 'Adrian'})\n",
    ">>> print t.render(c)\n",
    "My name is Adrian.\n",
    ">>> c = template.Context({'name': 'Fred'})\n",
    ">>> print t.render(c)\n",
    "My name is Fred.\n",
    "```\n",
    "\n",
    "渲染模板\n",
    "\n",
    "    创建一个 Template 对象，你可以用 context 来传递数据给它。 一个context是一系列变量和它们值的集合\n",
    "    使用Django模板系统的基本规则： 写模板，创建 Template 对象，创建 Context ， 调用 render() 方法"
   ]
  },
  {
   "cell_type": "markdown",
   "metadata": {},
   "source": [
    "### 4.3 模板中的变量\n",
    "当模板系统在变量名中遇到点时，按照以下顺序尝试进行查找：\n",
    "- 字典类型查找 （比如 foo[\"bar\"] )\n",
    "- 属性查找 (比如 foo.bar )\n",
    "- 方法调用 （比如 foo.bar() )\n",
    "- 列表类型索引查找 (比如 foo[bar] )\n",
    "\n",
    "注：*Django不支持退出循环操作 \tDjango也不支持continue语句*"
   ]
  },
  {
   "cell_type": "markdown",
   "metadata": {},
   "source": []
  },
  {
   "cell_type": "markdown",
   "metadata": {},
   "source": []
  },
  {
   "cell_type": "markdown",
   "metadata": {},
   "source": [
    "### 5.1 ORM( MySQLdb)\n",
    "\n",
    "把数据存取逻辑、业务逻辑和表现逻辑组合在一起的概念有时被称为软件架构的 Model-View-Controller(MVC)模式。 在这个模式中， \n",
    "- Model 代表数据存取层，\n",
    "- View 代表的是系统中选择显示什么和怎么显示的部分，\n",
    "- Controller 指的是系统中根据用户输入并视需要访问模型，以决定使用哪个视图的那部分。\n",
    "\n",
    "Django 中 M、V 和 C 各自的含义：\n",
    "- M: 数据存取部分，由django数据库层处理，本章要讲述的内容。\n",
    "- V: 选择显示哪些数据要显示以及怎样显示的部分，由视图和模板处理。 \n",
    "- C: 根据用户输入委派视图的部分，由 Django 框架根据 URLconf 设置，对给定 URL 调用适当的Python 函数。\n",
    "\n",
    "由于 C 由框架自行处理，而 Django 里更关注的是模型（Model）、模板(Template)和视图（Views），Django 也被称为 MTV 框架 。在 MTV 开发模式中\n",
    "\n",
    "- M 代表模型（Model），即数据存取层。 该层处理与数据相关的所有事务： 如何存取、如何验证有效性、包含哪些行为以及数据之间的关系等\n",
    "- T 代表模板(Template)，即表现层。 该层处理与表现相关的决定： 如何在页面或其他类型文档中进行显示。\n",
    "- V 代表视图（View），即业务逻辑层。 该层包含存取模型及调取恰当模板的相关逻辑。 你可以把它看作模型与模板之间的桥梁。"
   ]
  },
  {
   "cell_type": "markdown",
   "metadata": {},
   "source": [
    "### 5.2 数据库配置\n",
    "|属性|说明|\n",
    "|--|--|\n",
    "|DATABASE_ENGINE = ''|Django使用哪个数据库引擎|\n",
    "|DATABASE_NAME = ''|Django使用哪个数据库|\n",
    "|DATABASE_USER = ''|Django 用哪个用户连接数据库|\n",
    "|DATABASE_PASSWORD = ''|Django连接用户的密码|\n",
    "|DATABASE_HOST = ''|Django 连接哪一台主机的数据库服务器|\n",
    "|DATABASE_PORT = ''|Django 连接哪一台主机的端口号|"
   ]
  },
  {
   "cell_type": "markdown",
   "metadata": {},
   "source": [
    "### 5.3 第一个应用程序\n",
    "\n",
    "创建一个app\n",
    "```\n",
    "django_admin startapp books\n",
    "```\n",
    "什么是 django APP?\n",
    "    \n",
    "    app:一个包含模型，视图和Django代码，并且形式为独立Python包的完整Django应用\n",
    "\n",
    "project 和 app 之间到底有什么不同呢？  \n",
    "\n",
    "    它们的区别就是一个是配置,另一个是 代码：\n",
    "    一个project包含很多个Django app以及对它们的配置。技术上， project的作用是提供配置文件，比方说哪里定义数据库连接信息, 安装的app列表，TEMPLATE_DIRS ，等等。\n",
    "    一个app是一套Django功能的集合，通常包括模型和视图，按Python的包结构的方式存在。例如， Django本身内建有一些app，例如注释系统和自动管理界面。 app的一个关键点是它们是很容易移植到其他project和被多个project复用\n",
    "\n",
    "如果你只是建造一个简单的Web站点，那么可能你只需要一个app就可以了； 但如果是一个包含许多不相关的模块的复杂的网站，例如电子商务和社区之类的站点，那么你可能需要把这些模块划分成不同的app，以便以后复用。   \n",
    "例如电子商务和社区之类的站点，那么你可能需要把这些模块划分成不同的app，以便以后复用。\n",
    "\n",
    "系统对app有一个约定： 如果你使用了Django的数据库层（模型），你必须创建一个Django app。模型必须存放在apps中。"
   ]
  },
  {
   "cell_type": "markdown",
   "metadata": {},
   "source": [
    "### 5.4 Model Django中的模型\n",
    "Django模型是用Python代码形式表述的数据在数据库中的定义\n",
    "\n",
    "\n",
    "为了提供方便的数据访问API， Django需要以**某种方式**知道数据库层内部信息，有两种实现方式。 \n",
    "\n",
    "    第一种方式是用Python明确地定义数据模型(在model中)，\n",
    "    第二种方式是通过自省来自动侦测识别数据模型(扫描，严重过载)。\n",
    "\n",
    "一个重要的原因：保持用Python的方式来处理问题，避免频繁切换不同语言\n",
    "\n",
    "这个方法也有一个缺点，就是Python代码和数据库表的同步问题。 如果你修改了一个Django模型， 你\n",
    "要自己来修改数据库来保证和模型同步"
   ]
  },
  {
   "cell_type": "markdown",
   "metadata": {},
   "source": []
  },
  {
   "cell_type": "markdown",
   "metadata": {},
   "source": []
  },
  {
   "cell_type": "markdown",
   "metadata": {},
   "source": []
  },
  {
   "cell_type": "markdown",
   "metadata": {},
   "source": []
  }
 ],
 "metadata": {
  "kernelspec": {
   "display_name": "Python 3",
   "language": "python",
   "name": "python3"
  },
  "language_info": {
   "codemirror_mode": {
    "name": "ipython",
    "version": 3
   },
   "file_extension": ".py",
   "mimetype": "text/x-python",
   "name": "python",
   "nbconvert_exporter": "python",
   "pygments_lexer": "ipython3",
   "version": "3.6.2"
  }
 },
 "nbformat": 4,
 "nbformat_minor": 2
}
