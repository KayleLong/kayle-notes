{
 "cells": [
  {
   "cell_type": "markdown",
   "metadata": {},
   "source": [
    "# <center>The-Flask-Mega-Tutorial学习笔记</center>"
   ]
  },
  {
   "cell_type": "markdown",
   "metadata": {},
   "source": [
    "[中文翻译链接](https://github.com/luhuisicnu/The-Flask-Mega-Tutorial-zh/blob/master/docs)"
   ]
  },
  {
   "cell_type": "markdown",
   "metadata": {},
   "source": [
    "## 第一章:Hello,world"
   ]
  },
  {
   "cell_type": "markdown",
   "metadata": {},
   "source": [
    "### 1.1 搭建虚拟环境virtualenv的目的\n",
    "    因为Python解释器是全局安装的，为了解决维护不同应用程序对应不同版本的问题。  \n",
    "    特点:完全拷贝，互不影响\n",
    "\n",
    "1. 创建虚拟环境\n",
    "\n",
    "    python3\n",
    "    ```\n",
    "    python3 -m venv venv\n",
    "    ```\n",
    "    python2\n",
    "    ```\n",
    "    virtualenv venv\n",
    "    ```\n",
    "2. 激活虚拟环境\n",
    "\n",
    "    Linux/Mac\n",
    "    ```\n",
    "    source venv/bin/activate\n",
    "    ```\n",
    "    windows\n",
    "    ```\n",
    "    venv\\Scripts\\activate\n",
    "    ```"
   ]
  },
  {
   "cell_type": "markdown",
   "metadata": {},
   "source": [
    "### 1.2 pip\n",
    "1. 安装包\n",
    "\n",
    "    可以使用pip install 命令来安装需要的包。例如 ：安装flask框架，使用如下命令\n",
    "    ```\n",
    "    (venv) $ pip install flask\n",
    "    ```\n",
    "2. 路径\n",
    "\n",
    "    通过上面的命令，安装了flask框架。因为Python代码是开源的，所以安装的包都是以源码形式放在指定的路径。在虚拟环境中，使用pip命令安装时会将其放在 \"microblog/venv/lib/python3/site-packages/flask\""
   ]
  },
  {
   "cell_type": "markdown",
   "metadata": {},
   "source": [
    "### 1.3\timport的作用\n",
    "```\n",
    "# app/__init__.py\n",
    "from flask import Flask  \n",
    "app = Flask(__name__) \n",
    "from app import routes\n",
    " ```\n",
    "\n",
    "说明:\n",
    "- 从flask中导入的类Flask<br>\n",
    "- Flask 类的实例<br>\n",
    "- 从app包导入routes模块。从底部导入是解决循环导入的问题。"
   ]
  },
  {
   "cell_type": "markdown",
   "metadata": {},
   "source": [
    "### 1.4\t装饰器\n",
    "```\n",
    "# app/routes.py\n",
    "@app.route('/') \n",
    "@app.route('/index')\n",
    " ```\n",
    "\n",
    "说明:\n",
    "- @app.route是装饰器，这是Python语言的一个独特功能。 装饰器会修改跟在其后的函数。<br>  \n",
    "- 装饰器的常见模式是使用它们将函数注册为某些事件的回调函数。 在这种情况下，@app.route修饰器在作为参数给出的URL和函数之间创建一个关联。它们将URL /和/index索引关联到这个函数。 这意味着，当Web浏览器请求这两个URL中的任何一个时，Flask将调用该函数并将其返回值作为响应传递回浏览器。"
   ]
  },
  {
   "cell_type": "markdown",
   "metadata": {},
   "source": [
    "### 1.4 __init__.py\n",
    "    Flask应用实例在\"app/\\__init__.py\"中被创建为一个全局变量，然后又被很多应用模块导入。"
   ]
  },
  {
   "cell_type": "markdown",
   "metadata": {},
   "source": [
    "### 1.5 环境变量\n",
    "1. 写入环境变量\n",
    "```\n",
    "(venv) $ export FLASK_APP=microblog.py\n",
    "```\n",
    "\n",
    "2. 运行服务器\n",
    "```\n",
    "$ flask run   \n",
    "$ Serving Flask app \"microblog\"\n",
    "$ Running on http://127.0.0.1:5000/ (Press CTRL+C to quit)\n",
    " ```\n",
    "\n",
    "说明:\n",
    "- 设置了 FLASK_APP=microblog.py，用于指定了当前flask应用的程序入口是microblog.py。所以flask run 命令实际是执行了 run microblog.py<br>\n",
    "- 服务启动后将处于阻塞监听状态，将等待客户端连接。 flask run的输出表明服务器正在运行在IP地址127.0.0.1上。在服务器初始化后，它将会监听 5000 端口(flask应用默认端口)等待着连接。"
   ]
  },
  {
   "cell_type": "markdown",
   "metadata": {},
   "source": [
    "### 1.6 WSGI接口\n",
    "    WSGI：Web Server Gateway Interface\n",
    "    用于处理接受HTTP请求、解析HTTP请求、发送HTTP响应。\n",
    "    flask的 WSGI 工具箱采用 Werkzeug。"
   ]
  },
  {
   "cell_type": "markdown",
   "metadata": {},
   "source": [
    "# 第二章：jinjia2模板引擎"
   ]
  },
  {
   "cell_type": "markdown",
   "metadata": {},
   "source": [
    "[补充内容](https://www.cnblogs.com/dachenzi/p/8242713.html)"
   ]
  },
  {
   "cell_type": "markdown",
   "metadata": {},
   "source": [
    "### 2.1\t什么是模板\n",
    "    模板可以在HTML中嵌入了动态内容，这些动态内容是变量和指令(主要是后端数据)，根据传入的数据进行替换后，得到最终的HTML。<br>\n",
    "    模板有助于实现页面展现和业务逻辑之间的分离，将应用程序的后台逻辑和页面布局分离开来。<br>\n",
    "    jinja2属于第三方模块，Flask使用jinja2作为框架的模板系统。所以在安装flask模块时，默认将jinja2一起安装。<br>"
   ]
  },
  {
   "cell_type": "markdown",
   "metadata": {
    "collapsed": true
   },
   "source": [
    "### 2.2 jinja2基本语法\n",
    "    在jinja2中，存在三种语法：\n",
    "        控制结构 {% %}\n",
    "        变量取值 {{ }}\n",
    "        注释 {# #}"
   ]
  },
  {
   "cell_type": "markdown",
   "metadata": {},
   "source": [
    "### 2.3\t模板的动态内容如何传递\n",
    "\t模板中{{ ... }}包含的内容是动态的，只有在运行时才知道具体表示成什么样子。可以用于将后台逻辑中的变量传递到HTML页面。"
   ]
  },
  {
   "cell_type": "markdown",
   "metadata": {},
   "source": [
    "### 2.4 模板中的控制语句\n",
    "\t模板支持在{%...%}块内使用控制语句\n",
    "\t{% if ... %}\t\t   {% for %}\n",
    "\t{% else %}\t\t\t   {% endfor %}\n",
    "\t{% endif %}"
   ]
  },
  {
   "cell_type": "markdown",
   "metadata": {},
   "source": [
    "### 2.5\t渲染\n",
    "\t将模板转换为完整的HTML页面的操作称为渲染。 为了渲染模板，需要从Flask框架中导入一个名为render_template()的函数。  \n",
    "\t该函数需要传入模板文件名和模板参数的变量列表，并返回模板中所有占位符都用实际变量值替换后的字符串结果。  \n",
    "\trender_template()函数调用Flask框架原生依赖的Jinja2模板引擎。\n",
    "\tJinja2用render_template()函数传入的参数中的相应值替换{{...}}块。"
   ]
  },
  {
   "cell_type": "markdown",
   "metadata": {},
   "source": [
    "### 2.6\t块 (Block)和宏 (Macro)\n",
    "1. 作用\n",
    "\n",
    "    flask 考虑到模板代码的重用性，Jiaja2提供了块 (Block)和宏 (Macro)来提高代码的继承和复用性。  \n",
    "    块 (Block)的使用可以极大精简代码，可以通过继承（extend）扩展让大量代码重复使用，并在Block自由定制替换内容块；   \n",
    "    宏 (Macro) 的使用更可以极大的提高模板的复用性，减少复杂度，类似于函数，可以传入参数。\n",
    "\n",
    "2. 实例\n",
    "```\n",
    "// base.html\n",
    "{% block content %}{% endblock %}\n",
    "```\n",
    "\n",
    "说明：\n",
    "- 定义了一个名为content的块(区域)，只是当前这个块没有内容。\n",
    "\n",
    "    在index.html和login.html中都有以下代码\n",
    "    ```\n",
    "    {% extend  \"base.html\" %}\n",
    "    {% block content %}\t\n",
    "    ……\n",
    "    {% endblock %}\n",
    "    ```\t\n",
    "    ```\n",
    "    {% extend  \"base.html\" %} \n",
    "    ```\n",
    "- extend语句用来建立了两个模板之间的继承关系，这样Jinja2才知道当要求呈现index.html或login.html时，需要将其嵌入到base.html中。\n",
    "```\n",
    "{% block content %}\t\t{% endblock %}\n",
    "```\n",
    "- index.html和login.html 中重新定义了名为content的块，两个模板中匹配的block语句和其名称content，让Jinja2知道如何将这两个模板合并成在一起。即用当前的content替代父类的content。\n",
    "\n",
    "这样应用程序的所有页面拥有统一外观布局而不用重复编写代码"
   ]
  },
  {
   "cell_type": "markdown",
   "metadata": {},
   "source": [
    "### 2.7 拓展\n",
    "以[CSDN](https://blog.csdn.net/)为例，\n",
    "\n",
    "    {% block head %}{% endblock %} //头部\n",
    "    {% block sidebar %}{% endblock %} //侧边栏\n",
    "    {% block banner %}{% endblock %} //导航条\n",
    "    {% block content %}{% endblock %} //主内容\n",
    "    {% block foot %}{% endblock %} //底部"
   ]
  },
  {
   "cell_type": "markdown",
   "metadata": {},
   "source": [
    "# 第三章：Web表单 Flask-WTF"
   ]
  },
  {
   "cell_type": "markdown",
   "metadata": {},
   "source": [
    "### 3.1\t字段检查\n",
    "```\n",
    "# app/forms.py\n",
    "from flask_wtf import FlaskForm\n",
    "from wtforms import StringField, PasswordField, BooleanField, SubmitField\n",
    "from wtforms.validators import DataRequired \n",
    "username = StringField('Username', validators=[DataRequired()])\n",
    "```\n",
    "说明:\n",
    "- 可选参数validators用于验证输入字段是否符合预期。DataRequired验证器仅验证字段输入是否为空。\n",
    "- 大多数Flask插件使用flask_ <name>命名约定来导入，Flask-WTF的所有内容都在flask_wtf包中。在本例中，app/forms.py模块的顶部从flask_wtf导入了名为FlaskForm的基类。\n",
    "- 由于Flask-WTF插件本身不提供字段类型，因此直接从WTForms包中导入了四个表示表单字段的类。每个字段类都接受一个描述或别名作为第一个参数，并生成一个实例来作为LoginForm的类属性。\n"
   ]
  },
  {
   "cell_type": "markdown",
   "metadata": {},
   "source": [
    "### 3.2 表单提交\n",
    "    HTML中 form action=\"\" method=\"post\" novalidate\n",
    "\tHTML<form>元素被用作Web表单的容器。 表单的action属性告诉浏览器在提交用户在表单中输入的信息时应该请求的URL。  \n",
    "\t当action设置为空字符串时，表单将被提交给当前地址栏中的URL，即当前页面。  \n",
    "\tmethod属性指定了将表单提交给服务器时应该使用的HTTP请求方法。  \n",
    "\t默认情况下是用GET请求发送，使用POST请求可以加密信息。"
   ]
  },
  {
   "cell_type": "markdown",
   "metadata": {},
   "source": [
    "### 3.3 字段的检查\n",
    "```\n",
    "# app/forms.py\n",
    "form.validate_on_submit()\n",
    "```\n",
    "\tform.validate_on_submit()实例方法会执行form校验的工作。"
   ]
  },
  {
   "cell_type": "markdown",
   "metadata": {},
   "source": [
    "### 3.4 表单的使用\n",
    "\t配置config    ->  Form类   ->  表单模板    ->  表单视图\n",
    "\tconfig.py        forms.py     login.html     routes.py"
   ]
  },
  {
   "cell_type": "markdown",
   "metadata": {},
   "source": [
    "### 3.5 url_for的使用\n",
    "未使用url_for之前\n",
    "```\n",
    "<div>\n",
    "    Microblog:\n",
    "    <a href=\"/index\">Home</a>\n",
    "    <a href=\"/login\">Login</a>\n",
    "</div>\n",
    "```\n",
    "```\n",
    "return redirect('/index')\n",
    "```\n",
    "    直接在模板和源文件中硬编码链接存在隐患，如果有一天你决定重新组织链接，那么你将不得不在整个应用中搜索并替换这些链接。\n",
    "\n",
    "    为了更好地管理这些链接，Flask提供了一个名为url_for()的函数，它使用URL到视图函数的内部映射关系来生成URL。 例如，url_for('login')返回/login，url_for('index')返回/index。 url_for()的参数是endpoint名称，也就是视图函数的名字。\n",
    "\n",
    "    你可能会问，为什么使用函数名称而不是URL？ 事实是，URL比起视图函数名称变更的可能性更高。 稍后你会了解到的第二个原因是，一些URL中包含动态组件，手动生成这些URL需要连接多个元素，枯燥乏味且容易出错。 url_for()生成这种复杂的URL就方便许多。\n",
    "使用url_for之后\n",
    "```\n",
    "<div>\n",
    "    Microblog:\n",
    "    <a href=\"{{ url_for('index') }}\">Home</a>\n",
    "    <a href=\"{{ url_for('login')}}\">Login</a>\n",
    "</div> \n",
    "```\n",
    "```\n",
    "return redirect(url_for('index'))\n",
    "```"
   ]
  },
  {
   "cell_type": "markdown",
   "metadata": {},
   "source": [
    "# 第四章：数据库"
   ]
  },
  {
   "cell_type": "markdown",
   "metadata": {},
   "source": [
    "### 4.1 数据库的作用\n",
    "\t大多数应用都需要持久化存储数据，并高效地执行的增删查改的操作，数据库为此而生。"
   ]
  },
  {
   "cell_type": "markdown",
   "metadata": {},
   "source": [
    "### 4.2 Flask-SQLAlchemy\n",
    "\t这个插件为流行的SQLAlchemy包做了一层封装以便在Flask中调用更方便，类似SQLAlchemy这样的包叫做Object Relational Mapper，简称ORM。  \n",
    "\tORM允许应用程序使用高级实体（如类，对象和方法）而不是表和SQL来管理数据库。 ORM的工作就是将高级操作转换成数据库命令。"
   ]
  },
  {
   "cell_type": "markdown",
   "metadata": {},
   "source": [
    "### 4.3 Flask-Migrate\n",
    "\t这个插件是Alembic的一个Flask封装，是SQLAlchemy的一个数据库迁移框架。\n",
    "使用步骤：\n",
    "1. 创建迁移存储库\n",
    "       flask db init\n",
    "2. 数据库迁移\n",
    "\t\tflask db migrate子命令生成自动迁移\n",
    "3. 更改应用到数据库\n",
    "\t\tflask db upgrade"
   ]
  },
  {
   "cell_type": "markdown",
   "metadata": {},
   "source": [
    "### 4.4 外键 \n",
    "```\n",
    "posts = db.relationship('Post', backref='author', lazy='dynamic')\n",
    "```\n",
    "- User类有一个新的posts字段，用db.relationship初始化。这不是实际的数据库字段，而是用户和其动态之间关系的高级视图，因此它不在数据库图表中。对于一对多关系，db.relationship字段通常在“一”的这边定义，并用作访问“多”的便捷方式\n",
    "- Post：连接的对象\n",
    "- backref:定义了代表“多”的类的实例反向调用“一”的时候的属性名称。这将会为用户动态添加一个属性post.author\n",
    "- lazy:定义了这种关系调用的数据库查询是如何执行的"
   ]
  },
  {
   "cell_type": "markdown",
   "metadata": {},
   "source": [
    "### 4.5\t数据的提交\n",
    "步骤：\n",
    "1. 生成数据对象\n",
    "\t\tu = User(username='john', email='john@example.com')\n",
    "2. 将数据添加到session\n",
    "\t\tdb.session.add(u)\n",
    "3. 将数据写入数据库\n",
    "\t\tdb.session.commit()\n",
    "<font color=red>只有在调用db.session.commit()之后,才会将更改写入数据库。</font>"
   ]
  },
  {
   "cell_type": "markdown",
   "metadata": {},
   "source": [
    "### 4.6第三方组件(插件)的注册\n",
    "```\n",
    "app = Flask(__name__)\n",
    "app.config.from_object(Config)\n",
    "db = SQLAlchemy(app)\n",
    "migrate = Migrate(app, db)\n",
    "```\n",
    "大多数Flask插件都是通过创建插件实例并将应用作为参数传递来初始化的。"
   ]
  },
  {
   "cell_type": "markdown",
   "metadata": {},
   "source": [
    "# 第五章：用户登录"
   ]
  },
  {
   "cell_type": "markdown",
   "metadata": {},
   "source": [
    "### 5.1 Flask-Login插件\n",
    "\t管理用户登录状态，以便用户可以登录到应用，然后用户在导航到该应用的其他页面时，应用会“记得”该用户已经登录。\n",
    "\t它还提供了“记住我”的功能，允许用户在关闭浏览器窗口后再次访问应用时保持登录状态。"
   ]
  },
  {
   "cell_type": "markdown",
   "metadata": {},
   "source": [
    "### 5.2 用户模型\n",
    "\tis_authenticated: 一个用来表示用户是否通过登录认证的属性，用True和False表示。\n",
    "\tis_active: 如果用户账户是活跃的，那么这个属性是True，否则就是False。\n",
    "\tis_anonymous: 常规用户的该属性是False，对特定的匿名用户是True。\n",
    "\tget_id(): 返回用户的唯一id的方法"
   ]
  },
  {
   "cell_type": "markdown",
   "metadata": {},
   "source": [
    "### 5.3 用户加载\n",
    "```\n",
    "@login.user_loader\n",
    "def load_user(id):\n",
    "\treturn User.query.get(int(id))\n",
    "```\n",
    "\t找到用户的ID,返回一个object对象。查找失败时，返回None"
   ]
  },
  {
   "cell_type": "markdown",
   "metadata": {},
   "source": [
    "### 5.4 用户登入\n",
    "1. 判断用户是否通过认证，在视图函数一开始添加判断\n",
    "```\n",
    "if current_user.is_authenticated:\n",
    "    return redirect(url_for('index'))\n",
    "```\n",
    "2. 当前用户\n",
    "```\n",
    "from flask_login import current_user, login_user\n",
    "```\n",
    "\tcurrent_user变量来自Flask-Login，可以在处理过程中的任何时候调用以获取用户对象。\n",
    "\t这个变量的值可以是数据库中的一个用户对象"
   ]
  },
  {
   "cell_type": "markdown",
   "metadata": {},
   "source": [
    "### 5.5 用户登出\n",
    "\t\tFlask-Login的logout_user()函数来实现"
   ]
  },
  {
   "cell_type": "markdown",
   "metadata": {},
   "source": [
    "### 5.6 要求用户登录\n",
    "1. 哪些视图函数要进行登录认证\n",
    "```  \n",
    "login = LoginManager(app)\n",
    "login.login_view = 'login'\n",
    "```\n",
    "\tlogin.login_view 指定需要认证的URL\n",
    "2. 保护需要认证的视图函数\n",
    "\n",
    "    使用@login_required装饰器\n",
    "```\n",
    "@app.route('/')\n",
    "@app.route('/index')\n",
    "@login_required\n",
    "```"
   ]
  },
  {
   "cell_type": "markdown",
   "metadata": {},
   "source": [
    "### 5.7 显示当前已登录的用户\n",
    "\t使用Flask-Login的current_user"
   ]
  },
  {
   "cell_type": "markdown",
   "metadata": {},
   "source": [
    "### 5.8 用户注册\n",
    "1. 提供一个表单用于注册，字段包括：username,email,password\n",
    "2. 对字段进行验证，用户名是否存在，email格式是否合法"
   ]
  },
  {
   "cell_type": "markdown",
   "metadata": {},
   "source": [
    "# 第六章：个人主页和头像"
   ]
  },
  {
   "cell_type": "markdown",
   "metadata": {},
   "source": [
    "### 6.1 建立个人主页的步骤\n",
    "1. 视图函数\n",
    "```\n",
    "@app.route('/user/<username>')\n",
    "@login_required\n",
    "```\n",
    "\t<>中的是动态参数，@login_required认证后才可以进入\n",
    "2. HTML模板"
   ]
  },
  {
   "cell_type": "markdown",
   "metadata": {},
   "source": [
    "### 6.2 头像\n",
    "\t使用Gravatar为所有用户提供图片服务"
   ]
  },
  {
   "cell_type": "markdown",
   "metadata": {},
   "source": [
    "### 6.3 使用Jinja2子模板\n",
    "\t_post.html   _前缀只是一个命名约定，可以帮助识别哪些模板文件是子模板。"
   ]
  },
  {
   "cell_type": "markdown",
   "metadata": {},
   "source": [
    "### 6.4 添加个人资料\n",
    "1. 在mobel中添加字段\n",
    "2. 生成数据库迁移\n",
    "```\n",
    "flask db migrate\n",
    "flask db upgrade\n",
    "```"
   ]
  },
  {
   "cell_type": "markdown",
   "metadata": {},
   "source": [
    "### 6.5 更改个人资料\n",
    "1. 步骤\n",
    "\t\tForm类   ->  表单模板    ->  表单视图\n",
    "\t\tforms.py    login.html      routes.py\n",
    "2.数据的提交\n",
    "```\n",
    "current_user.username = form.username.data\n",
    "current_user.about_me = form.about_me.data\n",
    "db.session.commit()\n",
    "```"
   ]
  },
  {
   "cell_type": "markdown",
   "metadata": {},
   "source": [
    "# 第七章:错误处理"
   ]
  },
  {
   "cell_type": "markdown",
   "metadata": {},
   "source": [
    "### 7.1\t开启Debug模式\n",
    "```\n",
    "export FLASK_DEBUG=1\n",
    "```"
   ]
  },
  {
   "cell_type": "markdown",
   "metadata": {},
   "source": [
    "### 7.2 自定义错误页面\n",
    "    使用@errorhandler装饰器来声明一个自定义的错误处理器\n",
    "```\n",
    "@app.errorhandler(404)\n",
    "@app.errorhandler(500)\n",
    "```"
   ]
  },
  {
   "cell_type": "markdown",
   "metadata": {},
   "source": [
    "### 7.3 db.session.rollback()\n",
    "\t为了确保任何失败的数据库会话不会干扰模板触发的其他数据库访问，执行会话回滚来将会话重置为干净的状态。"
   ]
  },
  {
   "cell_type": "markdown",
   "metadata": {},
   "source": [
    "### 7.4 日志文件\n",
    "\t启用基于文件类型RotatingFileHandler的日志记录器"
   ]
  },
  {
   "cell_type": "markdown",
   "metadata": {},
   "source": [
    "# 第八章：粉丝(拓展数据库)"
   ]
  },
  {
   "cell_type": "markdown",
   "metadata": {},
   "source": [
    "### 8.1 一对多\n",
    "\t数据库使用了一个外键以表示一对多关系。例如Post类中的user_id\n",
    "```\t\n",
    "user_id = db.Column(db.Integer, db.ForeignKey('user.id'))\n",
    "```"
   ]
  },
  {
   "cell_type": "markdown",
   "metadata": {},
   "source": [
    "### 8.2 多对多关系\n",
    "\t一名学生学习多位老师的课程，一位老师教授多名学生。这就像两个重叠的一对多关系。\n",
    "\t需要查询数据库来获取教授给定学生的教师列表，以及某个教师课程中的学生列表，再关联起来。\n",
    "\t无法通过向现有表添加外键来完成此操作，所以展现多对多关系需要使用额外的关联表。"
   ]
  },
  {
   "cell_type": "markdown",
   "metadata": {},
   "source": [
    "### 8.3 多对多\n",
    "```\n",
    "followed = db.relationship('User', \n",
    "    secondary=followers,\n",
    "\tprimaryjoin=(followers.c.follower_id == id),\n",
    "\tsecondaryjoin=(followers.c.followed_id == id),\n",
    "\tbackref=db.backref('followers', lazy='dynamic'), lazy='dynamic')\n",
    "```\t\n",
    "说明：\n",
    "- 'User'是关系当中的右侧实体（将左侧实体看成是上级类）。由于这是自引用关系，所以在两侧都使用同一个实体。\n",
    "- secondary 指定了用于该关系的关联表，就是使用我在上面定义的followers。\n",
    "- primaryjoin 指明了通过关系表关联到左侧实体（关注者）的条件 。关系中的左侧的join条件是关系表中的follower_id字段与这个关注者的用户ID匹配。followers.c.follower_id表达式引用了该关系表中的follower_id列。\n",
    "- secondaryjoin 指明了通过关系表关联到右侧实体（被关注者）的条件 。 这个条件与primaryjoin类似，唯一的区别在于，现在我使用关系表的字段的是followed_id了。\n",
    "- backref定义了右侧实体如何访问该关系。"
   ]
  },
  {
   "cell_type": "markdown",
   "metadata": {},
   "source": [
    "### 8.4 关注和取消\n",
    "1. 在model中\n",
    "```\t\n",
    "def follow(self, user):\n",
    "\tfollowed.append(user)\n",
    "def unfollow(self, user):\n",
    "\tfollowed.remove(user)\n",
    "```\n",
    "2. 在route中\n",
    "```\n",
    "current_user.follow(user)\n",
    "db.session.commit()\n",
    "current_user.unfollow(user)\n",
    "db.session.commit()\n",
    "```"
   ]
  },
  {
   "cell_type": "markdown",
   "metadata": {},
   "source": [
    "### 8.5 查看已关注用户的动态\n",
    "\t联合->过滤->排序。由数据库将用户动态的合并和排序操作"
   ]
  },
  {
   "cell_type": "markdown",
   "metadata": {},
   "source": [
    "# 第九章：分页"
   ]
  },
  {
   "cell_type": "markdown",
   "metadata": {},
   "source": [
    "### 9.1 发布动态\n",
    "设计步骤:\n",
    "1. From类 \n",
    "2. HTML模板 \n",
    "3. routes"
   ]
  },
  {
   "cell_type": "markdown",
   "metadata": {},
   "source": [
    "### 9.2 展示动态\n",
    "\t自己的动态 \n",
    "```\n",
    "posts = current_user.followed_posts().all()\n",
    "```\n",
    "\t所有的动态 \n",
    "```\n",
    "posts = Post.query.order_by(Post.timestamp.desc\n",
    "```"
   ]
  },
  {
   "cell_type": "markdown",
   "metadata": {},
   "source": [
    "### 9.3 分页功能\n",
    "\tFlask-SQLAlchemy的paginate()方法原生就支持分页\n",
    "\t\tuser.followed_posts().paginate(1, 20, False).items\n",
    "参数说明：\n",
    "- 页码从1开始\n",
    "- 每页的数量\n",
    "- 错误处理布尔标记，如果是True，当请求范围超出已知范围时自动引发404错误。如果是False，则会返回一个空列表。\n",
    "\t\n",
    "Pageination类的实例\n",
    "- has_next: 当前页之后存在后续页面时为真\n",
    "- has_prev: 当前页之前存在前置页面时为真\n",
    "- next_num: 下一页的页码\n",
    "- prev_num: 上一页的页码"
   ]
  },
  {
   "cell_type": "markdown",
   "metadata": {},
   "source": [
    "### 9.4 分页路由的实现 http://localhost:5000/index?page=3\n",
    "1. URL中?之后的page=3 是参数，可以交给装饰器来获取\n",
    "```\n",
    "page = request.args.get('page', 1, type=int)\n",
    "```\n",
    "2. 封装URL\n",
    "```\n",
    "posts = current_user.followed_posts().paginate(page, app.config['POSTS_PER_PAGE'], False)\n",
    "```\n",
    "3. 渲染模板\n",
    "```\n",
    "return render_template('index.html', title='Home', form=form, posts=posts.items)\n",
    "```"
   ]
  },
  {
   "cell_type": "markdown",
   "metadata": {},
   "source": [
    "# 第十章：邮件支持"
   ]
  },
  {
   "cell_type": "markdown",
   "metadata": {},
   "source": [
    "### 10.1 Flask-Mail\n",
    "\t163邮箱的设置\n",
    "```\n",
    "# 邮箱配置\n",
    "MAIL_SERVER = '220.181.12.16'# 电子邮件服务器的主机名或IP地址\n",
    "MAIL_PORT = 25# 电子邮件服务器的端口\n",
    "MAIL_USE_TLS = True# 启用传输层安全\n",
    "# 取出来是ASCII格式\n",
    "# MAIL_USERNAME = os.environ.get('MAIL_USERNAME')# 发送方\n",
    "# MAIL_PASSWORD = os.environ.get('MAIL_PASSWORD')# 邮件账户的密码,这个密码是指的授权码\n",
    "\n",
    "# 这种是utf-8格式\n",
    "MAIL_USERNAME = 'lajxutcm@163.com'\n",
    "MAIL_PASSWORD = 'la931211'\n",
    "ADMINS = ['lajxutcm@163.com', '643454972@qq.com', '1569646999@qq.com',]# 接受方\n",
    "```"
   ]
  },
  {
   "cell_type": "markdown",
   "metadata": {},
   "source": [
    "### 10.2 电子邮件框架\n",
    "```\n",
    "def send_email(subject, sender, recipients, text_body, html_body):\n",
    "\tmsg = Message(subject, sender=sender, recipients=recipients)\n",
    "\tmsg.body = text_body\n",
    "\tmsg.html = html_body\n",
    "\tmail.send(msg)\n",
    "```"
   ]
  },
  {
   "cell_type": "markdown",
   "metadata": {},
   "source": [
    "### 10.3 密码重置令牌\n",
    "\t使用JSON Web Token（JWT）"
   ]
  },
  {
   "cell_type": "markdown",
   "metadata": {},
   "source": [
    "### 10.4 重置密码\n",
    "1. 验证URL中的token\n",
    "```\n",
    "user = User.verify_reset_password_token(token)\n",
    "```\n",
    "2. 用户存在则在from表单中填入新的密码\n",
    "3. 表单提交，保存到数据库\n",
    "```\n",
    "user.set_password(form.password.data)\n",
    "db.session.commit()\n",
    "```"
   ]
  },
  {
   "cell_type": "markdown",
   "metadata": {},
   "source": [
    "### 10.5 异步电子邮件\n",
    "\t因为发送电子邮件会大大减慢应用的速度，所以采用运行异步任务来发送电子邮件，threading和multiprocessing模块都可以做到这一点。"
   ]
  },
  {
   "cell_type": "markdown",
   "metadata": {},
   "source": [
    "# 第十一章：美化\n",
    "[Flask-Bootstrap中文文档](https://flask-bootstrap-zh.readthedocs.io/zh/latest/)"
   ]
  },
  {
   "cell_type": "markdown",
   "metadata": {},
   "source": [
    "### 11.1 flask-bootstrap的使用\n",
    "1. __init__.py 中生成bootstrap实例\n",
    "```\n",
    "from flask_bootstrap import Bootstrap\n",
    "app = Flask(__name__)\n",
    "bootstrap = Bootstrap(app)\n",
    "```\n",
    "2. 在模板中引用bootstrap的基础模板\n",
    "```\t\t\n",
    "{% extends 'bootstrap/base.html' %}\n",
    "```\n",
    "3. 渲染模板\n",
    "\n",
    "    渲染from表单\n",
    "```\n",
    "{% import 'bootstrap/wtf.html' as wtf %}\n",
    "```\n",
    "\n",
    "    渲染用户动态\n",
    "```\n",
    "<table class=\"table table-hover\">\n",
    "``"
   ]
  },
  {
   "cell_type": "markdown",
   "metadata": {},
   "source": [
    "### 11.2 Bootstrap框架\n",
    "\n",
    "|块名|说明|\n",
    "|---|---|\n",
    "|title|title标签中的内容|\n",
    "|navbar|用户定义的导航条|\n",
    "|content|用户定义的内容页面|\n",
    "    \n",
    "```\n",
    "{% extends \"bootstrap/base.html\" %}\n",
    "{% block title %}This is an example page{% endblock %}\n",
    "\n",
    "{% block navbar %}\n",
    "<div class=\"navbar navbar-fixed-top\">\n",
    "  <!-- ... -->\n",
    "</div>\n",
    "{% endblock %}\n",
    "\n",
    "{% block content %}\n",
    "  <h1>Hello, Bootstrap</h1>\n",
    "{% endblock %}\n",
    "```"
   ]
  },
  {
   "cell_type": "markdown",
   "metadata": {},
   "source": [
    "# 第十二章：日期和时间"
   ]
  },
  {
   "cell_type": "markdown",
   "metadata": {},
   "source": [
    "### 12.1 时区问题\n",
    "\tdatetime.now()调用返回我所处位置的本地时间，而datetime.utcnow()调用则返回UTC时区中的时间。\n",
    "\t服务器统一使用UTC时间，而用户使用本地时间。"
   ]
  },
  {
   "cell_type": "markdown",
   "metadata": {},
   "source": [
    "### 12.2 时区转换\n",
    "\t“新派”的做法是不改变服务器中的东西，而在客户端中使用JavaScript来对UTC和本地时区之间进行转换。"
   ]
  },
  {
   "cell_type": "markdown",
   "metadata": {},
   "source": [
    "### 12.3 Moment.js和Flask-Moment简介\n",
    "\t与其他插件不同的是，Flask-Moment与moment.js一起工作，因此应用的所有模板都必须包含moment.js。\n",
    "```\n",
    "# app/__init__.py\n",
    "from flask_moment import Moment\n",
    "app = Flask(__name__)\n",
    "moment = Moment(app)\n",
    "```\n",
    "```\n",
    "// app/templates/base.html\n",
    "{% block scripts %}\n",
    "    {{ super() }}\n",
    "    {{ moment.include_moment() }}\n",
    "{% endblock %}\n",
    "```"
   ]
  },
  {
   "cell_type": "markdown",
   "metadata": {},
   "source": [
    "### 12.4 content块 \n",
    "```\n",
    "# base.html\n",
    "{# application content needs to be provided in the app_content block #}\n",
    "```\n",
    "所有页面模板的原始版本在名为content的块中定义了它们的内容。 因为Flask-Bootstrap使用名为content的块，所以可以将新的内容块重命名为app_content"
   ]
  },
  {
   "cell_type": "markdown",
   "metadata": {},
   "source": [
    "### 12.4 使用Moment.js\n",
    "\tmoment对象为不同的渲染选项提供了几种方法，如:\n",
    "    _post.html中为(\"7 hours ago\")格式\n",
    "        when=moment(post.timestamp).fromNow()\n",
    "\tuser.html中为(\"September 28, 2017 2:45 PM\")格式\n",
    "        when=moment(user.last_seen).format('LLL')"
   ]
  },
  {
   "cell_type": "markdown",
   "metadata": {},
   "source": [
    "# 第十三章: I18n and L10n(语言翻译)"
   ]
  },
  {
   "cell_type": "markdown",
   "metadata": {},
   "source": [
    "### 13.1 Flask-Babel简介\n",
    "\t安装，初始化\n",
    "\tBabel实例提供了一个localeselector装饰器。 为每个请求调用装饰器函数以选择用于该请求的语言。"
   ]
  },
  {
   "cell_type": "markdown",
   "metadata": {},
   "source": [
    "### 13.2 标记文本在Python源代码中执行翻译\n",
    "\t文本替换在发送请求时：\n",
    "\t\t引入方法\n",
    "\t\t\tfrom flask_babel import _\n",
    "\n",
    "\t\t\tflash(_('Your post is now live!'))\n",
    "\t\t文本替换\n",
    "\t\t\tflash(_('User %(username)s not found.', username=username))\n",
    "\t文本在启动应用时：\n",
    "\t\t引入方法\n",
    "\t\t\tfrom flask_babel import lazy_gettext as _l\n",
    "\t\t文本替换\n",
    "\t\t\tusername = StringField(_l('Username'), validators=[DataRequired()])"
   ]
  },
  {
   "cell_type": "markdown",
   "metadata": {},
   "source": [
    "### 13.3 含有变量的翻译\n",
    "```\n",
    "\t{{ _('%(username)s said %(when)s', username=user_link, when=moment(post.timestamp).fromNow()) }}\n",
    "\n",
    "\tmsgid \"%(username)s said %(when)s\"\n",
    "\tmsgstr \"%(username)s 发表于%(when)s\"\n",
    "```"
   ]
  },
  {
   "cell_type": "markdown",
   "metadata": {},
   "source": [
    "### 13.4 提取文本进行翻译\n",
    "\tpybabel extract -F babel.cfg -k _l -o messages.pot .\n",
    "\t(生成messages.pot文件始终是运行init或update命令的先决条件)"
   ]
  },
  {
   "cell_type": "markdown",
   "metadata": {},
   "source": [
    "### 13.5 生成语言目录\n",
    "\tpybabel init -i messages.pot -d app/translations -l zh_Hans_CN"
   ]
  },
  {
   "cell_type": "markdown",
   "metadata": {},
   "source": [
    "### 13.6 更新翻译\n",
    "\tpybabel extract -F babel.cfg -k _l -o messages.pot .\n",
    "\tpybabel update -i messages.pot -d app/translations"
   ]
  },
  {
   "cell_type": "markdown",
   "metadata": {},
   "source": [
    "### 13.7 命令行增强\n",
    "\tpybabel命令有点长，难以记忆。\n",
    "\tFlask依赖Click进行所有命令行操作,像translate这样的命令是几个子命令的根，它们是通过app.cli.group()装饰器创建的。\n",
    "\t\tflask translate init LANG用于添加新语言\n",
    "\t\tflask translate update用于更新所有语言存储库\n",
    "\t\tflask translate compile用于编译所有语言存储库\n",
    "        \n",
    "步骤：\n",
    "1. 命令放入cli.py的新模块\n",
    "\t\t子命令通过app.cli.group()装饰器创建的\n",
    "2. 实现三个子命令\n",
    "```\n",
    "@translate.command()\n",
    "def update():\n",
    "    if os.system('pybabel extract -F babel.cfg -k _l -o messages.pot .'):\n",
    "```\n",
    "3.注册 microblog.py\n",
    "```\n",
    "from app import cli\n",
    "```"
   ]
  },
  {
   "cell_type": "markdown",
   "metadata": {},
   "source": [
    "# 第十四章：Ajax异步翻译"
   ]
  },
  {
   "cell_type": "markdown",
   "metadata": {},
   "source": [
    "# 第十五章：优化应用结构"
   ]
  },
  {
   "cell_type": "markdown",
   "metadata": {},
   "source": [
    "### 15.1 Blueprint\n",
    "\t在Flask中，blueprint是代表应用子集的逻辑结构。\n",
    "\tFlask的blueprints功能有助于实现更实用的组织结构，从而更轻松地重用代码。"
   ]
  },
  {
   "cell_type": "markdown",
   "metadata": {},
   "source": [
    "### 15.2 遇到的问题\n",
    "1. Flask应用被创建为一个全局变量，不同的测试都会运行在这个全局变量上。\n",
    "2. 不同的测试都会对全局变量进行更改。\n",
    "3. 测试应该在原始应用实例上运行。"
   ]
  },
  {
   "cell_type": "markdown",
   "metadata": {},
   "source": [
    "### 15.3 BluePrints的结构\n",
    "```\n",
    "\tapp/\n",
    "\terrors/                             <-- blueprint package\n",
    "\t\t__init__.py                     <-- blueprint creation\n",
    "\t\thandlers.py                     <-- error handlers\n",
    "\ttemplates/\n",
    "\t\terrors/                         <-- error templates\n",
    "\t\t\t404.html\n",
    "\t\t\t500.html\n",
    "\t__init__.py                         <-- blueprint registration\n",
    "```"
   ]
  },
  {
   "cell_type": "markdown",
   "metadata": {},
   "source": [
    "### 15.4 应用工厂模式\n",
    "1. 插件初始化\n",
    "```\n",
    "db = SQLAlchemy()\n",
    "migrate = Migrate()\n",
    "login = LoginManager()\n",
    "```\n",
    "\tFlask插件都是通过创建插件实例并将应用作为参数传递来初始化的。这时候的插件实例是未附加到应用的\n",
    "2. 创建工厂函数\n",
    "```\n",
    "def create_app(config_class=Config):\n",
    "\tapp = Flask(__name__)\n",
    "\tapp.config.from_object(config_class)\n",
    "```\n",
    "3. 附加到应用上\n",
    "```\n",
    "db.init_app(app)\n",
    "migrate.init_app(app, db)\n",
    "login.init_app(app)\n",
    "```\n",
    "\t当应用实例在工厂函数中创建时，必须在插件实例上调用init_app()方法，以将其绑定到现在已知的应用。"
   ]
  },
  {
   "cell_type": "markdown",
   "metadata": {},
   "source": [
    "### 15.5 工厂模式\n",
    "1. 工厂函数中的app的作用域\n",
    "\t\tapp的作用域是在函数内部的\n",
    "2. 谁来调用工厂函数\n",
    "\t\t由microblog.py(顶级)来调用，它是唯一会将应用设置为全局变量的模块"
   ]
  },
  {
   "cell_type": "markdown",
   "metadata": {},
   "source": [
    "### 15.6 current_app\n",
    "\t之前在__init__.py中的全局变量app已经被工厂模式的app代替。那么其他模块中的全局变量app如何继续工作？\n",
    "\t\t用current_app代替app\n",
    "\tlask提供的current_app变量是一个特殊的“上下文”变量，Flask在分派请求之前使用应用初始化该变量。\n",
    "\tcurrent_app像全局变量一样工作，但只能在处理请求期间且在处理它的线程中访问。"
   ]
  },
  {
   "cell_type": "markdown",
   "metadata": {},
   "source": [
    "# 第十七——二十章: 服务器的部署"
   ]
  },
  {
   "cell_type": "markdown",
   "metadata": {},
   "source": [
    "\t介绍了三种不同方式的部署，\n",
    "\tVagrant\n",
    "\tHeroku\n",
    "\tDocker\n",
    "\n",
    "\t17 Vagrant的部署(创建虚拟服务器)\n",
    "\t传统部署，使用这种部署方式，你必须关注服务器配置的每个细节。"
   ]
  },
  {
   "cell_type": "markdown",
   "metadata": {},
   "source": [
    "### 17.1 Vagrant(https://www.linuxidc.com/Linux/2016-12/138932.htm)\n",
    "\tvagrant是简便虚拟机操作的一个软件，而使用虚拟机有几个好处：\n",
    "- 为了开发环境与生产环境一致（很多开发环境为windows而生产环境为linux），不至于出现在开发环境正常而移步到正式生产环境时出现各种问题，而vagrant通过共享文件，可以实现在主机（windows）下的IDE编写代码操作，直接在虚拟机（linux）中运行展示出效果。\n",
    "- 在vagrant中只需要搭配一次开发环境，然后就可以将搭配好的环境系统镜像打包发送给其他的同事用了，\n",
    "其他同事只需要下载vagrant和virtualBox，然后配置下共享目录后就可以开发了，再也不需要关心配置环境的问题了。\n",
    "- 目前好多扩展如swoole、redis等对linux支持更好，甚至有些只支持linux，所以采用虚拟机。"
   ]
  },
  {
   "cell_type": "markdown",
   "metadata": {},
   "source": [
    "### 17.2 vagrant的使用\n",
    "1. 下载镜像 https://vagrantcloud.com/boxes/search\n",
    "\t\tG:\\ mkdir vagrant_box\n",
    "\t\tG:\\ cd vagrant_box\n",
    "2. 添加镜像\n",
    "\t\tG:\\vagrant_box vagrant box  add base CentOS-7-x86_64-Vagrant-1902_01.HyperV.box\n",
    "3. 初始化虚拟机\n",
    "\t\tG:\\ mkdir worker\n",
    "\t\tG:\\ cd worker\n",
    "\t\tG:\\worker\\ vagrant init\n",
    "4. 启动虚拟机"
   ]
  },
  {
   "cell_type": "markdown",
   "metadata": {},
   "source": [
    "### 17.3\n",
    "```\n",
    "\t$ sudo apt-get -y update\n",
    "\t$ sudo apt-get -y install python3 python3-venv python3-dev\n",
    "\t$ sudo apt-get -y install mysql-server postfix supervisor nginx git\n",
    "\n",
    "\t$ git clone https://github.com/miguelgrinberg/microblog\n",
    "\t$ cd microblog\n",
    "\t$ git checkout v0.17\n",
    "\n",
    "\t$ python3 -m venv venv\n",
    "\t$ source venv/bin/activate\n",
    "\t(venv) $ pip install -r requirements.txt\n",
    "\n",
    "\t(venv) $ pip install gunicorn pymysql\n",
    "```"
   ]
  },
  {
   "cell_type": "markdown",
   "metadata": {},
   "source": [
    "# 18 Heroku的部署(第三方托管)\n",
    "\t完全掌控配置和部署任务的服务，使你能够全神贯注于应用程序。"
   ]
  },
  {
   "cell_type": "markdown",
   "metadata": {},
   "source": [
    "# 19 Docker的部署\n",
    "\t基于Docker容器平台的第三种应用程序部署策略。 这种部署的工作量，介于另外两个选项之间。"
   ]
  },
  {
   "cell_type": "markdown",
   "metadata": {},
   "source": [
    "### 19.1 安装Docker\n",
    "### 19.2 git\n",
    "```\n",
    "git init\n",
    "git clone https://github.com/miguelgrinberg/microblog\n",
    "git checkout v0.17\n",
    "```\n",
    "### 19.3 构建容器镜像(Deckerfile)\n",
    "```\n",
    "docker build -t microblog:latest .\n",
    "```\n",
    "### 19.4 启动容器\n",
    "```\n",
    "docker run --name microblog -d -p 8000:5000 --rm microblog:latest\n",
    "```\n",
    "### 19.5 添加MySQL"
   ]
  },
  {
   "cell_type": "markdown",
   "metadata": {},
   "source": [
    "# 第二十章：弹窗"
   ]
  },
  {
   "cell_type": "markdown",
   "metadata": {},
   "source": [
    "### 20.1 Bootstrap Popover\n",
    "\t作用：用于容纳辅助信息的小的覆盖窗口。\n",
    "步骤：\n",
    "1. 定义触发，为链接实现popover() base.html\n",
    "\t\t\t\t$(function () {\n",
    "\t\t\t\t}\n",
    "\n",
    "2. 找到DOM元素\n",
    "\t\t\t\t$('#post123')\n",
    "\n",
    "3. 弹窗加载html\n",
    "4. 销毁弹窗"
   ]
  },
  {
   "cell_type": "markdown",
   "metadata": {},
   "source": [
    "# 第二十一章：用户通知"
   ]
  },
  {
   "cell_type": "markdown",
   "metadata": {},
   "source": [
    "### 21.1 私有消息模型\n",
    "\t(1)建立Message类\n",
    "\t(2)message_set(),message_received(),\n",
    "\t(3)new_message()\n",
    "### 21.2 私有消息的流程\n",
    "\t(1)form表单提交\n",
    "\t(2)视图函数将内容写入数据库\n",
    "\t\tdb.session.add(msg)\n",
    "\t\tdb.session.commit()\n",
    "\t(3)显示消息\n",
    "\t(4)\n",
    "### 21.3 查看消息"
   ]
  }
 ],
 "metadata": {
  "kernelspec": {
   "display_name": "Python 3",
   "language": "python",
   "name": "python3"
  },
  "language_info": {
   "codemirror_mode": {
    "name": "ipython",
    "version": 3
   },
   "file_extension": ".py",
   "mimetype": "text/x-python",
   "name": "python",
   "nbconvert_exporter": "python",
   "pygments_lexer": "ipython3",
   "version": "3.6.2"
  }
 },
 "nbformat": 4,
 "nbformat_minor": 2
}
