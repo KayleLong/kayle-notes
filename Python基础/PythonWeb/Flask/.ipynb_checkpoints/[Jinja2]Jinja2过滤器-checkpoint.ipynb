{
 "cells": [
  {
   "cell_type": "markdown",
   "metadata": {},
   "source": [
    "## <center>jinja2中的过滤器</center>"
   ]
  },
  {
   "cell_type": "markdown",
   "metadata": {},
   "source": [
    "变量可以通过“过滤器”进行修改，过滤器可以理解为是jinja2里面的内置函数和字符串处理函数。\n",
    "\n",
    "#### 常用的过滤器有：\n",
    "\n",
    "|过滤器名称\t   | 说明    |\n",
    "|---|---|\n",
    "|safe\t |渲染时值不转义|\n",
    "|capitialize\t |把值的首字母转换成大写，其他子母转换为小写|\n",
    "|lower\t |把值转换成小写形式 |\n",
    "|upper\t |把值转换成大写形式 |\n",
    "|title\t |把值中每个单词的首字母都转换成大写|\n",
    "|trim\t |把值的首尾空格去掉|\n",
    "|striptags\t |渲染之前把值中所有的HTML标签都删掉|\n",
    "|join \t |拼接多个值为字符串|\n",
    "|replace\t |替换字符串的值|\n",
    "|round\t |默认对数字进行四舍五入，也可以用参数进行控制|\n",
    "|int \t |把值转换成整型|\n",
    "\n",
    "#### 过滤器的使用\n",
    " 只需要在变量后面使用管道(|)分割，多个过滤器可以链式调用，前一个过滤器的输出会作为后一个过滤器的输入。\n",
    " ```\n",
    " {{ 'abc' | captialize  }}\n",
    "# Abc\n",
    " \n",
    "{{ 'abc' | upper  }}\n",
    "# ABC\n",
    " \n",
    "{{ 'hello world' | title  }}\n",
    "# Hello World\n",
    " \n",
    "{{ \"hello world\" | replace('world','daxin') | upper }}\n",
    "# HELLO DAXIN\n",
    " \n",
    "{{ 18.18 | round | int }}\n",
    "# 18\n",
    " ```\n",
    " \n",
    " #### 自定义过滤器\n",
    " 例如创建一个可以让列表反转的过滤器\n",
    "\n",
    "1.方法一\n",
    "```\n",
    "def do_listreverse(li):\n",
    "    li.reverse()\n",
    "    return li\n",
    "app.add_template_filter(do_listreverse,\"listreverse\")    #listreverse是过滤器的名称\n",
    "```\n",
    "2.方法二（最常用这种）\n",
    "```\n",
    "@app.template_filter(\"listreverse\")\n",
    "def do_listreverse(li):\n",
    "    li.reverse()\n",
    "    return li\n",
    "```\n",
    "自定义过滤器就是装饰器+函数。使用方法还是使用管道符(|)，定义方法使用装饰器\n",
    "```\n",
    "@app.template_filter()\n",
    "```"
   ]
  }
 ],
 "metadata": {
  "kernelspec": {
   "display_name": "Python 3",
   "language": "python",
   "name": "python3"
  },
  "language_info": {
   "codemirror_mode": {
    "name": "ipython",
    "version": 3
   },
   "file_extension": ".py",
   "mimetype": "text/x-python",
   "name": "python",
   "nbconvert_exporter": "python",
   "pygments_lexer": "ipython3",
   "version": "3.5.4"
  }
 },
 "nbformat": 4,
 "nbformat_minor": 2
}
