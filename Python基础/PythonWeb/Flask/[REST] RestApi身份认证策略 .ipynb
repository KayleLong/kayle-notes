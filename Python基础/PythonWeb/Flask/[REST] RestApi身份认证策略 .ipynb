{
 "cells": [
  {
   "cell_type": "markdown",
   "metadata": {},
   "source": [
    "### token\n",
    "RestApi是不保存任何状态的，Web开发中常见的机制都不能在用户浏览应用程序页面时“记住”用户。但是大部分应用程序都有登录功能，所以需要某些策略来实现“记住”用户登录状态和登录信息。"
   ]
  },
  {
   "cell_type": "markdown",
   "metadata": {},
   "source": [
    "### RestApi身份认证策略：token\n",
    "1. 登录时，userid/username 根据一种算法(md5,sha-1等)生成token ，token返回给前端，并在数据库/缓存(推荐redis)生成一条key-value(token-username)记录\n",
    "2. 前端之后的请求，都需要在请求头中带入token 。后端配置拦截器，在大部分请求之前获得token，去缓存中查询认证记录，若不存在记录直接返回错误信息。\n",
    "\n",
    "### token超时判断：\n",
    "1. 利用redis时间时间，自动删除过期的key\n",
    "2. 插入时新增一条create_time ，调用api时判断调用时间跟create_time的差距时间\n",
    "3. 定时任务删除认证记录(不推荐，可能刚刚插入的记录马上被删了)"
   ]
  }
 ],
 "metadata": {
  "kernelspec": {
   "display_name": "Python 3",
   "language": "python",
   "name": "python3"
  },
  "language_info": {
   "codemirror_mode": {
    "name": "ipython",
    "version": 3
   },
   "file_extension": ".py",
   "mimetype": "text/x-python",
   "name": "python",
   "nbconvert_exporter": "python",
   "pygments_lexer": "ipython3",
   "version": "3.5.4"
  }
 },
 "nbformat": 4,
 "nbformat_minor": 2
}
