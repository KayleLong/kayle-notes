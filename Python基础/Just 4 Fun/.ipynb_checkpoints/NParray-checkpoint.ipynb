{
 "cells": [
  {
   "cell_type": "code",
   "execution_count": 3,
   "metadata": {
    "collapsed": false
   },
   "outputs": [
    {
     "name": "stdout",
     "output_type": "stream",
     "text": [
      "[8, 4, 13]\n",
      "[8, 4, 13]\n",
      "[8, 4, 13]\n"
     ]
    },
    {
     "data": {
      "text/plain": [
       "[[8, 4, 13], [6, 11, 22], [19, 16, 15]]"
      ]
     },
     "execution_count": 3,
     "metadata": {},
     "output_type": "execute_result"
    }
   ],
   "source": [
    "import numpy as np\n",
    "ori = np.array([\n",
    "    [[0, 0, 0], [0, 3, 7], [8, 9, 3]],\n",
    "    [[7, 0, 6], [4, 3, 7], [8, 1, 3]],\n",
    "    [[1, 4, 7], [2, 5, 8], [3, 6, 9]]\n",
    "])\n",
    "\n",
    "\n",
    "\n",
    "# 取第一列\n",
    "\n",
    "a = []\n",
    "b = []\n",
    "c = []\n",
    "\n",
    "for i in range(len(ori[0, 0])):\n",
    "    for j in range(ori.shape[1]):\n",
    "        .append(ori[:, i, j].sum())\n",
    "\n",
    "\n",
    "x = np.empty(shape=[0, 3])\n",
    "x = [a, b, c]\n",
    "x"
   ]
  }
 ],
 "metadata": {
  "kernelspec": {
   "display_name": "Python 3",
   "language": "python",
   "name": "python3"
  },
  "language_info": {
   "codemirror_mode": {
    "name": "ipython",
    "version": 3
   },
   "file_extension": ".py",
   "mimetype": "text/x-python",
   "name": "python",
   "nbconvert_exporter": "python",
   "pygments_lexer": "ipython3",
   "version": "3.5.4"
  }
 },
 "nbformat": 4,
 "nbformat_minor": 2
}
