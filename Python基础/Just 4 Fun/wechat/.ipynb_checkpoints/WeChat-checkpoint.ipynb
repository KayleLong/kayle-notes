{
 "cells": [
  {
   "cell_type": "code",
   "execution_count": null,
   "metadata": {
    "collapsed": true
   },
   "outputs": [],
   "source": [
    "# !/usr/bin/env python3\n",
    "# _*_ coding:utf-8 _*_\n",
    "\n",
    "import itchat\n",
    "import os\n",
    "import shutil\n",
    "from math import sqrt\n",
    "from PIL import Image\n",
    "\n",
    "# headDir是存放好友头像图的文件夹的路径\n",
    "headDir = 'wechat'\n",
    "# 判断headDir是否存在\n",
    "if os.path.exists(r'%s' % headDir):\n",
    "    shutil.rmtree(r'%s' % headDir)\n",
    "\n",
    "os.makedirs(headDir)\n",
    "print(\"/nmakedir 'wechat' successful/n\")\n",
    "path = headDir + \"/\"\n",
    "\n",
    "itchat.auto_login()\n",
    "for friend in itchat.get_friends(update=True)[0:]:\n",
    "    # 可以用此句print查看好友的微信名、备注名、性别、省份、个性签名（1：男 2：女 0：性别不详）\n",
    "    print(friend['NickName'], friend['RemarkName'], friend['Sex'], friend['Province'], friend['Signature'])\n",
    "    img = itchat.get_head_img(userName=friend[\"UserName\"])\n",
    "    jpg = path + friend['NickName'] + \"(\" + friend['RemarkName'] + \").jpg\"\n",
    "    with open(jpg, 'wb') as f:#with语句自动调用close()\n",
    "        f.write(img)\n",
    "# itchat.run()\n",
    "\n",
    "pathList = []\n",
    "for item in os.listdir(path):\n",
    "    imgPath = os.path.join(path,item)\n",
    "    pathList.append(imgPath)\n",
    "# total是好友头像图片总数\n",
    "total = len(pathList)\n",
    "# line是拼接图片的行数（即每一行包含的图片数量）\n",
    "line = int(sqrt(total))\n",
    "newImage = Image.new('RGB', (128*line, 128*line))\n",
    "x = y = 0\n",
    "for item in pathList:\n",
    "    try:\n",
    "        img = Image.open(item)\n",
    "        img = img.resize((128, 128), Image.ANTIALIAS)\n",
    "        newImage.paste(img, (x * 128 , y * 128))\n",
    "        x += 1\n",
    "    except IOError:\n",
    "        print(\"第%d行,%d列文件读取失败！IOError:%s\" % (y, x, item))\n",
    "        x -= 1\n",
    "    if x == line:\n",
    "        x = 0\n",
    "        y += 1\n",
    "    if (x + line*y) == line * line:\n",
    "        break\n",
    "newImage.save(path + \"final.jpg\")\n",
    "# 文件传输助手的微信号\n",
    "itchat.send_image(path + \"final.jpg\", 'filehelper')"
   ]
  }
 ],
 "metadata": {
  "kernelspec": {
   "display_name": "Python 3",
   "language": "python",
   "name": "python3"
  },
  "language_info": {
   "codemirror_mode": {
    "name": "ipython",
    "version": 3
   },
   "file_extension": ".py",
   "mimetype": "text/x-python",
   "name": "python",
   "nbconvert_exporter": "python",
   "pygments_lexer": "ipython3",
   "version": "3.4.5"
  }
 },
 "nbformat": 4,
 "nbformat_minor": 2
}
