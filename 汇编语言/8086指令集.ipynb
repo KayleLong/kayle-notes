{
 "cells": [
  {
   "cell_type": "markdown",
   "metadata": {},
   "source": [
    "# 8086 指令集"
   ]
  },
  {
   "cell_type": "markdown",
   "metadata": {},
   "source": [
    "###### Date:2020.04.14\n",
    "###### Code:Kayle Long\n",
    "###### Note:\n",
    "###### Update:"
   ]
  },
  {
   "cell_type": "markdown",
   "metadata": {},
   "source": [
    "### 8086CPU提供以下几大类指令。"
   ]
  },
  {
   "cell_type": "markdown",
   "metadata": {},
   "source": [
    "```\n",
    "1. 数据传送指令 \n",
    "比如，mov（move）、push、pop、pushf（push flags）、popf（pop flags）、xchg（exchange）等都是数据传送指令，这些指令实现寄存器和内存、寄存器和寄存器之间的单个数据传送。\n",
    "\n",
    "2. 算术运算指令 \n",
    "比如，add、sub（substract）、adc（add with carry）、sbb（substract with borrow）、inc（increase）、dec（decrease）、cmp（compare）、imul（integer multiplication）、idiv（integer divide）、aaa（ASCII add with adjust）等都是算术运算指令，这些指令实现寄存器和内存中的数据运算。它们的执行结果影响标志寄存器的sf、zf、of、cf、pf、af位。\n",
    "\n",
    "3. 逻辑指令 \n",
    "比如，and、or、not、xor（exclusive or）、test、shl（shift logic left）、shr（shift logic right）、sal（shift arithmetic left）、sar（shift arithmetic right）、rol（rotate left）、ror（rotate right）、rcl（rotate left through carry）、rcr（rotate right through carry）等都是逻辑指令。除了not指令外，它们的执行结果都影响标志寄存器的相关标志位。\n",
    "\n",
    "4. 转移指令 \n",
    "可以修改IP，或同时修改CS和IP的指令统称为转移指令。转移指令分为一下几类。 \n",
    "（1）     无条件转移指令，比如，jmp（jump）； \n",
    "（2）     条件转移指令，比如，jcxz（jump if CX is zero）、je（jump if equal）、jb（jump if below）、ja（jump if above）、jnb（jump if not below）、jna（jump if not above）等； \n",
    "（3）     循环指令，比如，loop； \n",
    "（4）     过程，比如，call、ret（return）、retf（return far）； \n",
    "（5）     中断，比如，int（interrupt）、iret（interrupt return）。\n",
    "\n",
    "5. 处理机控制指令 \n",
    "这些指令对标志寄存器或其他处理机状态进行设置，比如，cld（clear direction）、std（set direction）、cli（clear interrupt）、sti（set interrupt）、nop（no operation）、clc（clear carry）、cmc（carry make change）、stc（set carry）、hlt（halt）、wait、esc（escape）、lock等都是处理机控制指令。\n",
    "\n",
    "6. 串处理指令 \n",
    "这些指令对内存中的批量数据进行处理，比如，movsb（move string byte）、movsw（move string word）、cmps（compare string）、scas（scan string）、lods（load string）、stos（store string）等。若要使用这些指令方便地进行批量数据处理，则需要和rep（repeat）、repe（repeat if equal）、repne（repeat if not equal）等前缀指令配合使用。\n",
    "```"
   ]
  }
 ],
 "metadata": {
  "kernelspec": {
   "display_name": "Python 3",
   "language": "python",
   "name": "python3"
  },
  "language_info": {
   "codemirror_mode": {
    "name": "ipython",
    "version": 3
   },
   "file_extension": ".py",
   "mimetype": "text/x-python",
   "name": "python",
   "nbconvert_exporter": "python",
   "pygments_lexer": "ipython3",
   "version": "3.5.4"
  }
 },
 "nbformat": 4,
 "nbformat_minor": 2
}
