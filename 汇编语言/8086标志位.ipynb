{
 "cells": [
  {
   "cell_type": "markdown",
   "metadata": {},
   "source": [
    "# 8086 标志位"
   ]
  },
  {
   "cell_type": "markdown",
   "metadata": {},
   "source": [
    "###### Date:2020.04.14\n",
    "###### Code:Kayle Long\n",
    "###### Note:\n",
    "###### Update:"
   ]
  },
  {
   "cell_type": "markdown",
   "metadata": {},
   "source": [
    "1. 条件码 \n",
    "```\n",
    "OF overflow flag 溢出标志 操作数超出机器能表示的范围表示溢出,溢出时为1.\n",
    "SF sign Flag 符号标志 记录运算结果的符号,结果负时为1.\n",
    "ZF zero flag 零标志 运算结果等于0时为1,否则为0.\n",
    "CF carry flag 进位标志 最高有效位产生进位时为1,否则为0.\n",
    "AF auxiliary carry flag 辅助进位标志 运算时,第3位向第4位产生进位时为1,否则为0.\n",
    "PF parity flag 奇偶标志 运算结果操作数位为1的个数为偶数个时为1,否则为0.\n",
    "```\n",
    "\n",
    "2. 控制标志 \n",
    "```\n",
    "DF direcion flag 方向标志 用于串处理.DF=1时,每次操作后使SI和DI减小.DF=0时则增大.\n",
    "```\n",
    "\n",
    "3. 系统标志位 \n",
    "```\n",
    "IF interrupt flag 中断标志 IF=1时,允许CPU响应可屏蔽中断,否则关闭中断.\n",
    "TF trap flag 陷阱标志 用于调试单步操作.\n",
    "```"
   ]
  }
 ],
 "metadata": {
  "kernelspec": {
   "display_name": "Python 3",
   "language": "python",
   "name": "python3"
  },
  "language_info": {
   "codemirror_mode": {
    "name": "ipython",
    "version": 3
   },
   "file_extension": ".py",
   "mimetype": "text/x-python",
   "name": "python",
   "nbconvert_exporter": "python",
   "pygments_lexer": "ipython3",
   "version": "3.5.4"
  }
 },
 "nbformat": 4,
 "nbformat_minor": 2
}
