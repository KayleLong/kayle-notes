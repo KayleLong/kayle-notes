{
 "cells": [
  {
   "cell_type": "markdown",
   "metadata": {},
   "source": [
    "# 8086CPU寄存器英文全称"
   ]
  },
  {
   "cell_type": "markdown",
   "metadata": {},
   "source": [
    "###### Date:2020.04.14\n",
    "###### Code:Kayle Long\n",
    "###### Note:\n",
    "###### Update:"
   ]
  },
  {
   "cell_type": "markdown",
   "metadata": {},
   "source": [
    "```\n",
    "AH&AL＝AX(accumulator)：累加寄存器\n",
    "BH&BL＝BX(base)：基址寄存器\n",
    "CH&CL＝CX(count)：计数寄存器\n",
    "DH&DL＝DX(data)：数据寄存器\n",
    "\n",
    "IP(Instruction Pointer)：指令指针寄存器\n",
    "SP(Stack Pointer)：堆栈指针寄存器 \n",
    "BP(Base Pointer)：基址指针寄存器 \n",
    "SI(Source Index)：源变址寄存器 \n",
    "DI(Destination Index)：目的变址寄存器 \n",
    "\n",
    "CS(Code Segment): 代码段寄存器\n",
    "DS(Data Segment)：数据段寄存器\n",
    "SS(Stack Segment)：堆栈段寄存器\n",
    "ES(Extra Segment)：附加段寄存器\n",
    "```"
   ]
  }
 ],
 "metadata": {
  "kernelspec": {
   "display_name": "Python 3",
   "language": "python",
   "name": "python3"
  },
  "language_info": {
   "codemirror_mode": {
    "name": "ipython",
    "version": 3
   },
   "file_extension": ".py",
   "mimetype": "text/x-python",
   "name": "python",
   "nbconvert_exporter": "python",
   "pygments_lexer": "ipython3",
   "version": "3.5.4"
  }
 },
 "nbformat": 4,
 "nbformat_minor": 2
}
